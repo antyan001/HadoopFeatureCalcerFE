{
 "cells": [
  {
   "cell_type": "code",
   "execution_count": 1,
   "metadata": {
    "collapsed": true
   },
   "outputs": [],
   "source": [
    "%load_ext autoreload\n",
    "%autoreload 2"
   ]
  },
  {
   "cell_type": "code",
   "execution_count": 2,
   "metadata": {},
   "outputs": [
    {
     "name": "stdout",
     "output_type": "stream",
     "text": [
      "0.22.2.post1\n",
      "0.81\n",
      "0.25.3\n"
     ]
    }
   ],
   "source": [
    "import warnings\n",
    "from pathlib import Path\n",
    "warnings.filterwarnings('ignore')\n",
    "\n",
    "import os, sys\n",
    "curruser = os.environ.get('USER')\n",
    "sys.path.insert(0, './../src/')\n",
    "sys.path.insert(0, '/home/{}/notebooks/support_library/'.format(curruser)) \n",
    "sys.path.insert(0, '/home/{}/python35-libs/lib/python3.5/site-packages/'.format(curruser))\n",
    "# sys.path.insert(0, '/home/ufimtsev1-ys_ca-sbrf-ru/notebooks/labdata/lib/')\n",
    "\n",
    "import re \n",
    "import joblib\n",
    "import gc\n",
    "import numpy as np\n",
    "import pandas as pd\n",
    "import subprocess\n",
    "# from sshloader import Ssh\n",
    "from collections import Counter\n",
    "import seaborn as sns\n",
    "import matplotlib.pyplot as plt\n",
    "import subprocess\n",
    "import ast\n",
    "from time import time\n",
    "\n",
    "%matplotlib inline\n",
    "pd.options.display.max_columns = 1000\n",
    "\n",
    "\n",
    "# pd.set_option('display.float_format', lambda x: '%.3f' % x)\n",
    "# pd.set_option('display.max_colwidth', -1)\n",
    "# pd.set_option('display.max_rows', None)\n",
    "# pd.set_option('display.max_columns', None)\n",
    "\n",
    "from csv import QUOTE_ALL \n",
    "\n",
    "from tqdm import tqdm\n",
    "from tqdm._tqdm_notebook import tqdm_notebook\n",
    "# tqdm_notebook.pandas()\n",
    "\n",
    "import feature_importance\n",
    "from plot import Plot\n",
    "from  forward_permutationFE_cv import ForwardPermutationFECV \n",
    "\n",
    "import sklearn\n",
    "import xgboost\n",
    "from xgboost import XGBClassifier\n",
    "from sklearn.model_selection import train_test_split, RandomizedSearchCV, StratifiedShuffleSplit, StratifiedKFold\n",
    "\n",
    "from sklearn.metrics import roc_auc_score, f1_score, accuracy_score, \\\n",
    "                            classification_report, precision_score, \\\n",
    "                            recall_score, roc_curve, precision_recall_curve, \\\n",
    "                            average_precision_score, make_scorer, confusion_matrix, get_scorer\n",
    "            \n",
    "from sklearn.preprocessing import binarize, OneHotEncoder\n",
    "from sklearn.pipeline import Pipeline, FeatureUnion\n",
    "\n",
    "\n",
    "print(sklearn.__version__)\n",
    "print(xgboost.__version__)\n",
    "print(pd.__version__)"
   ]
  },
  {
   "cell_type": "code",
   "execution_count": 3,
   "metadata": {
    "collapsed": true
   },
   "outputs": [],
   "source": [
    "def get_metrics(y_pred, y, average='binary'):\n",
    "    print(classification_report(y, y_pred, digits=5, ))\n",
    "    recall = recall_score(y, y_pred, average=average)\n",
    "    precision=precision_score(y, y_pred,average=average)\n",
    "    f1=f1_score(y, y_pred,average=average)\n",
    "    \n",
    "    return recall, precision, f1\n",
    "\n",
    "def feature_impotance(model, X_train, count_top_features = 20):\n",
    "    imp=model.feature_importances_\n",
    "    names=X_train.columns\n",
    "    imp, names=map(list, zip(*sorted(zip(imp, names))[::-1][:count_top_features]))\n",
    "    \n",
    "    fig, ax = plt.subplots(figsize=(9,12))\n",
    "    #ax = plt.axes()\n",
    "    sns.barplot(x=imp, y=names, palette=sns.color_palette('YlGn', 2), ax=ax)\n",
    "    ax.set_title('Top ' + str(count_top_features) + ' important features')\n",
    "    plt.show()"
   ]
  },
  {
   "cell_type": "markdown",
   "metadata": {},
   "source": [
    "## Copy data from HDFs and read ones as pandas into memory"
   ]
  },
  {
   "cell_type": "code",
   "execution_count": null,
   "metadata": {
    "collapsed": true
   },
   "outputs": [],
   "source": [
    "# specify your username and password:\n",
    "__username = 'ufimtsev1-ys_ca-sbrf-ru'\n",
    "__pass     = getpass.getpass()\n",
    "jupyterPass = 'myjupyter'\n",
    "jupyterPort ='8100'"
   ]
  },
  {
   "cell_type": "code",
   "execution_count": null,
   "metadata": {
    "collapsed": true
   },
   "outputs": [],
   "source": [
    "_ssh = Ssh(username=__username, \n",
    "           password=__pass, \n",
    "           host='februs11.ca.sbrf.ru',\n",
    "           verbosity=1)\n",
    "_ssh.setup()      \n",
    "\n",
    "stdin,stdout,stderr=_ssh.ssh.exec_command(\"cd /home/{username}; hdfs dfs -get /user/{username}/csv/* \\\n",
    "                                              /home/{username}/notebook/sendsay_model/csv/\".format(username=__username))\n",
    "outlines=stderr.readlines()\n",
    "resp=''.join(outlines)\n",
    "print(resp)"
   ]
  },
  {
   "cell_type": "code",
   "execution_count": 6,
   "metadata": {},
   "outputs": [
    {
     "name": "stdout",
     "output_type": "stream",
     "text": [
      "/user/ufimtsev1-ys_ca-sbrf-ru/csv/part-00000-05b80dce-e559-4fcc-b46d-c21e8755fdcd-c000.csv\n",
      "/user/ufimtsev1-ys_ca-sbrf-ru/csv/part-00000-13989770-51d9-4a34-9486-f082520796ad-c000.csv\n",
      "/user/ufimtsev1-ys_ca-sbrf-ru/csv/part-00000-2d03538f-8fa5-4167-a3d3-892d5d91fc11-c000.csv\n",
      "/user/ufimtsev1-ys_ca-sbrf-ru/csv/part-00000-337a96d8-98ce-4233-8ac2-5cfe844b5136-c000.csv\n",
      "/user/ufimtsev1-ys_ca-sbrf-ru/csv/part-00000-5799ae44-0b33-460d-9690-09856f9ae02b-c000.csv\n",
      "/user/ufimtsev1-ys_ca-sbrf-ru/csv/part-00000-70b4cb69-d6ab-4d11-9948-cda8eb654782-c000.csv\n",
      "/user/ufimtsev1-ys_ca-sbrf-ru/csv/part-00000-84586571-0a34-4fe6-a69d-5fc728f32ca9-c000.csv\n",
      "/user/ufimtsev1-ys_ca-sbrf-ru/csv/part-00000-a9770f0a-e8c6-43ae-854d-cd04c12522a4-c000.csv\n",
      "/user/ufimtsev1-ys_ca-sbrf-ru/csv/part-00000-b7624993-460a-40c2-966f-65b791eb9f35-c000.csv\n",
      "/user/ufimtsev1-ys_ca-sbrf-ru/csv/part-00000-bcd86821-0ebe-40d9-a2a9-e680a055186c-c000.csv\n"
     ]
    }
   ],
   "source": [
    "datacsv = []\n",
    "cmd = \"hdfs dfs -ls /user/'%s'/csv/ | awk '{print $8}'\" % curruser\n",
    "hdfs_files = str(subprocess.check_output(cmd, shell=True)).strip().split('\\\\n')\n",
    "for hfiles in hdfs_files:\n",
    "    if hfiles.endswith('csv'):\n",
    "        print(hfiles)\n",
    "        subprocess.call(['hdfs', 'dfs', '-get', '-p', hfiles, '/home/{}/notebook/sendsay_model/csv/'.format(curruser)])\n",
    "        datacsv.append(hfiles)"
   ]
  },
  {
   "cell_type": "markdown",
   "metadata": {},
   "source": [
    "## Pandas Reading"
   ]
  },
  {
   "cell_type": "code",
   "execution_count": 4,
   "metadata": {
    "collapsed": true
   },
   "outputs": [],
   "source": [
    "with open('./csv/df_cols', 'r') as fin:\n",
    "    res = fin.readlines()\n",
    "cols = [re.sub('\\\\n','',line) for line in res]"
   ]
  },
  {
   "cell_type": "code",
   "execution_count": 5,
   "metadata": {},
   "outputs": [
    {
     "data": {
      "text/plain": [
       "['part-00000-05b80dce-e559-4fcc-b46d-c21e8755fdcd-c000.csv',\n",
       " 'part-00000-13989770-51d9-4a34-9486-f082520796ad-c000.csv',\n",
       " 'part-00000-2d03538f-8fa5-4167-a3d3-892d5d91fc11-c000.csv',\n",
       " 'part-00000-337a96d8-98ce-4233-8ac2-5cfe844b5136-c000.csv',\n",
       " 'part-00000-5799ae44-0b33-460d-9690-09856f9ae02b-c000.csv',\n",
       " 'part-00000-70b4cb69-d6ab-4d11-9948-cda8eb654782-c000.csv',\n",
       " 'part-00000-84586571-0a34-4fe6-a69d-5fc728f32ca9-c000.csv',\n",
       " 'part-00000-b7624993-460a-40c2-966f-65b791eb9f35-c000.csv',\n",
       " 'part-00000-bcd86821-0ebe-40d9-a2a9-e680a055186c-c000.csv',\n",
       " 'part-00000-a9770f0a-e8c6-43ae-854d-cd04c12522a4-c000.csv']"
      ]
     },
     "execution_count": 5,
     "metadata": {},
     "output_type": "execute_result"
    }
   ],
   "source": [
    "path = '/tmp/sendsay_csv/'\n",
    "filelist = os.listdir(path)\n",
    "filelist"
   ]
  },
  {
   "cell_type": "markdown",
   "metadata": {},
   "source": [
    "## Fetch buckets and concat ones iteratiwely"
   ]
  },
  {
   "cell_type": "code",
   "execution_count": 6,
   "metadata": {
    "collapsed": true,
    "scrolled": true
   },
   "outputs": [],
   "source": [
    "df = pd.read_csv(filepath_or_buffer = path+filelist[1], \n",
    "                 sep = ';', nrows=0, \n",
    "                 engine='python',\n",
    "                 dtype = dict({col: np.float32 for col in cols if col not in ('target')}, **{'target' : np.int32})\n",
    "                 ) "
   ]
  },
  {
   "cell_type": "code",
   "execution_count": 7,
   "metadata": {
    "scrolled": false
   },
   "outputs": [
    {
     "data": {
      "application/vnd.jupyter.widget-view+json": {
       "model_id": "a14ed19f3874471987df823e0e0f95d7"
      }
     },
     "metadata": {},
     "output_type": "display_data"
    },
    {
     "name": "stdout",
     "output_type": "stream",
     "text": [
      "...working with file--> part-00000-05b80dce-e559-4fcc-b46d-c21e8755fdcd-c000.csv\n",
      "(628380, 439)\n",
      "...working with file--> part-00000-13989770-51d9-4a34-9486-f082520796ad-c000.csv\n",
      "(1256760, 439)\n",
      "...working with file--> part-00000-2d03538f-8fa5-4167-a3d3-892d5d91fc11-c000.csv\n",
      "(1885139, 439)\n",
      "...working with file--> part-00000-337a96d8-98ce-4233-8ac2-5cfe844b5136-c000.csv\n",
      "(2513519, 439)\n",
      "...working with file--> part-00000-5799ae44-0b33-460d-9690-09856f9ae02b-c000.csv\n",
      "(3141899, 439)\n",
      "...working with file--> part-00000-70b4cb69-d6ab-4d11-9948-cda8eb654782-c000.csv\n",
      "(3770279, 439)\n",
      "...working with file--> part-00000-84586571-0a34-4fe6-a69d-5fc728f32ca9-c000.csv\n",
      "(4398659, 439)\n",
      "...working with file--> part-00000-b7624993-460a-40c2-966f-65b791eb9f35-c000.csv\n",
      "(5027040, 439)\n",
      "...working with file--> part-00000-bcd86821-0ebe-40d9-a2a9-e680a055186c-c000.csv\n",
      "(5655420, 439)\n",
      "...working with file--> part-00000-a9770f0a-e8c6-43ae-854d-cd04c12522a4-c000.csv\n",
      "(6283800, 439)\n",
      "\n",
      "CPU times: user 43min 52s, sys: 6min 16s, total: 50min 9s\n",
      "Wall time: 50min 9s\n"
     ]
    }
   ],
   "source": [
    "%%time\n",
    "for data in tqdm_notebook(filelist):\n",
    "    if data.endswith('csv'):\n",
    "        print(\"...working with file--> {}\".format(data))\n",
    "        dftmp = pd.read_csv(filepath_or_buffer = path+data, \n",
    "                         sep = ';', nrows=None, \n",
    "                         engine='python',\n",
    "                         dtype = dict({col: np.float32 for col in cols if col not in ('target')}, **{'target' : np.int32})\n",
    "                         ) \n",
    "\n",
    "\n",
    "        df = pd.concat([df,dftmp], ignore_index=True)\n",
    "        del dftmp\n",
    "        gc.collect()\n",
    "        print(df.shape)  "
   ]
  },
  {
   "cell_type": "markdown",
   "metadata": {},
   "source": [
    "## Check initial class banance"
   ]
  },
  {
   "cell_type": "code",
   "execution_count": 89,
   "metadata": {},
   "outputs": [
    {
     "data": {
      "text/plain": [
       "17.68383206035103"
      ]
     },
     "execution_count": 89,
     "metadata": {},
     "output_type": "execute_result"
    }
   ],
   "source": [
    "neg, pos = df.groupby(['target'])['target'].count().tolist()\n",
    "bal = pos/neg*100\n",
    "bal"
   ]
  },
  {
   "cell_type": "markdown",
   "metadata": {},
   "source": [
    "## Split"
   ]
  },
  {
   "cell_type": "code",
   "execution_count": 8,
   "metadata": {
    "collapsed": true
   },
   "outputs": [],
   "source": [
    "X_train, X_test, y_train, y_test = \\\n",
    "train_test_split(df.drop(['target'], axis=1), df.target, \n",
    "                 stratify = df.target,\n",
    "                 random_state=42, shuffle=True, test_size=0.2)"
   ]
  },
  {
   "cell_type": "markdown",
   "metadata": {},
   "source": [
    "## Check class balance in train df after stratified split operation"
   ]
  },
  {
   "cell_type": "code",
   "execution_count": 36,
   "metadata": {
    "scrolled": true
   },
   "outputs": [
    {
     "data": {
      "text/plain": [
       "17.68382655035561"
      ]
     },
     "execution_count": 36,
     "metadata": {},
     "output_type": "execute_result"
    }
   ],
   "source": [
    "neg, pos = y_train.count() - y_train.sum(), y_train.sum()\n",
    "bal = pos/neg*100\n",
    "bal"
   ]
  },
  {
   "cell_type": "markdown",
   "metadata": {},
   "source": [
    "## Make a Prediction Using Model PreTrained on Historical Data"
   ]
  },
  {
   "cell_type": "code",
   "execution_count": 14,
   "metadata": {
    "scrolled": true
   },
   "outputs": [
    {
     "name": "stdout",
     "output_type": "stream",
     "text": [
      "...load xgb model from--> xgb_cls_tuned_pipe_wFT_200820.pkl\n"
     ]
    }
   ],
   "source": [
    "for file in os.listdir('./pkl'):\n",
    "    if 'xgb_cls_tuned_pipe_wFT_200820' in file:\n",
    "        print(\"...load xgb model from--> {}\".format(file))\n",
    "        xgb = joblib.load('./pkl/{}'.format(file))"
   ]
  },
  {
   "cell_type": "code",
   "execution_count": 15,
   "metadata": {
    "collapsed": true
   },
   "outputs": [],
   "source": [
    "xgb_params = xgb.get_params()\n",
    "xgb_params = dict(xgb_params,**{'n_jobs'   : 15,\n",
    "                                'verbosity': 1})"
   ]
  },
  {
   "cell_type": "code",
   "execution_count": 17,
   "metadata": {},
   "outputs": [
    {
     "name": "stdout",
     "output_type": "stream",
     "text": [
      "              precision    recall  f1-score   support\n",
      "\n",
      "           0    0.87035   0.92436   0.89654   1067912\n",
      "           1    0.34103   0.22136   0.26846    188848\n",
      "\n",
      "    accuracy                        0.81872   1256760\n",
      "   macro avg    0.60569   0.57286   0.58250   1256760\n",
      "weighted avg    0.79081   0.81872   0.80216   1256760\n",
      "\n",
      "Hold Out: \n",
      "Precision: 0.34103, Recall: 0.22136, F_1: 0.26846\n"
     ]
    }
   ],
   "source": [
    "try:\n",
    "    y_pred = xgb.predict(X_test.astype(dtype=np.float32))\n",
    "except ValueError as err:\n",
    "    colsstr = str(err).split('feature_names mismatch: ')[1].split(' [')[0]\n",
    "    getcolslist = list(ast.literal_eval(colsstr[1:-1]))\n",
    "    X_test = X_test[getcolslist]       \n",
    "    y_pred = xgb.predict(X_test.astype(dtype=np.float32))\n",
    "    \n",
    "recall_ts, precision_ts, f1_ts =  get_metrics(y_pred.astype(int), y_test.astype(int))\n",
    "                                                  \n",
    "print('Hold Out: ')\n",
    "print('Precision: %7.5f, Recall: %7.5f, F_1: %7.5f' % \n",
    "(precision_ts, recall_ts, f1_ts))\n",
    "\n",
    "del X_train, X_test, y_train, y_test"
   ]
  },
  {
   "cell_type": "markdown",
   "metadata": {},
   "source": [
    "## Check for constant cols again"
   ]
  },
  {
   "cell_type": "code",
   "execution_count": 16,
   "metadata": {},
   "outputs": [
    {
     "data": {
      "text/plain": [
       "(6283800, 406)"
      ]
     },
     "execution_count": 16,
     "metadata": {},
     "output_type": "execute_result"
    }
   ],
   "source": [
    "zero_std_cols = df.columns[df.std(axis=0) == 0.].values.tolist()\n",
    "df.drop(columns=zero_std_cols, axis=1, inplace=True)\n",
    "df.shape"
   ]
  },
  {
   "cell_type": "markdown",
   "metadata": {},
   "source": [
    "## Feature-by-feature distribution similarity\n",
    "Next let us try to look at the problem feature-by-feature, and perform Kolmogorov-Smirnov tests to see if the distribution in test and training set is similar.\n",
    "* use the function [scipy.stats.ks_2samp](https://docs.scipy.org/doc/scipy/reference/generated/scipy.stats.ks_2samp.html#scipy.stats.ks_2samp) from scipy to run the tests.\n",
    "\n",
    "For all those features where the distributions are highly distinguishable, we may benefit from ignoring those columns, so as to avoid overfitting on training data. In the following just identify those columns, and plot the distributions as a sanity check for some of the features"
   ]
  },
  {
   "cell_type": "code",
   "execution_count": 18,
   "metadata": {
    "collapsed": true
   },
   "outputs": [],
   "source": [
    "from scipy.stats import ks_2samp"
   ]
  },
  {
   "cell_type": "code",
   "execution_count": 19,
   "metadata": {
    "collapsed": true
   },
   "outputs": [],
   "source": [
    "def get_diff_columns(train_df, test_df, show_plots=True, show_all=False, threshold=0.1, kde=False):\n",
    "    \"\"\"Use KS to estimate columns where distributions differ a lot from each other\"\"\"\n",
    "\n",
    "    # Find the columns where the distributions are very different\n",
    "    diff_data = []\n",
    "    for col in tqdm(train_df.columns):\n",
    "        statistic, pvalue = ks_2samp(\n",
    "            train_df[col].values, \n",
    "            test_df[col].values\n",
    "        )\n",
    "        if pvalue <= 0.05 and np.abs(statistic) >= threshold:\n",
    "            diff_data.append({'feature': col, 'p': np.round(pvalue, 5), 'statistic': np.round(np.abs(statistic), 3)})\n",
    "   \n",
    "    # Put the differences into a dataframe\n",
    "    diff_df = pd.DataFrame(diff_data)\n",
    "    if len(diff_df) > 0:\n",
    "        diff_df.sort_values(by='statistic', ascending=False, inplace=True)\n",
    "\n",
    "        if show_plots:\n",
    "            # Let us see the distributions of these columns to confirm they are indeed different\n",
    "            n_cols = 3\n",
    "            if show_all:\n",
    "                n_rows = int(len(diff_df) / 3)\n",
    "            else:\n",
    "                n_rows = 7\n",
    "            _, axes = plt.subplots(n_rows, n_cols, figsize=(20, 3*n_rows))\n",
    "            axes = [x for l in axes for x in l]\n",
    "\n",
    "            # Create plots\n",
    "            for i, (_, row) in enumerate(diff_df.iterrows()):\n",
    "                if i >= len(axes):\n",
    "                    break\n",
    "                if not kde:    \n",
    "                    extreme = np.max(np.abs(train_df[row.feature].tolist() + test_df[row.feature].tolist()))\n",
    "                    train_df.loc[:, row.feature].hist(\n",
    "                        ax=axes[i], alpha=0.5, label='Train', density=True,\n",
    "                        bins=np.arange(-extreme, extreme, 0.05)\n",
    "                    )\n",
    "                    test_df.loc[:, row.feature].hist(\n",
    "                        ax=axes[i], alpha=0.5, label='Test', density=True,\n",
    "                        bins=np.arange(-extreme, extreme, 0.05)\n",
    "                    )\n",
    "                    axes[i].legend()\n",
    "                else:\n",
    "                    sns.distplot(train_df.loc[:, row.feature], label='Train', \n",
    "                                 hist=False, kde=True, norm_hist=True, ax=axes[i])\n",
    "                    sns.distplot(test_df.loc[:, row.feature], label='Test', \n",
    "                                 hist=False, kde=True, norm_hist=True, ax=axes[i])\n",
    "\n",
    "                axes[i].set_title('Statistic = {}, p = {}'.format(row.statistic, row.p))\n",
    "                axes[i].set_xlabel('{}'.format(row.feature))\n",
    "\n",
    "\n",
    "            plt.tight_layout()\n",
    "            plt.show()\n",
    "        \n",
    "    return diff_df"
   ]
  },
  {
   "cell_type": "markdown",
   "metadata": {},
   "source": [
    "### Cols Segmentation"
   ]
  },
  {
   "cell_type": "code",
   "execution_count": 9,
   "metadata": {
    "collapsed": true
   },
   "outputs": [],
   "source": [
    "import re\n",
    "pattern = re.compile(r'.*_m\\d{1}1')\n",
    "ftcols = [col for col in list(df.columns) if '_FT_' in col]\n",
    "respcols = [col for col in list(df.columns) if len(pattern.findall(col))!=0]\n",
    "ml360cols = list(set(list(df.columns)) - set(respcols) - set(ftcols))\n",
    "\n",
    "cols_filtered = list(set(respcols+ml360cols)-set(['target']))"
   ]
  },
  {
   "cell_type": "code",
   "execution_count": 20,
   "metadata": {
    "scrolled": true
   },
   "outputs": [
    {
     "name": "stderr",
     "output_type": "stream",
     "text": [
      "100%|██████████| 105/105 [01:11<00:00,  1.47it/s]\n"
     ]
    }
   ],
   "source": [
    "# Get the columns which differ a lot between test and train\n",
    "diff_df = get_diff_columns(X_train[cols_filtered], X_test[cols_filtered], threshold=0.1, show_all=True, kde=True)"
   ]
  },
  {
   "cell_type": "markdown",
   "metadata": {},
   "source": [
    "## Pearson Correlation Map"
   ]
  },
  {
   "cell_type": "code",
   "execution_count": 60,
   "metadata": {
    "collapsed": true
   },
   "outputs": [],
   "source": [
    "# impotant_columns = [col[0] for col in sorted(zip(df.columns, xgb.feature_importances_), key=lambda x: x[1], reverse=True)[:50]] "
   ]
  },
  {
   "cell_type": "code",
   "execution_count": 142,
   "metadata": {},
   "outputs": [
    {
     "data": {
      "text/plain": [
       "<matplotlib.axes._subplots.AxesSubplot at 0x7f6b2053afd0>"
      ]
     },
     "execution_count": 142,
     "metadata": {},
     "output_type": "execute_result"
    },
    {
     "data": {
      "image/png": "[encoded data removed]",
      "text/plain": [
       "<matplotlib.figure.Figure at 0x7f6b205466d8>"
      ]
     },
     "metadata": {},
     "output_type": "display_data"
    }
   ],
   "source": [
    "plt.figure(figsize=(25, 25))\n",
    "sns.set()\n",
    "#sns.cubehelix_palette(reverse=True, gamma=1.5, as_cmap=True) \n",
    "#sns.dark_palette((0,80,0), input='husl', as_cmap=True)\n",
    "sns.heatmap(df[np.random.choice(cols_filtered, size=20)].corr(method='pearson'), \n",
    "            vmax=1, vmin=-0.7, cmap='magma', annot=True, fmt='.2f')"
   ]
  },
  {
   "cell_type": "markdown",
   "metadata": {},
   "source": [
    "## XGBoost' Parameters Optimization and FineTuning"
   ]
  },
  {
   "cell_type": "code",
   "execution_count": 17,
   "metadata": {
    "collapsed": true
   },
   "outputs": [],
   "source": [
    "X_train, X_test, y_train, y_test = \\\n",
    "train_test_split(df.drop(['target'], axis=1), df.target, \n",
    "                 stratify = df.target,\n",
    "                 random_state=42, shuffle=True, test_size=0.2)"
   ]
  },
  {
   "cell_type": "code",
   "execution_count": 19,
   "metadata": {
    "collapsed": true
   },
   "outputs": [],
   "source": [
    "classifier = XGBClassifier(random_state=42, n_jobs=40, tree_method='hist')"
   ]
  },
  {
   "cell_type": "code",
   "execution_count": 20,
   "metadata": {
    "collapsed": true
   },
   "outputs": [],
   "source": [
    "# Define parameter distribution over which to perform CV\n",
    "\n",
    "param_dist = {\n",
    "    \"clf__n_estimators\":                  [400, 500, 800, 1000],\n",
    "    \"clf__learning_rate\":                 [0.005, 0.01, 0.04, 0.08],\n",
    "    \"clf__num_leaves\":                    [64, 128, 256, 512],\n",
    "    \"clf__min_data_in_leaf\":              [20, 50, 100, 250],\n",
    "    \"clf__colsample_bytree\":              [0.5, 0.7, 0.8, 1.],\n",
    "    \"clf__scale_pos_weight\":              [2.041, 1.5, 1.2, 1.],\n",
    "    \"clf__max_bin\":                       [255, 230, 200, 180],\n",
    "    \"clf__max_depth\":                     [5, 6, 8, 10],\n",
    "    'clf__min_child_samples':             [20, 40, 100],\n",
    "    'clf__min_child_weight':              [1e-5, 1e-3, 1e-2, 1e-1, 1.],\n",
    "    'clf__feature_fraction':              [0.7, 0.8, 0.9, 1],\n",
    "    'clf__bagging_fraction':              [0.2, 0.5, 0.8, 1.],\n",
    "    'clf__bagging_freq':                  [0, 10, 20, 40],\n",
    "    'clf__lambda_l1':                     [0, 1e-3, 1e-2, 1e-1],\n",
    "    'clf__lambda_l2':                     [0, 1e-3, 1e-2, 1e-1],\n",
    "    'clf__n_jobs':                        [20, 20, 20, 20],\n",
    "    'clf__tree_method':                   ['hist', 'hist', 'hist', 'hist']\n",
    "    #'clf__is_unbalance':             [True, False]\n",
    "}\n",
    "\n",
    "n_iter_search = 3 # Define number of search iterations\n",
    "n_folds = 6 # Define number of CV folds"
   ]
  },
  {
   "cell_type": "code",
   "execution_count": 21,
   "metadata": {
    "collapsed": true
   },
   "outputs": [],
   "source": [
    "folds = StratifiedShuffleSplit(n_splits=n_folds, test_size=0.2)"
   ]
  },
  {
   "cell_type": "code",
   "execution_count": 22,
   "metadata": {
    "collapsed": true
   },
   "outputs": [],
   "source": [
    "pipeline = Pipeline([\n",
    "    ('clf', classifier),\n",
    "     ])\n",
    "\n",
    "random_search = RandomizedSearchCV(pipeline, param_distributions=param_dist, n_iter=n_iter_search, cv=folds, \n",
    "                                   scoring='recall', n_jobs=7, verbose=2)"
   ]
  },
  {
   "cell_type": "code",
   "execution_count": 23,
   "metadata": {},
   "outputs": [
    {
     "name": "stdout",
     "output_type": "stream",
     "text": [
      "Fitting 6 folds for each of 3 candidates, totalling 18 fits\n"
     ]
    },
    {
     "name": "stderr",
     "output_type": "stream",
     "text": [
      "[Parallel(n_jobs=7)]: Using backend LokyBackend with 7 concurrent workers.\n",
      "[Parallel(n_jobs=7)]: Done  15 out of  18 | elapsed: 73.7min remaining: 14.7min\n",
      "[Parallel(n_jobs=7)]: Done  18 out of  18 | elapsed: 74.1min finished\n"
     ]
    },
    {
     "name": "stdout",
     "output_type": "stream",
     "text": [
      "[06:50:10] Tree method is selected to be 'hist', which uses a single updater grow_fast_histmaker.\n",
      "RandomizedSearchCV took 4865.61 seconds for 3 candidates parameter settings.\n",
      "\n",
      "Best Score = 0.34316931209926876\n",
      "\n",
      "Best Parameters = {'clf__tree_method': 'hist', 'clf__colsample_bytree': 0.8, 'clf__n_estimators': 400, 'clf__num_leaves': 256, 'clf__min_child_samples': 100, 'clf__scale_pos_weight': 2.041, 'clf__max_depth': 6, 'clf__min_child_weight': 0.001, 'clf__max_bin': 230, 'clf__lambda_l2': 0.01, 'clf__bagging_freq': 20, 'clf__learning_rate': 0.08, 'clf__lambda_l1': 0.01, 'clf__n_jobs': 20, 'clf__min_data_in_leaf': 50, 'clf__bagging_fraction': 1.0, 'clf__feature_fraction': 0.9}\n"
     ]
    }
   ],
   "source": [
    "start = time()\n",
    "\n",
    "random_search.fit(X_train.astype(dtype=np.float32), y_train)\n",
    "\n",
    "print(\"RandomizedSearchCV took %.2f seconds for %d candidates\"\n",
    "      \" parameter settings.\" % ((time() - start), n_iter_search))      \n",
    "print(\"\\nBest Score = \" + str(random_search.best_score_))\n",
    "print(\"\\nBest Parameters = \" + str(random_search.best_params_))"
   ]
  },
  {
   "cell_type": "markdown",
   "metadata": {},
   "source": [
    "### Fit cls with the best params selected"
   ]
  },
  {
   "cell_type": "code",
   "execution_count": 24,
   "metadata": {
    "collapsed": true
   },
   "outputs": [],
   "source": [
    "classifier = pipeline.set_params(clf__n_estimators                 = random_search.best_params_['clf__n_estimators'],\n",
    "                                 clf__learning_rate                = random_search.best_params_['clf__learning_rate'],\n",
    "                                 clf__num_leaves                   = random_search.best_params_['clf__num_leaves'],\n",
    "                                 clf__max_bin                      = random_search.best_params_['clf__max_bin'],\n",
    "                                 clf__max_depth                    = random_search.best_params_['clf__max_depth'],\n",
    "                                 clf__scale_pos_weight             = random_search.best_params_['clf__scale_pos_weight'],\n",
    "                                 clf__colsample_bytree             = random_search.best_params_['clf__colsample_bytree'],                                 \n",
    "                                 clf__min_child_samples            = random_search.best_params_['clf__min_child_samples'],\n",
    "                                 clf__min_data_in_leaf             = random_search.best_params_['clf__min_data_in_leaf'],\n",
    "                                 clf__min_child_weight             = random_search.best_params_['clf__min_child_weight'],\n",
    "                                 clf__feature_fraction             = random_search.best_params_['clf__feature_fraction'],\n",
    "                                 clf__bagging_fraction             = random_search.best_params_['clf__bagging_fraction'],\n",
    "                                 clf__bagging_freq                 = random_search.best_params_['clf__bagging_freq'],\n",
    "                                 clf__lambda_l1                    = random_search.best_params_['clf__lambda_l1'],\n",
    "                                 clf__lambda_l2                    = random_search.best_params_['clf__lambda_l2'],\n",
    "                                 clf__n_jobs                       = 40,\n",
    "                                 clf__tree_method                  = random_search.best_params_['clf__tree_method']                                 \n",
    "                                 )"
   ]
  },
  {
   "cell_type": "code",
   "execution_count": 25,
   "metadata": {},
   "outputs": [
    {
     "name": "stdout",
     "output_type": "stream",
     "text": [
      "[07:49:43] Tree method is selected to be 'hist', which uses a single updater grow_fast_histmaker.\n"
     ]
    },
    {
     "data": {
      "text/plain": [
       "Pipeline(memory=None,\n",
       "         steps=[('clf',\n",
       "                 XGBClassifier(bagging_fraction=1.0, bagging_freq=20,\n",
       "                               base_score=0.5, booster='gbtree',\n",
       "                               colsample_bylevel=1, colsample_bytree=0.8,\n",
       "                               feature_fraction=0.9, gamma=0, lambda_l1=0.01,\n",
       "                               lambda_l2=0.01, learning_rate=0.08, max_bin=230,\n",
       "                               max_delta_step=0, max_depth=6,\n",
       "                               min_child_samples=100, min_child_weight=0.001,\n",
       "                               min_data_in_leaf=50, missing=None,\n",
       "                               n_estimators=400, n_jobs=40, nthread=None,\n",
       "                               num_leaves=256, objective='binary:logistic',\n",
       "                               random_state=42, reg_alpha=0, reg_lambda=1,\n",
       "                               scale_pos_weight=2.041, seed=None, silent=True,\n",
       "                               subsample=1, ...))],\n",
       "         verbose=False)"
      ]
     },
     "execution_count": 25,
     "metadata": {},
     "output_type": "execute_result"
    }
   ],
   "source": [
    "classifier.fit(X_train.astype(dtype=np.float32), y_train)"
   ]
  },
  {
   "cell_type": "code",
   "execution_count": 26,
   "metadata": {},
   "outputs": [
    {
     "name": "stdout",
     "output_type": "stream",
     "text": [
      "              precision    recall  f1-score   support\n",
      "\n",
      "           0    0.88973   0.93780   0.91313   1067912\n",
      "           1    0.49353   0.34275   0.40454    188848\n",
      "\n",
      "    accuracy                        0.84838   1256760\n",
      "   macro avg    0.69163   0.64027   0.65884   1256760\n",
      "weighted avg    0.83019   0.84838   0.83671   1256760\n",
      "\n",
      "Hold Out: \n",
      "Precision: 0.49353, Recall: 0.34275, F_1: 0.40454\n"
     ]
    }
   ],
   "source": [
    "y_pred = classifier.predict(X_test.astype(dtype=np.float32))\n",
    "\n",
    "recall_ts, precision_ts, f1_ts =  get_metrics(y_pred.astype(int), y_test.astype(int))\n",
    "                                                  \n",
    "print('Hold Out: ')\n",
    "print('Precision: %7.5f, Recall: %7.5f, F_1: %7.5f' % \n",
    "(precision_ts, recall_ts, f1_ts))"
   ]
  },
  {
   "cell_type": "code",
   "execution_count": 27,
   "metadata": {},
   "outputs": [
    {
     "data": {
      "text/plain": [
       "['./pkl/xgb_cls_tuned_pipe_wFT_200820.pkl']"
      ]
     },
     "execution_count": 27,
     "metadata": {},
     "output_type": "execute_result"
    }
   ],
   "source": [
    "joblib.dump(classifier, './pkl/xgb_cls_tuned_pipe_wFT_200820.pkl')"
   ]
  },
  {
   "cell_type": "markdown",
   "metadata": {},
   "source": [
    "## Probabilities Calibration"
   ]
  },
  {
   "cell_type": "code",
   "execution_count": 77,
   "metadata": {
    "collapsed": true
   },
   "outputs": [],
   "source": [
    "from sklearn.calibration import CalibratedClassifierCV, calibration_curve"
   ]
  },
  {
   "cell_type": "code",
   "execution_count": 96,
   "metadata": {
    "collapsed": true
   },
   "outputs": [],
   "source": [
    "xgb = classifier['clf']"
   ]
  },
  {
   "cell_type": "code",
   "execution_count": 79,
   "metadata": {},
   "outputs": [
    {
     "data": {
      "image/png": "[encoded data removed]",
      "text/plain": [
       "<Figure size 900x630 with 1 Axes>"
      ]
     },
     "metadata": {},
     "output_type": "display_data"
    }
   ],
   "source": [
    "# use CalibratedClassifierCV with sigmoid and isotonic parameters\n",
    "\n",
    "plt.figure(figsize=(10,7), dpi=90)\n",
    "plt.style.use('seaborn-white')\n",
    "\n",
    "fraction_of_pos, mean_pred_val = calibration_curve(y_test, y_proba, n_bins=30)\n",
    "plt.plot(mean_pred_val, fraction_of_pos, 's-', markersize=2, color='red', label='Uncalibrated')\n",
    "plt.plot([0,1],[0,1],'--',color='gray')\n",
    "\n",
    "methodlst=['isotonic','sigmoid',]\n",
    "clr=['blue','green']\n",
    "i=0\n",
    "for method in methodlst:\n",
    "    clf_calib=CalibratedClassifierCV(xgb, cv='prefit', method=method, xdtype=pd.core.frame.DataFrame)\n",
    "  \n",
    "    try:\n",
    "        clf_calib.fit(X_train.astype(dtype=np.float32), y_train.astype(dtype=np.float32))\n",
    "    except ValueError as err:\n",
    "        print(\"Cols mismatched... Try to catch cols order from error message-->\")\n",
    "        colsstr     = str(err).split('feature_names mismatch: ')[1].split(' [')[0]\n",
    "        getcolslist = list(ast.literal_eval(colsstr[1:-1]))\n",
    "        _X_train = X_train[getcolslist].astype(dtype=np.float32)\n",
    "        clf_calib.fit(_X_train, y_train)\n",
    "        \n",
    "    y_tst_clf_calib_proba=clf_calib.predict_proba(X_test.astype(dtype=np.float32))[:,1]\n",
    "    fraction_of_pos, mean_pred_val = calibration_curve(y_test, y_tst_clf_calib_proba, n_bins=30)\n",
    "    plt.plot(mean_pred_val, fraction_of_pos, 's-', markersize=2, color=clr[i], label='Calibrated %s' % method)\n",
    "    i=i+1\n",
    "    \n",
    "plt.xlabel('Mean Predicted Value')\n",
    "plt.ylabel('Fraction of Positives')\n",
    "plt.legend(loc='best')\n",
    "plt.title('Compare Calibration Curves')\n",
    "plt.show()"
   ]
  },
  {
   "cell_type": "markdown",
   "metadata": {},
   "source": [
    "## Choose Sogmoid Method and obtain recalibated proba"
   ]
  },
  {
   "cell_type": "code",
   "execution_count": 84,
   "metadata": {
    "collapsed": true
   },
   "outputs": [],
   "source": [
    "methodlst=['sigmoid']\n",
    "for method in methodlst:\n",
    "    clf_calib=CalibratedClassifierCV(xgb, cv='prefit', method=method, xdtype=pd.core.frame.DataFrame)\n",
    "  \n",
    "    try:\n",
    "        clf_calib.fit(X_train.astype(dtype=np.float32), y_train.astype(dtype=np.float32))\n",
    "    except ValueError as err:\n",
    "        print(\"Cols mismatched... Try to catch cols order from error message-->\")\n",
    "        colsstr     = str(err).split('feature_names mismatch: ')[1].split(' [')[0]\n",
    "        getcolslist = list(ast.literal_eval(colsstr[1:-1]))\n",
    "        _X_train = X_train[getcolslist].astype(dtype=np.float32)\n",
    "        clf_calib.fit(_X_train, y_train)\n",
    "        \n",
    "    y_tst_clf_calib_proba=clf_calib.predict_proba(X_test.astype(dtype=np.float32))[:,1]"
   ]
  },
  {
   "cell_type": "code",
   "execution_count": 85,
   "metadata": {},
   "outputs": [
    {
     "name": "stdout",
     "output_type": "stream",
     "text": [
      "              precision    recall  f1-score   support\n",
      "\n",
      "           0    0.88000   0.95667   0.91674   1067912\n",
      "           1    0.51705   0.26232   0.34806    188848\n",
      "\n",
      "    accuracy                        0.85233   1256760\n",
      "   macro avg    0.69853   0.60949   0.63240   1256760\n",
      "weighted avg    0.82546   0.85233   0.83128   1256760\n",
      "\n",
      "Hold Out: \n",
      "Precision: 0.51705, Recall: 0.26232, F_1: 0.34806\n"
     ]
    }
   ],
   "source": [
    "# classification report after recalibration of proba\n",
    "threshold=0.5\n",
    "y_pred = binarize(y_tst_clf_calib_proba.reshape(-1, 1), threshold=threshold).reshape(-1)\n",
    "\n",
    "recall_ts, precision_ts, f1_ts =  get_metrics(y_pred.astype(int), y_test.astype(int))\n",
    "                                                  \n",
    "print('Hold Out: ')\n",
    "print('Precision: %7.5f, Recall: %7.5f, F_1: %7.5f' % \n",
    "(precision_ts, recall_ts, f1_ts))"
   ]
  },
  {
   "cell_type": "code",
   "execution_count": 86,
   "metadata": {},
   "outputs": [
    {
     "data": {
      "text/plain": [
       "['./pkl/CalibratedClassifierCV_xgb_200820.pkl']"
      ]
     },
     "execution_count": 86,
     "metadata": {},
     "output_type": "execute_result"
    }
   ],
   "source": [
    "joblib.dump(clf_calib,'./pkl/CalibratedClassifierCV_xgb_200820.pkl')"
   ]
  },
  {
   "cell_type": "markdown",
   "metadata": {},
   "source": [
    "## Find Pr/Re curves Intersection and set a new threshold for logits binarization"
   ]
  },
  {
   "cell_type": "code",
   "execution_count": 67,
   "metadata": {},
   "outputs": [
    {
     "data": {
      "image/png": "[encoded data removed]",
      "text/plain": [
       "<Figure size 792x576 with 1 Axes>"
      ]
     },
     "metadata": {},
     "output_type": "display_data"
    }
   ],
   "source": [
    "y_proba = classifier.predict_proba(X_test.astype(dtype=np.float32))[:,1]\n",
    "re, pr, f1 = Plot.precision_recall_threshold_curve(y_test, y_proba)"
   ]
  },
  {
   "cell_type": "code",
   "execution_count": 53,
   "metadata": {
    "collapsed": true
   },
   "outputs": [],
   "source": [
    "thresholds = np.arange(0.01, 1.05, 0.01)"
   ]
  },
  {
   "cell_type": "code",
   "execution_count": 71,
   "metadata": {},
   "outputs": [
    {
     "name": "stdout",
     "output_type": "stream",
     "text": [
      "Pr/Re Cross point value:  0.411\n"
     ]
    }
   ],
   "source": [
    "print('Pr/Re Cross point value: ', '%0.3f' % pr[np.argwhere(np.isclose(re, pr, atol=0.02)).ravel()[0]])"
   ]
  },
  {
   "cell_type": "code",
   "execution_count": 72,
   "metadata": {
    "scrolled": true
   },
   "outputs": [
    {
     "name": "stdout",
     "output_type": "stream",
     "text": [
      "Pr/Re Cross point thresholds value:  28.000\n"
     ]
    }
   ],
   "source": [
    "# Pr/Re intersection point\n",
    "intersec_arg = np.argwhere(np.isclose(re, pr, atol=0.02)).ravel()[0]\n",
    "# intersec_arg, pr[intersec_arg]\n",
    "print('Pr/Re Cross point thresholds value: ', '%0.3f' % intersec_arg)"
   ]
  },
  {
   "cell_type": "code",
   "execution_count": 55,
   "metadata": {
    "scrolled": true
   },
   "outputs": [
    {
     "data": {
      "text/plain": [
       "35"
      ]
     },
     "execution_count": 55,
     "metadata": {},
     "output_type": "execute_result"
    }
   ],
   "source": [
    "# point at which F1 becomes maximum\n",
    "f1_max_indx = np.argwhere(np.array(f1) == np.array(f1)[~np.isnan(f1)].max()).ravel()[0]\n",
    "f1_max_indx"
   ]
  },
  {
   "cell_type": "code",
   "execution_count": 63,
   "metadata": {},
   "outputs": [
    {
     "data": {
      "text/plain": [
       "28"
      ]
     },
     "execution_count": 63,
     "metadata": {},
     "output_type": "execute_result"
    }
   ],
   "source": [
    "# choose an average threshold point in order to maximize Re but not to degrage Pr simultaneosly \n",
    "avg_indx =f1_max_indx + np.round(0.97*(intersec_arg - f1_max_indx )).astype(int)\n",
    "avg_indx"
   ]
  },
  {
   "cell_type": "code",
   "execution_count": 64,
   "metadata": {},
   "outputs": [
    {
     "name": "stdout",
     "output_type": "stream",
     "text": [
      "              precision    recall  f1-score   support\n",
      "\n",
      "           0    0.89487   0.89769   0.89627   1067912\n",
      "           1    0.41093   0.40361   0.40724    188848\n",
      "\n",
      "    accuracy                        0.82344   1256760\n",
      "   macro avg    0.65290   0.65065   0.65176   1256760\n",
      "weighted avg    0.82215   0.82344   0.82279   1256760\n",
      "\n"
     ]
    }
   ],
   "source": [
    "y_pred = binarize(y_proba.reshape(-1, 1), threshold=thresholds[avg_indx]).reshape(-1)\n",
    "recall_ts, precision_ts, f1_ts =  get_metrics(y_pred.astype(int), y_test.astype(int))"
   ]
  },
  {
   "cell_type": "code",
   "execution_count": 87,
   "metadata": {},
   "outputs": [
    {
     "name": "stdout",
     "output_type": "stream",
     "text": [
      "              precision    recall  f1-score   support\n",
      "\n",
      "           0    0.89056   0.93501   0.91225   1067912\n",
      "           1    0.48799   0.35027   0.40782    188848\n",
      "\n",
      "    accuracy                        0.84714   1256760\n",
      "   macro avg    0.68928   0.64264   0.66003   1256760\n",
      "weighted avg    0.83007   0.84714   0.83645   1256760\n",
      "\n",
      "Hold Out: \n",
      "Precision: 0.48799, Recall: 0.35027, F_1: 0.40782\n"
     ]
    }
   ],
   "source": [
    "# classification report after recalibration of proba\n",
    "threshold=thresholds[avg_indx]\n",
    "y_pred = binarize(y_tst_clf_calib_proba.reshape(-1, 1), threshold=threshold).reshape(-1)\n",
    "\n",
    "recall_ts, precision_ts, f1_ts =  get_metrics(y_pred.astype(int), y_test.astype(int))\n",
    "                                                  \n",
    "print('Hold Out: ')\n",
    "print('Precision: %7.5f, Recall: %7.5f, F_1: %7.5f' % \n",
    "(precision_ts, recall_ts, f1_ts))"
   ]
  },
  {
   "cell_type": "code",
   "execution_count": 58,
   "metadata": {},
   "outputs": [
    {
     "data": {
      "text/plain": [
       "0.3596522029116522"
      ]
     },
     "execution_count": 58,
     "metadata": {},
     "output_type": "execute_result"
    }
   ],
   "source": [
    "average_precision_score(y_test, y_proba)"
   ]
  },
  {
   "cell_type": "markdown",
   "metadata": {},
   "source": [
    "## Permutation Importance with Forward Feature Selection+CV"
   ]
  },
  {
   "cell_type": "code",
   "execution_count": 50,
   "metadata": {},
   "outputs": [
    {
     "name": "stdout",
     "output_type": "stream",
     "text": [
      "...load xgb model from--> xgb_cls_tuned_pipe_wFT_200820.pkl\n"
     ]
    }
   ],
   "source": [
    "for file in os.listdir('./pkl'):\n",
    "    if 'xgb_cls_tuned_pipe_wFT_200820' in file:\n",
    "        print(\"...load xgb model from--> {}\".format(file))\n",
    "        xgb = joblib.load('./pkl/{}'.format(file))"
   ]
  },
  {
   "cell_type": "code",
   "execution_count": 19,
   "metadata": {
    "collapsed": true
   },
   "outputs": [],
   "source": [
    "import re\n",
    "pattern = re.compile(r'.*_m\\d{1}1')\n",
    "ftcols = [col for col in list(df.columns) if '_FT_' in col]\n",
    "respcols = [col for col in list(df.columns) if len(pattern.findall(col))!=0]\n",
    "ml360cols = list(set(list(df.columns)) - set(respcols) - set(ftcols))\n",
    "\n",
    "cols_filtered = list(set(respcols+ml360cols)-set(['target']))"
   ]
  },
  {
   "cell_type": "code",
   "execution_count": 20,
   "metadata": {},
   "outputs": [
    {
     "data": {
      "text/plain": [
       "(5027040, 105)"
      ]
     },
     "execution_count": 20,
     "metadata": {},
     "output_type": "execute_result"
    }
   ],
   "source": [
    "X_train[cols_filtered].shape"
   ]
  },
  {
   "cell_type": "code",
   "execution_count": 21,
   "metadata": {
    "collapsed": true,
    "scrolled": true
   },
   "outputs": [],
   "source": [
    "frwPerm = ForwardPermutationFECV(metric='recall', n_jobs=50, n_folds=5, folds='StratifiedKFold')"
   ]
  },
  {
   "cell_type": "code",
   "execution_count": null,
   "metadata": {
    "collapsed": true
   },
   "outputs": [],
   "source": [
    "#threshold =0.5\n",
    "frwPerm.fit_transform(X_train[cols_filtered], y_train, xgb['clf'], isfit=False)"
   ]
  },
  {
   "cell_type": "markdown",
   "metadata": {},
   "source": [
    "## Check Permutation Importance Matrix"
   ]
  },
  {
   "cell_type": "code",
   "execution_count": 28,
   "metadata": {
    "scrolled": true
   },
   "outputs": [
    {
     "data": {
      "text/html": [
       "<div>\n",
       "<style scoped>\n",
       "    .dataframe tbody tr th:only-of-type {\n",
       "        vertical-align: middle;\n",
       "    }\n",
       "\n",
       "    .dataframe tbody tr th {\n",
       "        vertical-align: top;\n",
       "    }\n",
       "\n",
       "    .dataframe thead th {\n",
       "        text-align: right;\n",
       "    }\n",
       "</style>\n",
       "<table border=\"1\" class=\"dataframe\">\n",
       "  <thead>\n",
       "    <tr style=\"text-align: right;\">\n",
       "      <th></th>\n",
       "      <th>features</th>\n",
       "      <th>permutation_recall</th>\n",
       "      <th>permutation_recall_1</th>\n",
       "      <th>permutation_recall_2</th>\n",
       "      <th>permutation_recall_3</th>\n",
       "      <th>permutation_recall_4</th>\n",
       "      <th>permutation_mean</th>\n",
       "    </tr>\n",
       "  </thead>\n",
       "  <tbody>\n",
       "    <tr>\n",
       "      <th>14</th>\n",
       "      <td>last_open_all_cnt_m11</td>\n",
       "      <td>0.235124</td>\n",
       "      <td>0.228730</td>\n",
       "      <td>0.250109</td>\n",
       "      <td>0.231682</td>\n",
       "      <td>0.236280</td>\n",
       "      <td>0.236385</td>\n",
       "    </tr>\n",
       "    <tr>\n",
       "      <th>58</th>\n",
       "      <td>last_open_day_cnt_m11</td>\n",
       "      <td>0.222163</td>\n",
       "      <td>0.235534</td>\n",
       "      <td>0.227598</td>\n",
       "      <td>0.226717</td>\n",
       "      <td>0.229628</td>\n",
       "      <td>0.228328</td>\n",
       "    </tr>\n",
       "    <tr>\n",
       "      <th>98</th>\n",
       "      <td>last_open_all_cnt_m21</td>\n",
       "      <td>0.126445</td>\n",
       "      <td>0.130740</td>\n",
       "      <td>0.122619</td>\n",
       "      <td>0.124955</td>\n",
       "      <td>0.127682</td>\n",
       "      <td>0.126488</td>\n",
       "    </tr>\n",
       "    <tr>\n",
       "      <th>94</th>\n",
       "      <td>last_click_all_cnt_m11</td>\n",
       "      <td>0.024822</td>\n",
       "      <td>0.030097</td>\n",
       "      <td>0.032314</td>\n",
       "      <td>0.029376</td>\n",
       "      <td>0.029521</td>\n",
       "      <td>0.029226</td>\n",
       "    </tr>\n",
       "    <tr>\n",
       "      <th>91</th>\n",
       "      <td>open_on_dlv_day_rate_m11</td>\n",
       "      <td>0.016601</td>\n",
       "      <td>0.016852</td>\n",
       "      <td>0.016170</td>\n",
       "      <td>0.017203</td>\n",
       "      <td>0.016395</td>\n",
       "      <td>0.016644</td>\n",
       "    </tr>\n",
       "    <tr>\n",
       "      <th>13</th>\n",
       "      <td>open_on_dlv_all_rate_m11</td>\n",
       "      <td>0.017210</td>\n",
       "      <td>0.013841</td>\n",
       "      <td>0.014655</td>\n",
       "      <td>0.014112</td>\n",
       "      <td>0.015475</td>\n",
       "      <td>0.015058</td>\n",
       "    </tr>\n",
       "    <tr>\n",
       "      <th>35</th>\n",
       "      <td>diff_lo_fo_m11</td>\n",
       "      <td>0.012139</td>\n",
       "      <td>0.011067</td>\n",
       "      <td>0.013066</td>\n",
       "      <td>0.012206</td>\n",
       "      <td>0.014377</td>\n",
       "      <td>0.012571</td>\n",
       "    </tr>\n",
       "    <tr>\n",
       "      <th>55</th>\n",
       "      <td>prior_true_idx</td>\n",
       "      <td>0.011630</td>\n",
       "      <td>0.011881</td>\n",
       "      <td>0.011577</td>\n",
       "      <td>0.012014</td>\n",
       "      <td>0.012100</td>\n",
       "      <td>0.011840</td>\n",
       "    </tr>\n",
       "    <tr>\n",
       "      <th>51</th>\n",
       "      <td>diff_lo_fo_m21</td>\n",
       "      <td>0.009637</td>\n",
       "      <td>0.009968</td>\n",
       "      <td>0.010180</td>\n",
       "      <td>0.010471</td>\n",
       "      <td>0.009948</td>\n",
       "      <td>0.010041</td>\n",
       "    </tr>\n",
       "    <tr>\n",
       "      <th>88</th>\n",
       "      <td>diff_lo_ls_m11</td>\n",
       "      <td>0.008400</td>\n",
       "      <td>0.009326</td>\n",
       "      <td>0.011590</td>\n",
       "      <td>0.009392</td>\n",
       "      <td>0.010339</td>\n",
       "      <td>0.009809</td>\n",
       "    </tr>\n",
       "    <tr>\n",
       "      <th>22</th>\n",
       "      <td>last_open_all_cnt_m31</td>\n",
       "      <td>0.006573</td>\n",
       "      <td>0.004362</td>\n",
       "      <td>0.010518</td>\n",
       "      <td>0.009836</td>\n",
       "      <td>0.010087</td>\n",
       "      <td>0.008275</td>\n",
       "    </tr>\n",
       "    <tr>\n",
       "      <th>79</th>\n",
       "      <td>last_open_day_cnt_m21</td>\n",
       "      <td>0.008439</td>\n",
       "      <td>0.003885</td>\n",
       "      <td>0.008684</td>\n",
       "      <td>0.003581</td>\n",
       "      <td>0.007943</td>\n",
       "      <td>0.006507</td>\n",
       "    </tr>\n",
       "    <tr>\n",
       "      <th>87</th>\n",
       "      <td>salary_prod_deals_created</td>\n",
       "      <td>0.005831</td>\n",
       "      <td>0.005335</td>\n",
       "      <td>0.005924</td>\n",
       "      <td>0.006103</td>\n",
       "      <td>0.005818</td>\n",
       "      <td>0.005802</td>\n",
       "    </tr>\n",
       "    <tr>\n",
       "      <th>84</th>\n",
       "      <td>diff_lo_ls_m21</td>\n",
       "      <td>0.007162</td>\n",
       "      <td>0.005759</td>\n",
       "      <td>0.003727</td>\n",
       "      <td>0.006129</td>\n",
       "      <td>0.005805</td>\n",
       "      <td>0.005716</td>\n",
       "    </tr>\n",
       "    <tr>\n",
       "      <th>2</th>\n",
       "      <td>corp_cards_prod_deals_completed</td>\n",
       "      <td>0.005692</td>\n",
       "      <td>0.006096</td>\n",
       "      <td>0.006487</td>\n",
       "      <td>0.004865</td>\n",
       "      <td>0.005342</td>\n",
       "      <td>0.005696</td>\n",
       "    </tr>\n",
       "    <tr>\n",
       "      <th>86</th>\n",
       "      <td>open_on_dlv_all_rate_m21</td>\n",
       "      <td>0.004534</td>\n",
       "      <td>0.005937</td>\n",
       "      <td>0.004375</td>\n",
       "      <td>0.004984</td>\n",
       "      <td>0.005639</td>\n",
       "      <td>0.005094</td>\n",
       "    </tr>\n",
       "    <tr>\n",
       "      <th>74</th>\n",
       "      <td>diff_fo_ls_m21</td>\n",
       "      <td>0.003985</td>\n",
       "      <td>0.005481</td>\n",
       "      <td>0.001191</td>\n",
       "      <td>0.000457</td>\n",
       "      <td>0.001992</td>\n",
       "      <td>0.002621</td>\n",
       "    </tr>\n",
       "    <tr>\n",
       "      <th>36</th>\n",
       "      <td>diff_lo_fs_m11</td>\n",
       "      <td>0.003349</td>\n",
       "      <td>0.003303</td>\n",
       "      <td>0.003541</td>\n",
       "      <td>-0.003164</td>\n",
       "      <td>0.004587</td>\n",
       "      <td>0.002323</td>\n",
       "    </tr>\n",
       "    <tr>\n",
       "      <th>71</th>\n",
       "      <td>corp_cards_prod_deals_created</td>\n",
       "      <td>0.001708</td>\n",
       "      <td>0.001867</td>\n",
       "      <td>0.002575</td>\n",
       "      <td>0.002217</td>\n",
       "      <td>0.001893</td>\n",
       "      <td>0.002052</td>\n",
       "    </tr>\n",
       "    <tr>\n",
       "      <th>45</th>\n",
       "      <td>all_prod_deals_completed</td>\n",
       "      <td>0.002350</td>\n",
       "      <td>0.001562</td>\n",
       "      <td>0.001112</td>\n",
       "      <td>0.001900</td>\n",
       "      <td>0.001397</td>\n",
       "      <td>0.001664</td>\n",
       "    </tr>\n",
       "    <tr>\n",
       "      <th>34</th>\n",
       "      <td>all_prod_deals_created</td>\n",
       "      <td>0.001694</td>\n",
       "      <td>0.001569</td>\n",
       "      <td>0.001264</td>\n",
       "      <td>0.001781</td>\n",
       "      <td>0.001701</td>\n",
       "      <td>0.001602</td>\n",
       "    </tr>\n",
       "    <tr>\n",
       "      <th>52</th>\n",
       "      <td>diff_fo_ls_m11</td>\n",
       "      <td>0.001615</td>\n",
       "      <td>0.001086</td>\n",
       "      <td>0.001562</td>\n",
       "      <td>0.001244</td>\n",
       "      <td>0.000391</td>\n",
       "      <td>0.001180</td>\n",
       "    </tr>\n",
       "    <tr>\n",
       "      <th>30</th>\n",
       "      <td>diff_lo_fs_m21</td>\n",
       "      <td>0.000232</td>\n",
       "      <td>0.001105</td>\n",
       "      <td>0.001145</td>\n",
       "      <td>0.001450</td>\n",
       "      <td>0.001906</td>\n",
       "      <td>0.001168</td>\n",
       "    </tr>\n",
       "    <tr>\n",
       "      <th>75</th>\n",
       "      <td>open_on_dlv_day_rate_m21</td>\n",
       "      <td>0.001688</td>\n",
       "      <td>0.000443</td>\n",
       "      <td>0.001516</td>\n",
       "      <td>0.001099</td>\n",
       "      <td>0.000748</td>\n",
       "      <td>0.001099</td>\n",
       "    </tr>\n",
       "    <tr>\n",
       "      <th>82</th>\n",
       "      <td>diff_fo_fs_m11</td>\n",
       "      <td>0.000927</td>\n",
       "      <td>0.000622</td>\n",
       "      <td>0.002575</td>\n",
       "      <td>0.000695</td>\n",
       "      <td>0.000490</td>\n",
       "      <td>0.001062</td>\n",
       "    </tr>\n",
       "    <tr>\n",
       "      <th>27</th>\n",
       "      <td>last_click_day_cnt_m11</td>\n",
       "      <td>0.002740</td>\n",
       "      <td>0.000033</td>\n",
       "      <td>0.000086</td>\n",
       "      <td>0.000304</td>\n",
       "      <td>0.002065</td>\n",
       "      <td>0.001046</td>\n",
       "    </tr>\n",
       "    <tr>\n",
       "      <th>102</th>\n",
       "      <td>cred_sdo</td>\n",
       "      <td>0.001013</td>\n",
       "      <td>0.000821</td>\n",
       "      <td>0.001079</td>\n",
       "      <td>0.001198</td>\n",
       "      <td>0.000794</td>\n",
       "      <td>0.000981</td>\n",
       "    </tr>\n",
       "    <tr>\n",
       "      <th>9</th>\n",
       "      <td>diff_lcl_fcl_m11</td>\n",
       "      <td>0.000920</td>\n",
       "      <td>0.001403</td>\n",
       "      <td>0.001059</td>\n",
       "      <td>0.000549</td>\n",
       "      <td>0.000874</td>\n",
       "      <td>0.000961</td>\n",
       "    </tr>\n",
       "    <tr>\n",
       "      <th>6</th>\n",
       "      <td>crm_segment_idx</td>\n",
       "      <td>0.000894</td>\n",
       "      <td>0.001019</td>\n",
       "      <td>0.000860</td>\n",
       "      <td>0.001033</td>\n",
       "      <td>0.000973</td>\n",
       "      <td>0.000956</td>\n",
       "    </tr>\n",
       "    <tr>\n",
       "      <th>29</th>\n",
       "      <td>diff_fo_fs_m21</td>\n",
       "      <td>0.000046</td>\n",
       "      <td>0.001443</td>\n",
       "      <td>0.000841</td>\n",
       "      <td>0.000788</td>\n",
       "      <td>0.001191</td>\n",
       "      <td>0.000862</td>\n",
       "    </tr>\n",
       "  </tbody>\n",
       "</table>\n",
       "</div>"
      ],
      "text/plain": [
       "                            features  permutation_recall  \\\n",
       "14             last_open_all_cnt_m11            0.235124   \n",
       "58             last_open_day_cnt_m11            0.222163   \n",
       "98             last_open_all_cnt_m21            0.126445   \n",
       "94            last_click_all_cnt_m11            0.024822   \n",
       "91          open_on_dlv_day_rate_m11            0.016601   \n",
       "13          open_on_dlv_all_rate_m11            0.017210   \n",
       "35                    diff_lo_fo_m11            0.012139   \n",
       "55                    prior_true_idx            0.011630   \n",
       "51                    diff_lo_fo_m21            0.009637   \n",
       "88                    diff_lo_ls_m11            0.008400   \n",
       "22             last_open_all_cnt_m31            0.006573   \n",
       "79             last_open_day_cnt_m21            0.008439   \n",
       "87         salary_prod_deals_created            0.005831   \n",
       "84                    diff_lo_ls_m21            0.007162   \n",
       "2    corp_cards_prod_deals_completed            0.005692   \n",
       "86          open_on_dlv_all_rate_m21            0.004534   \n",
       "74                    diff_fo_ls_m21            0.003985   \n",
       "36                    diff_lo_fs_m11            0.003349   \n",
       "71     corp_cards_prod_deals_created            0.001708   \n",
       "45          all_prod_deals_completed            0.002350   \n",
       "34            all_prod_deals_created            0.001694   \n",
       "52                    diff_fo_ls_m11            0.001615   \n",
       "30                    diff_lo_fs_m21            0.000232   \n",
       "75          open_on_dlv_day_rate_m21            0.001688   \n",
       "82                    diff_fo_fs_m11            0.000927   \n",
       "27            last_click_day_cnt_m11            0.002740   \n",
       "102                         cred_sdo            0.001013   \n",
       "9                   diff_lcl_fcl_m11            0.000920   \n",
       "6                    crm_segment_idx            0.000894   \n",
       "29                    diff_fo_fs_m21            0.000046   \n",
       "\n",
       "     permutation_recall_1  permutation_recall_2  permutation_recall_3  \\\n",
       "14               0.228730              0.250109              0.231682   \n",
       "58               0.235534              0.227598              0.226717   \n",
       "98               0.130740              0.122619              0.124955   \n",
       "94               0.030097              0.032314              0.029376   \n",
       "91               0.016852              0.016170              0.017203   \n",
       "13               0.013841              0.014655              0.014112   \n",
       "35               0.011067              0.013066              0.012206   \n",
       "55               0.011881              0.011577              0.012014   \n",
       "51               0.009968              0.010180              0.010471   \n",
       "88               0.009326              0.011590              0.009392   \n",
       "22               0.004362              0.010518              0.009836   \n",
       "79               0.003885              0.008684              0.003581   \n",
       "87               0.005335              0.005924              0.006103   \n",
       "84               0.005759              0.003727              0.006129   \n",
       "2                0.006096              0.006487              0.004865   \n",
       "86               0.005937              0.004375              0.004984   \n",
       "74               0.005481              0.001191              0.000457   \n",
       "36               0.003303              0.003541             -0.003164   \n",
       "71               0.001867              0.002575              0.002217   \n",
       "45               0.001562              0.001112              0.001900   \n",
       "34               0.001569              0.001264              0.001781   \n",
       "52               0.001086              0.001562              0.001244   \n",
       "30               0.001105              0.001145              0.001450   \n",
       "75               0.000443              0.001516              0.001099   \n",
       "82               0.000622              0.002575              0.000695   \n",
       "27               0.000033              0.000086              0.000304   \n",
       "102              0.000821              0.001079              0.001198   \n",
       "9                0.001403              0.001059              0.000549   \n",
       "6                0.001019              0.000860              0.001033   \n",
       "29               0.001443              0.000841              0.000788   \n",
       "\n",
       "     permutation_recall_4  permutation_mean  \n",
       "14               0.236280          0.236385  \n",
       "58               0.229628          0.228328  \n",
       "98               0.127682          0.126488  \n",
       "94               0.029521          0.029226  \n",
       "91               0.016395          0.016644  \n",
       "13               0.015475          0.015058  \n",
       "35               0.014377          0.012571  \n",
       "55               0.012100          0.011840  \n",
       "51               0.009948          0.010041  \n",
       "88               0.010339          0.009809  \n",
       "22               0.010087          0.008275  \n",
       "79               0.007943          0.006507  \n",
       "87               0.005818          0.005802  \n",
       "84               0.005805          0.005716  \n",
       "2                0.005342          0.005696  \n",
       "86               0.005639          0.005094  \n",
       "74               0.001992          0.002621  \n",
       "36               0.004587          0.002323  \n",
       "71               0.001893          0.002052  \n",
       "45               0.001397          0.001664  \n",
       "34               0.001701          0.001602  \n",
       "52               0.000391          0.001180  \n",
       "30               0.001906          0.001168  \n",
       "75               0.000748          0.001099  \n",
       "82               0.000490          0.001062  \n",
       "27               0.002065          0.001046  \n",
       "102              0.000794          0.000981  \n",
       "9                0.000874          0.000961  \n",
       "6                0.000973          0.000956  \n",
       "29               0.001191          0.000862  "
      ]
     },
     "execution_count": 28,
     "metadata": {},
     "output_type": "execute_result"
    }
   ],
   "source": [
    "frwPerm.permutation_importance_df.head(30)"
   ]
  },
  {
   "cell_type": "code",
   "execution_count": 30,
   "metadata": {
    "scrolled": true
   },
   "outputs": [
    {
     "data": {
      "text/plain": [
       "78"
      ]
     },
     "execution_count": 30,
     "metadata": {},
     "output_type": "execute_result"
    }
   ],
   "source": [
    "frwPerm.permutation_importance_df.loc[frwPerm.permutation_importance_df['permutation_mean'] > 0,'features'].count()"
   ]
  },
  {
   "cell_type": "markdown",
   "metadata": {},
   "source": [
    "## Forward Selection Fit based on the positive values of Permutation Importance Matrix"
   ]
  },
  {
   "cell_type": "code",
   "execution_count": null,
   "metadata": {
    "scrolled": true
   },
   "outputs": [],
   "source": [
    "frwPerm.epsilon = 0.0015\n",
    "main_import_feat = frwPerm.fit_transform(X_train[cols_filtered], y_train, xgb, isfit=True)"
   ]
  },
  {
   "cell_type": "code",
   "execution_count": 43,
   "metadata": {},
   "outputs": [
    {
     "data": {
      "text/plain": [
       "['last_open_all_cnt_m11',\n",
       " 'last_open_day_cnt_m11',\n",
       " 'last_open_all_cnt_m21',\n",
       " 'last_click_all_cnt_m11',\n",
       " 'open_on_dlv_day_rate_m11',\n",
       " 'open_on_dlv_all_rate_m11',\n",
       " 'diff_lo_fo_m11',\n",
       " 'prior_true_idx',\n",
       " 'diff_lo_fo_m21',\n",
       " 'diff_lo_ls_m11',\n",
       " 'last_open_all_cnt_m31',\n",
       " 'last_open_day_cnt_m21',\n",
       " 'salary_prod_deals_created',\n",
       " 'diff_lo_ls_m21',\n",
       " 'corp_cards_prod_deals_completed',\n",
       " 'open_on_dlv_all_rate_m21',\n",
       " 'diff_fo_ls_m21',\n",
       " 'diff_lo_fs_m11',\n",
       " 'corp_cards_prod_deals_created']"
      ]
     },
     "execution_count": 43,
     "metadata": {},
     "output_type": "execute_result"
    }
   ],
   "source": [
    "main_import_feat"
   ]
  },
  {
   "cell_type": "markdown",
   "metadata": {},
   "source": [
    "## Train Previously Fine-Tuned Xgboost on dataset with selected features after copletion of Features Permutation process"
   ]
  },
  {
   "cell_type": "markdown",
   "metadata": {},
   "source": [
    "### With FastText"
   ]
  },
  {
   "cell_type": "code",
   "execution_count": 53,
   "metadata": {
    "scrolled": true
   },
   "outputs": [
    {
     "name": "stdout",
     "output_type": "stream",
     "text": [
      "[14:36:05] Tree method is selected to be 'hist', which uses a single updater grow_fast_histmaker.\n"
     ]
    },
    {
     "data": {
      "text/plain": [
       "Pipeline(memory=None,\n",
       "         steps=[('clf',\n",
       "                 XGBClassifier(bagging_fraction=1.0, bagging_freq=20,\n",
       "                               base_score=0.5, booster='gbtree',\n",
       "                               colsample_bylevel=1, colsample_bytree=0.8,\n",
       "                               feature_fraction=0.9, gamma=0, lambda_l1=0.01,\n",
       "                               lambda_l2=0.01, learning_rate=0.08, max_bin=230,\n",
       "                               max_delta_step=0, max_depth=6,\n",
       "                               min_child_samples=100, min_child_weight=0.001,\n",
       "                               min_data_in_leaf=50, missing=nan,\n",
       "                               n_estimators=400, n_jobs=40, nthread=None,\n",
       "                               num_leaves=256, objective='binary:logistic',\n",
       "                               random_state=42, reg_alpha=0, reg_lambda=1,\n",
       "                               scale_pos_weight=2.041, seed=None, silent=True,\n",
       "                               subsample=1, ...))],\n",
       "         verbose=False)"
      ]
     },
     "execution_count": 53,
     "metadata": {},
     "output_type": "execute_result"
    }
   ],
   "source": [
    "xgb.fit(X_train[main_import_feat+ftcols].astype(dtype=np.float32), y_train)"
   ]
  },
  {
   "cell_type": "code",
   "execution_count": 54,
   "metadata": {},
   "outputs": [
    {
     "data": {
      "image/png": "[encoded data removed]",
      "text/plain": [
       "<Figure size 648x360 with 1 Axes>"
      ]
     },
     "metadata": {},
     "output_type": "display_data"
    }
   ],
   "source": [
    "y_proba = xgb.predict_proba(X_test[main_import_feat+ftcols].astype(dtype=np.float32))[:,1]\n",
    "re, pr, f1 = Plot.precision_recall_threshold_curve(y_test, y_proba)"
   ]
  },
  {
   "cell_type": "code",
   "execution_count": 55,
   "metadata": {},
   "outputs": [
    {
     "name": "stdout",
     "output_type": "stream",
     "text": [
      "Pr/Re Cross point thresholds value:  26.000\n",
      "              precision    recall  f1-score   support\n",
      "\n",
      "           0    0.89418   0.89308   0.89363   1067912\n",
      "           1    0.39957   0.40234   0.40095    188848\n",
      "\n",
      "    accuracy                        0.81934   1256760\n",
      "   macro avg    0.64688   0.64771   0.64729   1256760\n",
      "weighted avg    0.81986   0.81934   0.81960   1256760\n",
      "\n",
      "Hold Out: \n",
      "Precision: 0.39957, Recall: 0.40234, F_1: 0.40095\n"
     ]
    }
   ],
   "source": [
    "thresholds = np.arange(0.01, 1.05, 0.01)\n",
    "\n",
    "# Pr/Re intersection point\n",
    "intersec_arg = np.argwhere(np.isclose(re, pr, atol=0.02)).ravel()[0]\n",
    "# intersec_arg, pr[intersec_arg]\n",
    "print('Pr/Re Cross point thresholds value: ', '%0.3f' % intersec_arg)\n",
    "# point at which F1 becomes maximum\n",
    "f1_max_indx = np.argwhere(np.array(f1) == np.array(f1)[~np.isnan(f1)].max()).ravel()[0]\n",
    "# choose an average threshold point in order to maximize Re but not to degrage Pr simultaneosly \n",
    "avg_indx = f1_max_indx + np.round(0.97*(intersec_arg - f1_max_indx )).astype(int)\n",
    "\n",
    "threshold=thresholds[avg_indx]\n",
    "y_pred = binarize(y_proba.reshape(-1, 1), threshold=threshold).reshape(-1)\n",
    "\n",
    "recall_ts, precision_ts, f1_ts =  get_metrics(y_pred.astype(int), y_test.astype(int))\n",
    "                                                  \n",
    "print('Hold Out: ')\n",
    "print('Precision: %7.5f, Recall: %7.5f, F_1: %7.5f' % \n",
    "(precision_ts, recall_ts, f1_ts))"
   ]
  },
  {
   "cell_type": "markdown",
   "metadata": {},
   "source": [
    "### Without FastText"
   ]
  },
  {
   "cell_type": "code",
   "execution_count": 56,
   "metadata": {},
   "outputs": [
    {
     "name": "stdout",
     "output_type": "stream",
     "text": [
      "[14:52:36] Tree method is selected to be 'hist', which uses a single updater grow_fast_histmaker.\n"
     ]
    },
    {
     "data": {
      "text/plain": [
       "Pipeline(memory=None,\n",
       "         steps=[('clf',\n",
       "                 XGBClassifier(bagging_fraction=1.0, bagging_freq=20,\n",
       "                               base_score=0.5, booster='gbtree',\n",
       "                               colsample_bylevel=1, colsample_bytree=0.8,\n",
       "                               feature_fraction=0.9, gamma=0, lambda_l1=0.01,\n",
       "                               lambda_l2=0.01, learning_rate=0.08, max_bin=230,\n",
       "                               max_delta_step=0, max_depth=6,\n",
       "                               min_child_samples=100, min_child_weight=0.001,\n",
       "                               min_data_in_leaf=50, missing=nan,\n",
       "                               n_estimators=400, n_jobs=40, nthread=None,\n",
       "                               num_leaves=256, objective='binary:logistic',\n",
       "                               random_state=42, reg_alpha=0, reg_lambda=1,\n",
       "                               scale_pos_weight=2.041, seed=None, silent=True,\n",
       "                               subsample=1, ...))],\n",
       "         verbose=False)"
      ]
     },
     "execution_count": 56,
     "metadata": {},
     "output_type": "execute_result"
    }
   ],
   "source": [
    "xgb.fit(X_train[main_import_feat].astype(dtype=np.float32), y_train)"
   ]
  },
  {
   "cell_type": "code",
   "execution_count": 57,
   "metadata": {},
   "outputs": [
    {
     "data": {
      "image/png": "[encoded data removed]",
      "text/plain": [
       "<Figure size 648x360 with 1 Axes>"
      ]
     },
     "metadata": {},
     "output_type": "display_data"
    }
   ],
   "source": [
    "y_proba = xgb.predict_proba(X_test[main_import_feat].astype(dtype=np.float32))[:,1]\n",
    "re, pr, f1 = Plot.precision_recall_threshold_curve(y_test, y_proba)"
   ]
  },
  {
   "cell_type": "code",
   "execution_count": 61,
   "metadata": {},
   "outputs": [
    {
     "name": "stdout",
     "output_type": "stream",
     "text": [
      "Pr/Re Cross point thresholds value:  25.000\n",
      "              precision    recall  f1-score   support\n",
      "\n",
      "           0    0.89224   0.91123   0.90164   1067912\n",
      "           1    0.42934   0.37768   0.40186    188848\n",
      "\n",
      "    accuracy                        0.83105   1256760\n",
      "   macro avg    0.66079   0.64446   0.65175   1256760\n",
      "weighted avg    0.82268   0.83105   0.82654   1256760\n",
      "\n",
      "Hold Out: \n",
      "Precision: 0.42934, Recall: 0.37768, F_1: 0.40186\n"
     ]
    }
   ],
   "source": [
    "thresholds = np.arange(0.01, 1.05, 0.01)\n",
    "\n",
    "# Pr/Re intersection point\n",
    "intersec_arg = np.argwhere(np.isclose(re, pr, atol=0.1)).ravel()[0]\n",
    "# intersec_arg, pr[intersec_arg]\n",
    "print('Pr/Re Cross point thresholds value: ', '%0.3f' % intersec_arg)\n",
    "# point at which F1 becomes maximum\n",
    "f1_max_indx = np.argwhere(np.array(f1) == np.array(f1)[~np.isnan(f1)].max()).ravel()[0]\n",
    "# choose an average threshold point in order to maximize Re but not to degrage Pr simultaneosly \n",
    "avg_indx = f1_max_indx + np.round(0.97*(intersec_arg - f1_max_indx )).astype(int)\n",
    "\n",
    "threshold=thresholds[avg_indx]\n",
    "y_pred = binarize(y_proba.reshape(-1, 1), threshold=threshold).reshape(-1)\n",
    "\n",
    "recall_ts, precision_ts, f1_ts =  get_metrics(y_pred.astype(int), y_test.astype(int))\n",
    "                                                  \n",
    "print('Hold Out: ')\n",
    "print('Precision: %7.5f, Recall: %7.5f, F_1: %7.5f' % \n",
    "(precision_ts, recall_ts, f1_ts))"
   ]
  },
  {
   "cell_type": "markdown",
   "metadata": {},
   "source": [
    "## Incremental UPTraining"
   ]
  },
  {
   "cell_type": "code",
   "execution_count": 7,
   "metadata": {},
   "outputs": [
    {
     "name": "stdout",
     "output_type": "stream",
     "text": [
      "...load xgb model from--> xgb_cls_tuned_pipe_wFT_200820.pkl\n"
     ]
    }
   ],
   "source": [
    "for file in os.listdir('./pkl'):\n",
    "    if 'xgb_cls_tuned_pipe_wFT_200820' in file:\n",
    "        print(\"...load xgb model from--> {}\".format(file))\n",
    "        xgb = joblib.load('./pkl/{}'.format(file))\n",
    "\n",
    "xgb_params = xgb.get_params()\n",
    "xgb_params = dict(xgb_params,**{'n_jobs'   : 15,\n",
    "                                'verbosity': 1})"
   ]
  },
  {
   "cell_type": "code",
   "execution_count": 7,
   "metadata": {
    "collapsed": true,
    "scrolled": true
   },
   "outputs": [],
   "source": []
  },
  {
   "cell_type": "code",
   "execution_count": 8,
   "metadata": {
    "scrolled": false
   },
   "outputs": [
    {
     "data": {
      "application/vnd.jupyter.widget-view+json": {
       "model_id": "7792d29269374be58f6ccd219a48d0ba"
      }
     },
     "metadata": {},
     "output_type": "display_data"
    },
    {
     "data": {
      "application/vnd.jupyter.widget-view+json": {
       "model_id": "5e24295f72a44d17b5cafeae09c74fb8"
      }
     },
     "metadata": {},
     "output_type": "display_data"
    },
    {
     "name": "stdout",
     "output_type": "stream",
     "text": [
      "...working with file--> part-00000-2d03538f-8fa5-4167-a3d3-892d5d91fc11-c000.csv\n",
      "...working with file--> part-00000-84586571-0a34-4fe6-a69d-5fc728f32ca9-c000.csv\n",
      "...working with file--> part-00000-337a96d8-98ce-4233-8ac2-5cfe844b5136-c000.csv\n",
      "...working with file--> part-00000-13989770-51d9-4a34-9486-f082520796ad-c000.csv\n",
      "\n",
      "...Start of incremental training #3\n",
      "...End of incremental training #3\n",
      "############################################################\n",
      "              precision    recall  f1-score   support\n",
      "\n",
      "           0    0.88890   0.92954   0.90877    213613\n",
      "           1    0.46193   0.34238   0.39327     37739\n",
      "\n",
      "    accuracy                        0.84138    251352\n",
      "   macro avg    0.67541   0.63596   0.65102    251352\n",
      "weighted avg    0.82479   0.84138   0.83137    251352\n",
      "\n",
      "Hold Out: \n",
      "Precision: 0.46193, Recall: 0.34238, F_1: 0.39327\n",
      "############################################################\n"
     ]
    },
    {
     "data": {
      "application/vnd.jupyter.widget-view+json": {
       "model_id": "90a824af5fa549498dfa3059436eb67f"
      }
     },
     "metadata": {},
     "output_type": "display_data"
    },
    {
     "name": "stdout",
     "output_type": "stream",
     "text": [
      "...working with file--> part-00000-a9770f0a-e8c6-43ae-854d-cd04c12522a4-c000.csv\n",
      "...working with file--> part-00000-b7624993-460a-40c2-966f-65b791eb9f35-c000.csv\n",
      "...working with file--> part-00000-bcd86821-0ebe-40d9-a2a9-e680a055186c-c000.csv\n",
      "\n",
      "...Start of incremental training #2\n",
      "...End of incremental training #2\n",
      "############################################################\n",
      "              precision    recall  f1-score   support\n",
      "\n",
      "           0    0.88832   0.92956   0.90847    160179\n",
      "           1    0.46014   0.33939   0.39065     28336\n",
      "\n",
      "    accuracy                        0.84085    188515\n",
      "   macro avg    0.67423   0.63448   0.64956    188515\n",
      "weighted avg    0.82396   0.84085   0.83064    188515\n",
      "\n",
      "Hold Out: \n",
      "Precision: 0.46014, Recall: 0.33939, F_1: 0.39065\n",
      "############################################################\n"
     ]
    },
    {
     "data": {
      "application/vnd.jupyter.widget-view+json": {
       "model_id": "a3f2dc71010c4dfab140b8f39769e067"
      }
     },
     "metadata": {},
     "output_type": "display_data"
    },
    {
     "name": "stdout",
     "output_type": "stream",
     "text": [
      "...working with file--> part-00000-05b80dce-e559-4fcc-b46d-c21e8755fdcd-c000.csv\n",
      "...working with file--> part-00000-5799ae44-0b33-460d-9690-09856f9ae02b-c000.csv\n",
      "...working with file--> part-00000-70b4cb69-d6ab-4d11-9948-cda8eb654782-c000.csv\n",
      "\n",
      "...Start of incremental training #2\n",
      "...End of incremental training #2\n",
      "############################################################\n",
      "              precision    recall  f1-score   support\n",
      "\n",
      "           0    0.88955   0.93028   0.90946    160165\n",
      "           1    0.46867   0.34742   0.39904     28349\n",
      "\n",
      "    accuracy                        0.84263    188514\n",
      "   macro avg    0.67911   0.63885   0.65425    188514\n",
      "weighted avg    0.82626   0.84263   0.83270    188514\n",
      "\n",
      "Hold Out: \n",
      "Precision: 0.46867, Recall: 0.34742, F_1: 0.39904\n",
      "############################################################\n",
      "\n",
      "CPU times: user 3h 17min 53s, sys: 16min 33s, total: 3h 34min 27s\n",
      "Wall time: 1h 3min 54s\n"
     ]
    }
   ],
   "source": [
    "%%time\n",
    "num_part = 3\n",
    "filelist = list(set(filelist) - set(['df_cols']))\n",
    "batches = np.array_split(np.arange(len(filelist)),num_part)\n",
    "cls = XGBClassifier(**xgb_params)\n",
    "\n",
    "for batch in tqdm_notebook(batches, total=len(batches)):\n",
    "    \n",
    "    df = pd.read_csv(filepath_or_buffer = path+filelist[1], \n",
    "                     sep = ';', nrows=0, \n",
    "                     engine='python',\n",
    "                     dtype = dict({col: np.float32 for col in cols if col not in ('target')}, **{'target' : np.int32})\n",
    "                     )     \n",
    "    \n",
    "    items = list(map(filelist.__getitem__,batch))\n",
    "    for i, data in tqdm_notebook(enumerate(items), total=len(items)):\n",
    "        if data.endswith('csv'):\n",
    "            print(\"...working with file--> {}\".format(data))\n",
    "            dftmp = pd.read_csv(filepath_or_buffer = path+data, \n",
    "                             sep = ';', nrows=None, \n",
    "                             engine='python',\n",
    "                             dtype = dict({col: np.float32 for col in cols if col not in ('target')}, **{'target' : np.int32})\n",
    "                             ) \n",
    "            \n",
    "            df = pd.concat([df,dftmp], ignore_index=True)\n",
    "            del dftmp            \n",
    "\n",
    "    zero_std_cols = df.columns[df.std(axis=0) == 0.].values.tolist()\n",
    "    df.drop(columns=zero_std_cols, axis=1, inplace=True)\n",
    "\n",
    "\n",
    "    print(\"...Start of incremental training #{}\".format(i)) \n",
    "    X_train, X_test, y_train, y_test = \\\n",
    "    train_test_split(df.drop(['target'], axis=1), df.target,\n",
    "                     stratify = df.target,\n",
    "                     random_state=42, shuffle=True, test_size=0.1)\n",
    "\n",
    "    xgb_params = dict(xgb_params,**{'n_jobs'   : 45,\n",
    "                                    'verbosity': 1,\n",
    "                                    'update':'refresh',\n",
    "                                    'process_type':'default',\n",
    "                                    'refresh_leaf':True,                                    \n",
    "                                    'xgb_model': cls})\n",
    "\n",
    "    del df\n",
    "    gc.collect()\n",
    "\n",
    "#     X_train = X_train.astype(dtype=np.float32)\n",
    "    cls = XGBClassifier(**xgb_params)  \n",
    "    cls.fit(X_train, y_train)\n",
    "\n",
    "    del X_train, y_train\n",
    "    gc.collect()\n",
    "\n",
    "    print(\"...End of incremental training #{}\".format(i))\n",
    "    print(\"#\"*60)   \n",
    "    X_test = X_test.astype(dtype=np.float32)\n",
    "    y_proba = cls.predict_proba(X_test)[:,1]\n",
    "\n",
    "    del X_test\n",
    "    gc.collect()\n",
    "\n",
    "    y_pred = binarize(y_proba.reshape(-1, 1), threshold=0.28).reshape(-1)\n",
    "    recall_ts, precision_ts, f1_ts =  get_metrics(y_pred.astype(int), y_test.astype(int))\n",
    "    print('Hold Out: ')\n",
    "    print(\"Precision: {:7.5f}, Recall: {:7.5f}, F_1: {:7.5f}\".format(precision_ts, recall_ts, f1_ts))\n",
    "    print(\"#\"*60)\n",
    "\n",
    "    del y_test, y_pred\n",
    "    gc.collect()"
   ]
  },
  {
   "cell_type": "code",
   "execution_count": null,
   "metadata": {
    "collapsed": true
   },
   "outputs": [],
   "source": []
  },
  {
   "cell_type": "code",
   "execution_count": null,
   "metadata": {
    "collapsed": true
   },
   "outputs": [],
   "source": []
  }
 ],
 "metadata": {
  "kernelspec": {
   "display_name": "Python 3",
   "language": "python",
   "name": "python3"
  },
  "language_info": {
   "codemirror_mode": {
    "name": "ipython",
    "version": 3
   },
   "file_extension": ".py",
   "mimetype": "text/x-python",
   "name": "python",
   "nbconvert_exporter": "python",
   "pygments_lexer": "ipython3",
   "version": "3.7.4"
  }
 },
 "nbformat": 4,
 "nbformat_minor": 2
}
