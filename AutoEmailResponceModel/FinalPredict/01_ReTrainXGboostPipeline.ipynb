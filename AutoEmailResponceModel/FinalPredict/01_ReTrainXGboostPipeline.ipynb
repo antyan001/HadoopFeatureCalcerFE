{
 "cells": [
  {
   "cell_type": "code",
   "execution_count": 1,
   "metadata": {
    "collapsed": true
   },
   "outputs": [],
   "source": [
    "%load_ext autoreload\n",
    "%autoreload 2"
   ]
  },
  {
   "cell_type": "code",
   "execution_count": 2,
   "metadata": {
    "collapsed": true,
    "scrolled": true
   },
   "outputs": [],
   "source": [
    "import os\n",
    "import sys\n",
    "import warnings\n",
    "warnings.filterwarnings('ignore')\n",
    "\n",
    "from collections import OrderedDict\n",
    "from pathlib import Path\n",
    "import pandas as pd \n",
    "import numpy as np\n",
    "import re \n",
    "import joblib\n",
    "import gc\n",
    "from time import sleep\n",
    "\n",
    "pd.set_option('display.float_format', lambda x: '%.3f' % x)\n",
    "pd.set_option('display.max_colwidth', -1)\n",
    "pd.set_option('display.max_rows', None)\n",
    "pd.set_option('display.max_columns', None)\n",
    "\n",
    "curruser = os.environ.get('USER')\n",
    "\n",
    "isUseOptWorkspace = False\n",
    "sys.path.insert(0, './../src')\n",
    "\n",
    "if isUseOptWorkspace:\n",
    "    sys.path.insert(0, '/opt/workspace/{}/notebooks/ecom_model/src/'.format(curruser))\n",
    "    sys.path.insert(0, '/opt/workspace/{}/notebooks/support_library/'.format(curruser)) \n",
    "    sys.path.insert(0, '/opt/workspace/{}/libs/python3.5/site-packages/'.format(curruser))\n",
    "    sys.path.insert(0, '/opt/workspace/{}/notebooks/labdata/lib/'.format(curruser))\n",
    "else:\n",
    "    sys.path.insert(0, '/home/{}/notebooks/ecom_model/src/'.format(curruser))\n",
    "    sys.path.insert(0, '/home/{}/notebooks/support_library/'.format(curruser)) \n",
    "    sys.path.insert(0, '/home/{}/python35-libs/lib/python3.5/site-packages/'.format(curruser))\n",
    "    sys.path.insert(0, '/home/{}/notebooks/labdata/lib/'.format(curruser))\n",
    "\n",
    "from plot import Plot\n",
    "from preprosessing import Preproc\n",
    "from corpora_transform_main import TfIdfFastTextEmbedVectorizer\n",
    "\n",
    "# from tqdm import tqdm\n",
    "# from tqdm._tqdm_notebook import tqdm_notebook\n",
    "# tqdm_notebook.pandas()\n",
    "\n",
    "from spark_connector import SparkConnector\n",
    "from sparkdb_loader import spark\n",
    "# from spark_helper import SparkHelper\n",
    "from connector import OracleDB\n",
    "import pyspark\n",
    "from pyspark import SparkContext, SparkConf, HiveContext, SparkFiles\n",
    "from pyspark.sql import functions as f\n",
    "from pyspark.sql.window import Window\n",
    "from pyspark.sql.types import *\n",
    "from pyspark.sql.dataframe import DataFrame\n",
    "from pyspark.ml import Pipeline, PipelineModel\n",
    "from pyspark.ml.feature import StringIndexer\n",
    "\n",
    "import loader as load\n",
    "\n",
    "from corpora_process import utils\n",
    "from processing import Preproc_Response\n",
    "import time\n",
    "from tqdm import tqdm_notebook\n",
    "from datetime import datetime\n",
    "from dateutil.relativedelta import relativedelta\n",
    "\n",
    "from itertools import islice\n",
    "from multiprocessing import Pool, Process, JoinableQueue\n",
    "from multiprocessing.pool import ThreadPool\n",
    "from functools import partial\n",
    "import numpy as np\n",
    "import subprocess\n",
    "from threading import Thread\n",
    "from joblib import Parallel, delayed\n",
    "\n",
    "from gensim.models.fasttext import FastText as FT_gensim\n",
    "from gensim.corpora import Dictionary\n",
    "from gensim import corpora\n",
    "from gensim.models import TfidfModel\n",
    "from gensim.test.utils import datapath\n",
    "from gensim.utils import tokenize\n",
    "from gensim.test.utils import common_texts"
   ]
  },
  {
   "cell_type": "code",
   "execution_count": 3,
   "metadata": {
    "collapsed": true
   },
   "outputs": [],
   "source": [
    "def drop_col(df, cols: list):\n",
    "    scol = sdf.columns\n",
    "    final_cols = [i for i in scol if i not in cols]\n",
    "    return df.select(*final_cols)\n",
    "\n",
    "def show(self, n=10):\n",
    "    return self.limit(n).toPandas()\n",
    "pyspark.sql.dataframe.DataFrame.show = show"
   ]
  },
  {
   "cell_type": "code",
   "execution_count": 4,
   "metadata": {
    "scrolled": false
   },
   "outputs": [
    {
     "name": "stdout",
     "output_type": "stream",
     "text": [
      "2.4.0.cloudera2\n",
      "CPU times: user 28.1 ms, sys: 28.5 ms, total: 56.6 ms\n",
      "Wall time: 22.3 s\n"
     ]
    }
   ],
   "source": [
    "%%time\n",
    "sp = spark(schema='sbx_team_digitcamp', \n",
    "           sparkVersion='2.2',\n",
    "           dynamic_alloc=False,\n",
    "           numofinstances=35, \n",
    "           numofcores=8,\n",
    "           kerberos_auth=False) \n",
    "print(sp.sc.version)\n",
    "hive = sp.sql"
   ]
  },
  {
   "cell_type": "markdown",
   "metadata": {},
   "source": [
    "### Collect all user responses for the whole historical period"
   ]
  },
  {
   "cell_type": "code",
   "execution_count": 5,
   "metadata": {
    "collapsed": true
   },
   "outputs": [],
   "source": [
    "all_sdf = hive.sql('''\n",
    "with\n",
    "--v0.0.7\n",
    "--04.12.2019 19:20\n",
    "w_resp as(\n",
    "      select \n",
    "        regexp_extract(organization_id, '(\\\\\\\\d{10,12})(?:_)') as inn,\n",
    "        regexp_extract(organization_id, '(?:_)(\\\\\\\\d{3,})')    as kpp,\n",
    "        organization_id,\n",
    "        concat_ws('_', organization_id, resp_tracking_cd) as custid_value,\n",
    "        campaign_nm,\n",
    "        response_dttm,\n",
    "        response,\n",
    "        load_dt\n",
    "        \n",
    "       from sbx_team_digitcamp.sme_cdm_v_response\n",
    "      where lower(response) rlike '^(?=.*sendsay)(?!.*(ошиб|отпис|спам|не удалось|в процессе|доставлено)).*' \n",
    "        --and load_dt <= timestamp('%s')\n",
    "        --and organization_id like '%6446004324%'  \n",
    "        --and organization_id like '%6454010956%'\n",
    "        \n",
    "),\n",
    "w_send as (\n",
    "    select \n",
    "      regexp_extract(organization_id, '(\\\\\\\\d{10,12})(?:_)') as inn,\n",
    "      regexp_extract(organization_id, '(?:_)(\\\\\\\\d{3,})') as kpp,\n",
    "      organization_id,\n",
    "      tracking_id as custid_value,\n",
    "      campaign_nm,\n",
    "      int_update_dttm as response_dttm,\n",
    "      'SendSay. Сообщение доставлено' as response,\n",
    "      load_dt,\n",
    "      email, email_subject,\n",
    "      customer_text_01, customer_text_02, customer_text_03, customer_text_04, customer_text_05,\n",
    "      customer_text_06, customer_text_07, customer_text_08, customer_text_09, customer_text_10,\n",
    "      customer_text_11, customer_text_12, customer_text_13, customer_text_14, customer_text_15,\n",
    "      customer_text_16, customer_text_17, customer_text_18, customer_text_19, customer_text_20,\n",
    "      message_title\n",
    "    from sbx_team_digitcamp.sme_email_to_sendsay\n",
    "   where 1=1\n",
    "     --and load_dt <= timestamp('%s')\n",
    "     --and organization_id like '%6446004324%'  \n",
    "     --and organization_id like '%6454010956%'\n",
    "),\n",
    "w_only_send as (\n",
    "    select s.* from (select distinct organization_id from w_resp) r\n",
    "        left join w_send s on r.organization_id = s.organization_id \n",
    "),\n",
    "w_base as(\n",
    "    select * from \n",
    "    (--text columns in line for response\n",
    "        select \n",
    "         row_number() over (partition by r.organization_id, r.campaign_nm, r.response_dttm, r.response order by r.response_dttm) as rn,\n",
    "         r.inn, r.kpp, r.organization_id, r.custid_value, r.campaign_nm, r.response_dttm, r.response,\n",
    "         r.load_dt,\n",
    "         s.email, s.email_subject,\n",
    "         s.customer_text_01, s.customer_text_02, s.customer_text_03, s.customer_text_04, s.customer_text_05,\n",
    "         s.customer_text_06, s.customer_text_07, s.customer_text_08, s.customer_text_09, s.customer_text_10,\n",
    "         s.customer_text_11, s.customer_text_12, s.customer_text_13, s.customer_text_14, s.customer_text_15,\n",
    "         s.customer_text_16, s.customer_text_17, s.customer_text_18, s.customer_text_19, s.customer_text_20,\n",
    "         s.message_title\n",
    "        from w_resp r\n",
    "        left join w_only_send s on r.organization_id = s.organization_id\n",
    "                              and r.campaign_nm = s.campaign_nm                 \n",
    "         where length(r.inn) >=10\n",
    "        ) where rn = 1\n",
    "    \n",
    "    union\n",
    "\n",
    "    select '' as rn, * from w_only_send\n",
    "     where length(inn) >=10\n",
    ")\n",
    "select \n",
    "       inn\n",
    "      ,kpp \n",
    "      ,campaign_nm \n",
    "      ,organization_id\n",
    "      ,custid_value\n",
    "      ,response_dttm\n",
    "      ,response\n",
    "      ,date_format(response_dttm, 'yyyy-MM-dd') as asday\n",
    "      ,date_format(last_day(response_dttm), 'yyyy-MM-dd') as last_day\n",
    "      ,date_format(response_dttm, 'HH:mm:ss') as astime\n",
    "      ,date_format(response_dttm, 'HH') as ashour\n",
    "      ,date_format(response_dttm, 'EEEE') as asdayname\n",
    "      ,load_dt\n",
    "      ,email\n",
    "      ,email_subject,\n",
    "      customer_text_01, customer_text_02, customer_text_03, customer_text_04, customer_text_05,\n",
    "      customer_text_06, customer_text_07, customer_text_08, customer_text_09, customer_text_10,\n",
    "      customer_text_11, customer_text_12, customer_text_13, customer_text_14, customer_text_15,\n",
    "      customer_text_16, customer_text_17, customer_text_18, customer_text_19, customer_text_20,\n",
    "      message_title    \n",
    "from w_base   \n",
    "''') #% (max_load_dt_str, max_load_dt_str))"
   ]
  },
  {
   "cell_type": "markdown",
   "metadata": {},
   "source": [
    "### Collect a list of daytime values based on the distinct values of `last_day` column"
   ]
  },
  {
   "cell_type": "code",
   "execution_count": 6,
   "metadata": {},
   "outputs": [
    {
     "data": {
      "text/plain": [
       "datetime.datetime(2020, 7, 31, 0, 0)"
      ]
     },
     "execution_count": 6,
     "metadata": {},
     "output_type": "execute_result"
    }
   ],
   "source": [
    "last_day_rows = all_sdf.select('last_day').distinct().collect()\n",
    "last_day_lst = [day['last_day'] for day in last_day_rows if day['last_day'] is not None]\n",
    "last_day_dt = sorted([datetime.strptime(day_str, '%Y-%m-%d') for day_str in last_day_lst])\n",
    "\n",
    "last_day_dt[-1]"
   ]
  },
  {
   "cell_type": "markdown",
   "metadata": {},
   "source": [
    "### TRAIN sampling "
   ]
  },
  {
   "cell_type": "code",
   "execution_count": 7,
   "metadata": {
    "collapsed": true
   },
   "outputs": [],
   "source": [
    "tr_sdf = all_sdf.filter((f.col('response_dttm') > last_day_dt[-4])&(f.col('response_dttm') < last_day_dt[-2]))"
   ]
  },
  {
   "cell_type": "markdown",
   "metadata": {},
   "source": [
    "## Find min value of `response_dttm` in Train dataset"
   ]
  },
  {
   "cell_type": "code",
   "execution_count": 8,
   "metadata": {},
   "outputs": [
    {
     "data": {
      "text/plain": [
       "datetime.datetime(2020, 4, 30, 5, 30, 19)"
      ]
     },
     "execution_count": 8,
     "metadata": {},
     "output_type": "execute_result"
    }
   ],
   "source": [
    "resp_dttm_min = tr_sdf.select(f.min('response_dttm')).collect()\n",
    "resp_dttm_min_str = resp_dttm_min[0]['min(response_dttm)']\n",
    "resp_dttm_min_str"
   ]
  },
  {
   "cell_type": "markdown",
   "metadata": {},
   "source": [
    "## Roll back by 3 month from the min value of `last_open_time` and generate a temp dataframe for feature generation process"
   ]
  },
  {
   "cell_type": "code",
   "execution_count": 9,
   "metadata": {
    "collapsed": true
   },
   "outputs": [],
   "source": [
    "sendsay_delivered = 'SendSay. Сообщение доставлено'\n",
    "sendsay_openpage  = 'SendSay. Открытие страницы'\n",
    "sendsay_openlink  = 'SendSay. Переход по ссылке' "
   ]
  },
  {
   "cell_type": "code",
   "execution_count": 10,
   "metadata": {
    "collapsed": true
   },
   "outputs": [],
   "source": [
    "tr_sdf = tr_sdf \\\n",
    "        .withColumn('first_send_time', \n",
    "                    f.min(f.when(f.col('response') == sendsay_delivered, f.col('response_dttm')).otherwise(None))\\\n",
    "                    .over(Window.partitionBy('inn', 'kpp', 'campaign_nm')))\\\n",
    "        .withColumn('last_send_time', \n",
    "                    f.max(f.when(f.col('response') == sendsay_delivered, f.col('response_dttm')).otherwise(None))\\\n",
    "                    .over(Window.partitionBy('inn', 'kpp', 'campaign_nm')))\\\n",
    "        .withColumn('first_open_time', \n",
    "                    f.min(f.when((f.col('response') == sendsay_openpage), f.col('response_dttm')).otherwise(None))\\\n",
    "                    .over(Window.partitionBy('inn', 'kpp', 'campaign_nm')))\\\n",
    "        .withColumn('last_open_time', \n",
    "                    f.max(f.when((f.col('response') == sendsay_openpage), f.col('response_dttm')).otherwise(None))\\\n",
    "                    .over(Window.partitionBy('inn', 'kpp', 'campaign_nm')))\\\n",
    "        .withColumn('first_click_time', \n",
    "                    f.min(f.when((f.col('response') == sendsay_openlink), f.col('response_dttm')).otherwise(None))\\\n",
    "                    .over(Window.partitionBy('inn', 'kpp', 'campaign_nm')))\\\n",
    "        .withColumn('last_click_time', \n",
    "                    f.max(f.when((f.col('response') == sendsay_openlink),f.col('response_dttm')).otherwise(None))\\\n",
    "                                      .over(Window.partitionBy('inn', 'kpp', 'campaign_nm')))"
   ]
  },
  {
   "cell_type": "code",
   "execution_count": 11,
   "metadata": {},
   "outputs": [
    {
     "data": {
      "text/plain": [
       "datetime.date(2019, 12, 31)"
      ]
     },
     "execution_count": 11,
     "metadata": {},
     "output_type": "execute_result"
    }
   ],
   "source": [
    "shiftd = 90\n",
    "shift_back  = tr_sdf.select(f.last_day(f.add_months(f.trunc(f.from_unixtime(f.unix_timestamp(f.min('last_open_time')) - shiftd*24*60*60),'MM'),-1)).alias('monthback')).collect()\n",
    "shift_back  = shift_back[0]['monthback']\n",
    "shift_back"
   ]
  },
  {
   "cell_type": "code",
   "execution_count": 12,
   "metadata": {
    "collapsed": true
   },
   "outputs": [],
   "source": [
    "train_sdf = all_sdf.filter((f.col('response_dttm') >= shift_back)&(f.col('response_dttm') < last_day_dt[-2]))"
   ]
  },
  {
   "cell_type": "markdown",
   "metadata": {},
   "source": [
    "### TARGET sampling"
   ]
  },
  {
   "cell_type": "code",
   "execution_count": 13,
   "metadata": {
    "collapsed": true
   },
   "outputs": [],
   "source": [
    "target_sdf = all_sdf.filter((f.col('response_dttm') > last_day_dt[-2]) & \n",
    "                            (f.col('response_dttm') < last_day_dt[-1]))\\\n",
    "                    .select(f.col('inn').alias('inn_'),\n",
    "                            f.col('kpp').alias('kpp_'),\n",
    "                            f.col('campaign_nm').alias('campaign_nm_'),\n",
    "                            f.col('email').alias('email_'),\n",
    "                            f.col('response').alias('response_'),\n",
    "                            f.col('response_dttm').alias('response_dttm_'))"
   ]
  },
  {
   "cell_type": "code",
   "execution_count": 14,
   "metadata": {
    "collapsed": true
   },
   "outputs": [],
   "source": [
    "target_sdf =\\\n",
    "target_sdf.withColumn('target', f.when(f.col('response_') == 'SendSay. Находится в стоп-листе',-1)\\\n",
    "                                 .when(f.col('response_') == 'SendSay. Сообщение доставлено',0)\\\n",
    "                                 .when(f.col('response_') == 'SendSay. Открытие страницы',1)\\\n",
    "                                 .when(f.col('response_') == 'SendSay. Переход по ссылке',2)\\\n",
    "                                 .otherwise(-1))"
   ]
  },
  {
   "cell_type": "markdown",
   "metadata": {},
   "source": [
    "### Join train with target"
   ]
  },
  {
   "cell_type": "code",
   "execution_count": 15,
   "metadata": {
    "collapsed": true
   },
   "outputs": [],
   "source": [
    "cols = train_sdf.columns+['target']\n",
    "\n",
    "cond = [train_sdf.inn         == target_sdf.inn_, \n",
    "        train_sdf.kpp         == target_sdf.kpp_,\n",
    "        #train_sdf.campaign_nm == target_sdf.campaign_nm_,\n",
    "        train_sdf.email       == target_sdf.email_,\n",
    "        #train_sdf.response    == target_sdf.response_,\n",
    "        #train_sdf.response_dttm == target_sdf.response_dttm_\n",
    "       ]\n",
    "\n",
    "sdf = train_sdf.join(target_sdf, on=cond, how='left_outer')\n",
    "sdf = sdf.select(*cols)"
   ]
  },
  {
   "cell_type": "code",
   "execution_count": 16,
   "metadata": {
    "collapsed": true
   },
   "outputs": [],
   "source": [
    "sdf = sdf.dropDuplicates().filter(\"target is not Null\")"
   ]
  },
  {
   "cell_type": "code",
   "execution_count": 17,
   "metadata": {},
   "outputs": [
    {
     "data": {
      "text/plain": [
       "DataFrame[inn: string, kpp: string, campaign_nm: string, organization_id: string, custid_value: string, response_dttm: timestamp, response: string, asday: string, last_day: string, astime: string, ashour: string, asdayname: string, load_dt: timestamp, email: string, email_subject: string, customer_text_01: string, customer_text_02: string, customer_text_03: string, customer_text_04: string, customer_text_05: string, customer_text_06: string, customer_text_07: string, customer_text_08: string, customer_text_09: string, customer_text_10: string, customer_text_11: string, customer_text_12: string, customer_text_13: string, customer_text_14: string, customer_text_15: string, customer_text_16: string, customer_text_17: string, customer_text_18: string, customer_text_19: string, customer_text_20: string, message_title: string, target: int]"
      ]
     },
     "execution_count": 17,
     "metadata": {},
     "output_type": "execute_result"
    }
   ],
   "source": [
    "sdf.cache()"
   ]
  },
  {
   "cell_type": "code",
   "execution_count": 18,
   "metadata": {},
   "outputs": [
    {
     "data": {
      "text/plain": [
       "40981213"
      ]
     },
     "execution_count": 18,
     "metadata": {},
     "output_type": "execute_result"
    }
   ],
   "source": [
    "sdf.count()"
   ]
  },
  {
   "cell_type": "markdown",
   "metadata": {},
   "source": [
    "# Main Features Generation Pipeline"
   ]
  },
  {
   "cell_type": "markdown",
   "metadata": {},
   "source": [
    "## Find inactive users (users without any open/click activity among overall history of communication) "
   ]
  },
  {
   "cell_type": "code",
   "execution_count": 19,
   "metadata": {
    "collapsed": true
   },
   "outputs": [],
   "source": [
    "sdf = sdf \\\n",
    "        .withColumn('first_send_time', \n",
    "                    f.min(f.when(f.col('response') == sendsay_delivered, f.col('response_dttm')).otherwise(None))\\\n",
    "                    .over(Window.partitionBy('inn', 'kpp', 'campaign_nm')))\\\n",
    "        .withColumn('last_send_time', \n",
    "                    f.max(f.when(f.col('response') == sendsay_delivered, f.col('response_dttm')).otherwise(None))\\\n",
    "                    .over(Window.partitionBy('inn', 'kpp', 'campaign_nm')))\\\n",
    "        .withColumn('first_open_time', \n",
    "                    f.min(f.when((f.col('response') == sendsay_openpage), f.col('response_dttm')).otherwise(None))\\\n",
    "                    .over(Window.partitionBy('inn', 'kpp', 'campaign_nm')))\\\n",
    "        .withColumn('last_open_time', \n",
    "                    f.max(f.when((f.col('response') == sendsay_openpage), f.col('response_dttm')).otherwise(None))\\\n",
    "                    .over(Window.partitionBy('inn', 'kpp', 'campaign_nm')))\\\n",
    "        .withColumn('first_click_time', \n",
    "                    f.min(f.when((f.col('response') == sendsay_openlink), f.col('response_dttm')).otherwise(None))\\\n",
    "                    .over(Window.partitionBy('inn', 'kpp', 'campaign_nm')))\\\n",
    "        .withColumn('last_click_time', \n",
    "                    f.max(f.when((f.col('response') == sendsay_openlink),f.col('response_dttm')).otherwise(None))\\\n",
    "                                      .over(Window.partitionBy('inn', 'kpp', 'campaign_nm')))"
   ]
  },
  {
   "cell_type": "code",
   "execution_count": 20,
   "metadata": {
    "collapsed": true
   },
   "outputs": [],
   "source": [
    "inactive_freshhold_min = 2\n",
    "inactive_freshhold_max = 20"
   ]
  },
  {
   "cell_type": "code",
   "execution_count": 21,
   "metadata": {
    "collapsed": true
   },
   "outputs": [],
   "source": [
    "sdf = sdf.withColumn('sum_open_click', \n",
    "                     f.sum(f.when((f.col('response') == sendsay_openpage)|\\\n",
    "                                  (f.col('response') == sendsay_openlink),1).otherwise(0))\\\n",
    "                                                           .over(Window.partitionBy('inn', 'kpp', 'email')))\n",
    "\n",
    "sdf = sdf.withColumn('sum_open_click_camp', \n",
    "                     f.sum(f.when((f.col('response') == sendsay_openpage)|\\\n",
    "                                  (f.col('response') == sendsay_openlink),1).otherwise(0))\\\n",
    "                                                           .over(Window.partitionBy('inn', 'kpp', 'campaign_nm', 'email')))\n",
    "\n",
    "sdf = sdf.withColumn('delivery_all_cnt', \n",
    "                                         f.sum((f.col('response') == sendsay_delivered).cast('integer')) \\\n",
    "                                          .over(Window.partitionBy('inn', 'kpp', 'email')).cast('integer'))"
   ]
  },
  {
   "cell_type": "code",
   "execution_count": 22,
   "metadata": {
    "collapsed": true
   },
   "outputs": [],
   "source": [
    "sdf = sdf.withColumn('fresh_user', f.when((f.col('sum_open_click') == 0) & \n",
    "                                          (f.col('delivery_all_cnt') <= inactive_freshhold_min), 1)\\\n",
    "                                    .when((f.col('sum_open_click') == 0) & \n",
    "                                          (f.col('delivery_all_cnt') > inactive_freshhold_min), 2).otherwise(0))"
   ]
  },
  {
   "cell_type": "code",
   "execution_count": 23,
   "metadata": {
    "collapsed": true
   },
   "outputs": [],
   "source": [
    "sdf = sdf.drop(*['delivery_all_cnt','sum_open_click'])"
   ]
  },
  {
   "cell_type": "markdown",
   "metadata": {},
   "source": [
    "### Retrospective Features Generation Pipeline"
   ]
  },
  {
   "cell_type": "markdown",
   "metadata": {},
   "source": [
    "- total biased time events (non-cumulated)"
   ]
  },
  {
   "cell_type": "code",
   "execution_count": 24,
   "metadata": {
    "collapsed": true
   },
   "outputs": [],
   "source": [
    "daysback = 30\n",
    "\n",
    "for i in range(1,4):\n",
    "    \n",
    "    dttm_left = f.from_unixtime(f.unix_timestamp(f.col('last_send_time')) - daysback*(i)*24*60*60, \n",
    "                                'yyyy-MM-dd HH:mm:ss').cast(TimestampType())\n",
    "\n",
    "    dttm_right = f.from_unixtime(f.unix_timestamp(f.col('last_send_time')) - daysback*(i-1)*24*60*60, \n",
    "                                 'yyyy-MM-dd HH:mm:ss').cast(TimestampType())    \n",
    "    \n",
    "    sdf = sdf \\\n",
    "            .withColumn('first_send_time_m{}1'.format(str(i)), \n",
    "                        f.min(f.when((f.col('response') == sendsay_delivered) &\\\n",
    "                                     ((f.col('response_dttm')> dttm_left) &\\\n",
    "                                      (f.col('response_dttm')<=dttm_right)), f.col('response_dttm'))\\\n",
    "                                    .otherwise(None))\\\n",
    "                        .over(Window.partitionBy('inn', 'kpp', 'campaign_nm', 'email')))\\\n",
    "            .withColumn('last_send_time_m{}1'.format(str(i)), \n",
    "                        f.max(f.when((f.col('response') == sendsay_delivered) &\\\n",
    "                                     ((f.col('response_dttm')> dttm_left) &\\\n",
    "                                      (f.col('response_dttm')<=dttm_right)), f.col('response_dttm'))\\\n",
    "                                    .otherwise(None))\\\n",
    "                        .over(Window.partitionBy('inn', 'kpp', 'campaign_nm', 'email')))\n",
    "\n",
    "for i in range(1,4):            \n",
    "\n",
    "    dttm_left = f.from_unixtime(f.unix_timestamp(f.col('last_open_time')) - daysback*(i)*24*60*60, \n",
    "                                'yyyy-MM-dd HH:mm:ss').cast(TimestampType())\n",
    "\n",
    "    dttm_right = f.from_unixtime(f.unix_timestamp(f.col('last_open_time')) - daysback*(i-1)*24*60*60, \n",
    "                                 'yyyy-MM-dd HH:mm:ss').cast(TimestampType())\n",
    "\n",
    "    sdf = sdf \\\n",
    "            .withColumn('first_open_time_m{}1'.format(str(i)), \n",
    "                        f.min(f.when((f.col('response') == sendsay_openpage) &\\\n",
    "                                     (f.col('fresh_user')==0)&\\\n",
    "                                     ((f.col('response_dttm')> dttm_left) &\\\n",
    "                                      (f.col('response_dttm')<=dttm_right)), f.col('response_dttm'))\\\n",
    "                                    .otherwise(None))\\\n",
    "                        .over(Window.partitionBy('inn', 'kpp', 'campaign_nm', 'email')))\\\n",
    "            .withColumn('last_open_time_m{}1'.format(str(i)), \n",
    "                        f.max(f.when((f.col('response') == sendsay_openpage) &\\\n",
    "                                     (f.col('fresh_user')==0)&\\\n",
    "                                     ((f.col('response_dttm')> dttm_left) &\\\n",
    "                                      (f.col('response_dttm')<=dttm_right)), f.col('response_dttm'))\\\n",
    "                                    .otherwise(None))\\\n",
    "                        .over(Window.partitionBy('inn', 'kpp', 'campaign_nm', 'email')))\n",
    "            \n",
    "for i in range(1,4):\n",
    "    \n",
    "    dttm_left = f.from_unixtime(f.unix_timestamp(f.col('last_click_time')) - daysback*(i)*24*60*60,\n",
    "                                'yyyy-MM-dd HH:mm:ss').cast(TimestampType())\n",
    "\n",
    "    dttm_right = f.from_unixtime(f.unix_timestamp(f.col('last_click_time')) - daysback*(i-1)*24*60*60,\n",
    "                                 'yyyy-MM-dd HH:mm:ss').cast(TimestampType())\n",
    "    \n",
    "    sdf = sdf \\\n",
    "            .withColumn('first_click_time_m{}1'.format(str(i)), \n",
    "                        f.min(f.when((f.col('response') == sendsay_openlink) &\\\n",
    "                                     (f.col('fresh_user')==0)&\\\n",
    "                                     ((f.col('response_dttm')> dttm_left) &\\\n",
    "                                      (f.col('response_dttm')<=dttm_right)), f.col('response_dttm'))\\\n",
    "                                    .otherwise(None))\\\n",
    "                        .over(Window.partitionBy('inn', 'kpp', 'campaign_nm', 'email')))\\\n",
    "            .withColumn('last_click_time_m{}1'.format(str(i)), \n",
    "                        f.max(f.when((f.col('response') == sendsay_openlink) &\\\n",
    "                                     (f.col('fresh_user')==0)&\\\n",
    "                                     ((f.col('response_dttm')> dttm_left) &\\\n",
    "                                      (f.col('response_dttm')<=dttm_right)), f.col('response_dttm'))\\\n",
    "                                    .otherwise(None))\\\n",
    "                        .over(Window.partitionBy('inn', 'kpp', 'campaign_nm', 'email')))"
   ]
  },
  {
   "cell_type": "markdown",
   "metadata": {},
   "source": [
    "## Calculate monthly biased time events with `status == sendsay_openpage`"
   ]
  },
  {
   "cell_type": "markdown",
   "metadata": {},
   "source": [
    "### All statistics"
   ]
  },
  {
   "cell_type": "markdown",
   "metadata": {},
   "source": [
    "- ACTIVE USERS: total biased time events (non-cumulated)"
   ]
  },
  {
   "cell_type": "code",
   "execution_count": 25,
   "metadata": {
    "collapsed": true
   },
   "outputs": [],
   "source": [
    "for i in range(1,4):\n",
    "    \n",
    "    dttm_left = f.from_unixtime(f.unix_timestamp(f.col('last_open_time')) - daysback*(i)*24*60*60, \n",
    "                                'yyyy-MM-dd HH:mm:ss').cast(TimestampType())\n",
    "\n",
    "    dttm_right = f.from_unixtime(f.unix_timestamp(f.col('last_open_time')) - daysback*(i-1)*24*60*60, \n",
    "                                 'yyyy-MM-dd HH:mm:ss').cast(TimestampType())     \n",
    "    sdf = sdf \\\n",
    "            .withColumn('last_open_all_cnt_m{}1'.format(str(i)), \n",
    "                        f.sum(f.when((f.col('response') == sendsay_openpage) &\\\n",
    "                                     (f.col('fresh_user')==0)&\\\n",
    "                                     ((f.col('response_dttm')> dttm_left) &\\\n",
    "                                      (f.col('response_dttm')<=dttm_right)), 1)\\\n",
    "                                                       .otherwise(0))\\\n",
    "                                                 .over(Window.partitionBy('inn', 'kpp', 'campaign_nm', 'email')).cast('integer'))"
   ]
  },
  {
   "cell_type": "markdown",
   "metadata": {},
   "source": [
    "### Daytime statistics"
   ]
  },
  {
   "cell_type": "markdown",
   "metadata": {},
   "source": [
    "- biased time events per day (non-cumulated)"
   ]
  },
  {
   "cell_type": "code",
   "execution_count": 26,
   "metadata": {
    "collapsed": true
   },
   "outputs": [],
   "source": [
    "for i in range(1,4):\n",
    "    \n",
    "    dttm_left = f.from_unixtime(f.unix_timestamp(f.col('last_open_time')) - daysback*(i)*24*60*60, \n",
    "                                'yyyy-MM-dd HH:mm:ss').cast(TimestampType())\n",
    "\n",
    "    dttm_right = f.from_unixtime(f.unix_timestamp(f.col('last_open_time')) - daysback*(i-1)*24*60*60, \n",
    "                                 'yyyy-MM-dd HH:mm:ss').cast(TimestampType())     \n",
    "    sdf = sdf \\\n",
    "            .withColumn('last_open_day_cnt_m{}1'.format(str(i)), \n",
    "                        f.sum(f.when((f.col('response') == sendsay_openpage) &\\\n",
    "                                     (f.col('fresh_user')==0)&\\\n",
    "                                     ((f.col('response_dttm')> dttm_left) &\\\n",
    "                                      (f.col('response_dttm')<=dttm_right)), 1)\\\n",
    "                                                       .otherwise(0))\\\n",
    "                                                 .over(Window.partitionBy('inn', 'kpp', 'campaign_nm', \n",
    "                                                                          'email', 'asdayname')).cast('integer'))"
   ]
  },
  {
   "cell_type": "markdown",
   "metadata": {},
   "source": [
    "## Calculate monthly biased time events with `status == sendsay_openlink`"
   ]
  },
  {
   "cell_type": "markdown",
   "metadata": {},
   "source": [
    "### All statistics"
   ]
  },
  {
   "cell_type": "markdown",
   "metadata": {},
   "source": [
    "- total biased time events (non-cumulated)"
   ]
  },
  {
   "cell_type": "code",
   "execution_count": 27,
   "metadata": {
    "collapsed": true
   },
   "outputs": [],
   "source": [
    "for i in range(1,4):\n",
    "    \n",
    "    dttm_left = f.from_unixtime(f.unix_timestamp(f.col('last_click_time')) - daysback*(i)*24*60*60, \n",
    "                                'yyyy-MM-dd HH:mm:ss').cast(TimestampType())\n",
    "\n",
    "    dttm_right = f.from_unixtime(f.unix_timestamp(f.col('last_click_time')) - daysback*(i-1)*24*60*60, \n",
    "                                 'yyyy-MM-dd HH:mm:ss').cast(TimestampType())    \n",
    "    \n",
    "    sdf = sdf \\\n",
    "            .withColumn('last_click_all_cnt_m{}1'.format(str(i)), \n",
    "                        f.sum(f.when((f.col('response') == sendsay_openlink) &\\\n",
    "                                     (f.col('fresh_user')==0)&\\\n",
    "                                     ((f.col('response_dttm')> dttm_left) &\\\n",
    "                                      (f.col('response_dttm')<=dttm_right)), 1)\\\n",
    "                                                       .otherwise(0))\\\n",
    "                                                 .over(Window.partitionBy('inn', 'kpp', 'campaign_nm', 'email')).cast('integer'))"
   ]
  },
  {
   "cell_type": "markdown",
   "metadata": {},
   "source": [
    "### Daytime statistics"
   ]
  },
  {
   "cell_type": "markdown",
   "metadata": {},
   "source": [
    "- biased time events per day (non-cumulated)"
   ]
  },
  {
   "cell_type": "code",
   "execution_count": 28,
   "metadata": {
    "collapsed": true
   },
   "outputs": [],
   "source": [
    "for i in range(1,4):\n",
    "    \n",
    "    dttm_left = f.from_unixtime(f.unix_timestamp(f.col('last_click_time')) - daysback*(i)*24*60*60, \n",
    "                                'yyyy-MM-dd HH:mm:ss').cast(TimestampType())\n",
    "\n",
    "    dttm_right = f.from_unixtime(f.unix_timestamp(f.col('last_click_time')) - daysback*(i-1)*24*60*60, \n",
    "                                 'yyyy-MM-dd HH:mm:ss').cast(TimestampType())  \n",
    "    \n",
    "    sdf = sdf \\\n",
    "            .withColumn('last_click_day_cnt_m{}1'.format(str(i)), \n",
    "                        f.sum(f.when((f.col('response') == sendsay_openlink) &\\\n",
    "                                     (f.col('fresh_user')==0)&\\\n",
    "                                     ((f.col('response_dttm')> dttm_left) &\\\n",
    "                                      (f.col('response_dttm')<=dttm_right)), 1)\\\n",
    "                                                       .otherwise(0))\\\n",
    "                                                 .over(Window.partitionBy('inn', 'kpp', 'campaign_nm', \n",
    "                                                                          'email', 'asdayname')).cast('integer'))"
   ]
  },
  {
   "cell_type": "markdown",
   "metadata": {},
   "source": [
    "## Calculate time differences between events with `status == sendsay_openpage`"
   ]
  },
  {
   "cell_type": "code",
   "execution_count": 29,
   "metadata": {
    "collapsed": true
   },
   "outputs": [],
   "source": [
    "for i in range(1,4):\n",
    "    sdf = sdf \\\n",
    "            .withColumn('diff_lo_fo_m{}1'.format(str(i)), ((f.unix_timestamp('last_open_time_m{}1'.format(str(i))) -\n",
    "                                                                   f.unix_timestamp('first_open_time_m{}1'.format(str(i))))/60)\n",
    "                       )\\\n",
    "            .withColumn('diff_lo_fs_m{}1'.format(str(i)), ((f.unix_timestamp('last_open_time_m{}1'.format(str(i))) -\n",
    "                                                                   f.unix_timestamp('first_send_time_m{}1'.format(str(i))))/60)\n",
    "                       )\\\n",
    "            .withColumn('diff_lo_ls_m{}1'.format(str(i)), ((f.unix_timestamp('last_open_time_m{}1'.format(str(i))) -\n",
    "                                                                   f.unix_timestamp('last_send_time_m{}1'.format(str(i))))/60)\n",
    "                       )\\\n",
    "            .withColumn('diff_fo_fs_m{}1'.format(str(i)), ((f.unix_timestamp('first_open_time_m{}1'.format(str(i))) -\n",
    "                                                                   f.unix_timestamp('first_send_time_m{}1'.format(str(i))))/60)\n",
    "                       )\\\n",
    "            .withColumn('diff_fo_ls_m{}1'.format(str(i)), ((f.unix_timestamp('first_open_time_m{}1'.format(str(i))) -\n",
    "                                                                   f.unix_timestamp('last_send_time_m{}1'.format(str(i))))/60)\n",
    "                       )   "
   ]
  },
  {
   "cell_type": "markdown",
   "metadata": {},
   "source": [
    "## Calculate time differences between events with `status == sendsay_openlink`"
   ]
  },
  {
   "cell_type": "code",
   "execution_count": 30,
   "metadata": {
    "collapsed": true
   },
   "outputs": [],
   "source": [
    "for i in range(1,4):\n",
    "    sdf = sdf \\\n",
    "            .withColumn('diff_lcl_fcl_m{}1'.format(str(i)), ((f.unix_timestamp('last_click_time_m{}1'.format(str(i))) -\n",
    "                                                                     f.unix_timestamp('first_click_time_m{}1'.format(str(i))))/60)\n",
    "                       )\\\n",
    "            .withColumn('diff_lcl_fs_m{}1'.format(str(i)), ((f.unix_timestamp('last_click_time_m{}1'.format(str(i))) -\n",
    "                                                                    f.unix_timestamp('first_send_time_m{}1'.format(str(i))))/60)\n",
    "                       )\\\n",
    "            .withColumn('diff_lcl_ls_m{}1'.format(str(i)), ((f.unix_timestamp('last_click_time_m{}1'.format(str(i))) -\n",
    "                                                                    f.unix_timestamp('last_send_time_m{}1'.format(str(i))))/60)\n",
    "                       )\\\n",
    "            .withColumn('diff_lcl_fo_m{}1'.format(str(i)), ((f.unix_timestamp('last_click_time_m{}1'.format(str(i))) -\n",
    "                                                                    f.unix_timestamp('first_open_time_m{}1'.format(str(i))))/60)\n",
    "                       )\\\n",
    "            .withColumn('diff_lcl_lo_m{}1'.format(str(i)), ((f.unix_timestamp('last_click_time_m{}1'.format(str(i))) -\n",
    "                                                                    f.unix_timestamp('last_open_time_m{}1'.format(str(i))))/60)\n",
    "                       )   \n",
    "\n",
    "\n",
    "    sdf = sdf \\\n",
    "            .withColumn('diff_fcl_fs_m{}1'.format(str(i)), ((f.unix_timestamp('first_click_time_m{}1'.format(str(i))) -\n",
    "                                                                    f.unix_timestamp('first_send_time_m{}1'.format(str(i))))/60)\n",
    "                       )\\\n",
    "            .withColumn('diff_fcl_ls_m{}1'.format(str(i)), ((f.unix_timestamp('first_click_time_m{}1'.format(str(i))) -\n",
    "                                                                    f.unix_timestamp('last_send_time_m{}1'.format(str(i))))/60)\n",
    "                       )\\\n",
    "            .withColumn('diff_fcl_fo_m{}1'.format(str(i)), ((f.unix_timestamp('first_click_time_m{}1'.format(str(i))) -\n",
    "                                                                    f.unix_timestamp('first_open_time_m{}1'.format(str(i))))/60)\n",
    "                       )\\\n",
    "            .withColumn('diff_fcl_lo_m{}1'.format(str(i)), ((f.unix_timestamp('first_click_time_m{}1'.format(str(i))) -\n",
    "                                                                    f.unix_timestamp('last_open_time_m{}1'.format(str(i))))/60)\n",
    "                       )     "
   ]
  },
  {
   "cell_type": "markdown",
   "metadata": {},
   "source": [
    "## Calculate events regarding to `status == sendsay_delivered`"
   ]
  },
  {
   "cell_type": "markdown",
   "metadata": {},
   "source": [
    "- biased delivery count total (non-cumulated)"
   ]
  },
  {
   "cell_type": "code",
   "execution_count": 31,
   "metadata": {
    "collapsed": true
   },
   "outputs": [],
   "source": [
    "for i in range(1,4):\n",
    "    \n",
    "    dttm_left = f.from_unixtime(f.unix_timestamp(f.col('last_open_time')) - daysback*(i)*24*60*60, \n",
    "                                'yyyy-MM-dd HH:mm:ss').cast(TimestampType())\n",
    "\n",
    "    dttm_right = f.from_unixtime(f.unix_timestamp(f.col('last_open_time')) - daysback*(i-1)*24*60*60, \n",
    "                                 'yyyy-MM-dd HH:mm:ss').cast(TimestampType())     \n",
    "    \n",
    "    sdf = sdf \\\n",
    "            .withColumn('delivery_all_cnt_m{}1'.format(str(i)), \n",
    "                        f.sum(f.when((f.col('response') == sendsay_delivered) &\\\n",
    "                                     ((f.col('response_dttm')> dttm_left) &\\\n",
    "                                      (f.col('response_dttm')<=dttm_right)), 1)\\\n",
    "                                                       .otherwise(0))\\\n",
    "                                                 .over(Window.partitionBy('inn', 'kpp', 'campaign_nm', 'email')).cast('integer'))"
   ]
  },
  {
   "cell_type": "markdown",
   "metadata": {},
   "source": [
    "## Calculate overall/monthly `open_day_rate/click_day_rate`"
   ]
  },
  {
   "cell_type": "code",
   "execution_count": 32,
   "metadata": {
    "collapsed": true
   },
   "outputs": [],
   "source": [
    "def get_delivery_rate(triggered_count: int, delivery_count: int):\n",
    "    \"\"\"\n",
    "    Get the rate of success messages.\n",
    "    \"\"\"\n",
    "    if delivery_count == 0:\n",
    "        return 0.0\n",
    "    \n",
    "    delivery_rate = (triggered_count / delivery_count) * 100  # rate of success messages\n",
    "    return delivery_rate\n",
    "\n",
    "\n",
    "get_delivery_rate_udf = f.udf(get_delivery_rate, FloatType())"
   ]
  },
  {
   "cell_type": "markdown",
   "metadata": {},
   "source": [
    "- biased open/click rate total (non-cumulated)"
   ]
  },
  {
   "cell_type": "code",
   "execution_count": 33,
   "metadata": {
    "collapsed": true
   },
   "outputs": [],
   "source": [
    "for i in [str(ii) for ii in range(1,4)]:\n",
    "#     sdf = sdf.withColumn('open_day_rate_m'+i, get_delivery_rate_udf(\"last_open_time_sum_m\"+i, \"deliverycnt\"))\n",
    "    sdf = sdf.withColumn('open_on_dlv_all_rate_m'+i+'1', \n",
    "                         get_delivery_rate_udf(\"last_open_all_cnt_m\"+i+'1', \"delivery_all_cnt_m\"+i+'1'))\n",
    "#     sdf = sdf.withColumn('open_on_dlv_all_dist_rate_m'+i+'1', \n",
    "#                          get_delivery_rate_udf(\"last_open_all_cnt_dist_m\"+i+'1', \"delivery_all_cnt_m\"+i+'1'))\n",
    "#     sdf = sdf.withColumn('click_day_rate_m'+i, get_delivery_rate_udf(\"last_click_time_sum_m\"+i, \"deliverycnt\"))\n",
    "    sdf = sdf.withColumn('clk_on_dlv_all_rate_m'+i+'1', \n",
    "                         get_delivery_rate_udf(\"last_click_all_cnt_m\"+i+'1', \"delivery_all_cnt_m\"+i+'1'))\n",
    "#     sdf = sdf.withColumn('clk_on_dlv_all_dist_rate_m'+i+'1', \n",
    "#                          get_delivery_rate_udf(\"last_click_all_cnt_dist_m\"+i+'1', \"delivery_all_cnt_m\"+i+'1'))    \n",
    "    sdf = sdf.withColumn('clk_on_open_all_rate_m'+i+'1', \n",
    "                         get_delivery_rate_udf(\"last_click_all_cnt_m\"+i+'1', \"last_open_all_cnt_m\"+i+'1'))\n",
    "#     sdf = sdf.withColumn('clk_on_open_all_dist_rate_m'+i+'1', \n",
    "#                          get_delivery_rate_udf(\"last_click_all_cnt_dist_m\"+i+'1', \"last_open_all_cnt_dist_m\"+i+'1'))     "
   ]
  },
  {
   "cell_type": "markdown",
   "metadata": {},
   "source": [
    "- biased open/click rate per day (non-cumulated)"
   ]
  },
  {
   "cell_type": "code",
   "execution_count": 34,
   "metadata": {
    "collapsed": true
   },
   "outputs": [],
   "source": [
    "for i in [str(ii) for ii in range(1,4)]:\n",
    "#     sdf = sdf.withColumn('open_day_rate_m'+i, get_delivery_rate_udf(\"last_open_time_sum_m\"+i, \"deliverycnt\"))\n",
    "    sdf = sdf.withColumn('open_on_dlv_day_rate_m'+i+'1', \n",
    "                         get_delivery_rate_udf(\"last_open_day_cnt_m\"+i+'1', \"delivery_all_cnt_m\"+i+'1'))\n",
    "#     sdf = sdf.withColumn('open_on_dlv_day_dist_rate_m'+i+'1', \n",
    "#                          get_delivery_rate_udf(\"last_open_day_cnt_dist_m\"+i+'1', \"delivery_all_cnt_m\"+i+'1'))    \n",
    "#     sdf = sdf.withColumn('click_day_rate_m'+i, get_delivery_rate_udf(\"last_click_time_sum_m\"+i, \"deliverycnt\"))\n",
    "    sdf = sdf.withColumn('clk_on_dlv_day_rate_m'+i+'1', \n",
    "                         get_delivery_rate_udf(\"last_click_day_cnt_m\"+i+'1', \"delivery_all_cnt_m\"+i+'1'))\n",
    "#     sdf = sdf.withColumn('clk_on_dlv_day_dist_rate_m'+i+'1', \n",
    "#                          get_delivery_rate_udf(\"last_click_day_cnt_dist_m\"+i+'1', \"delivery_all_cnt_m\"+i+'1')) \n",
    "    sdf = sdf.withColumn('clk_on_open_day_rate_m'+i+'1', \n",
    "                         get_delivery_rate_udf(\"last_click_day_cnt_m\"+i+'1', \"last_open_day_cnt_m\"+i+'1'))\n",
    "#     sdf = sdf.withColumn('clk_on_open_day_dist_rate_m'+i+'1', \n",
    "#                          get_delivery_rate_udf(\"last_click_day_cnt_dist_m\"+i+'1', \"last_open_day_cnt_dist_m\"+i+'1'))    "
   ]
  },
  {
   "cell_type": "code",
   "execution_count": 35,
   "metadata": {
    "collapsed": true
   },
   "outputs": [],
   "source": [
    "import locale\n",
    "from functools import cmp_to_key\n",
    "\n",
    "customer_attr = ['customer_text_0{}'.format(str(i)) if i<10 \n",
    "                 else 'customer_text_{}'.format(str(i)) for i in range(1,21)]\n",
    "\n",
    "first_order_cols = \\\n",
    "[\n",
    "    'inn', \n",
    "    'kpp',\n",
    "    'campaign_nm', \n",
    "    'email',\n",
    "    'organization_id',\n",
    "    'custid_value',\n",
    "    'response',\n",
    "    'response_dttm',\n",
    "    'asday',\n",
    "    'asdayname',\n",
    "    'ashour',\n",
    "    'astime',     \n",
    "    'email_subject',\n",
    "    'message_title',]\\\n",
    "+\\\n",
    "customer_attr\n",
    "\n",
    "reordered_cols = \\\n",
    "first_order_cols + sorted(set(sdf.columns) -\n",
    "                          set(first_order_cols) -\n",
    "                          set(['load_dt','last_day']), key=cmp_to_key(locale.strcoll)) + ['load_dt','last_day']"
   ]
  },
  {
   "cell_type": "code",
   "execution_count": 36,
   "metadata": {
    "collapsed": true
   },
   "outputs": [],
   "source": [
    "sdf = sdf.select(*reordered_cols)"
   ]
  },
  {
   "cell_type": "markdown",
   "metadata": {},
   "source": [
    "## Cut all daytime events that aren't related to the Test datased (cut records in window of 3month back from min responce date)"
   ]
  },
  {
   "cell_type": "code",
   "execution_count": 37,
   "metadata": {
    "collapsed": true
   },
   "outputs": [],
   "source": [
    "sdf = sdf.filter((f.col('response_dttm') >= resp_dttm_min_str)) "
   ]
  },
  {
   "cell_type": "markdown",
   "metadata": {},
   "source": [
    "## Remove events with only delivery status among users with para `fresh_user` = 0"
   ]
  },
  {
   "cell_type": "code",
   "execution_count": 38,
   "metadata": {
    "collapsed": true
   },
   "outputs": [],
   "source": [
    "sdf = sdf.filter(\"(response != 'SendSay. Сообщение доставлено' and fresh_user = 0) or (sum_open_click_camp = 0 and fresh_user = 0) or (fresh_user != 0)\")"
   ]
  },
  {
   "cell_type": "markdown",
   "metadata": {},
   "source": [
    "## DimensionalityReduction: Stratified Sampling by Target Class"
   ]
  },
  {
   "cell_type": "code",
   "execution_count": 39,
   "metadata": {},
   "outputs": [
    {
     "data": {
      "text/plain": [
       "{-1: 0.35, 0: 0.35, 1: 0.35, 2: 0.35}"
      ]
     },
     "execution_count": 39,
     "metadata": {},
     "output_type": "execute_result"
    }
   ],
   "source": [
    "frac = sdf.select('target').distinct().withColumn('fraction', f.lit(0.35)).rdd.collectAsMap()\n",
    "frac"
   ]
  },
  {
   "cell_type": "code",
   "execution_count": 40,
   "metadata": {
    "collapsed": true
   },
   "outputs": [],
   "source": [
    "seed = 42\n",
    "sdf_fr = sdf.filter(\"target in (0,1)\").sampleBy('target', frac, seed)"
   ]
  },
  {
   "cell_type": "code",
   "execution_count": 41,
   "metadata": {},
   "outputs": [
    {
     "data": {
      "text/html": [
       "<div>\n",
       "<style scoped>\n",
       "    .dataframe tbody tr th:only-of-type {\n",
       "        vertical-align: middle;\n",
       "    }\n",
       "\n",
       "    .dataframe tbody tr th {\n",
       "        vertical-align: top;\n",
       "    }\n",
       "\n",
       "    .dataframe thead th {\n",
       "        text-align: right;\n",
       "    }\n",
       "</style>\n",
       "<table border=\"1\" class=\"dataframe\">\n",
       "  <thead>\n",
       "    <tr style=\"text-align: right;\">\n",
       "      <th></th>\n",
       "      <th>target</th>\n",
       "      <th>count</th>\n",
       "    </tr>\n",
       "  </thead>\n",
       "  <tbody>\n",
       "    <tr>\n",
       "      <th>0</th>\n",
       "      <td>0</td>\n",
       "      <td>3634990</td>\n",
       "    </tr>\n",
       "    <tr>\n",
       "      <th>1</th>\n",
       "      <td>1</td>\n",
       "      <td>607302</td>\n",
       "    </tr>\n",
       "  </tbody>\n",
       "</table>\n",
       "</div>"
      ],
      "text/plain": [
       "   target    count\n",
       "0  0       3634990\n",
       "1  1       607302 "
      ]
     },
     "execution_count": 41,
     "metadata": {},
     "output_type": "execute_result"
    }
   ],
   "source": [
    "sdf_fr.groupBy('target').count().show()"
   ]
  },
  {
   "cell_type": "markdown",
   "metadata": {},
   "source": [
    "## Save"
   ]
  },
  {
   "cell_type": "code",
   "execution_count": 42,
   "metadata": {
    "scrolled": true
   },
   "outputs": [
    {
     "name": "stdout",
     "output_type": "stream",
     "text": [
      "\u001b[92mDatarame has been saved at sbx_team_digitcamp.tmp_resp_inn_kpp_train_sampl\u001b[0m\n"
     ]
    },
    {
     "data": {
      "text/plain": [
       "<sparkdb_loader.spark at 0x7f4f7d805e80>"
      ]
     },
     "execution_count": 42,
     "metadata": {},
     "output_type": "execute_result"
    }
   ],
   "source": [
    "sp.db = 'sbx_team_digitcamp'\n",
    "sp.output = 'tmp_resp_inn_kpp_train_sampl'\n",
    "sp.save(sdf_fr)"
   ]
  },
  {
   "cell_type": "markdown",
   "metadata": {
    "collapsed": true
   },
   "source": [
    "## Register temp table"
   ]
  },
  {
   "cell_type": "code",
   "execution_count": 43,
   "metadata": {
    "collapsed": true
   },
   "outputs": [],
   "source": [
    "# sdf.registerTempTable(\"tmp_resp_inn_kpp_camp\")\n",
    "# hive.cacheTable('tmp_resp_inn_kpp_camp')"
   ]
  },
  {
   "cell_type": "markdown",
   "metadata": {},
   "source": [
    "### Stop previously used context and claim Yarn master to approve new job"
   ]
  },
  {
   "cell_type": "code",
   "execution_count": null,
   "metadata": {
    "collapsed": true,
    "scrolled": true
   },
   "outputs": [],
   "source": [
    "sp.sc.stop()"
   ]
  },
  {
   "cell_type": "code",
   "execution_count": 7,
   "metadata": {},
   "outputs": [
    {
     "name": "stdout",
     "output_type": "stream",
     "text": [
      "2.4.0.cloudera2\n",
      "CPU times: user 34.8 ms, sys: 28.3 ms, total: 63.2 ms\n",
      "Wall time: 33.4 s\n"
     ]
    }
   ],
   "source": [
    "%%time\n",
    "sp = spark(schema='sbx_team_digitcamp', \n",
    "           sparkVersion='2.2',\n",
    "           dynamic_alloc=False,\n",
    "           numofinstances=40, \n",
    "           numofcores=8,\n",
    "           kerberos_auth=False) \n",
    "print(sp.sc.version)\n",
    "hive = sp.sql"
   ]
  },
  {
   "cell_type": "markdown",
   "metadata": {},
   "source": [
    "## Join with ML360"
   ]
  },
  {
   "cell_type": "code",
   "execution_count": 6,
   "metadata": {
    "collapsed": true
   },
   "outputs": [],
   "source": [
    "ml360 = 'cib_custom_cib_ml360'"
   ]
  },
  {
   "cell_type": "code",
   "execution_count": 10,
   "metadata": {
    "collapsed": true,
    "scrolled": true
   },
   "outputs": [],
   "source": [
    "sdf = hive.sql('''\n",
    "select \n",
    "t.*,\n",
    "concat_ws(' ',email_subject, message_title, \n",
    "            customer_text_03, customer_text_04, customer_text_05, \n",
    "            customer_text_06, customer_text_07, customer_text_08, customer_text_09, customer_text_10,\n",
    "                              customer_text_12, customer_text_13, customer_text_14, customer_text_15, \n",
    "                              customer_text_17, customer_text_18, customer_text_19, customer_text_20) as text\n",
    "from(\n",
    "         select \n",
    "             rik.inn\n",
    "            ,rik.kpp\n",
    "            ,rik.campaign_nm\n",
    "            ,rik.email\n",
    "            ,rik.target            \n",
    "            ,rik.organization_id\n",
    "            ,rik.custid_value\n",
    "            ,rik.response\n",
    "            ,rik.response_dttm\n",
    "            ,rik.asday\n",
    "            ,rik.asdayname\n",
    "            ,rik.ashour\n",
    "            ,rik.astime           \n",
    "            ,rik.email_subject\n",
    "            ,rik.message_title\n",
    "            ,rik.customer_text_01\n",
    "            ,rik.customer_text_02\n",
    "            ,rik.customer_text_03\n",
    "            ,rik.customer_text_04\n",
    "            ,rik.customer_text_05\n",
    "            ,rik.customer_text_06\n",
    "            ,rik.customer_text_07\n",
    "            ,rik.customer_text_08\n",
    "            ,rik.customer_text_09\n",
    "            ,rik.customer_text_10\n",
    "            ,rik.customer_text_11\n",
    "            ,rik.customer_text_12\n",
    "            ,rik.customer_text_13\n",
    "            ,rik.customer_text_14\n",
    "            ,rik.customer_text_15\n",
    "            ,rik.customer_text_16\n",
    "            ,rik.customer_text_17\n",
    "            ,rik.customer_text_18\n",
    "            ,rik.customer_text_19\n",
    "            ,rik.customer_text_20\n",
    "            ,rik.clk_on_dlv_all_rate_m11\n",
    "            ,rik.clk_on_dlv_all_rate_m21\n",
    "            ,rik.clk_on_dlv_all_rate_m31\n",
    "            ,rik.clk_on_dlv_day_rate_m11\n",
    "            ,rik.clk_on_dlv_day_rate_m21\n",
    "            ,rik.clk_on_dlv_day_rate_m31\n",
    "            ,rik.clk_on_open_all_rate_m11\n",
    "            ,rik.clk_on_open_all_rate_m21\n",
    "            ,rik.clk_on_open_all_rate_m31\n",
    "            ,rik.clk_on_open_day_rate_m11\n",
    "            ,rik.clk_on_open_day_rate_m21\n",
    "            ,rik.clk_on_open_day_rate_m31\n",
    "            ,rik.delivery_all_cnt_m11\n",
    "            ,rik.delivery_all_cnt_m21\n",
    "            ,rik.delivery_all_cnt_m31\n",
    "            ,rik.diff_fcl_fo_m11\n",
    "            ,rik.diff_fcl_fo_m21\n",
    "            ,rik.diff_fcl_fo_m31\n",
    "            ,rik.diff_fcl_fs_m11\n",
    "            ,rik.diff_fcl_fs_m21\n",
    "            ,rik.diff_fcl_fs_m31\n",
    "            ,rik.diff_fcl_lo_m11\n",
    "            ,rik.diff_fcl_lo_m21\n",
    "            ,rik.diff_fcl_lo_m31\n",
    "            ,rik.diff_fcl_ls_m11\n",
    "            ,rik.diff_fcl_ls_m21\n",
    "            ,rik.diff_fcl_ls_m31\n",
    "            ,rik.diff_fo_fs_m11\n",
    "            ,rik.diff_fo_fs_m21\n",
    "            ,rik.diff_fo_fs_m31\n",
    "            ,rik.diff_fo_ls_m11\n",
    "            ,rik.diff_fo_ls_m21\n",
    "            ,rik.diff_fo_ls_m31\n",
    "            ,rik.diff_lcl_fcl_m11\n",
    "            ,rik.diff_lcl_fcl_m21\n",
    "            ,rik.diff_lcl_fcl_m31\n",
    "            ,rik.diff_lcl_fo_m11\n",
    "            ,rik.diff_lcl_fo_m21\n",
    "            ,rik.diff_lcl_fo_m31\n",
    "            ,rik.diff_lcl_fs_m11\n",
    "            ,rik.diff_lcl_fs_m21\n",
    "            ,rik.diff_lcl_fs_m31\n",
    "            ,rik.diff_lcl_lo_m11\n",
    "            ,rik.diff_lcl_lo_m21\n",
    "            ,rik.diff_lcl_lo_m31\n",
    "            ,rik.diff_lcl_ls_m11\n",
    "            ,rik.diff_lcl_ls_m21\n",
    "            ,rik.diff_lcl_ls_m31\n",
    "            ,rik.diff_lo_fo_m11\n",
    "            ,rik.diff_lo_fo_m21\n",
    "            ,rik.diff_lo_fo_m31\n",
    "            ,rik.diff_lo_fs_m11\n",
    "            ,rik.diff_lo_fs_m21\n",
    "            ,rik.diff_lo_fs_m31\n",
    "            ,rik.diff_lo_ls_m11\n",
    "            ,rik.diff_lo_ls_m21\n",
    "            ,rik.diff_lo_ls_m31\n",
    "            ,rik.first_click_time\n",
    "            ,rik.first_click_time_m11\n",
    "            ,rik.first_click_time_m21\n",
    "            ,rik.first_click_time_m31\n",
    "            ,rik.first_open_time\n",
    "            ,rik.first_open_time_m11\n",
    "            ,rik.first_open_time_m21\n",
    "            ,rik.first_open_time_m31\n",
    "            ,rik.first_send_time\n",
    "            ,rik.first_send_time_m11\n",
    "            ,rik.first_send_time_m21\n",
    "            ,rik.first_send_time_m31\n",
    "            ,rik.fresh_user\n",
    "            ,rik.last_click_all_cnt_m11\n",
    "            ,rik.last_click_all_cnt_m21\n",
    "            ,rik.last_click_all_cnt_m31\n",
    "            ,rik.last_click_day_cnt_m11\n",
    "            ,rik.last_click_day_cnt_m21\n",
    "            ,rik.last_click_day_cnt_m31\n",
    "            ,rik.last_click_time\n",
    "            ,rik.last_click_time_m11\n",
    "            ,rik.last_click_time_m21\n",
    "            ,rik.last_click_time_m31\n",
    "            ,rik.last_open_all_cnt_m11\n",
    "            ,rik.last_open_all_cnt_m21\n",
    "            ,rik.last_open_all_cnt_m31\n",
    "            ,rik.last_open_day_cnt_m11\n",
    "            ,rik.last_open_day_cnt_m21\n",
    "            ,rik.last_open_day_cnt_m31\n",
    "            ,rik.last_open_time\n",
    "            ,rik.last_open_time_m11\n",
    "            ,rik.last_open_time_m21\n",
    "            ,rik.last_open_time_m31\n",
    "            ,rik.last_send_time\n",
    "            ,rik.last_send_time_m11\n",
    "            ,rik.last_send_time_m21\n",
    "            ,rik.last_send_time_m31\n",
    "            ,rik.open_on_dlv_all_rate_m11\n",
    "            ,rik.open_on_dlv_all_rate_m21\n",
    "            ,rik.open_on_dlv_all_rate_m31\n",
    "            ,rik.open_on_dlv_day_rate_m11\n",
    "            ,rik.open_on_dlv_day_rate_m21\n",
    "            ,rik.open_on_dlv_day_rate_m31\n",
    "            ,rik.sum_open_click_camp\n",
    "            ,rik.load_dt\n",
    "            ,rik.last_day\n",
    "\n",
    "            ,mcs.cred_sdo\n",
    "            ,mcs.weight_prc\n",
    "            ,mcs.rate_diff\n",
    "\n",
    "            ,mdh.all_prod_deals_created\n",
    "            ,mdh.all_prod_deals_completed\n",
    "            ,mdh.credit_prod_deals_created\n",
    "            ,mdh.merch_prod_deals_created\n",
    "            ,mdh.corp_cards_prod_deals_created\n",
    "            ,mdh.salary_prod_deals_created\n",
    "            ,mdh.depozit_prod_deals_created\n",
    "            ,mdh.insure_prod_deals_created\n",
    "            ,mdh.credit_prod_deals_completed\n",
    "            ,mdh.merch_prod_deals_completed\n",
    "            ,mdh.corp_cards_prod_deals_completed\n",
    "            ,mdh.salary_prod_deals_completed\n",
    "            ,mdh.depozit_prod_deals_completed\n",
    "            ,mdh.insure_prod_deals_completed\n",
    "            --,mdh.segment\n",
    "\n",
    "            ,mibs.complicity_type\n",
    "            ,mibs.otrasl\n",
    "            ,cast(mibs.ul_kopf_cd as int) ul_kopf_cd\n",
    "            ,mibs.big_segment\n",
    "\n",
    "            ,mip.oborot_kredit\n",
    "            ,mip.invest_kredit\n",
    "            ,mip.overdraft_kredit\n",
    "            ,mip.proekt_finans\n",
    "            ,mip.products_lizing\n",
    "            ,mip.obsluzh_rts_rur\n",
    "            ,mip.obsluzh_rts_val\n",
    "            ,mip.spec_acc\n",
    "            ,mip.deposit\n",
    "            ,mip.veksel\n",
    "            ,mip.deposit_sertificat\n",
    "            ,mip.inkass\n",
    "            ,mip.samoinkass\n",
    "            ,mip.zarplat_projects\n",
    "            ,mip.acquiring_torg\n",
    "            ,mip.acquiring_mobile\n",
    "            ,mip.acreditiv\n",
    "            ,mip.valuta_control\n",
    "            ,mip.garantee_kontract\n",
    "            ,mip.garantee_gos\n",
    "            ,mip.garantee_other\n",
    "            ,mip.arenda_seyf\n",
    "            ,mip.dbo\n",
    "            ,mip.corporate_cards\n",
    "            ,mip.cash_management\n",
    "            ,mip.bank_straxovanie_imush\n",
    "            ,mip.bank_straxovanie_lich\n",
    "            ,mip.bank_straxovanie_otvet\n",
    "            ,mip.einvoicing\n",
    "            ,mip.factoring\n",
    "            ,mip.konversion\n",
    "            ,mip.ns_servis\n",
    "            ,mip.ns_terminal\n",
    "\n",
    "            ,mnbc.segment crm_segment\n",
    "            ,mnbc.prior_true\n",
    "            ,mnbc.OPF_IP\n",
    "            ,mnbc.OPF_OOO\n",
    "            ,mnbc.OPF_Other\n",
    "            ,mnbc.tb_Centralno_Chernozemnyj\n",
    "            ,mnbc.tb_Moskovskij\n",
    "            ,mnbc.tb_Uralskij\n",
    "            ,mnbc.tb_Povolzhskij\n",
    "            ,mnbc.tb_Severo_Zapadnyj\n",
    "            ,mnbc.tb_Dalnevostochnyj\n",
    "            ,mnbc.tb_Volgo_Vyatskij\n",
    "            \n",
    "            ,mp.corp_cards\n",
    "            ,mp.rko\n",
    "            ,mp.salary\n",
    "            ,mp.merch\n",
    "            ,mp.credit\n",
    "            ,mp.deposits            \n",
    "\n",
    "            ,yfp.egr_org_id\n",
    "            ,yfp.ip_flg\n",
    "            ,yfp.ul_org_id\n",
    "            ,yfp.egrul_org_id\n",
    "            ,yfp.ogrn\n",
    "            ,yfp.short_nm\n",
    "            ,yfp.okato_cd\n",
    "            ,yfp.kopf_cd\n",
    "            ,yfp.kopf_nm\n",
    "            ,cast(yfp.active_flg as int) active_flg\n",
    "            ,yfp.founders_all_cnt\n",
    "            ,yfp.founders_ul_cnt\n",
    "            ,yfp.head_inn\n",
    "            ,yfp.founders_fl_cnt\n",
    "            ,yfp.founders_foreign_ul_cnt\n",
    "            ,yfp.branch_cnt\n",
    "            ,yfp.adrs_index\n",
    "            ,yfp.adrs_rf_subject\n",
    "            ,yfp.egrip_org_id\n",
    "            ,yfp.ip_org_id\n",
    "            ,yfp.ar_revenue\n",
    "            ,yfp.ar_total_expenses\n",
    "            ,yfp.ar_profit_before_tax\n",
    "            ,yfp.ar_taxes\n",
    "            ,yfp.ar_net_profit\n",
    "            ,yfp.fot_balance\n",
    "            ,yfp.license_cnt\n",
    "            ,yfp.okfs_cd\n",
    "            ,yfp.integrum_staff_range\n",
    "            ,yfp.ab_immobilized_assets\n",
    "            ,yfp.ab_losses\n",
    "            ,yfp.ab_own_capital\n",
    "            ,yfp.ab_borrowed_capital\n",
    "            ,yfp.okved_cnt\n",
    "            ,yfp.industry\n",
    "            ,yfp.total_sum_kt\n",
    "            ,yfp.total_count_kt\n",
    "            ,yfp.total_sum_dt\n",
    "            ,yfp.total_count_dt\n",
    "            ,yfp.total_sum_kt_3m\n",
    "            ,yfp.total_count_kt_3m\n",
    "            ,yfp.total_sum_dt_3m\n",
    "            ,yfp.total_count_dt_3m\n",
    "            ,yfp.total_sum_kt_year18\n",
    "            ,yfp.total_count_kt_year18\n",
    "            ,yfp.total_sum_dt_year18\n",
    "            ,yfp.total_count_dt_year18\n",
    "            ,yfp.tax_income\n",
    "            ,yfp.penalty_income\n",
    "            ,yfp.tax_ip\n",
    "            ,yfp.penalty_ip\n",
    "            ,yfp.tax_foreign\n",
    "            ,yfp.penalty_foreign\n",
    "            ,yfp.tax_income_3m\n",
    "            ,yfp.penalty_income_3m\n",
    "            ,yfp.tax_ip_3m\n",
    "            ,yfp.penalty_ip_3m\n",
    "            ,yfp.tax_foreign_3m\n",
    "            ,yfp.penalty_foreign_3m\n",
    "            ,yfp.tax_income_year18\n",
    "            ,yfp.penalty_income_year18\n",
    "            ,yfp.tax_ip_year18\n",
    "            ,yfp.penalty_ip_year18\n",
    "            ,yfp.tax_foreign_year18\n",
    "            ,yfp.penalty_foreign_year18\n",
    "            ,yfp.kpp_regions_cnt\n",
    "            ,yfp.gis_building_area\n",
    "            ,yfp.gis_merchant_cnt\n",
    "            ,yfp.gis_staff_cnt\n",
    "            ,yfp.gis_building_firms\n",
    "            ,yfp.gis_network_flg\n",
    "            ,yfp.gis_rosn_merchant_flg\n",
    "            ,yfp.gis_opt_merchant_flg\n",
    "            ,yfp.gis_production_merchant_flg\n",
    "            ,yfp.gis_internet_merchant_flg\n",
    "            ,yfp.gis_bank_payment_flg\n",
    "            ,yfp.gis_cash_payment_flg\n",
    "            ,yfp.gis_card_payment_flg\n",
    "            ,yfp.gis_internet_payment_flg\n",
    "            ,yfp.cred_application_cnt\n",
    "            ,yfp.segment fot_segment\n",
    "            ,yfp.okato_reg\n",
    "            ,yfp.integrum_lower_bound\n",
    "            ,yfp.wlt_prediction\n",
    "            ,yfp.fns_staff_cnt\n",
    "            ,yfp.mean_zp\n",
    "            ,yfp.zp_amount\n",
    "            ,yfp.mean_zp_empl_cnt\n",
    "            ,yfp.max_zp_empl_cnt\n",
    "            ,yfp.min_zp_empl_cnt\n",
    "            ,yfp.stoplist\n",
    "\n",
    "         from {conn_schema}.tmp_resp_inn_kpp_train_sampl     rik\n",
    "         left join {tbl}.mon_cred_sdo                mcs  on rik.inn = mcs.inn  and rik.last_day = mcs.mon\n",
    "         left join {tbl}.mon_deals_history           mdh  on rik.inn = mdh.inn  and rik.last_day = mdh.mon\n",
    "         left join {dltbl}.mon_iskra_big_segment       mibs on rik.inn = mibs.inn and rik.last_day = mibs.mon\n",
    "         left join {dltbl}.mon_iskra_prod              mip  on rik.inn = mip.inn  and rik.last_day = mip.mon\n",
    "         left join {tbl}.mon_nba_base_crm            mnbc on rik.inn = mnbc.inn and rik.last_day = mnbc.mon\n",
    "         left join {tbl}.mon_products                mp   on rik.inn = mp.inn   and rik.last_day = mp.mon  \n",
    "         left join {dltbl}.yr_fot_profile              yfp  on rik.inn = yfp.inn  and rik.last_day = yfp.yr  \n",
    "                                                                                and rik.kpp = yfp.kpp      \n",
    "         where fresh_user in (0,2)\n",
    "         --and load_dt <= timestamp('%s')\n",
    ") t\n",
    "--where target in (0,1)\n",
    "'''.format(dltbl='dl_t_team_ml360', tbl=ml360, conn_schema='sbx_team_digitcamp')) #%(prev_load_dt_str))"
   ]
  },
  {
   "cell_type": "code",
   "execution_count": 7,
   "metadata": {
    "collapsed": true
   },
   "outputs": [],
   "source": [
    "# best_day_sdf = sdf.distinct()"
   ]
  },
  {
   "cell_type": "markdown",
   "metadata": {},
   "source": [
    "### Join with CALL_TASK_TO_SENDSAY"
   ]
  },
  {
   "cell_type": "code",
   "execution_count": 11,
   "metadata": {
    "collapsed": true,
    "scrolled": true
   },
   "outputs": [],
   "source": [
    "call_sdf = hive.sql(\"select cast( cast(inn as long) as string) _inn, CREATE_DATE from sbx_team_digitcamp.CALL_TASK_TO_SENDSAY\")"
   ]
  },
  {
   "cell_type": "code",
   "execution_count": 12,
   "metadata": {
    "collapsed": true,
    "scrolled": false
   },
   "outputs": [],
   "source": [
    "sdf = sdf.join(call_sdf, on=( (sdf.inn==call_sdf._inn) & \n",
    "                              (call_sdf.CREATE_DATE >= f.date_sub(sdf.first_send_time, 40))))"
   ]
  },
  {
   "cell_type": "code",
   "execution_count": 13,
   "metadata": {
    "collapsed": true,
    "scrolled": true
   },
   "outputs": [],
   "source": [
    "sdf = sdf.withColumn('call_first_check', f.when((f.col('CREATE_DATE') < f.col('last_send_time')) & \\\n",
    "                                                (f.col('CREATE_DATE') >= f.date_sub(f.col('last_send_time'),30)), 1).otherwise(0))"
   ]
  },
  {
   "cell_type": "code",
   "execution_count": 14,
   "metadata": {
    "collapsed": true
   },
   "outputs": [],
   "source": [
    "sdf = sdf.drop_duplicates()"
   ]
  },
  {
   "cell_type": "markdown",
   "metadata": {},
   "source": [
    "## Preproc"
   ]
  },
  {
   "cell_type": "code",
   "execution_count": 15,
   "metadata": {
    "collapsed": true
   },
   "outputs": [],
   "source": [
    "import locale\n",
    "import re\n",
    "from functools import cmp_to_key\n",
    "\n",
    "# indx_cols = list(zip(range(len(final_cols)),final_cols))\n",
    "\n",
    "customer_attr = ['customer_text_0{}'.format(str(i)) if i<10 \n",
    "                 else 'customer_text_{}'.format(str(i)) for i in range(1,21)]\n",
    "\n",
    "first_order_cols = \\\n",
    "[\n",
    "    'inn',\n",
    "    'kpp', \n",
    "    'organization_id',\n",
    "    'campaign_nm',\n",
    "    'email',\n",
    "    'target'\n",
    "]\n",
    "\n",
    "rem_cols = \\\n",
    "[\n",
    "#'sum_open_click_camp', \n",
    "'custid_value', \n",
    "'CREATE_DATE',\n",
    "'_inn',\n",
    "'response', 'asday','astime', 'ashour', 'asdayname', 'yr',\n",
    "'email_subject', 'message_title',\n",
    "'wlt_prediction',\n",
    "'adrs_index', 'adrs_rf_subject', 'head_inn', 'kopf_nm', 'short_nm',\n",
    "'last_day',\n",
    "'mon', 'okato_cd', 'kopf_cd','okfs_cd','okved_cnt','egrip_org_id','ip_org_id','integrum_staff_range',\n",
    "'gis_building_area','gis_staff_cnt','gis_building_firms','okato_reg','fns_staff_cnt',\n",
    "'load_dt', 'obsluzh_rts_rur','salary','corp_cards', 'ogrn'\n",
    "]\n",
    "\n",
    "\n",
    "reordered_cols = first_order_cols+ \\\n",
    "sorted(set(sdf.columns) - set(customer_attr)\n",
    "                        - set(first_order_cols)\n",
    "                        - set(rem_cols), key=cmp_to_key(locale.strcoll))\n",
    "\n",
    "pattern = re.compile(r'.*_click_time.*|.*_open_time.*|.*_send_time.*|delivery_all_cnt.*')\n",
    "# 'delivery_all_cnt_m11','delivery_all_cnt_m21'\n",
    "\n",
    "final_cols = [col for col in reordered_cols if len(pattern.findall(col)) == 0]\n",
    "\n",
    "sdf = sdf.select(*final_cols)"
   ]
  },
  {
   "cell_type": "markdown",
   "metadata": {},
   "source": [
    "### Fill NAN"
   ]
  },
  {
   "cell_type": "code",
   "execution_count": 16,
   "metadata": {
    "collapsed": true
   },
   "outputs": [],
   "source": [
    "replna = {}\n",
    "for col in sdf.dtypes:\n",
    "    if col[1] == 'string':\n",
    "        replna.update({col[0]:''})\n",
    "    elif col[1] == 'boolean':\n",
    "        replna.update({col[0]:False})\n",
    "    elif col[1] != 'timestamp':\n",
    "        replna.update({col[0]:0})\n",
    "\n",
    "sdf = sdf.fillna(replna)"
   ]
  },
  {
   "cell_type": "code",
   "execution_count": null,
   "metadata": {
    "collapsed": true
   },
   "outputs": [],
   "source": [
    "# sdf = sdf.withColumn('active_flg', sdf['active_flg'].cast(IntegerType()))\n",
    "# sdf = sdf.withColumn('ul_kopf_cd', f.col('ul_kopf_cd').cast(IntegerType()))"
   ]
  },
  {
   "cell_type": "code",
   "execution_count": 14,
   "metadata": {},
   "outputs": [
    {
     "name": "stdout",
     "output_type": "stream",
     "text": [
      "('inn', 'string')\n",
      "('kpp', 'string')\n",
      "('organization_id', 'string')\n",
      "('campaign_nm', 'string')\n",
      "('email', 'string')\n",
      "('big_segment', 'string')\n",
      "('complicity_type', 'string')\n",
      "('crm_segment', 'string')\n",
      "('fot_segment', 'string')\n",
      "('otrasl', 'string')\n",
      "('prior_true', 'string')\n",
      "('text', 'string')\n"
     ]
    }
   ],
   "source": [
    "for col in sdf.dtypes:\n",
    "    if col[1] == 'string':\n",
    "        print(col)"
   ]
  },
  {
   "cell_type": "markdown",
   "metadata": {},
   "source": [
    "### Fit spark dataframe: index categorical columns"
   ]
  },
  {
   "cell_type": "code",
   "execution_count": 42,
   "metadata": {
    "collapsed": true
   },
   "outputs": [],
   "source": [
    "curruser = 'ektov'"
   ]
  },
  {
   "cell_type": "code",
   "execution_count": null,
   "metadata": {
    "collapsed": true,
    "scrolled": false
   },
   "outputs": [],
   "source": [
    "catcol = ['big_segment', 'crm_segment', 'fot_segment', 'complicity_type', 'otrasl', 'prior_true']\n",
    "indexers = [StringIndexer(inputCol=column, outputCol=column+'_idx').setHandleInvalid('keep') for column in catcol]\n",
    "pipelineModel = Pipeline(stages=indexers)\n",
    "pipelineModelFit = pipelineModel.fit(sdf)\n",
    "sdf = pipelineModelFit.transform(sdf)\n",
    "\n",
    "# pipeline save StringIndexer\n",
    "# pipelineModelFit.write().overwrite().save(\"/user/{}/sendsay_pipeline_StringIndexer_upd\".format(curruser))"
   ]
  },
  {
   "cell_type": "markdown",
   "metadata": {},
   "source": [
    "### Load Prefitted PipelineModel"
   ]
  },
  {
   "cell_type": "code",
   "execution_count": null,
   "metadata": {
    "collapsed": true
   },
   "outputs": [],
   "source": [
    "# ! hdfs dfs -cp -f hdfs://nameservice1/user/ektov/sendsay_pipeline_StringIndexer_upd hdfs:///user/ektov/"
   ]
  },
  {
   "cell_type": "code",
   "execution_count": 21,
   "metadata": {
    "collapsed": true,
    "scrolled": false
   },
   "outputs": [],
   "source": [
    "# pipelineModelPreFit = PipelineModel.load(\"hdfs:///user/{}/sendsay_pipeline_StringIndexer_upd\".format(curruser))\n",
    "# sdf = pipelineModelPreFit.transform(sdf)\n",
    "\n",
    "# # drop string columns\n",
    "# catcol = ['big_segment', 'crm_segment', 'fot_segment', 'complicity_type', 'otrasl', 'prior_true'] \n",
    "catcol.extend(['response_dttm'])\n",
    "sdf = sdf.drop(*catcol)"
   ]
  },
  {
   "cell_type": "markdown",
   "metadata": {},
   "source": [
    "### Remove constant columns"
   ]
  },
  {
   "cell_type": "code",
   "execution_count": null,
   "metadata": {
    "collapsed": true,
    "scrolled": true
   },
   "outputs": [],
   "source": [
    "# const_cols = sdf.agg(*[f.countDistinct(f.col(col)).alias(col) for col in sdf.columns]).collect()[0].asDict()\n",
    "# cols_to_rem = sorted([k for k,v in const_cols.items() if v == 0])"
   ]
  },
  {
   "cell_type": "code",
   "execution_count": 22,
   "metadata": {
    "collapsed": true,
    "scrolled": true
   },
   "outputs": [],
   "source": [
    "with open('./csv/zero_std_cols', 'r') as fin:\n",
    "    res = fin.readlines()\n",
    "zero_std_cols = [re.sub('\\\\n','',line) for line in res]"
   ]
  },
  {
   "cell_type": "code",
   "execution_count": 23,
   "metadata": {
    "collapsed": true
   },
   "outputs": [],
   "source": [
    "sdf = sdf.drop(*zero_std_cols)"
   ]
  },
  {
   "cell_type": "markdown",
   "metadata": {},
   "source": [
    "## Add colunm with concated text"
   ]
  },
  {
   "cell_type": "code",
   "execution_count": 24,
   "metadata": {
    "collapsed": true,
    "scrolled": true
   },
   "outputs": [],
   "source": [
    "import string\n",
    "\n",
    "import nltk\n",
    "from nltk.corpus import stopwords\n",
    "from nltk.tokenize import RegexpTokenizer, word_tokenize\n",
    "\n",
    "import pymorphy2\n",
    "# morph = pymorphy2.MorphAnalyzer()\n",
    "# broadcast \n",
    "MORPH = pymorphy2.MorphAnalyzer()\n",
    "morph_broadcast = sp.sc.broadcast(MORPH)\n",
    "\n",
    "stop_words = set(stopwords.words('russian'))\n",
    "exclude = set(string.punctuation) \n",
    "\n",
    "def text_prepare(text, lemmatize = False): \n",
    "    morph = morph_broadcast.value\n",
    "    def drop_nps(tokenslst, lemmatize=lemmatize):\n",
    "        lres=[]\n",
    "        for token in tokenslst:\n",
    "            parse_res=morph.parse(token)[0]\n",
    "            if (not 'Name' in parse_res.tag) and \\\n",
    "               (not 'Patr' in parse_res.tag) and \\\n",
    "               (not 'Surn' in parse_res.tag):\n",
    "                        if not lemmatize:\n",
    "                            lres.append(parse_res.word)\n",
    "                        else:\n",
    "                            lres.append(parse_res.normal_form)      \n",
    "        return ' '.join(lres)\n",
    "\n",
    "    text = ''.join(x if x not in exclude else ' ' for x in text)\n",
    "    text = ' '.join(word for word in text.split() if word not in stop_words)\n",
    "    text = re.sub(r'[a-zA-Z\\d{1,8}]+','',text)\n",
    "    text = ' '.join(word for word in text.split() if len(word)>2) \n",
    "    tokenslst = list(map(lambda x: x.replace('\"', '').lower(), \n",
    "                         RegexpTokenizer('([а-яА-Яa-zA-Z\\d{9,12}]+|\\\"[\\w\\s]+\\\")').tokenize(text)))\n",
    "\n",
    "    if not lemmatize:\n",
    "        res = drop_nps(tokenslst)\n",
    "    else:    \n",
    "        res = drop_nps(tokenslst, True)    \n",
    "    return res"
   ]
  },
  {
   "cell_type": "code",
   "execution_count": 25,
   "metadata": {
    "collapsed": true
   },
   "outputs": [],
   "source": [
    "text_prepare_udf = f.udf(text_prepare, StringType())"
   ]
  },
  {
   "cell_type": "code",
   "execution_count": 26,
   "metadata": {
    "collapsed": true
   },
   "outputs": [],
   "source": [
    "sdf = sdf.withColumn('text_norm', text_prepare_udf('text'))  "
   ]
  },
  {
   "cell_type": "markdown",
   "metadata": {},
   "source": [
    "## !!!STEP INTO if ones want to train again FastText' vectors on updated corpora "
   ]
  },
  {
   "cell_type": "markdown",
   "metadata": {},
   "source": [
    "## ReTrain FastText"
   ]
  },
  {
   "cell_type": "markdown",
   "metadata": {},
   "source": [
    "### Extract `TEXT_NORM` column and export it to csv"
   ]
  },
  {
   "cell_type": "code",
   "execution_count": 18,
   "metadata": {},
   "outputs": [
    {
     "data": {
      "text/plain": [
       "<sparkdb_loader.spark at 0x7fea1b219588>"
      ]
     },
     "execution_count": 18,
     "metadata": {},
     "output_type": "execute_result"
    }
   ],
   "source": [
    "sdf_exp = sdf.select('text_norm').distinct()\n",
    "pathsave = 'notebooks/EmailSMSResponses/RESP_MODELS/csv/'.format(curruser)\n",
    "hdfs_path = 'FT/concat_text'.format(curruser)\n",
    "sp.save_to_csv(df = sdf_exp, \n",
    "               sep = ';', \n",
    "               username = 'ektov', \n",
    "               hdfs_path = hdfs_path, \n",
    "               local_path = pathsave +'concat_text.csv', isHeader = False)"
   ]
  },
  {
   "cell_type": "code",
   "execution_count": 61,
   "metadata": {
    "scrolled": true
   },
   "outputs": [
    {
     "name": "stdout",
     "output_type": "stream",
     "text": [
      "\n",
      "All rows:  (3421, 1)\n"
     ]
    }
   ],
   "source": [
    "from csv import QUOTE_ALL\n",
    "\n",
    "dffasttext = pd.read_csv('./csv/concat_text.csv', sep = ';', \n",
    "                         usecols = ['text_norm'],\n",
    "                         quoting = QUOTE_ALL,\n",
    "                         doublequote = False,\n",
    "                         index_col=False, \n",
    "                         error_bad_lines=False)\n",
    "\n",
    "print('\\nAll rows: ', dffasttext.shape)"
   ]
  },
  {
   "cell_type": "code",
   "execution_count": 62,
   "metadata": {
    "collapsed": true
   },
   "outputs": [],
   "source": [
    "filepath = 'dump/'\n",
    "filename = 'corpora_normalized.cor'\n",
    "\n",
    "corpora = dffasttext.text_norm.tolist()\n",
    "with open(os.path.join(filepath, filename), \"w\", encoding='cp1251') as f:\n",
    "    f.write(\"\\n\".join(corpora))"
   ]
  },
  {
   "cell_type": "markdown",
   "metadata": {},
   "source": [
    "## Train FastText on newly extracted corpora"
   ]
  },
  {
   "cell_type": "code",
   "execution_count": 63,
   "metadata": {
    "collapsed": true
   },
   "outputs": [],
   "source": [
    "class MyIter(object):\n",
    "    def __iter__(self):\n",
    "        path = datapath(os.path.join(os.getcwd(), filepath, filename))  \n",
    "        with open(path, 'r', encoding='cp1251', errors = 'ignore') as fin:\n",
    "            for line in fin:\n",
    "                line = line.rstrip('\\n')\n",
    "                yield list(tokenize(line))"
   ]
  },
  {
   "cell_type": "code",
   "execution_count": 64,
   "metadata": {
    "collapsed": true
   },
   "outputs": [],
   "source": [
    "filemodel = 'model/'\n",
    "\n",
    "# Train FastText for all corpus\n",
    "model_gensim = FT_gensim(size=300, window=5, min_count=5, sg=1, negative=15, min_n=3, max_n=15, word_ngrams=3)\n",
    "model_gensim.build_vocab(sentences = MyIter())\n",
    "model_gensim.train(sentences=MyIter(), total_examples=model_gensim.corpus_count, epochs=12)\n",
    "# Save model\n",
    "# joblib.dump(model_gensim, filemodel + 'email_sendsay_FT_gensim_vocab.pkl', compress=9)"
   ]
  },
  {
   "cell_type": "code",
   "execution_count": null,
   "metadata": {
    "collapsed": true,
    "scrolled": false
   },
   "outputs": [],
   "source": [
    "# filename = ('model/ft_vector')\n",
    "# model_gensim.save(filename)"
   ]
  },
  {
   "cell_type": "markdown",
   "metadata": {},
   "source": [
    "### Export all files to HDFS and clear local dir"
   ]
  },
  {
   "cell_type": "code",
   "execution_count": 65,
   "metadata": {
    "collapsed": true,
    "scrolled": false
   },
   "outputs": [],
   "source": [
    "model_gensim.wv.save_word2vec_format('model/ft.word2vec')"
   ]
  },
  {
   "cell_type": "code",
   "execution_count": 66,
   "metadata": {},
   "outputs": [
    {
     "data": {
      "text/plain": [
       "0"
      ]
     },
     "execution_count": 66,
     "metadata": {},
     "output_type": "execute_result"
    }
   ],
   "source": [
    "subprocess.call(['hdfs', 'dfs', '-put', '-f', 'model/ft.word2vec', '/user/ektov/FT/'])"
   ]
  },
  {
   "cell_type": "code",
   "execution_count": 70,
   "metadata": {
    "collapsed": true,
    "scrolled": true
   },
   "outputs": [],
   "source": [
    "dffasttext = dffasttext.dropna(subset=['text_norm'])\n",
    "X = dffasttext['text_norm']"
   ]
  },
  {
   "cell_type": "code",
   "execution_count": 71,
   "metadata": {},
   "outputs": [
    {
     "data": {
      "text/plain": [
       "<corpora_transform_main.TfIdfFastTextEmbedVectorizer at 0x7f7ead208940>"
      ]
     },
     "execution_count": 71,
     "metadata": {},
     "output_type": "execute_result"
    }
   ],
   "source": [
    "embed = TfIdfFastTextEmbedVectorizer(model_gensim, \n",
    "                                     word_ngram_range=(1,2), \n",
    "                                     word_max_vec_features=300, \n",
    "                                     useTfIdf2Pred = False)\n",
    "embed.fit(X)"
   ]
  },
  {
   "cell_type": "code",
   "execution_count": 72,
   "metadata": {},
   "outputs": [
    {
     "data": {
      "text/plain": [
       "['pkl/email_sendsay_TfIdf_vect.pkl']"
      ]
     },
     "execution_count": 72,
     "metadata": {},
     "output_type": "execute_result"
    }
   ],
   "source": [
    "filemodel = 'pkl/'\n",
    "joblib.dump(embed, filemodel + 'email_sendsay_TfIdf_vect.pkl', compress=9)"
   ]
  },
  {
   "cell_type": "code",
   "execution_count": 73,
   "metadata": {},
   "outputs": [
    {
     "data": {
      "text/plain": [
       "0"
      ]
     },
     "execution_count": 73,
     "metadata": {},
     "output_type": "execute_result"
    }
   ],
   "source": [
    "subprocess.call(['hdfs', 'dfs', '-put', '-f', 'pkl/email_sendsay_TfIdf_vect.pkl', '/user/ektov/'])"
   ]
  },
  {
   "cell_type": "code",
   "execution_count": 74,
   "metadata": {},
   "outputs": [
    {
     "data": {
      "text/plain": [
       "0"
      ]
     },
     "execution_count": 74,
     "metadata": {},
     "output_type": "execute_result"
    }
   ],
   "source": [
    "subprocess.call(['rm', '-f', './pkl/email_sendsay_TfIdf_vect.pkl'])"
   ]
  },
  {
   "cell_type": "markdown",
   "metadata": {},
   "source": [
    "## PREDICT: Run broadcast with TFIDF+FastText"
   ]
  },
  {
   "cell_type": "code",
   "execution_count": 21,
   "metadata": {
    "collapsed": true
   },
   "outputs": [],
   "source": [
    "# !hdfs dfs -put /home/ektov/notebooks/EmailSMSResponses/RESP_MODELS/model/email_sendsay_TfIdf_vect.pkl hdfs:///user/ektov/"
   ]
  },
  {
   "cell_type": "code",
   "execution_count": 27,
   "metadata": {
    "collapsed": true,
    "scrolled": true
   },
   "outputs": [],
   "source": [
    "# filemodel = 'model/'\n",
    "# model_ft =  joblib.load(os.path.join(filemodel,'email_sendsay_FT_gensi_vocabulary.pkl'))\n",
    "# embed = joblib.load(os.path.join(filemodel,'email_sendsay_TfIdf_vect.pkl'))\n",
    "\n",
    "hdfsfile='hdfs:///user/{}/email_sendsay_TfIdf_vect.pkl'.format(curruser)\n",
    "sp.sc.addFile(hdfsfile)\n",
    "embed = joblib.load(SparkFiles.get('email_sendsay_TfIdf_vect.pkl'))"
   ]
  },
  {
   "cell_type": "code",
   "execution_count": 28,
   "metadata": {
    "scrolled": true
   },
   "outputs": [
    {
     "name": "stdout",
     "output_type": "stream",
     "text": [
      "CPU times: user 9.92 ms, sys: 1.47 ms, total: 11.4 ms\n",
      "Wall time: 73.8 ms\n"
     ]
    }
   ],
   "source": [
    "%%time\n",
    "# bstBroadcast = sp.sc.broadcast(model_ft)\n",
    "# vectBroadcast = sp.sc.broadcast(model_idf)\n",
    "rev_dct = sp.sc.broadcast(embed.gensim_rev_dct)\n",
    "tfIdfModel = sp.sc.broadcast(embed.gensim_tfIdfModel)\n",
    "bow = sp.sc.broadcast(embed.bow)\n",
    "model_word_tfidf = sp.sc.broadcast(embed.model_word_tfidf)\n",
    "model_char_tfidf = sp.sc.broadcast(embed.model_char_tfidf)\n",
    "\n",
    "col_bc = sp.sc.broadcast(sdf.columns)"
   ]
  },
  {
   "cell_type": "code",
   "execution_count": 29,
   "metadata": {
    "collapsed": true
   },
   "outputs": [],
   "source": [
    "colexp = col_bc.value\n",
    "colexp.remove('text')\n",
    "colexp.remove('text_norm')"
   ]
  },
  {
   "cell_type": "code",
   "execution_count": 30,
   "metadata": {
    "collapsed": true,
    "scrolled": true
   },
   "outputs": [],
   "source": [
    "sp.sc.addFile('./../src/corpora_transform_main.py')\n",
    "\n",
    "#!hdfs dfs -put -f model/ft_vector /user/ektov/\n",
    "# hdfsfile = 'hdfs:///user/{}/FT/ft_vector'.format(curruser)\n",
    "# sp.sc.addFile(hdfsfile)\n",
    "\n",
    "# !hdfs dfs -put model/ft_vector.vectors_ngrams.npy /user/ektov/\n",
    "# hdfsfile = 'hdfs:///user/ektov/ft_vector.vectors_ngrams.npy'\n",
    "# sp.sc.addFile(hdfsfile)\n",
    "\n",
    "#!hdfs dfs -put model/ft.word2vec /user/ektov/\n",
    "hdfsfile = 'hdfs:///user/{}/FT/ft.word2vec'.format(curruser)\n",
    "sp.sc.addFile(hdfsfile)"
   ]
  },
  {
   "cell_type": "markdown",
   "metadata": {},
   "source": [
    "___"
   ]
  },
  {
   "cell_type": "code",
   "execution_count": 31,
   "metadata": {
    "collapsed": true
   },
   "outputs": [],
   "source": [
    "def block_iterator(iterator,size):\n",
    "    \"\"\"\n",
    "    dest:\n",
    "        сервисная функция для итерации по блокам данных внутри RDD. \n",
    "        Чем больше size при увеличении количества потоков, тем быстрее обработка\n",
    "    args:\n",
    "        iterator-объект \n",
    "        size - размер элементов для единичной итерации\n",
    "    return:\n",
    "        вычисляемый объект bucket\n",
    " \n",
    "    \"\"\"\n",
    "    bucket = list()\n",
    "    for e in iterator:\n",
    "        bucket.append(e)\n",
    "        if len(bucket) >= size:\n",
    "            yield bucket\n",
    "            bucket = list()\n",
    "    if bucket:\n",
    "        yield bucket"
   ]
  },
  {
   "cell_type": "markdown",
   "metadata": {},
   "source": [
    "### TfIdfFastTextEmbedVectorizer: Generate Features Based on FastText Vector Only"
   ]
  },
  {
   "cell_type": "code",
   "execution_count": 47,
   "metadata": {
    "scrolled": true
   },
   "outputs": [
    {
     "name": "stdout",
     "output_type": "stream",
     "text": [
      "CPU times: user 321 µs, sys: 0 ns, total: 321 µs\n",
      "Wall time: 681 µs\n"
     ]
    }
   ],
   "source": [
    "%%time\n",
    "def block_classify(iterator):\n",
    "    import os\n",
    "    import sys\n",
    "    os.environ['PYTHONPATH'] = '/home/ektov/python35-libs/lib/python3.5/site-packages/'\n",
    "    sys.path.insert(0,'/home/ektov/python35-libs/lib/python3.5/site-packages/')\n",
    "    from corpora_transform_main import TfIdfFastTextEmbedVectorizer\n",
    "    from gensim.models.fasttext import FastText as FT_gensim\n",
    "    from gensim.models import KeyedVectors\n",
    "    import pandas as pd\n",
    "    import json\n",
    "\n",
    "    for features in block_iterator(iterator, 500000):\n",
    "        \n",
    "        features_df = pd.DataFrame(list(features), columns = col_bc.value) # получаем исходные данные в виде df        \n",
    "#         X_predict = features_df[[col for col in features_df.columns if col not in ['inn', 'kpp', 'campaign_nm', 'text']]]    \n",
    "        X_predict = features_df['text_norm']\n",
    "    \n",
    "#         model_ft = FT_gensim.load(SparkFiles.get('ft_vector'))\n",
    "        model_ft = KeyedVectors.load_word2vec_format(SparkFiles.get('ft.word2vec'))\n",
    "        _useTfIdf2Pred = False\n",
    "        embed = TfIdfFastTextEmbedVectorizer(model = model_ft, \n",
    "                                             useTfIdf2Pred=_useTfIdf2Pred,\n",
    "                                             word_ngram_range=(1,2), \n",
    "                                             word_max_vec_features=300)\n",
    "        \n",
    "        embed.gensim_rev_dct = rev_dct.value \n",
    "        embed.gensim_tfIdfModel = tfIdfModel.value\n",
    "        embed.bow = bow.value\n",
    "        \n",
    "        if _useTfIdf2Pred:\n",
    "            embed.model_word_tfidf = model_word_tfidf.value\n",
    "            embed.model_char_tfidf = model_char_tfidf.value\n",
    "\n",
    "        res = embed.transform(X_predict)\n",
    "        ft_df = pd.DataFrame(res, columns=embed.feature_names)\n",
    "        \n",
    "        res_df = features_df[colexp]\n",
    "        res_df = pd.concat([res_df,ft_df], axis=1)\n",
    " \n",
    "        for e in json.loads(res_df.to_json(orient='records')): # генерируем выходной блок\n",
    "            yield e\n",
    "        \n",
    "            \n",
    "sdf_proc = sdf.rdd.mapPartitions(block_classify)"
   ]
  },
  {
   "cell_type": "code",
   "execution_count": 48,
   "metadata": {
    "collapsed": true,
    "scrolled": true
   },
   "outputs": [],
   "source": [
    "rdd  = sdf.limit(1).rdd.mapPartitions(block_classify)\n",
    "flat = rdd.flatMap(lambda x: [key for key in x.keys()]).collect()"
   ]
  },
  {
   "cell_type": "code",
   "execution_count": 49,
   "metadata": {
    "collapsed": true
   },
   "outputs": [],
   "source": [
    "ft_cols = [key for key in flat if '_ft_' in key.lower()]\n",
    "\n",
    "typesmap_rdd={}\n",
    "\n",
    "for column_name, column in sdf.dtypes:\n",
    "    if column == 'string':\n",
    "        typesmap_rdd[column_name] = StringType()\n",
    "    elif 'decimal' in column:\n",
    "#         digits = int('{}'.format(column.split('(')[1].split(',')[0]))\n",
    "#         prec   = int('{}'.format(column.split('(')[1].split(',')[1][:-1]))\n",
    "        typesmap_rdd[column_name] = FloatType() #DecimalType(digits,prec)\n",
    "    elif column == 'double':\n",
    "        typesmap_rdd[column_name] = DoubleType()        \n",
    "    elif column == 'float':\n",
    "        typesmap_rdd[column_name] = FloatType()\n",
    "    elif column == 'int':\n",
    "        typesmap_rdd[column_name] = IntegerType()       \n",
    "    elif column == 'bigint':\n",
    "        typesmap_rdd[column_name] = LongType()   \n",
    "\n",
    "for column_name in ft_cols:        \n",
    "       typesmap_rdd[column_name] = FloatType() "
   ]
  },
  {
   "cell_type": "code",
   "execution_count": 50,
   "metadata": {
    "collapsed": true,
    "scrolled": false
   },
   "outputs": [],
   "source": [
    "cols = colexp+ft_cols\n",
    "currschema = StructType([StructField(col, typesmap_rdd[col]) for col in cols])\n",
    "sdf_proc = sp.sql.createDataFrame(sdf_proc, schema=currschema)"
   ]
  },
  {
   "cell_type": "code",
   "execution_count": 51,
   "metadata": {
    "collapsed": true
   },
   "outputs": [],
   "source": [
    "delcols = \\\n",
    " ['inn', \n",
    "  'kpp', \n",
    "  'campaign_nm',\n",
    "  'email',\n",
    "  'organization_id',  \n",
    "  'fresh_user',  \n",
    "  'response_dttm',\n",
    "  'sum_open_click_camp', \n",
    "  ] \n",
    "sdf_proc = sdf_proc.drop(*delcols)    "
   ]
  },
  {
   "cell_type": "code",
   "execution_count": null,
   "metadata": {
    "scrolled": true
   },
   "outputs": [],
   "source": [
    "sdf_proc.cache()"
   ]
  },
  {
   "cell_type": "code",
   "execution_count": 53,
   "metadata": {},
   "outputs": [
    {
     "data": {
      "text/plain": [
       "6283801"
      ]
     },
     "execution_count": 53,
     "metadata": {},
     "output_type": "execute_result"
    }
   ],
   "source": [
    "sdf_proc.count()"
   ]
  },
  {
   "cell_type": "markdown",
   "metadata": {},
   "source": [
    "## PySpark DF Splitting and Sampling with the Stratified Strategy\n",
    "### !!suspending the class balance in each buckets!!"
   ]
  },
  {
   "cell_type": "code",
   "execution_count": 54,
   "metadata": {
    "collapsed": true
   },
   "outputs": [],
   "source": [
    "from sklearn.model_selection import StratifiedShuffleSplit, StratifiedKFold"
   ]
  },
  {
   "cell_type": "code",
   "execution_count": 55,
   "metadata": {
    "collapsed": true
   },
   "outputs": [],
   "source": [
    "w2=Window.orderBy('idx')\n",
    "\n",
    "sdf_proc    = sdf_proc.withColumn('idx', f.monotonically_increasing_id())\\\n",
    "                      .withColumn('row_num', f.row_number().over(w2))\\\n",
    "                      .drop('idx')\n",
    "        \n",
    "resid = sdf_proc.select('row_num', 'target')"
   ]
  },
  {
   "cell_type": "code",
   "execution_count": 56,
   "metadata": {
    "collapsed": true,
    "scrolled": true
   },
   "outputs": [],
   "source": [
    "resid_sdf = sdf_proc.select('row_num', 'target').toPandas()\n",
    "\n",
    "n_splits = 10\n",
    "skf = StratifiedKFold(n_splits=n_splits, random_state=42, shuffle=True)\n",
    "# s3 = StratifiedShuffleSplit(n_splits=n_splits, random_state=42, test_size=0.17)\n",
    "split_tpl = skf.split(resid_sdf['row_num'].values, resid_sdf['target'].values)"
   ]
  },
  {
   "cell_type": "code",
   "execution_count": 57,
   "metadata": {
    "scrolled": false
   },
   "outputs": [
    {
     "data": {
      "application/vnd.jupyter.widget-view+json": {
       "model_id": "8a1bfa6a754d436db4dca0f2f1770876"
      }
     },
     "metadata": {},
     "output_type": "display_data"
    },
    {
     "name": "stdout",
     "output_type": "stream",
     "text": [
      "\n"
     ]
    }
   ],
   "source": [
    "path_to_hdfs = os.path.join('/user', 'ektov', 'csv')\n",
    "\n",
    "for _, row_index in tqdm_notebook(split_tpl, total=n_splits): \n",
    "    res = row_index\n",
    "    resdf = pd.DataFrame({'row_num':res.astype(np.int32)})\n",
    "    ind_sdf = hive.createDataFrame(resdf, schema=StructType([StructField('row_num', IntegerType())]))    \n",
    "    sdf_proc_fr = sdf_proc.join(ind_sdf, on='row_num', how='inner')\n",
    "    sdf_proc_fr = sdf_proc_fr.drop('row_num')\n",
    "    sdf_proc_fr.coalesce(1).write \\\n",
    "                           .format('com.databricks.spark.csv') \\\n",
    "                           .mode('append') \\\n",
    "                           .option('sep', ';') \\\n",
    "                           .option('header', True) \\\n",
    "                           .option(\"quote\", '\\u0000') \\\n",
    "                           .save(path_to_hdfs)    \n",
    "    \n",
    "    del sdf_proc_fr, res, resdf, ind_sdf\n",
    "    gc.collect()    "
   ]
  },
  {
   "cell_type": "markdown",
   "metadata": {
    "collapsed": true
   },
   "source": [
    "### Alternative way for Stratified KFold Sampling with user defined value of suspended fraction"
   ]
  },
  {
   "cell_type": "code",
   "execution_count": null,
   "metadata": {
    "collapsed": true,
    "scrolled": false
   },
   "outputs": [],
   "source": [
    "# classes = resid.groupBy('target').count().collect()\n",
    "\n",
    "# seed = 42\n",
    "# num_part = 13\n",
    "# # N0 - total number of negative samples in df\n",
    "# # N1 - total number of positive samples in df\n",
    "# N0, N1 = classes[0]['count'], classes[1]['count']\n",
    "# f = N1/N0\n",
    "# L = (N0 + N1) // num_part\n",
    "# frac_poly0 = 1.\n",
    "# frac_poly1 = 1.\n",
    "\n",
    "# path_to_hdfs = os.path.join('/user', curruser, 'csv')\n",
    "# # frac = sdf.select('target').distinct().withColumn('fraction', f.lit(frac_ratio)).rdd.collectAsMap()\n",
    "\n",
    "# idx_dct={}\n",
    "# resid_sdf = sdf_proc\n",
    "\n",
    "# # K-fold Stratified Sampling\n",
    "# # Each pass keeps target value of fraction f as ratio of positive to negative samples\n",
    "# for i in tqdm_notebook(range(num_part)):\n",
    "#     if i!=(num_part-2):\n",
    "#         f00 = L/(N0*frac_poly0*(1.+f))\n",
    "#         f01 = L*f/(N1*frac_poly1*(1.+f))\n",
    "#         print(\"curr fractions on step {} --> neg: {}, pos: {}\".format(i,f00,f01))\n",
    "#         frac= {0: f00, 1: f01}\n",
    "#         sdf_proc_fr = resid_sdf.sampleBy('target', frac, seed)\n",
    "#         resid_sdf = resid_sdf.join(sdf_proc_fr, on='row_num', how='left_anti')\n",
    "#         # adjust frac value to keep total num of records in each class \n",
    "#         # being sampled at each new iteration\n",
    "#         frac_poly0 = (1.-f00)*frac_poly0\n",
    "#         frac_poly1 = (1.-f01)*frac_poly1        \n",
    "#     else:\n",
    "#         sdf_proc_fr = resid_sdf\n",
    "        \n",
    "#     sdf_proc_fr.coalesce(1).write \\\n",
    "#                            .format('com.databricks.spark.csv') \\\n",
    "#                            .mode('append') \\\n",
    "#                            .option('sep', ';') \\\n",
    "#                            .option('header', True) \\\n",
    "#                            .option(\"quote\", '\\u0000') \\\n",
    "#                            .save(path_to_hdfs)    \n",
    "    \n",
    "#     del sdf_proc_fr\n",
    "#     gc.collect()        \n",
    "    \n",
    "#     idx_dct = dict(idx_dct, **{str(i):sdf_proc_fr.select('row_num').toPandas().values.tolist()})"
   ]
  },
  {
   "cell_type": "markdown",
   "metadata": {},
   "source": [
    "### Export readymade dataset to HDFS (without suspending the class balance in each buckets)"
   ]
  },
  {
   "cell_type": "code",
   "execution_count": null,
   "metadata": {
    "collapsed": true,
    "scrolled": false
   },
   "outputs": [],
   "source": [
    "hdfs_path = 'csv'\n",
    "path_to_hdfs = os.path.join('/user', curruser, 'csv')\n",
    "\n",
    "sdf_proc.coalesce(5).write \\\n",
    "                     .format('com.databricks.spark.csv') \\\n",
    "                     .mode('append') \\\n",
    "                     .option('sep', ';') \\\n",
    "                     .option('header', True) \\\n",
    "                     .option(\"quote\", '\\u0000') \\\n",
    "                     .save(path_to_hdfs)"
   ]
  },
  {
   "cell_type": "markdown",
   "metadata": {},
   "source": [
    "### Export all column names for usage in following steps"
   ]
  },
  {
   "cell_type": "code",
   "execution_count": 57,
   "metadata": {
    "collapsed": true
   },
   "outputs": [],
   "source": [
    "filepath = 'csv/'\n",
    "filename = 'df_cols'\n",
    "\n",
    "cols = set(sdf_proc.columns)-set(['row_num'])\n",
    "with open(os.path.join(filepath, filename), \"w\", encoding='cp1251') as f:\n",
    "    f.write(\"\\n\".join(cols))"
   ]
  },
  {
   "cell_type": "markdown",
   "metadata": {},
   "source": [
    "## XGboost Incremental UpTrain/ReTrain"
   ]
  },
  {
   "cell_type": "markdown",
   "metadata": {
    "collapsed": true
   },
   "source": [
    "### Load Previously PreTrained Xgboost model"
   ]
  },
  {
   "cell_type": "code",
   "execution_count": 59,
   "metadata": {
    "collapsed": true
   },
   "outputs": [],
   "source": [
    "import xgboost\n",
    "from xgboost import XGBClassifier\n",
    "\n",
    "from sklearn.metrics import roc_auc_score, f1_score, accuracy_score, \\\n",
    "                            classification_report, precision_score, \\\n",
    "                            recall_score, roc_curve, precision_recall_curve, \\\n",
    "                            average_precision_score, make_scorer, confusion_matrix, get_scorer\n",
    "\n",
    "from sklearn.model_selection import train_test_split, RandomizedSearchCV, StratifiedShuffleSplit, StratifiedKFold\n",
    "from sklearn.pipeline import Pipeline, FeatureUnion\n",
    "from sklearn.preprocessing import binarize\n",
    "from time import time\n",
    "import ast"
   ]
  },
  {
   "cell_type": "code",
   "execution_count": 9,
   "metadata": {
    "collapsed": true
   },
   "outputs": [],
   "source": [
    "def get_metrics(y_pred, y, average='binary'):\n",
    "    print(classification_report(y, y_pred, digits=5, ))\n",
    "    recall = recall_score(y, y_pred, average=average)\n",
    "    precision=precision_score(y, y_pred,average=average)\n",
    "    f1=f1_score(y, y_pred,average=average)\n",
    "    \n",
    "    return recall, precision, f1"
   ]
  },
  {
   "cell_type": "markdown",
   "metadata": {},
   "source": [
    "### Gather Params"
   ]
  },
  {
   "cell_type": "code",
   "execution_count": 10,
   "metadata": {},
   "outputs": [
    {
     "name": "stdout",
     "output_type": "stream",
     "text": [
      "...load xgb model from--> xgb_best_param_wFT_10M_200613.pkl\n"
     ]
    }
   ],
   "source": [
    "for file in os.listdir('./pkl'):\n",
    "    if file.endswith('pkl'):\n",
    "        print(\"...load xgb model from--> {}\".format(file))\n",
    "        xgb = joblib.load('./pkl/{}'.format(file))"
   ]
  },
  {
   "cell_type": "code",
   "execution_count": 11,
   "metadata": {
    "collapsed": true,
    "scrolled": true
   },
   "outputs": [],
   "source": [
    "xgb_params = xgb.get_params()\n",
    "xgb_params = dict(xgb_params,**{'n_jobs'   : 15,\n",
    "                                'verbosity': 1})"
   ]
  },
  {
   "cell_type": "markdown",
   "metadata": {},
   "source": [
    "### List available HDFS dir containing csv files"
   ]
  },
  {
   "cell_type": "code",
   "execution_count": 12,
   "metadata": {
    "scrolled": true
   },
   "outputs": [
    {
     "name": "stdout",
     "output_type": "stream",
     "text": [
      "/user/ektov1-av_ca-sbrf-ru/csv/part-00000-02105222-24bc-4b62-aa5d-b648a7741827-c000.csv\n",
      "/user/ektov1-av_ca-sbrf-ru/csv/part-00000-19f4bd04-4ca4-4f67-9da7-7b29688bf041-c000.csv\n",
      "/user/ektov1-av_ca-sbrf-ru/csv/part-00000-2b67de89-ead4-4006-bc14-6cab63a776aa-c000.csv\n",
      "/user/ektov1-av_ca-sbrf-ru/csv/part-00000-3893af45-52c1-4d01-9baf-83efef6d8521-c000.csv\n",
      "/user/ektov1-av_ca-sbrf-ru/csv/part-00000-3f33c84a-8570-4e31-85fa-3935b23a9e98-c000.csv\n",
      "/user/ektov1-av_ca-sbrf-ru/csv/part-00000-5c397906-60fa-4c32-9007-ff8b176470d8-c000.csv\n",
      "/user/ektov1-av_ca-sbrf-ru/csv/part-00000-68ec6e16-c45d-4903-b57c-cdbe5facf21b-c000.csv\n",
      "/user/ektov1-av_ca-sbrf-ru/csv/part-00000-779db6a1-728b-4756-9c11-a6bb58fc6902-c000.csv\n",
      "/user/ektov1-av_ca-sbrf-ru/csv/part-00000-89c7c926-a03f-4dac-8b20-1296607a85f3-c000.csv\n",
      "/user/ektov1-av_ca-sbrf-ru/csv/part-00000-9fee85a2-7b94-423f-91a5-66a44e6fcb54-c000.csv\n",
      "/user/ektov1-av_ca-sbrf-ru/csv/part-00000-e1e81549-11c6-4701-86ea-611eed74d758-c000.csv\n"
     ]
    }
   ],
   "source": [
    "datacsv = []\n",
    "cmd = \"hdfs dfs -ls /user/'%s'/csv/ | awk '{print $8}'\" % curruser\n",
    "hdfs_files = str(subprocess.check_output(cmd, shell=True)).strip().split('\\\\n')\n",
    "for hfiles in hdfs_files:\n",
    "    if hfiles.endswith('csv'):\n",
    "        print(hfiles)\n",
    "        datacsv.append(hfiles)"
   ]
  },
  {
   "cell_type": "markdown",
   "metadata": {},
   "source": [
    "## START: Incremental Learning"
   ]
  },
  {
   "cell_type": "markdown",
   "metadata": {},
   "source": [
    "### Stop previously used context and claim Yarn master to approve new job"
   ]
  },
  {
   "cell_type": "code",
   "execution_count": null,
   "metadata": {
    "collapsed": true,
    "scrolled": true
   },
   "outputs": [],
   "source": [
    "sp.sc.stop()"
   ]
  },
  {
   "cell_type": "code",
   "execution_count": 9,
   "metadata": {},
   "outputs": [
    {
     "name": "stdout",
     "output_type": "stream",
     "text": [
      "2.4.0.cloudera2\n",
      "CPU times: user 27 ms, sys: 30.4 ms, total: 57.4 ms\n",
      "Wall time: 23.2 s\n"
     ]
    }
   ],
   "source": [
    "%%time\n",
    "sp = spark(schema='sbx_team_digitcamp', \n",
    "           sparkVersion='2.2',\n",
    "           dynamic_alloc=False,\n",
    "           numofinstances=20, \n",
    "           numofcores=8,\n",
    "           kerberos_auth=False) \n",
    "print(sp.sc.version)\n",
    "hive = sp.sql"
   ]
  },
  {
   "cell_type": "code",
   "execution_count": 13,
   "metadata": {
    "collapsed": true
   },
   "outputs": [],
   "source": [
    "with open('./csv/df_cols', 'r') as fin:\n",
    "    res = fin.readlines()\n",
    "cols = [re.sub('\\\\n','',line) for line in res]"
   ]
  },
  {
   "cell_type": "markdown",
   "metadata": {},
   "source": [
    "### Make a Prediction Using Pretrained Model"
   ]
  },
  {
   "cell_type": "code",
   "execution_count": 14,
   "metadata": {
    "collapsed": true
   },
   "outputs": [],
   "source": [
    "hdfsfile='hdfs:///'+datacsv[0]\n",
    "sp.sc.addFile(hdfsfile)\n",
    "\n",
    "df = pd.read_csv(filepath_or_buffer = SparkFiles.get(hdfsfile.split('csv/')[-1]), \n",
    "                 sep = ';', nrows=None, \n",
    "                 engine='python',\n",
    "                 dtype = dict({col: np.float32 for col in cols if col not in ('target')}, **{'target' : np.int32})\n",
    "                 ) "
   ]
  },
  {
   "cell_type": "code",
   "execution_count": 12,
   "metadata": {},
   "outputs": [
    {
     "data": {
      "text/plain": [
       "(571254, 440)"
      ]
     },
     "execution_count": 12,
     "metadata": {},
     "output_type": "execute_result"
    }
   ],
   "source": [
    "df.shape"
   ]
  },
  {
   "cell_type": "code",
   "execution_count": 15,
   "metadata": {
    "collapsed": true,
    "scrolled": true
   },
   "outputs": [],
   "source": [
    "df.drop(columns=['sum_open_click_camp'], inplace=True, axis=1)"
   ]
  },
  {
   "cell_type": "code",
   "execution_count": 17,
   "metadata": {
    "scrolled": true
   },
   "outputs": [
    {
     "name": "stdout",
     "output_type": "stream",
     "text": [
      "              precision    recall  f1-score   support\n",
      "\n",
      "           0    0.86329   0.88854   0.87573    145565\n",
      "           1    0.24727   0.20649   0.22505     25812\n",
      "\n",
      "   micro avg    0.78581   0.78581   0.78581    171377\n",
      "   macro avg    0.55528   0.54752   0.55039    171377\n",
      "weighted avg    0.77051   0.78581   0.77773    171377\n",
      "\n",
      "Hold Out: \n",
      "Precision: 0.24727, Recall: 0.20649, F_1: 0.22505\n"
     ]
    }
   ],
   "source": [
    "X_train, X_test, y_train, y_test = \\\n",
    "train_test_split(df.drop(['target'], axis=1), df.target,\n",
    "                 stratify = df.target,\n",
    "                 random_state=42, shuffle=True, test_size=0.3)\n",
    "\n",
    "try:\n",
    "    y_pred = xgb.predict(X_test.astype(dtype=np.float32))\n",
    "except ValueError as err:\n",
    "    colsstr = str(err).split('feature_names mismatch: ')[1].split(' [')[0]\n",
    "    getcolslist = list(ast.literal_eval(colsstr[1:-1]))\n",
    "    X_test = X_test[getcolslist]       \n",
    "    y_pred = xgb.predict(X_test.astype(dtype=np.float32))\n",
    "    \n",
    "recall_ts, precision_ts, f1_ts =  get_metrics(y_pred.astype(int), y_test.astype(int))\n",
    "                                                  \n",
    "print('Hold Out: ')\n",
    "print('Precision: %7.5f, Recall: %7.5f, F_1: %7.5f' % \n",
    "(precision_ts, recall_ts, f1_ts))\n",
    "\n",
    "del X_train, X_test, y_train, y_test"
   ]
  },
  {
   "cell_type": "markdown",
   "metadata": {},
   "source": [
    "### Find Pr/Re curves Intersection and set a new threshold for logits binarization"
   ]
  },
  {
   "cell_type": "code",
   "execution_count": 115,
   "metadata": {},
   "outputs": [
    {
     "data": {
      "image/png": "[encoded data removed]",
      "text/plain": [
       "<matplotlib.figure.Figure at 0x7f9d14134da0>"
      ]
     },
     "metadata": {},
     "output_type": "display_data"
    }
   ],
   "source": [
    "X_train, X_test, y_train, y_test = \\\n",
    "train_test_split(df.drop(['target'], axis=1), df.target,\n",
    "                 stratify = df.target,\n",
    "                 random_state=42, shuffle=True, test_size=0.70)\n",
    "\n",
    "try:\n",
    "    y_proba = xgb.predict_proba(X_test.astype(dtype=np.float32))\n",
    "except ValueError as err:\n",
    "    colsstr = str(err).split('feature_names mismatch: ')[1].split(' [')[0]\n",
    "    getcolslist = list(ast.literal_eval(colsstr[1:-1]))\n",
    "    X_test = X_test[getcolslist]       \n",
    "    y_proba = xgb.predict_proba(X_test.astype(dtype=np.float32))[:,1]\n",
    "\n",
    "    \n",
    "re, pr, f1 = Plot.precision_recall_threshold_curve(y_test, y_proba)"
   ]
  },
  {
   "cell_type": "code",
   "execution_count": 116,
   "metadata": {
    "collapsed": true
   },
   "outputs": [],
   "source": [
    "thresholds = np.arange(0.01, 1.05, 0.01)"
   ]
  },
  {
   "cell_type": "code",
   "execution_count": 117,
   "metadata": {
    "scrolled": true
   },
   "outputs": [
    {
     "data": {
      "text/plain": [
       "(48, 0.2301642931632845)"
      ]
     },
     "execution_count": 117,
     "metadata": {},
     "output_type": "execute_result"
    }
   ],
   "source": [
    "# Pr/Re intersection point\n",
    "intersec_arg = np.argwhere(np.isclose(re, pr, atol=0.02)).ravel()[0]\n",
    "intersec_arg, pr[intersec_arg]"
   ]
  },
  {
   "cell_type": "code",
   "execution_count": 118,
   "metadata": {
    "scrolled": true
   },
   "outputs": [
    {
     "data": {
      "text/plain": [
       "12"
      ]
     },
     "execution_count": 118,
     "metadata": {},
     "output_type": "execute_result"
    }
   ],
   "source": [
    "# point at which F1 becomes maximum\n",
    "f1_max_indx = np.argwhere(np.array(f1) == np.array(f1)[~np.isnan(f1)].max()).ravel()[0]\n",
    "f1_max_indx"
   ]
  },
  {
   "cell_type": "code",
   "execution_count": 121,
   "metadata": {},
   "outputs": [
    {
     "data": {
      "text/plain": [
       "30"
      ]
     },
     "execution_count": 121,
     "metadata": {},
     "output_type": "execute_result"
    }
   ],
   "source": [
    "# choose an average threshold point in order to maximize Re but not to degrage Pr simultaneosly \n",
    "avg_indx =f1_max_indx + np.round(0.5*(intersec_arg - f1_max_indx )).astype(int)\n",
    "avg_indx"
   ]
  },
  {
   "cell_type": "code",
   "execution_count": 122,
   "metadata": {},
   "outputs": [
    {
     "name": "stdout",
     "output_type": "stream",
     "text": [
      "              precision    recall  f1-score   support\n",
      "\n",
      "           0    0.86766   0.26052   0.40073    339650\n",
      "           1    0.15687   0.77592   0.26098     60228\n",
      "\n",
      "   micro avg    0.33815   0.33815   0.33815    399878\n",
      "   macro avg    0.51227   0.51822   0.33085    399878\n",
      "weighted avg    0.76061   0.33815   0.37968    399878\n",
      "\n"
     ]
    }
   ],
   "source": [
    "y_pred = binarize(y_proba.reshape(-1, 1), threshold=thresholds[avg_indx]).reshape(-1)\n",
    "recall_ts, precision_ts, f1_ts =  get_metrics(y_pred.astype(int), y_test.astype(int))"
   ]
  },
  {
   "cell_type": "code",
   "execution_count": 123,
   "metadata": {},
   "outputs": [
    {
     "data": {
      "text/plain": [
       "0.21702394242379347"
      ]
     },
     "execution_count": 123,
     "metadata": {},
     "output_type": "execute_result"
    }
   ],
   "source": [
    "average_precision_score(y_test, y_proba)"
   ]
  },
  {
   "cell_type": "markdown",
   "metadata": {
    "collapsed": true
   },
   "source": [
    "### Incremental UPTraining"
   ]
  },
  {
   "cell_type": "code",
   "execution_count": null,
   "metadata": {
    "collapsed": true,
    "scrolled": true
   },
   "outputs": [],
   "source": [
    "cls = xgb\n",
    "\n",
    "for i, data in enumerate(tqdm_notebook(datacsv)):\n",
    "    \n",
    "    spStopCheck = sp.sc._jsc.sc().isStopped()\n",
    "    if not spStopCheck:\n",
    "        print(\"### Spark context is still alive!\")\n",
    "    else:\n",
    "        sp.sc.stop()\n",
    "        sp = spark(schema='sbx_team_digitcamp', \n",
    "                   sparkVersion='2.2',\n",
    "                   dynamic_alloc=False,\n",
    "                   numofinstances=40, \n",
    "                   numofcores=8,\n",
    "                   kerberos_auth=False) \n",
    "        hive = sp.sql\n",
    "        \n",
    "    print(\"...working with file--> {}\".format(data))\n",
    "       \n",
    "#    tr_sdf = hive.read \\\n",
    "#              .format('com.databricks.spark.csv') \\\n",
    "#              .option('sep', ';') \\\n",
    "#              .option('header', True) \\\n",
    "#              .option(\"quote\", '\\u0000') \\\n",
    "#              .load(data)\n",
    "\n",
    "#     df = tr_sdf.toPandas()\n",
    "#     pos = df['target'].sum()\n",
    "#     cnt = df['target'].count()\n",
    "#     frac = np.around(pos/(cnt-pos)*100, 3)\n",
    "#     print(\"class balance at {} step: {}\".format(i,frac))\n",
    "\n",
    "    hdfsfile='hdfs:///'+data\n",
    "    sp.sc.addFile(hdfsfile)\n",
    "    df = pd.read_csv(filepath_or_buffer = SparkFiles.get(hdfsfile.split('csv/')[-1]), \n",
    "                     sep = ';', nrows=None, \n",
    "                     engine='python',\n",
    "                     dtype = dict({col: np.float32 for col in cols if col not in ('target')}, **{'target' : np.int32})\n",
    "                     ) \n",
    "    \n",
    "    df.drop(columns=['sum_open_click_camp'], inplace=True)\n",
    "    \n",
    "    print(\"...Start of incremental training #{}\".format(i)) \n",
    "    X_train, X_test, y_train, y_test = \\\n",
    "    train_test_split(df.drop(['target'], axis=1), df.target,\n",
    "                     stratify = df.target,\n",
    "                     random_state=42, shuffle=True, test_size=0.1)\n",
    "       \n",
    "    xgb_params = dict(xgb_params,**{'n_jobs'   : 15,\n",
    "                                    'verbosity': 1,\n",
    "                                    'update':'refresh',\n",
    "                                    'process_type':'default',\n",
    "                                    'refresh_leaf':True,                                    \n",
    "                                    'xgb_model': cls})\n",
    "\n",
    "    del df\n",
    "    gc.collect()\n",
    "    \n",
    "#     X_train = X_train.astype(dtype=np.float32)\n",
    "    cls = XGBClassifier(**xgb_params)  \n",
    "    cls.fit(X_train, y_train)\n",
    "    \n",
    "    del X_train, y_train\n",
    "    gc.collect()\n",
    "    \n",
    "    print(\"...End of incremental training #{}\".format(i))\n",
    "    print(\"#\"*60)   \n",
    "    X_test = X_test.astype(dtype=np.float32)\n",
    "    y_pred = cls.predict(X_test)\n",
    "    \n",
    "    del X_test\n",
    "    gc.collect()\n",
    "    \n",
    "    y_pred = y_pred.astype(int) \n",
    "    y_test = y_test.astype(int)\n",
    "    recall_ts, precision_ts, f1_ts =  get_metrics(y_pred, y_test)\n",
    "    print('Hold Out: ')\n",
    "    print(\"Precision: {:7.5f}, Recall: {:7.5f}, F_1: {:7.5f}\".format(precision_ts, recall_ts, f1_ts))\n",
    "    print(\"#\"*60)\n",
    "    \n",
    "    del y_test, y_pred\n",
    "    gc.collect()\n",
    "    sleep(1)"
   ]
  },
  {
   "cell_type": "markdown",
   "metadata": {
    "collapsed": true
   },
   "source": [
    "### Train on whole data"
   ]
  },
  {
   "cell_type": "code",
   "execution_count": null,
   "metadata": {
    "collapsed": true,
    "scrolled": true
   },
   "outputs": [],
   "source": [
    "hdfsfile='hdfs:///'+datacsv[0]\n",
    "sp.sc.addFile(hdfsfile)\n",
    "\n",
    "df = pd.read_csv(filepath_or_buffer = SparkFiles.get(hdfsfile.split('csv/')[-1]), \n",
    "                 sep = ';', nrows=0, \n",
    "                 engine='python',\n",
    "                 dtype = dict({col: np.float32 for col in cols if col not in ('target')}, **{'target' : np.int32})\n",
    "                 ) \n",
    "\n",
    "\n",
    "for i, data in enumerate(tqdm_notebook(datacsv)):\n",
    "    \n",
    "    spStopCheck = sp.sc._jsc.sc().isStopped()\n",
    "    if not spStopCheck:\n",
    "        print(\"### Spark context is still alive!\")\n",
    "    else:\n",
    "        sp.sc.stop()\n",
    "        sp = spark(schema='sbx_team_digitcamp', \n",
    "                   sparkVersion='2.2',\n",
    "                   dynamic_alloc=False,\n",
    "                   numofinstances=40, \n",
    "                   numofcores=8,\n",
    "                   kerberos_auth=False) \n",
    "        hive = sp.sql\n",
    "        \n",
    "    print(\"...working with file--> {}\".format(data))\n",
    "    \n",
    "    hdfsfile='hdfs:///'+data\n",
    "    sp.sc.addFile(hdfsfile)\n",
    "    dftmp = pd.read_csv(filepath_or_buffer = SparkFiles.get(hdfsfile.split('csv/')[-1]), \n",
    "                     sep = ';', nrows=None, \n",
    "                     engine='python',\n",
    "                     dtype = dict({col: np.float32 for col in cols if col not in ('target')}, **{'target' : np.int32})\n",
    "                     ) \n",
    "    \n",
    "    \n",
    "    df = pd.concat([df,dftmp], ignore_index=True)\n",
    "    del dftmp\n",
    "    gc.collect()\n",
    "    print(df.shape)    "
   ]
  },
  {
   "cell_type": "code",
   "execution_count": null,
   "metadata": {
    "collapsed": true
   },
   "outputs": [],
   "source": []
  },
  {
   "cell_type": "markdown",
   "metadata": {},
   "source": [
    "## Clean tmp files"
   ]
  },
  {
   "cell_type": "code",
   "execution_count": 7,
   "metadata": {},
   "outputs": [
    {
     "data": {
      "text/plain": [
       "DataFrame[]"
      ]
     },
     "execution_count": 7,
     "metadata": {},
     "output_type": "execute_result"
    }
   ],
   "source": [
    "hive.sql(\"drop table if exists sbx_team_digitcamp.tmp_resp_inn_kpp_train_sampl\")"
   ]
  },
  {
   "cell_type": "code",
   "execution_count": 12,
   "metadata": {},
   "outputs": [
    {
     "data": {
      "text/plain": [
       "0"
      ]
     },
     "execution_count": 12,
     "metadata": {},
     "output_type": "execute_result"
    }
   ],
   "source": [
    "subprocess.call(['hdfs', 'dfs', '-rm', '-r', '-f', '-skipTrash', '/user/ektov/csv/*'])"
   ]
  },
  {
   "cell_type": "code",
   "execution_count": null,
   "metadata": {
    "collapsed": true
   },
   "outputs": [],
   "source": []
  }
 ],
 "metadata": {
  "kernelspec": {
   "display_name": "Python 3",
   "language": "python",
   "name": "python3"
  },
  "language_info": {
   "codemirror_mode": {
    "name": "ipython",
    "version": 3
   },
   "file_extension": ".py",
   "mimetype": "text/x-python",
   "name": "python",
   "nbconvert_exporter": "python",
   "pygments_lexer": "ipython3",
   "version": "3.7.4"
  },
  "pycharm": {
   "stem_cell": {
    "cell_type": "raw",
    "source": [],
    "metadata": {
     "collapsed": false
    }
   }
  }
 },
 "nbformat": 4,
 "nbformat_minor": 2
}