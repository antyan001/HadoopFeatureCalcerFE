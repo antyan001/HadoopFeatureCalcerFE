{
 "cells": [
  {
   "cell_type": "code",
   "execution_count": 1,
   "metadata": {
    "collapsed": true
   },
   "outputs": [],
   "source": [
    "%load_ext autoreload\n",
    "%autoreload 2"
   ]
  },
  {
   "cell_type": "code",
   "execution_count": null,
   "metadata": {
    "collapsed": true,
    "scrolled": true
   },
   "outputs": [],
   "source": [
    "import os\n",
    "import sys\n",
    "import warnings\n",
    "warnings.filterwarnings('ignore')\n",
    "\n",
    "from collections import OrderedDict\n",
    "from pathlib import Path\n",
    "import pandas as pd \n",
    "import numpy as np\n",
    "import re \n",
    "import joblib\n",
    "\n",
    "pd.set_option('display.float_format', lambda x: '%.3f' % x)\n",
    "pd.set_option('display.max_colwidth', -1)\n",
    "pd.set_option('display.max_rows', None)\n",
    "pd.set_option('display.max_columns', None)\n",
    "\n",
    "curruser = os.environ.get('USER')\n",
    "\n",
    "isUseOptWorkspace = False\n",
    "sys.path.insert(0, './../src')\n",
    "\n",
    "if isUseOptWorkspace:\n",
    "    sys.path.insert(0, '/opt/workspace/{}/notebooks/ecom_model/src/'.format(curruser))\n",
    "    sys.path.insert(0, '/opt/workspace/{}/notebooks/support_library/'.format(curruser)) \n",
    "    sys.path.insert(0, '/opt/workspace/{}/libs/python3.5/site-packages/'.format(curruser))\n",
    "    sys.path.insert(0, '/opt/workspace/{}/notebooks/labdata/lib/'.format(curruser))\n",
    "else:\n",
    "    sys.path.insert(0, '/home/{}/notebooks/ecom_model/src/'.format(curruser))\n",
    "    sys.path.insert(0, '/home/{}/notebooks/support_library/'.format(curruser)) \n",
    "    sys.path.insert(0, '/home/{}/python35-libs/lib/python3.5/site-packages/'.format(curruser))\n",
    "    sys.path.insert(0, '/home/{}/notebooks/labdata/lib/'.format(curruser))\n",
    "\n",
    "from preprosessing import Preproc\n",
    "from corpora_transform_main import TfIdfFastTextEmbedVectorizer\n",
    "\n",
    "# from tqdm import tqdm\n",
    "# from tqdm._tqdm_notebook import tqdm_notebook\n",
    "# tqdm_notebook.pandas()\n",
    "\n",
    "from spark_connector import SparkConnector\n",
    "from sparkdb_loader import spark\n",
    "# from spark_helper import SparkHelper\n",
    "from connector import OracleDB\n",
    "import pyspark\n",
    "from pyspark import SparkContext, SparkConf, HiveContext\n",
    "from pyspark.sql import functions as f\n",
    "from pyspark.sql.window import Window\n",
    "from pyspark.sql.types import *\n",
    "from pyspark.sql.dataframe import DataFrame\n",
    "from pyspark.ml import Pipeline, PipelineModel\n",
    "from pyspark.ml.feature import StringIndexer\n",
    "\n",
    "import loader as load\n",
    "\n",
    "from corpora_process import utils\n",
    "from processing import Preproc_Response\n",
    "import time\n",
    "from datetime import datetime\n",
    "from dateutil.relativedelta import relativedelta\n",
    "\n",
    "from itertools import islice\n",
    "from multiprocessing import Pool, Process, JoinableQueue\n",
    "from multiprocessing.pool import ThreadPool\n",
    "from functools import partial\n",
    "import numpy as np\n",
    "import subprocess\n",
    "from threading import Thread\n",
    "from joblib import Parallel, delayed"
   ]
  },
  {
   "cell_type": "code",
   "execution_count": 3,
   "metadata": {
    "collapsed": true
   },
   "outputs": [],
   "source": [
    "def drop_col(df, cols: list):\n",
    "    scol = sdf.columns\n",
    "    final_cols = [i for i in scol if i not in cols]\n",
    "    return df.select(*final_cols)\n",
    "\n",
    "def show(self, n=10):\n",
    "    return self.limit(n).toPandas()\n",
    "pyspark.sql.dataframe.DataFrame.show = show"
   ]
  },
  {
   "cell_type": "code",
   "execution_count": 4,
   "metadata": {
    "scrolled": true
   },
   "outputs": [
    {
     "name": "stdout",
     "output_type": "stream",
     "text": [
      "2.4.0.cloudera2\n",
      "CPU times: user 35.9 ms, sys: 19.8 ms, total: 55.7 ms\n",
      "Wall time: 27.6 s\n"
     ]
    }
   ],
   "source": [
    "%%time\n",
    "table_name = 'sendsay_data_predict'\n",
    "sp = spark(schema='sbx_team_digitcamp', \n",
    "           sparkVersion='2.2',\n",
    "           dynamic_alloc=False,\n",
    "           numofinstances=40, \n",
    "           numofcores=8,\n",
    "           kerberos_auth=False,\n",
    "           output=table_name) \n",
    "print(sp.sc.version)\n",
    "hive = sp.sql"
   ]
  },
  {
   "cell_type": "code",
   "execution_count": 5,
   "metadata": {
    "collapsed": true
   },
   "outputs": [],
   "source": [
    "# sp.exit()"
   ]
  },
  {
   "cell_type": "markdown",
   "metadata": {},
   "source": [
    "### Collect all user responses for the whole historical period"
   ]
  },
  {
   "cell_type": "code",
   "execution_count": 6,
   "metadata": {
    "collapsed": true
   },
   "outputs": [],
   "source": [
    "all_sdf = hive.sql('''\n",
    "with\n",
    "--v0.0.7\n",
    "--04.12.2019 19:20\n",
    "w_resp as(\n",
    "      select \n",
    "        regexp_extract(organization_id, '(\\\\\\\\d{10,12})(?:_)') as inn,\n",
    "        regexp_extract(organization_id, '(?:_)(\\\\\\\\d{3,})')    as kpp,\n",
    "        organization_id,\n",
    "        concat_ws('_', organization_id, resp_tracking_cd) as custid_value,\n",
    "        campaign_nm,\n",
    "        response_dttm,\n",
    "        response,\n",
    "        load_dt\n",
    "        \n",
    "       from sbx_team_digitcamp.sme_cdm_v_response\n",
    "      where lower(response) rlike '^(?=.*sendsay)(?!.*(ошиб|отпис|спам|не удалось|в процессе|доставлено)).*' \n",
    "        --and load_dt <= timestamp('%s')\n",
    "        --and organization_id like '%6446004324%'  \n",
    "        --and organization_id like '%6454010956%'\n",
    "        \n",
    "),\n",
    "w_send as (\n",
    "    select \n",
    "      regexp_extract(organization_id, '(\\\\\\\\d{10,12})(?:_)') as inn,\n",
    "      regexp_extract(organization_id, '(?:_)(\\\\\\\\d{3,})') as kpp,\n",
    "      organization_id,\n",
    "      tracking_id as custid_value,\n",
    "      campaign_nm,\n",
    "      int_update_dttm as response_dttm,\n",
    "      'SendSay. Сообщение доставлено' as response,\n",
    "      load_dt,\n",
    "      email, email_subject,\n",
    "      customer_text_01, customer_text_02, customer_text_03, customer_text_04, customer_text_05,\n",
    "      customer_text_06, customer_text_07, customer_text_08, customer_text_09, customer_text_10,\n",
    "      customer_text_11, customer_text_12, customer_text_13, customer_text_14, customer_text_15,\n",
    "      customer_text_16, customer_text_17, customer_text_18, customer_text_19, customer_text_20,\n",
    "      message_title\n",
    "    from sbx_team_digitcamp.sme_email_to_sendsay\n",
    "   where 1=1\n",
    "     --and load_dt <= timestamp('%s')\n",
    "     --and organization_id like '%6446004324%'  \n",
    "     --and organization_id like '%6454010956%'\n",
    "),\n",
    "w_only_send as (\n",
    "    select s.* from (select distinct organization_id from w_resp) r\n",
    "        left join w_send s on r.organization_id = s.organization_id \n",
    "),\n",
    "w_base as(\n",
    "    select * from \n",
    "    (--text columns in line for response\n",
    "        select \n",
    "         row_number() over (partition by r.organization_id, r.campaign_nm, r.response_dttm, r.response order by r.response_dttm) as rn,\n",
    "         r.inn, r.kpp, r.organization_id, r.custid_value, r.campaign_nm, r.response_dttm, r.response,\n",
    "         r.load_dt,\n",
    "         s.email, s.email_subject,\n",
    "         s.customer_text_01, s.customer_text_02, s.customer_text_03, s.customer_text_04, s.customer_text_05,\n",
    "         s.customer_text_06, s.customer_text_07, s.customer_text_08, s.customer_text_09, s.customer_text_10,\n",
    "         s.customer_text_11, s.customer_text_12, s.customer_text_13, s.customer_text_14, s.customer_text_15,\n",
    "         s.customer_text_16, s.customer_text_17, s.customer_text_18, s.customer_text_19, s.customer_text_20,\n",
    "         s.message_title\n",
    "        from w_resp r\n",
    "        left join w_only_send s on r.organization_id = s.organization_id\n",
    "                              and r.campaign_nm = s.campaign_nm                 \n",
    "         where length(r.inn) >=10\n",
    "        ) where rn = 1\n",
    "    \n",
    "    union\n",
    "\n",
    "    select '' as rn, * from w_only_send\n",
    "     where length(inn) >=10\n",
    ")\n",
    "select \n",
    "       inn\n",
    "      ,kpp \n",
    "      ,campaign_nm \n",
    "      ,organization_id\n",
    "      ,custid_value\n",
    "      ,response_dttm\n",
    "      ,response\n",
    "      ,date_format(response_dttm, 'yyyy-MM-dd') as asday\n",
    "      ,date_format(last_day(response_dttm), 'yyyy-MM-dd') as last_day\n",
    "      ,date_format(response_dttm, 'HH:mm:ss') as astime\n",
    "      ,date_format(response_dttm, 'HH') as ashour\n",
    "      ,date_format(response_dttm, 'EEEE') as asdayname\n",
    "      ,load_dt\n",
    "      ,email\n",
    "      ,email_subject,\n",
    "      customer_text_01, customer_text_02, customer_text_03, customer_text_04, customer_text_05,\n",
    "      customer_text_06, customer_text_07, customer_text_08, customer_text_09, customer_text_10,\n",
    "      customer_text_11, customer_text_12, customer_text_13, customer_text_14, customer_text_15,\n",
    "      customer_text_16, customer_text_17, customer_text_18, customer_text_19, customer_text_20,\n",
    "      message_title    \n",
    "from w_base   \n",
    "''') #% (max_load_dt_str, max_load_dt_str))"
   ]
  },
  {
   "cell_type": "code",
   "execution_count": 7,
   "metadata": {
    "collapsed": true
   },
   "outputs": [],
   "source": [
    "# all_sdf.cache()"
   ]
  },
  {
   "cell_type": "markdown",
   "metadata": {},
   "source": [
    "### Collect a list of daytime values based on the distinct values of `last_day` column"
   ]
  },
  {
   "cell_type": "code",
   "execution_count": 8,
   "metadata": {
    "collapsed": true,
    "scrolled": true
   },
   "outputs": [],
   "source": [
    "last_day_rows = all_sdf.select('last_day').distinct().collect()\n",
    "last_day_lst = [day['last_day'] for day in last_day_rows if day['last_day'] is not None]\n",
    "last_day_dt = sorted([datetime.strptime(day_str, '%Y-%m-%d') for day_str in last_day_lst])"
   ]
  },
  {
   "cell_type": "code",
   "execution_count": 9,
   "metadata": {},
   "outputs": [
    {
     "data": {
      "text/plain": [
       "(datetime.datetime(2020, 6, 30, 0, 0),\n",
       " datetime.datetime(2020, 5, 31, 0, 0),\n",
       " datetime.datetime(2020, 4, 30, 0, 0),\n",
       " datetime.datetime(2020, 3, 31, 0, 0))"
      ]
     },
     "execution_count": 9,
     "metadata": {},
     "output_type": "execute_result"
    }
   ],
   "source": [
    "last_day_dt[-1], last_day_dt[-2], last_day_dt[-3], last_day_dt[-4]"
   ]
  },
  {
   "cell_type": "markdown",
   "metadata": {},
   "source": [
    "### SAMPLING FOR VALIDATION DATASET "
   ]
  },
  {
   "cell_type": "code",
   "execution_count": 10,
   "metadata": {
    "collapsed": true
   },
   "outputs": [],
   "source": [
    "val_sdf = all_sdf.filter((f.col('response_dttm') >= last_day_dt[-4]))\n",
    "# val_sdf.cache()"
   ]
  },
  {
   "cell_type": "code",
   "execution_count": 11,
   "metadata": {
    "collapsed": true
   },
   "outputs": [],
   "source": [
    "# val_sdf.count()"
   ]
  },
  {
   "cell_type": "markdown",
   "metadata": {},
   "source": [
    "## Find min value of `response_dttm` in VAL dataset"
   ]
  },
  {
   "cell_type": "code",
   "execution_count": 12,
   "metadata": {},
   "outputs": [
    {
     "data": {
      "text/plain": [
       "datetime.datetime(2020, 3, 31, 0, 0, 14)"
      ]
     },
     "execution_count": 12,
     "metadata": {},
     "output_type": "execute_result"
    }
   ],
   "source": [
    "resp_dttm_min = val_sdf.select(f.min('response_dttm')).collect()\n",
    "resp_dttm_min_str = resp_dttm_min[0]['min(response_dttm)']\n",
    "resp_dttm_min_str"
   ]
  },
  {
   "cell_type": "markdown",
   "metadata": {},
   "source": [
    "## Roll back by 3 month from the min value of `last_open_time` and generate a temp dataframe for feature generation process"
   ]
  },
  {
   "cell_type": "code",
   "execution_count": 13,
   "metadata": {
    "collapsed": true
   },
   "outputs": [],
   "source": [
    "sendsay_delivered = 'SendSay. Сообщение доставлено'\n",
    "sendsay_openpage  = 'SendSay. Открытие страницы'\n",
    "sendsay_openlink  = 'SendSay. Переход по ссылке' "
   ]
  },
  {
   "cell_type": "code",
   "execution_count": 14,
   "metadata": {
    "collapsed": true
   },
   "outputs": [],
   "source": [
    "val_sdf = val_sdf \\\n",
    "        .withColumn('first_send_time', \n",
    "                    f.min(f.when(f.col('response') == sendsay_delivered, f.col('response_dttm')).otherwise(None))\\\n",
    "                    .over(Window.partitionBy('inn', 'kpp', 'campaign_nm')))\\\n",
    "        .withColumn('last_send_time', \n",
    "                    f.max(f.when(f.col('response') == sendsay_delivered, f.col('response_dttm')).otherwise(None))\\\n",
    "                    .over(Window.partitionBy('inn', 'kpp', 'campaign_nm')))\\\n",
    "        .withColumn('first_open_time', \n",
    "                    f.min(f.when((f.col('response') == sendsay_openpage), f.col('response_dttm')).otherwise(None))\\\n",
    "                    .over(Window.partitionBy('inn', 'kpp', 'campaign_nm')))\\\n",
    "        .withColumn('last_open_time', \n",
    "                    f.max(f.when((f.col('response') == sendsay_openpage), f.col('response_dttm')).otherwise(None))\\\n",
    "                    .over(Window.partitionBy('inn', 'kpp', 'campaign_nm')))\\\n",
    "        .withColumn('first_click_time', \n",
    "                    f.min(f.when((f.col('response') == sendsay_openlink), f.col('response_dttm')).otherwise(None))\\\n",
    "                    .over(Window.partitionBy('inn', 'kpp', 'campaign_nm')))\\\n",
    "        .withColumn('last_click_time', \n",
    "                    f.max(f.when((f.col('response') == sendsay_openlink),f.col('response_dttm')).otherwise(None))\\\n",
    "                                      .over(Window.partitionBy('inn', 'kpp', 'campaign_nm')))"
   ]
  },
  {
   "cell_type": "code",
   "execution_count": 15,
   "metadata": {
    "scrolled": true
   },
   "outputs": [
    {
     "data": {
      "text/plain": [
       "datetime.date(2020, 1, 31)"
      ]
     },
     "execution_count": 15,
     "metadata": {},
     "output_type": "execute_result"
    }
   ],
   "source": [
    "shiftd = 90\n",
    "shift_back  = val_sdf.select(f.last_day(f.add_months(f.trunc(f.from_unixtime(f.unix_timestamp(f.min('last_open_time')) - shiftd*24*60*60),'MM'),-1)).alias('monthback')).collect()\n",
    "shift_back  = shift_back[0]['monthback']\n",
    "shift_back"
   ]
  },
  {
   "cell_type": "code",
   "execution_count": 16,
   "metadata": {
    "collapsed": true
   },
   "outputs": [],
   "source": [
    "sdf = all_sdf.filter((f.col('response_dttm') >= shift_back))\n",
    "# sdf.cache()"
   ]
  },
  {
   "cell_type": "code",
   "execution_count": 17,
   "metadata": {
    "collapsed": true
   },
   "outputs": [],
   "source": [
    "# sdf.count()"
   ]
  },
  {
   "cell_type": "code",
   "execution_count": 18,
   "metadata": {
    "collapsed": true
   },
   "outputs": [],
   "source": [
    "del val_sdf"
   ]
  },
  {
   "cell_type": "markdown",
   "metadata": {},
   "source": [
    "# Main Features Generation Pipeline"
   ]
  },
  {
   "cell_type": "markdown",
   "metadata": {},
   "source": [
    "## Find inactive users (users without any open/click activity among overall history of communication) "
   ]
  },
  {
   "cell_type": "code",
   "execution_count": 19,
   "metadata": {
    "collapsed": true
   },
   "outputs": [],
   "source": [
    "sdf = sdf \\\n",
    "        .withColumn('first_send_time', \n",
    "                    f.min(f.when(f.col('response') == sendsay_delivered, f.col('response_dttm')).otherwise(None))\\\n",
    "                    .over(Window.partitionBy('inn', 'kpp', 'campaign_nm')))\\\n",
    "        .withColumn('last_send_time', \n",
    "                    f.max(f.when(f.col('response') == sendsay_delivered, f.col('response_dttm')).otherwise(None))\\\n",
    "                    .over(Window.partitionBy('inn', 'kpp', 'campaign_nm')))\\\n",
    "        .withColumn('first_open_time', \n",
    "                    f.min(f.when((f.col('response') == sendsay_openpage), f.col('response_dttm')).otherwise(None))\\\n",
    "                    .over(Window.partitionBy('inn', 'kpp', 'campaign_nm')))\\\n",
    "        .withColumn('last_open_time', \n",
    "                    f.max(f.when((f.col('response') == sendsay_openpage), f.col('response_dttm')).otherwise(None))\\\n",
    "                    .over(Window.partitionBy('inn', 'kpp', 'campaign_nm')))\\\n",
    "        .withColumn('first_click_time', \n",
    "                    f.min(f.when((f.col('response') == sendsay_openlink), f.col('response_dttm')).otherwise(None))\\\n",
    "                    .over(Window.partitionBy('inn', 'kpp', 'campaign_nm')))\\\n",
    "        .withColumn('last_click_time', \n",
    "                    f.max(f.when((f.col('response') == sendsay_openlink),f.col('response_dttm')).otherwise(None))\\\n",
    "                                      .over(Window.partitionBy('inn', 'kpp', 'campaign_nm')))"
   ]
  },
  {
   "cell_type": "code",
   "execution_count": 20,
   "metadata": {
    "collapsed": true
   },
   "outputs": [],
   "source": [
    "inactive_freshhold_min = 2\n",
    "inactive_freshhold_max = 20"
   ]
  },
  {
   "cell_type": "code",
   "execution_count": 21,
   "metadata": {
    "collapsed": true
   },
   "outputs": [],
   "source": [
    "sdf = sdf.withColumn('sum_open_click', \n",
    "                     f.sum(f.when((f.col('response') == sendsay_openpage)|\\\n",
    "                                  (f.col('response') == sendsay_openlink),1).otherwise(0))\\\n",
    "                                                           .over(Window.partitionBy('inn', 'kpp', 'email')))\n",
    "\n",
    "sdf = sdf.withColumn('sum_open_click_camp', \n",
    "                     f.sum(f.when((f.col('response') == sendsay_openpage)|\\\n",
    "                                  (f.col('response') == sendsay_openlink),1).otherwise(0))\\\n",
    "                                                           .over(Window.partitionBy('inn', 'kpp', 'campaign_nm', 'email')))\n",
    "\n",
    "sdf = sdf.withColumn('delivery_all_cnt', \n",
    "                                         f.sum((f.col('response') == sendsay_delivered).cast('integer')) \\\n",
    "                                          .over(Window.partitionBy('inn', 'kpp', 'email')).cast('integer'))"
   ]
  },
  {
   "cell_type": "code",
   "execution_count": 22,
   "metadata": {
    "collapsed": true
   },
   "outputs": [],
   "source": [
    "sdf = sdf.withColumn('fresh_user', f.when((f.col('sum_open_click') == 0) & \n",
    "                                          (f.col('delivery_all_cnt') <= inactive_freshhold_min), 1)\\\n",
    "                                    .when((f.col('sum_open_click') == 0) & \n",
    "                                          (f.col('delivery_all_cnt') > inactive_freshhold_min), 2).otherwise(0))"
   ]
  },
  {
   "cell_type": "code",
   "execution_count": 23,
   "metadata": {
    "collapsed": true
   },
   "outputs": [],
   "source": [
    "sdf = sdf.drop(*['delivery_all_cnt','sum_open_click'])"
   ]
  },
  {
   "cell_type": "markdown",
   "metadata": {},
   "source": [
    "### Retrospective Features Generation Pipeline"
   ]
  },
  {
   "cell_type": "markdown",
   "metadata": {},
   "source": [
    "- total biased time events (non-cumulated)"
   ]
  },
  {
   "cell_type": "code",
   "execution_count": 24,
   "metadata": {
    "collapsed": true
   },
   "outputs": [],
   "source": [
    "daysback = 30\n",
    "\n",
    "for i in range(1,4):\n",
    "    \n",
    "    dttm_left = f.from_unixtime(f.unix_timestamp(f.col('last_send_time')) - daysback*(i)*24*60*60, \n",
    "                                'yyyy-MM-dd HH:mm:ss').cast(TimestampType())\n",
    "\n",
    "    dttm_right = f.from_unixtime(f.unix_timestamp(f.col('last_send_time')) - daysback*(i-1)*24*60*60, \n",
    "                                 'yyyy-MM-dd HH:mm:ss').cast(TimestampType())    \n",
    "    \n",
    "    sdf = sdf \\\n",
    "            .withColumn('first_send_time_m{}1'.format(str(i)), \n",
    "                        f.min(f.when((f.col('response') == sendsay_delivered) &\\\n",
    "                                     ((f.col('response_dttm')> dttm_left) &\\\n",
    "                                      (f.col('response_dttm')<=dttm_right)), f.col('response_dttm'))\\\n",
    "                                    .otherwise(None))\\\n",
    "                        .over(Window.partitionBy('inn', 'kpp', 'campaign_nm', 'email')))\\\n",
    "            .withColumn('last_send_time_m{}1'.format(str(i)), \n",
    "                        f.max(f.when((f.col('response') == sendsay_delivered) &\\\n",
    "                                     ((f.col('response_dttm')> dttm_left) &\\\n",
    "                                      (f.col('response_dttm')<=dttm_right)), f.col('response_dttm'))\\\n",
    "                                    .otherwise(None))\\\n",
    "                        .over(Window.partitionBy('inn', 'kpp', 'campaign_nm', 'email')))\n",
    "\n",
    "for i in range(1,4):            \n",
    "\n",
    "    dttm_left = f.from_unixtime(f.unix_timestamp(f.col('last_open_time')) - daysback*(i)*24*60*60, \n",
    "                                'yyyy-MM-dd HH:mm:ss').cast(TimestampType())\n",
    "\n",
    "    dttm_right = f.from_unixtime(f.unix_timestamp(f.col('last_open_time')) - daysback*(i-1)*24*60*60, \n",
    "                                 'yyyy-MM-dd HH:mm:ss').cast(TimestampType())\n",
    "\n",
    "    sdf = sdf \\\n",
    "            .withColumn('first_open_time_m{}1'.format(str(i)), \n",
    "                        f.min(f.when((f.col('response') == sendsay_openpage) &\\\n",
    "                                     (f.col('fresh_user')==0)&\\\n",
    "                                     ((f.col('response_dttm')> dttm_left) &\\\n",
    "                                      (f.col('response_dttm')<=dttm_right)), f.col('response_dttm'))\\\n",
    "                                    .otherwise(None))\\\n",
    "                        .over(Window.partitionBy('inn', 'kpp', 'campaign_nm', 'email')))\\\n",
    "            .withColumn('last_open_time_m{}1'.format(str(i)), \n",
    "                        f.max(f.when((f.col('response') == sendsay_openpage) &\\\n",
    "                                     (f.col('fresh_user')==0)&\\\n",
    "                                     ((f.col('response_dttm')> dttm_left) &\\\n",
    "                                      (f.col('response_dttm')<=dttm_right)), f.col('response_dttm'))\\\n",
    "                                    .otherwise(None))\\\n",
    "                        .over(Window.partitionBy('inn', 'kpp', 'campaign_nm', 'email')))\n",
    "            \n",
    "for i in range(1,4):\n",
    "    \n",
    "    dttm_left = f.from_unixtime(f.unix_timestamp(f.col('last_click_time')) - daysback*(i)*24*60*60,\n",
    "                                'yyyy-MM-dd HH:mm:ss').cast(TimestampType())\n",
    "\n",
    "    dttm_right = f.from_unixtime(f.unix_timestamp(f.col('last_click_time')) - daysback*(i-1)*24*60*60,\n",
    "                                 'yyyy-MM-dd HH:mm:ss').cast(TimestampType())\n",
    "    \n",
    "    sdf = sdf \\\n",
    "            .withColumn('first_click_time_m{}1'.format(str(i)), \n",
    "                        f.min(f.when((f.col('response') == sendsay_openlink) &\\\n",
    "                                     (f.col('fresh_user')==0)&\\\n",
    "                                     ((f.col('response_dttm')> dttm_left) &\\\n",
    "                                      (f.col('response_dttm')<=dttm_right)), f.col('response_dttm'))\\\n",
    "                                    .otherwise(None))\\\n",
    "                        .over(Window.partitionBy('inn', 'kpp', 'campaign_nm', 'email')))\\\n",
    "            .withColumn('last_click_time_m{}1'.format(str(i)), \n",
    "                        f.max(f.when((f.col('response') == sendsay_openlink) &\\\n",
    "                                     (f.col('fresh_user')==0)&\\\n",
    "                                     ((f.col('response_dttm')> dttm_left) &\\\n",
    "                                      (f.col('response_dttm')<=dttm_right)), f.col('response_dttm'))\\\n",
    "                                    .otherwise(None))\\\n",
    "                        .over(Window.partitionBy('inn', 'kpp', 'campaign_nm', 'email')))"
   ]
  },
  {
   "cell_type": "markdown",
   "metadata": {},
   "source": [
    "## Calculate monthly biased time events with `status == sendsay_openpage`"
   ]
  },
  {
   "cell_type": "markdown",
   "metadata": {},
   "source": [
    "### All statistics"
   ]
  },
  {
   "cell_type": "markdown",
   "metadata": {},
   "source": [
    "- ACTIVE USERS: total biased time events (non-cumulated)"
   ]
  },
  {
   "cell_type": "code",
   "execution_count": 25,
   "metadata": {
    "collapsed": true
   },
   "outputs": [],
   "source": [
    "for i in range(1,4):\n",
    "    \n",
    "    dttm_left = f.from_unixtime(f.unix_timestamp(f.col('last_open_time')) - daysback*(i)*24*60*60, \n",
    "                                'yyyy-MM-dd HH:mm:ss').cast(TimestampType())\n",
    "\n",
    "    dttm_right = f.from_unixtime(f.unix_timestamp(f.col('last_open_time')) - daysback*(i-1)*24*60*60, \n",
    "                                 'yyyy-MM-dd HH:mm:ss').cast(TimestampType())     \n",
    "    sdf = sdf \\\n",
    "            .withColumn('last_open_all_cnt_m{}1'.format(str(i)), \n",
    "                        f.sum(f.when((f.col('response') == sendsay_openpage) &\\\n",
    "                                     (f.col('fresh_user')==0)&\\\n",
    "                                     ((f.col('response_dttm')> dttm_left) &\\\n",
    "                                      (f.col('response_dttm')<=dttm_right)), 1)\\\n",
    "                                                       .otherwise(0))\\\n",
    "                                                 .over(Window.partitionBy('inn', 'kpp', 'campaign_nm', 'email')).cast('integer'))"
   ]
  },
  {
   "cell_type": "markdown",
   "metadata": {},
   "source": [
    "### Daytime statistics"
   ]
  },
  {
   "cell_type": "markdown",
   "metadata": {},
   "source": [
    "- biased time events per day (non-cumulated)"
   ]
  },
  {
   "cell_type": "code",
   "execution_count": 26,
   "metadata": {
    "collapsed": true
   },
   "outputs": [],
   "source": [
    "for i in range(1,4):\n",
    "    \n",
    "    dttm_left = f.from_unixtime(f.unix_timestamp(f.col('last_open_time')) - daysback*(i)*24*60*60, \n",
    "                                'yyyy-MM-dd HH:mm:ss').cast(TimestampType())\n",
    "\n",
    "    dttm_right = f.from_unixtime(f.unix_timestamp(f.col('last_open_time')) - daysback*(i-1)*24*60*60, \n",
    "                                 'yyyy-MM-dd HH:mm:ss').cast(TimestampType())     \n",
    "    sdf = sdf \\\n",
    "            .withColumn('last_open_day_cnt_m{}1'.format(str(i)), \n",
    "                        f.sum(f.when((f.col('response') == sendsay_openpage) &\\\n",
    "                                     (f.col('fresh_user')==0)&\\\n",
    "                                     ((f.col('response_dttm')> dttm_left) &\\\n",
    "                                      (f.col('response_dttm')<=dttm_right)), 1)\\\n",
    "                                                       .otherwise(0))\\\n",
    "                                                 .over(Window.partitionBy('inn', 'kpp', 'campaign_nm', \n",
    "                                                                          'email', 'asdayname')).cast('integer'))"
   ]
  },
  {
   "cell_type": "markdown",
   "metadata": {},
   "source": [
    "## Calculate monthly biased time events with `status == sendsay_openlink`"
   ]
  },
  {
   "cell_type": "markdown",
   "metadata": {},
   "source": [
    "### All statistics"
   ]
  },
  {
   "cell_type": "markdown",
   "metadata": {},
   "source": [
    "- total biased time events (non-cumulated)"
   ]
  },
  {
   "cell_type": "code",
   "execution_count": 27,
   "metadata": {
    "collapsed": true
   },
   "outputs": [],
   "source": [
    "for i in range(1,4):\n",
    "    \n",
    "    dttm_left = f.from_unixtime(f.unix_timestamp(f.col('last_click_time')) - daysback*(i)*24*60*60, \n",
    "                                'yyyy-MM-dd HH:mm:ss').cast(TimestampType())\n",
    "\n",
    "    dttm_right = f.from_unixtime(f.unix_timestamp(f.col('last_click_time')) - daysback*(i-1)*24*60*60, \n",
    "                                 'yyyy-MM-dd HH:mm:ss').cast(TimestampType())    \n",
    "    \n",
    "    sdf = sdf \\\n",
    "            .withColumn('last_click_all_cnt_m{}1'.format(str(i)), \n",
    "                        f.sum(f.when((f.col('response') == sendsay_openlink) &\\\n",
    "                                     (f.col('fresh_user')==0)&\\\n",
    "                                     ((f.col('response_dttm')> dttm_left) &\\\n",
    "                                      (f.col('response_dttm')<=dttm_right)), 1)\\\n",
    "                                                       .otherwise(0))\\\n",
    "                                                 .over(Window.partitionBy('inn', 'kpp', 'campaign_nm', 'email')).cast('integer'))"
   ]
  },
  {
   "cell_type": "markdown",
   "metadata": {},
   "source": [
    "### Daytime statistics"
   ]
  },
  {
   "cell_type": "markdown",
   "metadata": {},
   "source": [
    "- biased time events per day (non-cumulated)"
   ]
  },
  {
   "cell_type": "code",
   "execution_count": 28,
   "metadata": {
    "collapsed": true
   },
   "outputs": [],
   "source": [
    "for i in range(1,4):\n",
    "    \n",
    "    dttm_left = f.from_unixtime(f.unix_timestamp(f.col('last_click_time')) - daysback*(i)*24*60*60, \n",
    "                                'yyyy-MM-dd HH:mm:ss').cast(TimestampType())\n",
    "\n",
    "    dttm_right = f.from_unixtime(f.unix_timestamp(f.col('last_click_time')) - daysback*(i-1)*24*60*60, \n",
    "                                 'yyyy-MM-dd HH:mm:ss').cast(TimestampType())  \n",
    "    \n",
    "    sdf = sdf \\\n",
    "            .withColumn('last_click_day_cnt_m{}1'.format(str(i)), \n",
    "                        f.sum(f.when((f.col('response') == sendsay_openlink) &\\\n",
    "                                     (f.col('fresh_user')==0)&\\\n",
    "                                     ((f.col('response_dttm')> dttm_left) &\\\n",
    "                                      (f.col('response_dttm')<=dttm_right)), 1)\\\n",
    "                                                       .otherwise(0))\\\n",
    "                                                 .over(Window.partitionBy('inn', 'kpp', 'campaign_nm', \n",
    "                                                                          'email', 'asdayname')).cast('integer'))"
   ]
  },
  {
   "cell_type": "markdown",
   "metadata": {},
   "source": [
    "## Calculate time differences between events with `status == sendsay_openpage`"
   ]
  },
  {
   "cell_type": "code",
   "execution_count": 29,
   "metadata": {
    "collapsed": true
   },
   "outputs": [],
   "source": [
    "for i in range(1,4):\n",
    "    sdf = sdf \\\n",
    "            .withColumn('diff_lo_fo_m{}1'.format(str(i)), ((f.unix_timestamp('last_open_time_m{}1'.format(str(i))) -\n",
    "                                                                   f.unix_timestamp('first_open_time_m{}1'.format(str(i))))/60)\n",
    "                       )\\\n",
    "            .withColumn('diff_lo_fs_m{}1'.format(str(i)), ((f.unix_timestamp('last_open_time_m{}1'.format(str(i))) -\n",
    "                                                                   f.unix_timestamp('first_send_time_m{}1'.format(str(i))))/60)\n",
    "                       )\\\n",
    "            .withColumn('diff_lo_ls_m{}1'.format(str(i)), ((f.unix_timestamp('last_open_time_m{}1'.format(str(i))) -\n",
    "                                                                   f.unix_timestamp('last_send_time_m{}1'.format(str(i))))/60)\n",
    "                       )\\\n",
    "            .withColumn('diff_fo_fs_m{}1'.format(str(i)), ((f.unix_timestamp('first_open_time_m{}1'.format(str(i))) -\n",
    "                                                                   f.unix_timestamp('first_send_time_m{}1'.format(str(i))))/60)\n",
    "                       )\\\n",
    "            .withColumn('diff_fo_ls_m{}1'.format(str(i)), ((f.unix_timestamp('first_open_time_m{}1'.format(str(i))) -\n",
    "                                                                   f.unix_timestamp('last_send_time_m{}1'.format(str(i))))/60)\n",
    "                       )   "
   ]
  },
  {
   "cell_type": "markdown",
   "metadata": {},
   "source": [
    "## Calculate time differences between events with `status == sendsay_openlink`"
   ]
  },
  {
   "cell_type": "code",
   "execution_count": 30,
   "metadata": {
    "collapsed": true
   },
   "outputs": [],
   "source": [
    "for i in range(1,4):\n",
    "    sdf = sdf \\\n",
    "            .withColumn('diff_lcl_fcl_m{}1'.format(str(i)), ((f.unix_timestamp('last_click_time_m{}1'.format(str(i))) -\n",
    "                                                                     f.unix_timestamp('first_click_time_m{}1'.format(str(i))))/60)\n",
    "                       )\\\n",
    "            .withColumn('diff_lcl_fs_m{}1'.format(str(i)), ((f.unix_timestamp('last_click_time_m{}1'.format(str(i))) -\n",
    "                                                                    f.unix_timestamp('first_send_time_m{}1'.format(str(i))))/60)\n",
    "                       )\\\n",
    "            .withColumn('diff_lcl_ls_m{}1'.format(str(i)), ((f.unix_timestamp('last_click_time_m{}1'.format(str(i))) -\n",
    "                                                                    f.unix_timestamp('last_send_time_m{}1'.format(str(i))))/60)\n",
    "                       )\\\n",
    "            .withColumn('diff_lcl_fo_m{}1'.format(str(i)), ((f.unix_timestamp('last_click_time_m{}1'.format(str(i))) -\n",
    "                                                                    f.unix_timestamp('first_open_time_m{}1'.format(str(i))))/60)\n",
    "                       )\\\n",
    "            .withColumn('diff_lcl_lo_m{}1'.format(str(i)), ((f.unix_timestamp('last_click_time_m{}1'.format(str(i))) -\n",
    "                                                                    f.unix_timestamp('last_open_time_m{}1'.format(str(i))))/60)\n",
    "                       )   \n",
    "\n",
    "\n",
    "    sdf = sdf \\\n",
    "            .withColumn('diff_fcl_fs_m{}1'.format(str(i)), ((f.unix_timestamp('first_click_time_m{}1'.format(str(i))) -\n",
    "                                                                    f.unix_timestamp('first_send_time_m{}1'.format(str(i))))/60)\n",
    "                       )\\\n",
    "            .withColumn('diff_fcl_ls_m{}1'.format(str(i)), ((f.unix_timestamp('first_click_time_m{}1'.format(str(i))) -\n",
    "                                                                    f.unix_timestamp('last_send_time_m{}1'.format(str(i))))/60)\n",
    "                       )\\\n",
    "            .withColumn('diff_fcl_fo_m{}1'.format(str(i)), ((f.unix_timestamp('first_click_time_m{}1'.format(str(i))) -\n",
    "                                                                    f.unix_timestamp('first_open_time_m{}1'.format(str(i))))/60)\n",
    "                       )\\\n",
    "            .withColumn('diff_fcl_lo_m{}1'.format(str(i)), ((f.unix_timestamp('first_click_time_m{}1'.format(str(i))) -\n",
    "                                                                    f.unix_timestamp('last_open_time_m{}1'.format(str(i))))/60)\n",
    "                       )     "
   ]
  },
  {
   "cell_type": "markdown",
   "metadata": {},
   "source": [
    "## Calculate events regarding to `status == sendsay_delivered`"
   ]
  },
  {
   "cell_type": "markdown",
   "metadata": {},
   "source": [
    "- biased delivery count total (non-cumulated)"
   ]
  },
  {
   "cell_type": "code",
   "execution_count": 31,
   "metadata": {
    "collapsed": true
   },
   "outputs": [],
   "source": [
    "for i in range(1,4):\n",
    "    \n",
    "    dttm_left = f.from_unixtime(f.unix_timestamp(f.col('last_open_time')) - daysback*(i)*24*60*60, \n",
    "                                'yyyy-MM-dd HH:mm:ss').cast(TimestampType())\n",
    "\n",
    "    dttm_right = f.from_unixtime(f.unix_timestamp(f.col('last_open_time')) - daysback*(i-1)*24*60*60, \n",
    "                                 'yyyy-MM-dd HH:mm:ss').cast(TimestampType())     \n",
    "    \n",
    "    sdf = sdf \\\n",
    "            .withColumn('delivery_all_cnt_m{}1'.format(str(i)), \n",
    "                        f.sum(f.when((f.col('response') == sendsay_delivered) &\\\n",
    "                                     ((f.col('response_dttm')> dttm_left) &\\\n",
    "                                      (f.col('response_dttm')<=dttm_right)), 1)\\\n",
    "                                                       .otherwise(0))\\\n",
    "                                                 .over(Window.partitionBy('inn', 'kpp', 'campaign_nm', 'email')).cast('integer'))"
   ]
  },
  {
   "cell_type": "markdown",
   "metadata": {},
   "source": [
    "## Calculate overall/monthly `open_day_rate/click_day_rate`"
   ]
  },
  {
   "cell_type": "code",
   "execution_count": 32,
   "metadata": {
    "collapsed": true
   },
   "outputs": [],
   "source": [
    "def get_delivery_rate(triggered_count: int, delivery_count: int):\n",
    "    \"\"\"\n",
    "    Get the rate of success messages.\n",
    "    \"\"\"\n",
    "    if delivery_count == 0:\n",
    "        return 0.0\n",
    "    \n",
    "    delivery_rate = (triggered_count / delivery_count) * 100  # rate of success messages\n",
    "    return delivery_rate\n",
    "\n",
    "\n",
    "get_delivery_rate_udf = f.udf(get_delivery_rate, FloatType())"
   ]
  },
  {
   "cell_type": "markdown",
   "metadata": {},
   "source": [
    "- biased open/click rate total (non-cumulated)"
   ]
  },
  {
   "cell_type": "code",
   "execution_count": 33,
   "metadata": {
    "collapsed": true
   },
   "outputs": [],
   "source": [
    "for i in [str(ii) for ii in range(1,4)]:\n",
    "#     sdf = sdf.withColumn('open_day_rate_m'+i, get_delivery_rate_udf(\"last_open_time_sum_m\"+i, \"deliverycnt\"))\n",
    "    sdf = sdf.withColumn('open_on_dlv_all_rate_m'+i+'1', \n",
    "                         get_delivery_rate_udf(\"last_open_all_cnt_m\"+i+'1', \"delivery_all_cnt_m\"+i+'1'))\n",
    "#     sdf = sdf.withColumn('open_on_dlv_all_dist_rate_m'+i+'1', \n",
    "#                          get_delivery_rate_udf(\"last_open_all_cnt_dist_m\"+i+'1', \"delivery_all_cnt_m\"+i+'1'))\n",
    "#     sdf = sdf.withColumn('click_day_rate_m'+i, get_delivery_rate_udf(\"last_click_time_sum_m\"+i, \"deliverycnt\"))\n",
    "    sdf = sdf.withColumn('clk_on_dlv_all_rate_m'+i+'1', \n",
    "                         get_delivery_rate_udf(\"last_click_all_cnt_m\"+i+'1', \"delivery_all_cnt_m\"+i+'1'))\n",
    "#     sdf = sdf.withColumn('clk_on_dlv_all_dist_rate_m'+i+'1', \n",
    "#                          get_delivery_rate_udf(\"last_click_all_cnt_dist_m\"+i+'1', \"delivery_all_cnt_m\"+i+'1'))    \n",
    "    sdf = sdf.withColumn('clk_on_open_all_rate_m'+i+'1', \n",
    "                         get_delivery_rate_udf(\"last_click_all_cnt_m\"+i+'1', \"last_open_all_cnt_m\"+i+'1'))\n",
    "#     sdf = sdf.withColumn('clk_on_open_all_dist_rate_m'+i+'1', \n",
    "#                          get_delivery_rate_udf(\"last_click_all_cnt_dist_m\"+i+'1', \"last_open_all_cnt_dist_m\"+i+'1'))     "
   ]
  },
  {
   "cell_type": "markdown",
   "metadata": {},
   "source": [
    "- biased open/click rate per day (non-cumulated)"
   ]
  },
  {
   "cell_type": "code",
   "execution_count": 34,
   "metadata": {
    "collapsed": true
   },
   "outputs": [],
   "source": [
    "for i in [str(ii) for ii in range(1,4)]:\n",
    "#     sdf = sdf.withColumn('open_day_rate_m'+i, get_delivery_rate_udf(\"last_open_time_sum_m\"+i, \"deliverycnt\"))\n",
    "    sdf = sdf.withColumn('open_on_dlv_day_rate_m'+i+'1', \n",
    "                         get_delivery_rate_udf(\"last_open_day_cnt_m\"+i+'1', \"delivery_all_cnt_m\"+i+'1'))\n",
    "#     sdf = sdf.withColumn('open_on_dlv_day_dist_rate_m'+i+'1', \n",
    "#                          get_delivery_rate_udf(\"last_open_day_cnt_dist_m\"+i+'1', \"delivery_all_cnt_m\"+i+'1'))    \n",
    "#     sdf = sdf.withColumn('click_day_rate_m'+i, get_delivery_rate_udf(\"last_click_time_sum_m\"+i, \"deliverycnt\"))\n",
    "    sdf = sdf.withColumn('clk_on_dlv_day_rate_m'+i+'1', \n",
    "                         get_delivery_rate_udf(\"last_click_day_cnt_m\"+i+'1', \"delivery_all_cnt_m\"+i+'1'))\n",
    "#     sdf = sdf.withColumn('clk_on_dlv_day_dist_rate_m'+i+'1', \n",
    "#                          get_delivery_rate_udf(\"last_click_day_cnt_dist_m\"+i+'1', \"delivery_all_cnt_m\"+i+'1')) \n",
    "    sdf = sdf.withColumn('clk_on_open_day_rate_m'+i+'1', \n",
    "                         get_delivery_rate_udf(\"last_click_day_cnt_m\"+i+'1', \"last_open_day_cnt_m\"+i+'1'))\n",
    "#     sdf = sdf.withColumn('clk_on_open_day_dist_rate_m'+i+'1', \n",
    "#                          get_delivery_rate_udf(\"last_click_day_cnt_dist_m\"+i+'1', \"last_open_day_cnt_dist_m\"+i+'1'))    "
   ]
  },
  {
   "cell_type": "code",
   "execution_count": 35,
   "metadata": {
    "collapsed": true
   },
   "outputs": [],
   "source": [
    "import locale\n",
    "from functools import cmp_to_key\n",
    "\n",
    "customer_attr = ['customer_text_0{}'.format(str(i)) if i<10 \n",
    "                 else 'customer_text_{}'.format(str(i)) for i in range(1,21)]\n",
    "\n",
    "first_order_cols = \\\n",
    "[\n",
    "    'inn', \n",
    "    'kpp',\n",
    "    'campaign_nm', \n",
    "    'email',\n",
    "    'organization_id',\n",
    "    'custid_value',\n",
    "    'response',\n",
    "    'response_dttm',\n",
    "    'asday',\n",
    "    'asdayname',\n",
    "    'ashour',\n",
    "    'astime',     \n",
    "    'email_subject',\n",
    "    'message_title',]\\\n",
    "+\\\n",
    "customer_attr\n",
    "\n",
    "reordered_cols = \\\n",
    "first_order_cols + sorted(set(sdf.columns) -\n",
    "                          set(first_order_cols) -\n",
    "                          set(['load_dt','last_day']), key=cmp_to_key(locale.strcoll)) + ['load_dt','last_day']"
   ]
  },
  {
   "cell_type": "code",
   "execution_count": 36,
   "metadata": {
    "collapsed": true
   },
   "outputs": [],
   "source": [
    "sdf = sdf.select(*reordered_cols)"
   ]
  },
  {
   "cell_type": "markdown",
   "metadata": {},
   "source": [
    "## Cut all daytime events that aren't related to the Test datased (cut records in window of 3month back from min responce date) "
   ]
  },
  {
   "cell_type": "code",
   "execution_count": 37,
   "metadata": {
    "collapsed": true
   },
   "outputs": [],
   "source": [
    "sdf = sdf.filter((f.col('response_dttm') >= resp_dttm_min_str)) "
   ]
  },
  {
   "cell_type": "code",
   "execution_count": 38,
   "metadata": {
    "collapsed": true
   },
   "outputs": [],
   "source": [
    "# sdf.count()"
   ]
  },
  {
   "cell_type": "code",
   "execution_count": 39,
   "metadata": {
    "collapsed": true
   },
   "outputs": [],
   "source": [
    "# sdf = sdf.withColumnRenamed('inn','inn_')\n",
    "# sdf = sdf.withColumnRenamed('kpp','kpp_')\n",
    "# sdf = sdf.withColumnRenamed('campaign_nm','campaign_nm_')\n",
    "# sdf = sdf.withColumnRenamed('email','email_')"
   ]
  },
  {
   "cell_type": "code",
   "execution_count": 40,
   "metadata": {
    "collapsed": true
   },
   "outputs": [],
   "source": [
    "# cols = reordered_cols\n",
    "\n",
    "# cond = [val_sdf.inn         == sdf.inn_, \n",
    "#         val_sdf.kpp         == sdf.kpp_,\n",
    "#         val_sdf.campaign_nm == sdf.campaign_nm_,\n",
    "#         val_sdf.email       == sdf.email_,\n",
    "#         #train_sdf.response    == target_sdf.response_,\n",
    "#         #train_sdf.response_dttm == target_sdf.response_dttm_\n",
    "#        ]\n",
    "\n",
    "# fin_sdf = val_sdf.join(sdf, on=cond, how='left_outer')\n",
    "# fin_sdf = fin_sdf.select(*cols)"
   ]
  },
  {
   "cell_type": "code",
   "execution_count": 41,
   "metadata": {
    "collapsed": true
   },
   "outputs": [],
   "source": [
    "# data condition\n",
    "# spdf = hive.sql(\"select * from T_TEAM_SPEECH_ANALYTICS.RESP_INN_KPP_CAMP\")\n",
    "# rows = spdf.select('load_dt').distinct().collect()\n",
    "\n",
    "# prev_load_dt = sorted([row['load_dt'] for row in rows])[-2]\n",
    "# prev_load_dt_str = datetime.strftime(prev_load_dt, format='%Y-%m-%d')\n",
    "# prev_load_dt_str"
   ]
  },
  {
   "cell_type": "code",
   "execution_count": 42,
   "metadata": {
    "collapsed": true
   },
   "outputs": [],
   "source": [
    "# sdf.groupby(['fresh_user']).agg({'fresh_user':'count'}).show()"
   ]
  },
  {
   "cell_type": "markdown",
   "metadata": {},
   "source": [
    "## Remove events with only delivery status among users with para `fresh_user` = 0"
   ]
  },
  {
   "cell_type": "code",
   "execution_count": 38,
   "metadata": {
    "collapsed": true
   },
   "outputs": [],
   "source": [
    "sdf = sdf.filter(\"(response != 'SendSay. Сообщение доставлено' and fresh_user = 0) or (sum_open_click_camp = 0 and fresh_user = 0) or (fresh_user != 0)\")"
   ]
  },
  {
   "cell_type": "markdown",
   "metadata": {
    "collapsed": true
   },
   "source": [
    "## Register temp table"
   ]
  },
  {
   "cell_type": "code",
   "execution_count": 43,
   "metadata": {
    "collapsed": true
   },
   "outputs": [],
   "source": [
    "sdf.registerTempTable(\"tmp_resp_inn_kpp_camp\")\n",
    "hive.cacheTable('tmp_resp_inn_kpp_camp')"
   ]
  },
  {
   "cell_type": "markdown",
   "metadata": {},
   "source": [
    "## Generate features required for best day/time calculation"
   ]
  },
  {
   "cell_type": "code",
   "execution_count": 44,
   "metadata": {
    "collapsed": true
   },
   "outputs": [],
   "source": [
    "best_time_sdf = sdf \\\n",
    "    .withColumn('day_open_cnt', \n",
    "                    f.sum(f.when(f.col('response') == sendsay_openpage, 1).otherwise(0))\\\n",
    "                    .over(Window.partitionBy('inn', 'kpp', 'campaign_nm', 'email', 'asdayname')).cast('integer'))\\\n",
    "    .withColumn('day_hour_open_cnt', \n",
    "                    f.sum(f.when(f.col('response') == sendsay_openpage, 1).otherwise(0))\\\n",
    "                    .over(Window.partitionBy('inn', 'kpp', 'campaign_nm', 'email', 'asdayname', 'ashour')).cast('integer'))\\\n",
    "    .select(*['inn', 'kpp', 'campaign_nm', 'email', 'response', 'asdayname', 'ashour', 'day_open_cnt', 'day_hour_open_cnt'])"
   ]
  },
  {
   "cell_type": "code",
   "execution_count": 45,
   "metadata": {
    "collapsed": true
   },
   "outputs": [],
   "source": [
    "best_time_sdf = best_time_sdf.filter(''' response != \"SendSay. Сообщение доставлено\" ''')\\\n",
    "         .withColumn('top_day', f.dense_rank().over(Window.partitionBy('inn', 'kpp', 'campaign_nm', 'email', 'asdayname')\\\n",
    "                                              .orderBy(f.col('day_open_cnt').desc())))\\\n",
    "                                              .filter('''top_day = 1''')    \n",
    "    \n",
    "best_time_sdf = best_time_sdf.\\\n",
    "        withColumn('top_hour', f.dense_rank().over(Window.partitionBy('inn', 'kpp', 'campaign_nm', 'email', 'asdayname')\\\n",
    "                                             .orderBy(f.col('day_hour_open_cnt').desc()))).filter('''top_hour = 1''')\n",
    "    \n",
    "best_time_sdf = best_time_sdf.drop(*['top_day', 'top_hour', 'day_hour_open_cnt', 'response'])"
   ]
  },
  {
   "cell_type": "markdown",
   "metadata": {},
   "source": [
    "### Groupby up to `email` (keep on one first record per one email)"
   ]
  },
  {
   "cell_type": "code",
   "execution_count": 46,
   "metadata": {
    "collapsed": true
   },
   "outputs": [],
   "source": [
    "best_time_sdf = best_time_sdf.groupBy('inn', 'kpp', 'campaign_nm', 'email').agg(f.first('asdayname').alias('asdayname'), \n",
    "                                                                                f.first('ashour').alias('ashour'),\n",
    "                                                                                f.first('day_open_cnt').alias('day_open_cnt'))"
   ]
  },
  {
   "cell_type": "code",
   "execution_count": 47,
   "metadata": {
    "scrolled": true
   },
   "outputs": [
    {
     "data": {
      "text/plain": [
       "DataFrame[inn: string, kpp: string, campaign_nm: string, email: string, asdayname: string, ashour: string, day_open_cnt: int]"
      ]
     },
     "execution_count": 47,
     "metadata": {},
     "output_type": "execute_result"
    }
   ],
   "source": [
    "best_time_sdf.cache()"
   ]
  },
  {
   "cell_type": "code",
   "execution_count": 48,
   "metadata": {},
   "outputs": [
    {
     "data": {
      "text/plain": [
       "2725213"
      ]
     },
     "execution_count": 48,
     "metadata": {},
     "output_type": "execute_result"
    }
   ],
   "source": [
    "best_time_sdf.count()"
   ]
  },
  {
   "cell_type": "code",
   "execution_count": 49,
   "metadata": {},
   "outputs": [
    {
     "data": {
      "text/html": [
       "<div>\n",
       "<style scoped>\n",
       "    .dataframe tbody tr th:only-of-type {\n",
       "        vertical-align: middle;\n",
       "    }\n",
       "\n",
       "    .dataframe tbody tr th {\n",
       "        vertical-align: top;\n",
       "    }\n",
       "\n",
       "    .dataframe thead th {\n",
       "        text-align: right;\n",
       "    }\n",
       "</style>\n",
       "<table border=\"1\" class=\"dataframe\">\n",
       "  <thead>\n",
       "    <tr style=\"text-align: right;\">\n",
       "      <th></th>\n",
       "      <th>inn</th>\n",
       "      <th>kpp</th>\n",
       "      <th>campaign_nm</th>\n",
       "      <th>email</th>\n",
       "      <th>asdayname</th>\n",
       "      <th>ashour</th>\n",
       "      <th>day_open_cnt</th>\n",
       "    </tr>\n",
       "  </thead>\n",
       "  <tbody>\n",
       "    <tr>\n",
       "      <th>0</th>\n",
       "      <td>010407628324</td>\n",
       "      <td></td>\n",
       "      <td>ЦА-БИЗНДИР34ПОС-0420</td>\n",
       "      <td>tehnomir01@mail.ru</td>\n",
       "      <td>Tuesday</td>\n",
       "      <td>15</td>\n",
       "      <td>1</td>\n",
       "    </tr>\n",
       "    <tr>\n",
       "      <th>1</th>\n",
       "      <td>0105001202</td>\n",
       "      <td>010501001</td>\n",
       "      <td>E-MAIL_SERVICE_CAMP</td>\n",
       "      <td>9284666801@mail.ru</td>\n",
       "      <td>Monday</td>\n",
       "      <td>08</td>\n",
       "      <td>1</td>\n",
       "    </tr>\n",
       "    <tr>\n",
       "      <th>2</th>\n",
       "      <td>0105010398</td>\n",
       "      <td>010501001</td>\n",
       "      <td>E-MAIL_SERVICE_CAMP</td>\n",
       "      <td>arina0605@gmail.com</td>\n",
       "      <td>Saturday</td>\n",
       "      <td>18</td>\n",
       "      <td>3</td>\n",
       "    </tr>\n",
       "    <tr>\n",
       "      <th>3</th>\n",
       "      <td>0105012701</td>\n",
       "      <td>010501001</td>\n",
       "      <td>E-MAIL_SERVICE_CAMP</td>\n",
       "      <td>tdmnormal@mail.ru</td>\n",
       "      <td>Saturday</td>\n",
       "      <td>01</td>\n",
       "      <td>0</td>\n",
       "    </tr>\n",
       "    <tr>\n",
       "      <th>4</th>\n",
       "      <td>0105021640</td>\n",
       "      <td>010501001</td>\n",
       "      <td>E-MAIL_SERVICE_CAMP</td>\n",
       "      <td>miriadakkm@mail.ru</td>\n",
       "      <td>Sunday</td>\n",
       "      <td>18</td>\n",
       "      <td>1</td>\n",
       "    </tr>\n",
       "    <tr>\n",
       "      <th>5</th>\n",
       "      <td>010506010169</td>\n",
       "      <td></td>\n",
       "      <td>E-MAIL_SERVICE_CAMP</td>\n",
       "      <td>astapovanata75@gmail.com</td>\n",
       "      <td>Saturday</td>\n",
       "      <td>17</td>\n",
       "      <td>1</td>\n",
       "    </tr>\n",
       "    <tr>\n",
       "      <th>6</th>\n",
       "      <td>010600038267</td>\n",
       "      <td></td>\n",
       "      <td>ЦА-БКЛОЯЛЬНОСТЬ-1119</td>\n",
       "      <td>nellidobro@gmail.com</td>\n",
       "      <td>Thursday</td>\n",
       "      <td>17</td>\n",
       "      <td>2</td>\n",
       "    </tr>\n",
       "    <tr>\n",
       "      <th>7</th>\n",
       "      <td>010600571940</td>\n",
       "      <td></td>\n",
       "      <td>ЦА-БИЗНДИР33-0320</td>\n",
       "      <td>aldarik@bk.ru</td>\n",
       "      <td>Wednesday</td>\n",
       "      <td>09</td>\n",
       "      <td>2</td>\n",
       "    </tr>\n",
       "    <tr>\n",
       "      <th>8</th>\n",
       "      <td>010601142207</td>\n",
       "      <td></td>\n",
       "      <td>E-MAIL_SERVICE_CAMP</td>\n",
       "      <td>01ewgeni@mail.ru</td>\n",
       "      <td>Saturday</td>\n",
       "      <td>18</td>\n",
       "      <td>1</td>\n",
       "    </tr>\n",
       "    <tr>\n",
       "      <th>9</th>\n",
       "      <td>010603122213</td>\n",
       "      <td></td>\n",
       "      <td>E-MAIL_SERVICE_CAMP</td>\n",
       "      <td>gs004@mail.ru</td>\n",
       "      <td>Saturday</td>\n",
       "      <td>20</td>\n",
       "      <td>1</td>\n",
       "    </tr>\n",
       "  </tbody>\n",
       "</table>\n",
       "</div>"
      ],
      "text/plain": [
       "            inn        kpp           campaign_nm                     email  \\\n",
       "0  010407628324             ЦА-БИЗНДИР34ПОС-0420  tehnomir01@mail.ru         \n",
       "1  0105001202    010501001  E-MAIL_SERVICE_CAMP   9284666801@mail.ru         \n",
       "2  0105010398    010501001  E-MAIL_SERVICE_CAMP   arina0605@gmail.com        \n",
       "3  0105012701    010501001  E-MAIL_SERVICE_CAMP   tdmnormal@mail.ru          \n",
       "4  0105021640    010501001  E-MAIL_SERVICE_CAMP   miriadakkm@mail.ru         \n",
       "5  010506010169             E-MAIL_SERVICE_CAMP   astapovanata75@gmail.com   \n",
       "6  010600038267             ЦА-БКЛОЯЛЬНОСТЬ-1119  nellidobro@gmail.com       \n",
       "7  010600571940             ЦА-БИЗНДИР33-0320     aldarik@bk.ru              \n",
       "8  010601142207             E-MAIL_SERVICE_CAMP   01ewgeni@mail.ru           \n",
       "9  010603122213             E-MAIL_SERVICE_CAMP   gs004@mail.ru              \n",
       "\n",
       "   asdayname ashour  day_open_cnt  \n",
       "0  Tuesday    15     1             \n",
       "1  Monday     08     1             \n",
       "2  Saturday   18     3             \n",
       "3  Saturday   01     0             \n",
       "4  Sunday     18     1             \n",
       "5  Saturday   17     1             \n",
       "6  Thursday   17     2             \n",
       "7  Wednesday  09     2             \n",
       "8  Saturday   18     1             \n",
       "9  Saturday   20     1             "
      ]
     },
     "execution_count": 49,
     "metadata": {},
     "output_type": "execute_result"
    }
   ],
   "source": [
    "best_time_sdf.show()"
   ]
  },
  {
   "cell_type": "code",
   "execution_count": 50,
   "metadata": {},
   "outputs": [
    {
     "data": {
      "text/html": [
       "<div>\n",
       "<style scoped>\n",
       "    .dataframe tbody tr th:only-of-type {\n",
       "        vertical-align: middle;\n",
       "    }\n",
       "\n",
       "    .dataframe tbody tr th {\n",
       "        vertical-align: top;\n",
       "    }\n",
       "\n",
       "    .dataframe thead th {\n",
       "        text-align: right;\n",
       "    }\n",
       "</style>\n",
       "<table border=\"1\" class=\"dataframe\">\n",
       "  <thead>\n",
       "    <tr style=\"text-align: right;\">\n",
       "      <th></th>\n",
       "      <th>inn</th>\n",
       "      <th>kpp</th>\n",
       "      <th>campaign_nm</th>\n",
       "      <th>email</th>\n",
       "      <th>asdayname</th>\n",
       "      <th>ashour</th>\n",
       "      <th>day_open_cnt</th>\n",
       "      <th>email_cnt_dist</th>\n",
       "    </tr>\n",
       "  </thead>\n",
       "  <tbody>\n",
       "    <tr>\n",
       "      <th>0</th>\n",
       "      <td>022000625129</td>\n",
       "      <td></td>\n",
       "      <td>E-MAIL_SERVICE_CAMP</td>\n",
       "      <td>y-marsell@mail.ru</td>\n",
       "      <td>Saturday</td>\n",
       "      <td>15</td>\n",
       "      <td>1</td>\n",
       "      <td>2</td>\n",
       "    </tr>\n",
       "    <tr>\n",
       "      <th>1</th>\n",
       "      <td>022000625129</td>\n",
       "      <td></td>\n",
       "      <td>E-MAIL_SERVICE_CAMP1</td>\n",
       "      <td>y-marsell@mail.ru</td>\n",
       "      <td>Wednesday</td>\n",
       "      <td>10</td>\n",
       "      <td>1</td>\n",
       "      <td>2</td>\n",
       "    </tr>\n",
       "    <tr>\n",
       "      <th>2</th>\n",
       "      <td>022000625129</td>\n",
       "      <td></td>\n",
       "      <td>ЦА-БИЗНДИР33-0320</td>\n",
       "      <td>y_marsell@mail.ru</td>\n",
       "      <td>Wednesday</td>\n",
       "      <td>10</td>\n",
       "      <td>1</td>\n",
       "      <td>2</td>\n",
       "    </tr>\n",
       "    <tr>\n",
       "      <th>3</th>\n",
       "      <td>022000625129</td>\n",
       "      <td></td>\n",
       "      <td>ЦА-БИЗНДИР34-0420</td>\n",
       "      <td>y-marsell@mail.ru</td>\n",
       "      <td>Monday</td>\n",
       "      <td>14</td>\n",
       "      <td>0</td>\n",
       "      <td>2</td>\n",
       "    </tr>\n",
       "    <tr>\n",
       "      <th>4</th>\n",
       "      <td>022501817488</td>\n",
       "      <td></td>\n",
       "      <td>ЦА-БИЗНДИР34-0420</td>\n",
       "      <td>ilgizon_777@mail.ru</td>\n",
       "      <td>Tuesday</td>\n",
       "      <td>09</td>\n",
       "      <td>1</td>\n",
       "      <td>2</td>\n",
       "    </tr>\n",
       "    <tr>\n",
       "      <th>5</th>\n",
       "      <td>022501817488</td>\n",
       "      <td></td>\n",
       "      <td>ЦА-ЦБКМАКИЕНКО-0420</td>\n",
       "      <td>i.muhametov@grandufa.ru</td>\n",
       "      <td>Saturday</td>\n",
       "      <td>22</td>\n",
       "      <td>1</td>\n",
       "      <td>2</td>\n",
       "    </tr>\n",
       "    <tr>\n",
       "      <th>6</th>\n",
       "      <td>023640641000</td>\n",
       "      <td></td>\n",
       "      <td>ЦА-БИЗНДИР33-0320</td>\n",
       "      <td>tagevosyan74@list.ru</td>\n",
       "      <td>Monday</td>\n",
       "      <td>08</td>\n",
       "      <td>1</td>\n",
       "      <td>2</td>\n",
       "    </tr>\n",
       "    <tr>\n",
       "      <th>7</th>\n",
       "      <td>023640641000</td>\n",
       "      <td></td>\n",
       "      <td>E-MAIL_SERVICE_CAMP1</td>\n",
       "      <td>tadevosyan74@list.ru</td>\n",
       "      <td>Tuesday</td>\n",
       "      <td>21</td>\n",
       "      <td>1</td>\n",
       "      <td>2</td>\n",
       "    </tr>\n",
       "    <tr>\n",
       "      <th>8</th>\n",
       "      <td>023640641000</td>\n",
       "      <td></td>\n",
       "      <td>ЦА-КОРЭДО-0420</td>\n",
       "      <td>tadevosyan74@list.ru</td>\n",
       "      <td>Monday</td>\n",
       "      <td>10</td>\n",
       "      <td>1</td>\n",
       "      <td>2</td>\n",
       "    </tr>\n",
       "    <tr>\n",
       "      <th>9</th>\n",
       "      <td>023640641000</td>\n",
       "      <td></td>\n",
       "      <td>ЦА-ПОБЕДА75БКМАЙЛ-0420</td>\n",
       "      <td>tadevosyan74@list.ru</td>\n",
       "      <td>Wednesday</td>\n",
       "      <td>13</td>\n",
       "      <td>1</td>\n",
       "      <td>2</td>\n",
       "    </tr>\n",
       "  </tbody>\n",
       "</table>\n",
       "</div>"
      ],
      "text/plain": [
       "            inn kpp             campaign_nm                    email  \\\n",
       "0  022000625129      E-MAIL_SERVICE_CAMP     y-marsell@mail.ru         \n",
       "1  022000625129      E-MAIL_SERVICE_CAMP1    y-marsell@mail.ru         \n",
       "2  022000625129      ЦА-БИЗНДИР33-0320       y_marsell@mail.ru         \n",
       "3  022000625129      ЦА-БИЗНДИР34-0420       y-marsell@mail.ru         \n",
       "4  022501817488      ЦА-БИЗНДИР34-0420       ilgizon_777@mail.ru       \n",
       "5  022501817488      ЦА-ЦБКМАКИЕНКО-0420     i.muhametov@grandufa.ru   \n",
       "6  023640641000      ЦА-БИЗНДИР33-0320       tagevosyan74@list.ru      \n",
       "7  023640641000      E-MAIL_SERVICE_CAMP1    tadevosyan74@list.ru      \n",
       "8  023640641000      ЦА-КОРЭДО-0420          tadevosyan74@list.ru      \n",
       "9  023640641000      ЦА-ПОБЕДА75БКМАЙЛ-0420  tadevosyan74@list.ru      \n",
       "\n",
       "   asdayname ashour  day_open_cnt  email_cnt_dist  \n",
       "0  Saturday   15     1             2               \n",
       "1  Wednesday  10     1             2               \n",
       "2  Wednesday  10     1             2               \n",
       "3  Monday     14     0             2               \n",
       "4  Tuesday    09     1             2               \n",
       "5  Saturday   22     1             2               \n",
       "6  Monday     08     1             2               \n",
       "7  Tuesday    21     1             2               \n",
       "8  Monday     10     1             2               \n",
       "9  Wednesday  13     1             2               "
      ]
     },
     "execution_count": 50,
     "metadata": {},
     "output_type": "execute_result"
    }
   ],
   "source": [
    "best_time_sdf\\\n",
    "    .withColumn('email_cnt_dist', \n",
    "                    f.approx_count_distinct(f.col('email'))\\\n",
    "                    .over(Window.partitionBy('inn', 'kpp')).cast('integer'))\\\n",
    "    .filter(\"email_cnt_dist > 1\").show()"
   ]
  },
  {
   "cell_type": "markdown",
   "metadata": {},
   "source": [
    "## Select users with flag equals 1"
   ]
  },
  {
   "cell_type": "code",
   "execution_count": 51,
   "metadata": {
    "collapsed": true
   },
   "outputs": [],
   "source": [
    "strdate = datetime.strftime(datetime.now(), format='%Y.%d.%m %H:%M:%S')\n",
    "currdate = datetime.strptime(strdate,'%Y.%d.%m %H:%M:%S')"
   ]
  },
  {
   "cell_type": "code",
   "execution_count": 52,
   "metadata": {
    "collapsed": true
   },
   "outputs": [],
   "source": [
    "# prev_load_dt_str"
   ]
  },
  {
   "cell_type": "code",
   "execution_count": 53,
   "metadata": {
    "collapsed": true,
    "scrolled": false
   },
   "outputs": [],
   "source": [
    "# daysback = 90\n",
    "\n",
    "# mysql = \\\n",
    "# '''\n",
    "# select \n",
    "# date_format(last_day(add_months(trunc(from_unixtime(unix_timestamp(min(last_open_time)) - {shiftd}*24*60*60),'MM'),-1)), 'yyyy-MM-dd') min_last_open_time_m90, \n",
    "# date_format(last_day(add_months(trunc(from_unixtime(unix_timestamp(min(last_click_time)) - {shiftd}*24*60*60), 'MM'),-1)), 'yyyy-MM-dd') min_last_click_time_m90\n",
    "# from T_TEAM_SPEECH_ANALYTICS.RESP_INN_KPP_CAMP\n",
    "# where load_dt > timestamp({dt})\n",
    "# '''.format(shiftd=daysback, dt=prev_load_dt_str)\n",
    "\n",
    "# min_clk_open = hive.sql(mysql).collect()"
   ]
  },
  {
   "cell_type": "code",
   "execution_count": 54,
   "metadata": {
    "collapsed": true
   },
   "outputs": [],
   "source": [
    "# min_last_open_time  = min_clk_open[0]['min_last_open_time_m90']\n",
    "# min_last_open_time"
   ]
  },
  {
   "cell_type": "code",
   "execution_count": 55,
   "metadata": {
    "collapsed": true,
    "scrolled": true
   },
   "outputs": [],
   "source": [
    "sdf_fresh = sdf.filter((f.col('response_dttm') >= resp_dttm_min_str) & (f.col('fresh_user')==1)).select('inn', \n",
    "                                                                                                        'kpp', \n",
    "                                                                                                        'campaign_nm', \n",
    "                                                                                                        'email', \n",
    "                                                                                                        'fresh_user')\n",
    "sdf_fresh = sdf_fresh.withColumn('email_proba',f.lit(0.0).cast(FloatType()))\n",
    "sdf_fresh = sdf_fresh.withColumn('email_class',f.lit(-1).cast(IntegerType()))                                 \n",
    "                                 \n",
    "# sdf_fresh = hive.sql('''\n",
    "# select\n",
    "# distinct\n",
    "#          inn\n",
    "#         ,kpp\n",
    "#         ,campaign_nm\n",
    "#         ,email\n",
    "#         ,cast(email_proba as float)\n",
    "#         ,cast(email_class as int)\n",
    "#         ,fresh_user\n",
    "# from(\n",
    "#     select \n",
    "#         inn \n",
    "#         ,kpp \n",
    "#         ,campaign_nm\n",
    "#         ,email\n",
    "#         ,0.0 email_proba\n",
    "#         ,-1 email_class\n",
    "#         ,fresh_user\n",
    "#     from \n",
    "#     tmp_resp_inn_kpp_camp\n",
    "#     where fresh_user = 1\n",
    "#     and response_dttm >= timestamp('{dt}')\n",
    "# )\n",
    "# '''.format(dt=min_last_open_time))"
   ]
  },
  {
   "cell_type": "code",
   "execution_count": 56,
   "metadata": {
    "collapsed": true
   },
   "outputs": [],
   "source": [
    "sdf_fresh = sdf_fresh.withColumn('load_dt', f.lit(currdate).cast(TimestampType()))"
   ]
  },
  {
   "cell_type": "code",
   "execution_count": 57,
   "metadata": {},
   "outputs": [
    {
     "data": {
      "text/plain": [
       "DataFrame[inn: string, kpp: string, campaign_nm: string, email: string, fresh_user: int, email_proba: float, email_class: int, load_dt: timestamp]"
      ]
     },
     "execution_count": 57,
     "metadata": {},
     "output_type": "execute_result"
    }
   ],
   "source": [
    "sdf_fresh.cache()"
   ]
  },
  {
   "cell_type": "code",
   "execution_count": 58,
   "metadata": {},
   "outputs": [
    {
     "data": {
      "text/plain": [
       "1391054"
      ]
     },
     "execution_count": 58,
     "metadata": {},
     "output_type": "execute_result"
    }
   ],
   "source": [
    "sdf_fresh.count()"
   ]
  },
  {
   "cell_type": "markdown",
   "metadata": {},
   "source": [
    "## Join with ML360"
   ]
  },
  {
   "cell_type": "code",
   "execution_count": 59,
   "metadata": {
    "collapsed": true
   },
   "outputs": [],
   "source": [
    "ml360 = 'dl_t_team_ml360'"
   ]
  },
  {
   "cell_type": "code",
   "execution_count": 60,
   "metadata": {
    "collapsed": true
   },
   "outputs": [],
   "source": [
    "sdf = hive.sql('''\n",
    "with mon_products as\n",
    "(\n",
    "         select * from {tbl}.mon_products_20200414033929\n",
    "         union select * from {tbl}.mon_products_20200629064208\n",
    "         union select * from {tbl}.mon_products_20200703111831\n",
    "         union select * from {tbl}.mon_products_20200707095006\n",
    ")\n",
    "\n",
    "select \n",
    "t.*,\n",
    "concat_ws(' ',email_subject, message_title, \n",
    "            customer_text_03, customer_text_04, customer_text_05, \n",
    "            customer_text_06, customer_text_07, customer_text_08, customer_text_09, customer_text_10,\n",
    "                              customer_text_12, customer_text_13, customer_text_14, customer_text_15, \n",
    "                              customer_text_17, customer_text_18, customer_text_19, customer_text_20) as text\n",
    "from(\n",
    "         select \n",
    "             rik.inn\n",
    "            ,rik.kpp\n",
    "            ,rik.campaign_nm\n",
    "            ,rik.email\n",
    "            --,rik.target            \n",
    "            ,rik.organization_id\n",
    "            ,rik.custid_value\n",
    "            ,rik.response\n",
    "            ,rik.response_dttm\n",
    "            ,rik.asday\n",
    "            ,rik.asdayname\n",
    "            ,rik.ashour\n",
    "            ,rik.astime           \n",
    "            ,rik.email_subject\n",
    "            ,rik.message_title\n",
    "            ,rik.customer_text_01\n",
    "            ,rik.customer_text_02\n",
    "            ,rik.customer_text_03\n",
    "            ,rik.customer_text_04\n",
    "            ,rik.customer_text_05\n",
    "            ,rik.customer_text_06\n",
    "            ,rik.customer_text_07\n",
    "            ,rik.customer_text_08\n",
    "            ,rik.customer_text_09\n",
    "            ,rik.customer_text_10\n",
    "            ,rik.customer_text_11\n",
    "            ,rik.customer_text_12\n",
    "            ,rik.customer_text_13\n",
    "            ,rik.customer_text_14\n",
    "            ,rik.customer_text_15\n",
    "            ,rik.customer_text_16\n",
    "            ,rik.customer_text_17\n",
    "            ,rik.customer_text_18\n",
    "            ,rik.customer_text_19\n",
    "            ,rik.customer_text_20\n",
    "            ,rik.clk_on_dlv_all_rate_m11\n",
    "            ,rik.clk_on_dlv_all_rate_m21\n",
    "            ,rik.clk_on_dlv_all_rate_m31\n",
    "            ,rik.clk_on_dlv_day_rate_m11\n",
    "            ,rik.clk_on_dlv_day_rate_m21\n",
    "            ,rik.clk_on_dlv_day_rate_m31\n",
    "            ,rik.clk_on_open_all_rate_m11\n",
    "            ,rik.clk_on_open_all_rate_m21\n",
    "            ,rik.clk_on_open_all_rate_m31\n",
    "            ,rik.clk_on_open_day_rate_m11\n",
    "            ,rik.clk_on_open_day_rate_m21\n",
    "            ,rik.clk_on_open_day_rate_m31\n",
    "            ,rik.delivery_all_cnt_m11\n",
    "            ,rik.delivery_all_cnt_m21\n",
    "            ,rik.delivery_all_cnt_m31\n",
    "            ,rik.diff_fcl_fo_m11\n",
    "            ,rik.diff_fcl_fo_m21\n",
    "            ,rik.diff_fcl_fo_m31\n",
    "            ,rik.diff_fcl_fs_m11\n",
    "            ,rik.diff_fcl_fs_m21\n",
    "            ,rik.diff_fcl_fs_m31\n",
    "            ,rik.diff_fcl_lo_m11\n",
    "            ,rik.diff_fcl_lo_m21\n",
    "            ,rik.diff_fcl_lo_m31\n",
    "            ,rik.diff_fcl_ls_m11\n",
    "            ,rik.diff_fcl_ls_m21\n",
    "            ,rik.diff_fcl_ls_m31\n",
    "            ,rik.diff_fo_fs_m11\n",
    "            ,rik.diff_fo_fs_m21\n",
    "            ,rik.diff_fo_fs_m31\n",
    "            ,rik.diff_fo_ls_m11\n",
    "            ,rik.diff_fo_ls_m21\n",
    "            ,rik.diff_fo_ls_m31\n",
    "            ,rik.diff_lcl_fcl_m11\n",
    "            ,rik.diff_lcl_fcl_m21\n",
    "            ,rik.diff_lcl_fcl_m31\n",
    "            ,rik.diff_lcl_fo_m11\n",
    "            ,rik.diff_lcl_fo_m21\n",
    "            ,rik.diff_lcl_fo_m31\n",
    "            ,rik.diff_lcl_fs_m11\n",
    "            ,rik.diff_lcl_fs_m21\n",
    "            ,rik.diff_lcl_fs_m31\n",
    "            ,rik.diff_lcl_lo_m11\n",
    "            ,rik.diff_lcl_lo_m21\n",
    "            ,rik.diff_lcl_lo_m31\n",
    "            ,rik.diff_lcl_ls_m11\n",
    "            ,rik.diff_lcl_ls_m21\n",
    "            ,rik.diff_lcl_ls_m31\n",
    "            ,rik.diff_lo_fo_m11\n",
    "            ,rik.diff_lo_fo_m21\n",
    "            ,rik.diff_lo_fo_m31\n",
    "            ,rik.diff_lo_fs_m11\n",
    "            ,rik.diff_lo_fs_m21\n",
    "            ,rik.diff_lo_fs_m31\n",
    "            ,rik.diff_lo_ls_m11\n",
    "            ,rik.diff_lo_ls_m21\n",
    "            ,rik.diff_lo_ls_m31\n",
    "            ,rik.first_click_time\n",
    "            ,rik.first_click_time_m11\n",
    "            ,rik.first_click_time_m21\n",
    "            ,rik.first_click_time_m31\n",
    "            ,rik.first_open_time\n",
    "            ,rik.first_open_time_m11\n",
    "            ,rik.first_open_time_m21\n",
    "            ,rik.first_open_time_m31\n",
    "            ,rik.first_send_time\n",
    "            ,rik.first_send_time_m11\n",
    "            ,rik.first_send_time_m21\n",
    "            ,rik.first_send_time_m31\n",
    "            ,rik.fresh_user\n",
    "            ,rik.last_click_all_cnt_m11\n",
    "            ,rik.last_click_all_cnt_m21\n",
    "            ,rik.last_click_all_cnt_m31\n",
    "            ,rik.last_click_day_cnt_m11\n",
    "            ,rik.last_click_day_cnt_m21\n",
    "            ,rik.last_click_day_cnt_m31\n",
    "            ,rik.last_click_time\n",
    "            ,rik.last_click_time_m11\n",
    "            ,rik.last_click_time_m21\n",
    "            ,rik.last_click_time_m31\n",
    "            ,rik.last_open_all_cnt_m11\n",
    "            ,rik.last_open_all_cnt_m21\n",
    "            ,rik.last_open_all_cnt_m31\n",
    "            ,rik.last_open_day_cnt_m11\n",
    "            ,rik.last_open_day_cnt_m21\n",
    "            ,rik.last_open_day_cnt_m31\n",
    "            ,rik.last_open_time\n",
    "            ,rik.last_open_time_m11\n",
    "            ,rik.last_open_time_m21\n",
    "            ,rik.last_open_time_m31\n",
    "            ,rik.last_send_time\n",
    "            ,rik.last_send_time_m11\n",
    "            ,rik.last_send_time_m21\n",
    "            ,rik.last_send_time_m31\n",
    "            ,rik.open_on_dlv_all_rate_m11\n",
    "            ,rik.open_on_dlv_all_rate_m21\n",
    "            ,rik.open_on_dlv_all_rate_m31\n",
    "            ,rik.open_on_dlv_day_rate_m11\n",
    "            ,rik.open_on_dlv_day_rate_m21\n",
    "            ,rik.open_on_dlv_day_rate_m31\n",
    "            ,rik.sum_open_click_camp\n",
    "            ,rik.load_dt\n",
    "            ,rik.last_day\n",
    "\n",
    "            ,mcs.cred_sdo\n",
    "            ,mcs.weight_prc\n",
    "            ,mcs.rate_diff\n",
    "\n",
    "            ,mdh.all_prod_deals_created\n",
    "            ,mdh.all_prod_deals_completed\n",
    "            ,mdh.credit_prod_deals_created\n",
    "            ,mdh.merch_prod_deals_created\n",
    "            ,mdh.corp_cards_prod_deals_created\n",
    "            ,mdh.salary_prod_deals_created\n",
    "            ,mdh.depozit_prod_deals_created\n",
    "            ,mdh.insure_prod_deals_created\n",
    "            ,mdh.credit_prod_deals_completed\n",
    "            ,mdh.merch_prod_deals_completed\n",
    "            ,mdh.corp_cards_prod_deals_completed\n",
    "            ,mdh.salary_prod_deals_completed\n",
    "            ,mdh.depozit_prod_deals_completed\n",
    "            ,mdh.insure_prod_deals_completed\n",
    "            --,mdh.segment\n",
    "\n",
    "            ,mibs.complicity_type\n",
    "            ,mibs.otrasl\n",
    "            ,cast(mibs.ul_kopf_cd as int) ul_kopf_cd\n",
    "            ,mibs.big_segment\n",
    "\n",
    "            ,mip.oborot_kredit\n",
    "            ,mip.invest_kredit\n",
    "            ,mip.overdraft_kredit\n",
    "            ,mip.proekt_finans\n",
    "            ,mip.products_lizing\n",
    "            ,mip.obsluzh_rts_rur\n",
    "            ,mip.obsluzh_rts_val\n",
    "            ,mip.spec_acc\n",
    "            ,mip.deposit\n",
    "            ,mip.veksel\n",
    "            ,mip.deposit_sertificat\n",
    "            ,mip.inkass\n",
    "            ,mip.samoinkass\n",
    "            ,mip.zarplat_projects\n",
    "            ,mip.acquiring_torg\n",
    "            ,mip.acquiring_mobile\n",
    "            ,mip.acreditiv\n",
    "            ,mip.valuta_control\n",
    "            ,mip.garantee_kontract\n",
    "            ,mip.garantee_gos\n",
    "            ,mip.garantee_other\n",
    "            ,mip.arenda_seyf\n",
    "            ,mip.dbo\n",
    "            ,mip.corporate_cards\n",
    "            ,mip.cash_management\n",
    "            ,mip.bank_straxovanie_imush\n",
    "            ,mip.bank_straxovanie_lich\n",
    "            ,mip.bank_straxovanie_otvet\n",
    "            ,mip.einvoicing\n",
    "            ,mip.factoring\n",
    "            ,mip.konversion\n",
    "            ,mip.ns_servis\n",
    "            ,mip.ns_terminal\n",
    "\n",
    "            ,mnbc.segment crm_segment\n",
    "            ,mnbc.prior_true\n",
    "            ,mnbc.OPF_IP\n",
    "            ,mnbc.OPF_OOO\n",
    "            ,mnbc.OPF_Other\n",
    "            ,mnbc.tb_Centralno_Chernozemnyj\n",
    "            ,mnbc.tb_Moskovskij\n",
    "            ,mnbc.tb_Uralskij\n",
    "            ,mnbc.tb_Povolzhskij\n",
    "            ,mnbc.tb_Severo_Zapadnyj\n",
    "            ,mnbc.tb_Dalnevostochnyj\n",
    "            ,mnbc.tb_Volgo_Vyatskij\n",
    "            \n",
    "            ,mp.corp_cards\n",
    "            ,mp.rko\n",
    "            ,mp.salary\n",
    "            ,mp.merch\n",
    "            ,mp.credit\n",
    "            ,mp.deposits            \n",
    "\n",
    "            ,yfp.egr_org_id\n",
    "            ,yfp.ip_flg\n",
    "            ,yfp.ul_org_id\n",
    "            ,yfp.egrul_org_id\n",
    "            ,yfp.ogrn\n",
    "            ,yfp.short_nm\n",
    "            ,yfp.okato_cd\n",
    "            ,yfp.kopf_cd\n",
    "            ,yfp.kopf_nm\n",
    "            ,cast(yfp.active_flg as int) active_flg\n",
    "            ,yfp.founders_all_cnt\n",
    "            ,yfp.founders_ul_cnt\n",
    "            ,yfp.head_inn\n",
    "            ,yfp.founders_fl_cnt\n",
    "            ,yfp.founders_foreign_ul_cnt\n",
    "            ,yfp.branch_cnt\n",
    "            ,yfp.adrs_index\n",
    "            ,yfp.adrs_rf_subject\n",
    "            ,yfp.egrip_org_id\n",
    "            ,yfp.ip_org_id\n",
    "            ,yfp.ar_revenue\n",
    "            ,yfp.ar_total_expenses\n",
    "            ,yfp.ar_profit_before_tax\n",
    "            ,yfp.ar_taxes\n",
    "            ,yfp.ar_net_profit\n",
    "            ,yfp.fot_balance\n",
    "            ,yfp.license_cnt\n",
    "            ,yfp.okfs_cd\n",
    "            ,yfp.integrum_staff_range\n",
    "            ,yfp.ab_immobilized_assets\n",
    "            ,yfp.ab_losses\n",
    "            ,yfp.ab_own_capital\n",
    "            ,yfp.ab_borrowed_capital\n",
    "            ,yfp.okved_cnt\n",
    "            ,yfp.industry\n",
    "            ,yfp.total_sum_kt\n",
    "            ,yfp.total_count_kt\n",
    "            ,yfp.total_sum_dt\n",
    "            ,yfp.total_count_dt\n",
    "            ,yfp.total_sum_kt_3m\n",
    "            ,yfp.total_count_kt_3m\n",
    "            ,yfp.total_sum_dt_3m\n",
    "            ,yfp.total_count_dt_3m\n",
    "            ,yfp.total_sum_kt_year18\n",
    "            ,yfp.total_count_kt_year18\n",
    "            ,yfp.total_sum_dt_year18\n",
    "            ,yfp.total_count_dt_year18\n",
    "            ,yfp.tax_income\n",
    "            ,yfp.penalty_income\n",
    "            ,yfp.tax_ip\n",
    "            ,yfp.penalty_ip\n",
    "            ,yfp.tax_foreign\n",
    "            ,yfp.penalty_foreign\n",
    "            ,yfp.tax_income_3m\n",
    "            ,yfp.penalty_income_3m\n",
    "            ,yfp.tax_ip_3m\n",
    "            ,yfp.penalty_ip_3m\n",
    "            ,yfp.tax_foreign_3m\n",
    "            ,yfp.penalty_foreign_3m\n",
    "            ,yfp.tax_income_year18\n",
    "            ,yfp.penalty_income_year18\n",
    "            ,yfp.tax_ip_year18\n",
    "            ,yfp.penalty_ip_year18\n",
    "            ,yfp.tax_foreign_year18\n",
    "            ,yfp.penalty_foreign_year18\n",
    "            ,yfp.kpp_regions_cnt\n",
    "            ,yfp.gis_building_area\n",
    "            ,yfp.gis_merchant_cnt\n",
    "            ,yfp.gis_staff_cnt\n",
    "            ,yfp.gis_building_firms\n",
    "            ,yfp.gis_network_flg\n",
    "            ,yfp.gis_rosn_merchant_flg\n",
    "            ,yfp.gis_opt_merchant_flg\n",
    "            ,yfp.gis_production_merchant_flg\n",
    "            ,yfp.gis_internet_merchant_flg\n",
    "            ,yfp.gis_bank_payment_flg\n",
    "            ,yfp.gis_cash_payment_flg\n",
    "            ,yfp.gis_card_payment_flg\n",
    "            ,yfp.gis_internet_payment_flg\n",
    "            ,yfp.cred_application_cnt\n",
    "            ,yfp.segment fot_segment\n",
    "            ,yfp.okato_reg\n",
    "            ,yfp.integrum_lower_bound\n",
    "            ,yfp.wlt_prediction\n",
    "            ,yfp.fns_staff_cnt\n",
    "            ,yfp.mean_zp\n",
    "            ,yfp.zp_amount\n",
    "            ,yfp.mean_zp_empl_cnt\n",
    "            ,yfp.max_zp_empl_cnt\n",
    "            ,yfp.min_zp_empl_cnt\n",
    "            ,yfp.stoplist\n",
    "\n",
    "         from tmp_resp_inn_kpp_camp    rik\n",
    "         left join {tbl}.mon_cred_sdo                mcs  on rik.inn = mcs.inn  and rik.last_day = mcs.mon\n",
    "         left join {tbl}.mon_deals_history           mdh  on rik.inn = mdh.inn  and rik.last_day = mdh.mon\n",
    "         left join {tbl}.mon_iskra_big_segment       mibs on rik.inn = mibs.inn and rik.last_day = mibs.mon\n",
    "         left join {tbl}.mon_iskra_prod              mip  on rik.inn = mip.inn  and rik.last_day = mip.mon\n",
    "         left join {tbl}.mon_nba_base_crm            mnbc on rik.inn = mnbc.inn and rik.last_day = mnbc.mon\n",
    "         left join mon_products                      mp   on rik.inn = mp.inn   and rik.last_day = mp.mon  \n",
    "         left join {tbl}.yr_fot_profile              yfp  on rik.inn = yfp.inn  and rik.last_day = yfp.yr  \n",
    "                                                                                and rik.kpp = yfp.kpp      \n",
    "         where fresh_user in (0,2)\n",
    "         --and load_dt <= timestamp('%s')\n",
    ") t\n",
    "--where target in (0,1)\n",
    "'''.format(tbl=ml360)) #%(prev_load_dt_str))"
   ]
  },
  {
   "cell_type": "code",
   "execution_count": 61,
   "metadata": {
    "collapsed": true
   },
   "outputs": [],
   "source": [
    "# best_day_sdf = sdf.distinct()"
   ]
  },
  {
   "cell_type": "markdown",
   "metadata": {},
   "source": [
    "### Join with CALL_TASK_TO_SENDSAY"
   ]
  },
  {
   "cell_type": "code",
   "execution_count": 62,
   "metadata": {
    "collapsed": true,
    "scrolled": true
   },
   "outputs": [],
   "source": [
    "call_sdf = hive.sql(\"select cast( cast(inn as long) as string) _inn, CREATE_DATE from sbx_team_digitcamp.CALL_TASK_TO_SENDSAY\")"
   ]
  },
  {
   "cell_type": "code",
   "execution_count": 63,
   "metadata": {},
   "outputs": [
    {
     "data": {
      "text/plain": [
       "[('_inn', 'string'), ('CREATE_DATE', 'timestamp')]"
      ]
     },
     "execution_count": 63,
     "metadata": {},
     "output_type": "execute_result"
    }
   ],
   "source": [
    "call_sdf.dtypes"
   ]
  },
  {
   "cell_type": "code",
   "execution_count": 64,
   "metadata": {
    "collapsed": true,
    "scrolled": false
   },
   "outputs": [],
   "source": [
    "sdf = sdf.join(call_sdf, on=( (sdf.inn==call_sdf._inn) & \n",
    "                              (call_sdf.CREATE_DATE >= f.date_sub(sdf.first_send_time, 40))))"
   ]
  },
  {
   "cell_type": "code",
   "execution_count": 65,
   "metadata": {
    "collapsed": true,
    "scrolled": false
   },
   "outputs": [],
   "source": [
    "sdf = sdf.withColumn('call_first_check', f.when((f.col('CREATE_DATE') < f.col('last_send_time')) & \\\n",
    "                                                (f.col('CREATE_DATE') >= f.date_sub(f.col('last_send_time'),30)), 1).otherwise(0))"
   ]
  },
  {
   "cell_type": "code",
   "execution_count": null,
   "metadata": {
    "scrolled": false
   },
   "outputs": [],
   "source": [
    "sdf.cache()"
   ]
  },
  {
   "cell_type": "code",
   "execution_count": 67,
   "metadata": {},
   "outputs": [
    {
     "data": {
      "text/plain": [
       "34287783"
      ]
     },
     "execution_count": 67,
     "metadata": {},
     "output_type": "execute_result"
    }
   ],
   "source": [
    "sdf.count()"
   ]
  },
  {
   "cell_type": "markdown",
   "metadata": {},
   "source": [
    "### Preproc"
   ]
  },
  {
   "cell_type": "code",
   "execution_count": 70,
   "metadata": {
    "collapsed": true
   },
   "outputs": [],
   "source": [
    "sdf = sdf.withColumn('idx', f.monotonically_increasing_id())"
   ]
  },
  {
   "cell_type": "code",
   "execution_count": 71,
   "metadata": {
    "collapsed": true
   },
   "outputs": [],
   "source": [
    "import locale\n",
    "import re\n",
    "from functools import cmp_to_key\n",
    "\n",
    "# indx_cols = list(zip(range(len(final_cols)),final_cols))\n",
    "\n",
    "customer_attr = ['customer_text_0{}'.format(str(i)) if i<10 \n",
    "                 else 'customer_text_{}'.format(str(i)) for i in range(1,21)]\n",
    "\n",
    "first_order_cols = \\\n",
    "[\n",
    "    'inn',\n",
    "    'kpp', \n",
    "    'organization_id',\n",
    "    'campaign_nm',\n",
    "    'email',\n",
    "    #'target'\n",
    "]\n",
    "\n",
    "rem_cols = \\\n",
    "[\n",
    "#'sum_open_click_camp', \n",
    "'custid_value', \n",
    "'CREATE_DATE',\n",
    "'_inn',\n",
    "'response', 'asday','astime', 'ashour', 'asdayname', 'yr',\n",
    "'email_subject', 'message_title',\n",
    "'wlt_prediction',\n",
    "'adrs_index', 'adrs_rf_subject', 'head_inn', 'kopf_nm', 'short_nm',\n",
    "'last_day',\n",
    "'mon', 'okato_cd', 'kopf_cd','okfs_cd','okved_cnt','egrip_org_id','ip_org_id','integrum_staff_range',\n",
    "'gis_building_area','gis_staff_cnt','gis_building_firms','okato_reg','fns_staff_cnt',\n",
    "'load_dt', 'obsluzh_rts_rur','salary','corp_cards', 'ogrn'\n",
    "]\n",
    "\n",
    "\n",
    "reordered_cols = first_order_cols+ \\\n",
    "sorted(set(sdf.columns) - set(customer_attr)\n",
    "                        - set(first_order_cols)\n",
    "                        - set(rem_cols), key=cmp_to_key(locale.strcoll))\n",
    "\n",
    "pattern = re.compile(r'.*_click_time.*|.*_open_time.*|.*_send_time.*|delivery_all_cnt.*')\n",
    "# 'delivery_all_cnt_m11','delivery_all_cnt_m21'\n",
    "\n",
    "final_cols = [col for col in reordered_cols if len(pattern.findall(col)) == 0]\n",
    "\n",
    "sdf = sdf.select(*final_cols)"
   ]
  },
  {
   "cell_type": "markdown",
   "metadata": {},
   "source": [
    "### Fill NAN"
   ]
  },
  {
   "cell_type": "code",
   "execution_count": 72,
   "metadata": {
    "collapsed": true
   },
   "outputs": [],
   "source": [
    "replna = {}\n",
    "for col in sdf.dtypes:\n",
    "    if col[1] == 'string':\n",
    "        replna.update({col[0]:''})\n",
    "    elif col[1] == 'boolean':\n",
    "        replna.update({col[0]:False})\n",
    "    elif col[1] != 'timestamp':\n",
    "        replna.update({col[0]:0})\n",
    "\n",
    "sdf = sdf.fillna(replna)"
   ]
  },
  {
   "cell_type": "code",
   "execution_count": 73,
   "metadata": {
    "collapsed": true
   },
   "outputs": [],
   "source": [
    "# sdf = sdf.withColumn('active_flg', sdf['active_flg'].cast(IntegerType()))\n",
    "# sdf = sdf.withColumn('ul_kopf_cd', f.col('ul_kopf_cd').cast(IntegerType()))"
   ]
  },
  {
   "cell_type": "code",
   "execution_count": 74,
   "metadata": {},
   "outputs": [
    {
     "name": "stdout",
     "output_type": "stream",
     "text": [
      "('inn', 'string')\n",
      "('_inn', 'string')\n",
      "('kpp', 'string')\n",
      "('organization_id', 'string')\n",
      "('campaign_nm', 'string')\n",
      "('email', 'string')\n",
      "('big_segment', 'string')\n",
      "('complicity_type', 'string')\n",
      "('crm_segment', 'string')\n",
      "('fot_segment', 'string')\n",
      "('otrasl', 'string')\n",
      "('prior_true', 'string')\n",
      "('text', 'string')\n"
     ]
    }
   ],
   "source": [
    "for col in sdf.dtypes:\n",
    "    if col[1] == 'string':\n",
    "        print(col)"
   ]
  },
  {
   "cell_type": "markdown",
   "metadata": {},
   "source": [
    "### Fit spark dataframe: index categorical columns"
   ]
  },
  {
   "cell_type": "code",
   "execution_count": 75,
   "metadata": {
    "collapsed": true
   },
   "outputs": [],
   "source": [
    "#catcol = ['big_segment', 'complicity_type', 'otrasl', 'prior_true', 'segment_main'] \n",
    "\n",
    "# indexers = [StringIndexer(inputCol=column, outputCol=column+'_idx').setHandleInvalid('keep').fit(sdf) for column in catcol]\n",
    "# pipelineModel = Pipeline(stages=indexers)\n",
    "# pipelineModelFit = pipelineModel.fit(sdf)\n",
    "# sdf = pipelineModelFit.transform(sdf)\n",
    "\n",
    "## pipeline save StringIndexer\n",
    "# pipelineModelFit.write().overwrite().save(\"/user/ektov/sandsay_pipeline_StringIndexer\")"
   ]
  },
  {
   "cell_type": "markdown",
   "metadata": {},
   "source": [
    "### Load Prefitted PipelineModel"
   ]
  },
  {
   "cell_type": "code",
   "execution_count": 76,
   "metadata": {
    "collapsed": true
   },
   "outputs": [],
   "source": [
    "# ! hdfs dfs -cp -f hdfs://nameservice1/user/ektov/sendsay_pipeline_StringIndexer_upd hdfs:///user/ektov/"
   ]
  },
  {
   "cell_type": "code",
   "execution_count": 77,
   "metadata": {
    "collapsed": true,
    "scrolled": true
   },
   "outputs": [],
   "source": [
    "pipelineModelPreFit = PipelineModel.load(\"hdfs:///user/{}/sendsay_pipeline_StringIndexer_upd\".format(curruser))\n",
    "sdf = pipelineModelPreFit.transform(sdf)\n",
    "\n",
    "# drop string columns\n",
    "catcol = ['big_segment', 'crm_segment', 'fot_segment', 'complicity_type', 'otrasl', 'prior_true'] \n",
    "catcol.extend(['response_dttm'])\n",
    "sdf = sdf.drop(*catcol)"
   ]
  },
  {
   "cell_type": "markdown",
   "metadata": {},
   "source": [
    "### Remove constant columns"
   ]
  },
  {
   "cell_type": "code",
   "execution_count": 78,
   "metadata": {
    "collapsed": true,
    "scrolled": true
   },
   "outputs": [],
   "source": [
    "# const_cols = sdf.agg(*[f.countDistinct(f.col(col)).alias(col) for col in sdf.columns]).collect()[0].asDict()\n",
    "# cols_to_rem = sorted([k for k,v in const_cols.items() if v == 0])"
   ]
  },
  {
   "cell_type": "code",
   "execution_count": 79,
   "metadata": {
    "collapsed": true
   },
   "outputs": [],
   "source": [
    "with open('./csv/zero_std_cols', 'r') as fin:\n",
    "    res = fin.readlines()\n",
    "zero_std_cols = [re.sub('\\\\n','',line) for line in res]"
   ]
  },
  {
   "cell_type": "code",
   "execution_count": 80,
   "metadata": {
    "collapsed": true
   },
   "outputs": [],
   "source": [
    "sdf = sdf.drop(*zero_std_cols)"
   ]
  },
  {
   "cell_type": "markdown",
   "metadata": {},
   "source": [
    "### Save"
   ]
  },
  {
   "cell_type": "code",
   "execution_count": 81,
   "metadata": {
    "collapsed": true
   },
   "outputs": [],
   "source": [
    "# sp.db = 't_team_speech_analytics'\n",
    "# sp.output = 'data_temp_model_sendsay'\n",
    "# sp.save(sdf_exp)"
   ]
  },
  {
   "cell_type": "code",
   "execution_count": 82,
   "metadata": {
    "collapsed": true
   },
   "outputs": [],
   "source": [
    "# sdf = hive.sql(''' \n",
    "# select\n",
    "# *\n",
    "#  from T_TEAM_SPEECH_ANALYTICS.data_temp_model_sendsay\n",
    "# ''')"
   ]
  },
  {
   "cell_type": "markdown",
   "metadata": {},
   "source": [
    "## Preprocessing with FastText"
   ]
  },
  {
   "cell_type": "code",
   "execution_count": 83,
   "metadata": {
    "collapsed": true,
    "scrolled": true
   },
   "outputs": [],
   "source": [
    "import string\n",
    "\n",
    "import nltk\n",
    "from nltk.corpus import stopwords\n",
    "from nltk.tokenize import RegexpTokenizer, word_tokenize\n",
    "\n",
    "import pymorphy2\n",
    "# morph = pymorphy2.MorphAnalyzer()\n",
    "# broadcast \n",
    "MORPH = pymorphy2.MorphAnalyzer()\n",
    "morph_broadcast = sp.sc.broadcast(MORPH)\n",
    "\n",
    "stop_words = set(stopwords.words('russian'))\n",
    "exclude = set(string.punctuation) \n",
    "\n",
    "def text_prepare(text, lemmatize = False): \n",
    "    morph = morph_broadcast.value\n",
    "    def drop_nps(tokenslst, lemmatize=lemmatize):\n",
    "        lres=[]\n",
    "        for token in tokenslst:\n",
    "            parse_res=morph.parse(token)[0]\n",
    "            if not 'Name' in parse_res.tag and \\\n",
    "               not 'Patr' in parse_res.tag and \\\n",
    "               not 'Surn' in parse_res.tag:\n",
    "                        if not lemmatize:\n",
    "                            lres.append(parse_res.word)\n",
    "                        else:\n",
    "                            lres.append(parse_res.normal_form)      \n",
    "        return ' '.join(lres)\n",
    "\n",
    "    text = ''.join(x if x not in exclude else ' ' for x in text)\n",
    "    text = ' '.join(word for word in text.split() if word not in stop_words)\n",
    "    text = re.sub(r'[a-zA-Z\\d{1,8}]+','',text)\n",
    "    text = ' '.join(word for word in text.split() if len(word)>2) \n",
    "    tokenslst = list(map(lambda x: x.replace('\"', '').lower(), RegexpTokenizer('([а-яА-Яa-zA-Z\\d{9,12}]+|\\\"[\\w\\s]+\\\")').tokenize(text)))\n",
    "\n",
    "    if not lemmatize:\n",
    "        res = drop_nps(tokenslst)\n",
    "    else:    \n",
    "        res = drop_nps(tokenslst, True)    \n",
    "    return res"
   ]
  },
  {
   "cell_type": "code",
   "execution_count": 84,
   "metadata": {
    "collapsed": true
   },
   "outputs": [],
   "source": [
    "text_prepare_udf = f.udf(text_prepare, StringType())"
   ]
  },
  {
   "cell_type": "code",
   "execution_count": 85,
   "metadata": {
    "collapsed": true
   },
   "outputs": [],
   "source": [
    "sdf = sdf.withColumn('text_norm', text_prepare_udf('text'))  "
   ]
  },
  {
   "cell_type": "markdown",
   "metadata": {},
   "source": [
    "### TFIDF+FastText: Run broadcast "
   ]
  },
  {
   "cell_type": "code",
   "execution_count": null,
   "metadata": {
    "scrolled": true
   },
   "outputs": [],
   "source": [
    "from pyspark import SparkFiles"
   ]
  },
  {
   "cell_type": "code",
   "execution_count": 87,
   "metadata": {
    "collapsed": true
   },
   "outputs": [],
   "source": [
    "# !hdfs dfs -put /home/ektov/notebooks/EmailSMSResponses/RESP_MODELS/model/email_sendsay_TfIdf_vect.pkl hdfs:///user/ektov/"
   ]
  },
  {
   "cell_type": "code",
   "execution_count": 88,
   "metadata": {
    "collapsed": true,
    "scrolled": true
   },
   "outputs": [],
   "source": [
    "# filemodel = 'model/'\n",
    "# model_ft =  joblib.load(os.path.join(filemodel,'email_sendsay_FT_gensi_vocabulary.pkl'))\n",
    "# embed = joblib.load(os.path.join(filemodel,'email_sendsay_TfIdf_vect.pkl'))\n",
    "\n",
    "hdfsfile='hdfs:///user/{}/email_sendsay_TfIdf_vect.pkl'.format(curruser)\n",
    "sp.sc.addFile(hdfsfile)\n",
    "embed = joblib.load(SparkFiles.get('email_sendsay_TfIdf_vect.pkl'))"
   ]
  },
  {
   "cell_type": "code",
   "execution_count": 89,
   "metadata": {
    "scrolled": true
   },
   "outputs": [
    {
     "name": "stdout",
     "output_type": "stream",
     "text": [
      "CPU times: user 9.11 ms, sys: 3.37 ms, total: 12.5 ms\n",
      "Wall time: 78 ms\n"
     ]
    }
   ],
   "source": [
    "%%time\n",
    "# bstBroadcast = sp.sc.broadcast(model_ft)\n",
    "# vectBroadcast = sp.sc.broadcast(model_idf)\n",
    "rev_dct = sp.sc.broadcast(embed.gensim_rev_dct)\n",
    "tfIdfModel = sp.sc.broadcast(embed.gensim_tfIdfModel)\n",
    "bow = sp.sc.broadcast(embed.bow)\n",
    "model_word_tfidf = sp.sc.broadcast(embed.model_word_tfidf)\n",
    "model_char_tfidf = sp.sc.broadcast(embed.model_char_tfidf)\n",
    "\n",
    "col_bc = sp.sc.broadcast(sdf.columns)"
   ]
  },
  {
   "cell_type": "code",
   "execution_count": 90,
   "metadata": {
    "collapsed": true
   },
   "outputs": [],
   "source": [
    "colexp = col_bc.value\n",
    "colexp.remove('text')\n",
    "colexp.remove('text_norm')"
   ]
  },
  {
   "cell_type": "code",
   "execution_count": 91,
   "metadata": {
    "collapsed": true,
    "scrolled": true
   },
   "outputs": [],
   "source": [
    "sp.sc.addFile('./../src/corpora_transform_main.py')\n",
    "\n",
    "\n",
    "#!hdfs dfs -put model/ft_vector /user/ektov/\n",
    "hdfsfile = 'hdfs:///user/{}/FT/ft_vector'.format(curruser)\n",
    "sp.sc.addFile(hdfsfile)\n",
    "\n",
    "# !hdfs dfs -put model/ft_vector.vectors_ngrams.npy /user/ektov/\n",
    "# hdfsfile = 'hdfs:///user/ektov/ft_vector.vectors_ngrams.npy'\n",
    "# sp.sc.addFile(hdfsfile)\n",
    "\n",
    "#!hdfs dfs -put model/ft.word2vec /user/ektov/\n",
    "hdfsfile = 'hdfs:///user/{}/FT/ft.word2vec'.format(curruser)\n",
    "sp.sc.addFile(hdfsfile)"
   ]
  },
  {
   "cell_type": "markdown",
   "metadata": {},
   "source": [
    "___"
   ]
  },
  {
   "cell_type": "code",
   "execution_count": 92,
   "metadata": {
    "collapsed": true
   },
   "outputs": [],
   "source": [
    "def block_iterator(iterator,size):\n",
    "    \"\"\"\n",
    "    dest:\n",
    "        сервисная функция для итерации по блокам данных внутри RDD. \n",
    "        Чем больше size при увеличении количества потоков, тем быстрее обработка\n",
    "    args:\n",
    "        iterator-объект \n",
    "        size - размер элементов для единичной итерации\n",
    "    return:\n",
    "        вычисляемый объект bucket\n",
    " \n",
    "    \"\"\"\n",
    "    bucket = list()\n",
    "    for e in iterator:\n",
    "        bucket.append(e)\n",
    "        if len(bucket) >= size:\n",
    "            yield bucket\n",
    "            bucket = list()\n",
    "    if bucket:\n",
    "        yield bucket"
   ]
  },
  {
   "cell_type": "markdown",
   "metadata": {},
   "source": [
    "### TfIdfFastTextEmbedVectorizer: Generate Features Based on FastText Vector Only"
   ]
  },
  {
   "cell_type": "code",
   "execution_count": 93,
   "metadata": {
    "scrolled": true
   },
   "outputs": [
    {
     "name": "stdout",
     "output_type": "stream",
     "text": [
      "CPU times: user 556 µs, sys: 373 µs, total: 929 µs\n",
      "Wall time: 271 ms\n"
     ]
    }
   ],
   "source": [
    "%%time\n",
    "def block_classify(iterator):\n",
    "    curruser = os.environ.get('USER')\n",
    "    if isUseOptWorkspace:\n",
    "#         sys.path.insert(0,'/home/{}/.local/lib/python3.5/site-packages/'.format(curruser))\n",
    "        sys.path.insert(0,'/opt/workspace/{}/libs/python3.5/site-packages'.format(curruser))\n",
    "    else:\n",
    "        sys.path.insert(0,'/home/{}/python35-libs/lib/python3.5/site-packages/'.format(curruser))\n",
    "    from corpora_transform_main import TfIdfFastTextEmbedVectorizer\n",
    "    from gensim.models.fasttext import FastText as FT_gensim\n",
    "    from gensim.models import KeyedVectors\n",
    "    import pandas as pd\n",
    "    import json\n",
    "\n",
    "    for features in block_iterator(iterator, 1000000):\n",
    "        \n",
    "        features_df = pd.DataFrame(list(features), columns = col_bc.value) # получаем исходные данные в виде df        \n",
    "#         X_predict = features_df[[col for col in features_df.columns if col not in ['inn', 'kpp', 'campaign_nm', 'text']]]    \n",
    "        X_predict = features_df['text_norm']\n",
    "    \n",
    "#         model_ft = FT_gensim.load(SparkFiles.get('ft_vector'))\n",
    "        model_ft = KeyedVectors.load_word2vec_format(SparkFiles.get('ft.word2vec'))\n",
    "        _useTfIdf2Pred = False\n",
    "        embed = TfIdfFastTextEmbedVectorizer(model = model_ft, \n",
    "                                             useTfIdf2Pred=_useTfIdf2Pred,\n",
    "                                             word_ngram_range=(1,2), \n",
    "                                             word_max_vec_features=300)\n",
    "        \n",
    "        embed.gensim_rev_dct = rev_dct.value \n",
    "        embed.gensim_tfIdfModel = tfIdfModel.value\n",
    "        embed.bow = bow.value\n",
    "        \n",
    "        if _useTfIdf2Pred:\n",
    "            embed.model_word_tfidf = model_word_tfidf.value\n",
    "            embed.model_char_tfidf = model_char_tfidf.value\n",
    "\n",
    "        res = embed.transform(X_predict)\n",
    "        ft_df = pd.DataFrame(res, columns=embed.feature_names)\n",
    "        \n",
    "        res_df = features_df[colexp]\n",
    "        res_df = pd.concat([res_df,ft_df], axis=1)\n",
    " \n",
    "        for e in json.loads(res_df.to_json(orient='records')): # генерируем выходной блок\n",
    "            yield e\n",
    "        \n",
    "            \n",
    "sdf_proc = sdf.rdd.mapPartitions(block_classify)"
   ]
  },
  {
   "cell_type": "code",
   "execution_count": 94,
   "metadata": {
    "collapsed": true
   },
   "outputs": [],
   "source": [
    "rdd  = sdf.limit(1).rdd.mapPartitions(block_classify)\n",
    "flat = rdd.flatMap(lambda x: [key for key in x.keys()]).collect()"
   ]
  },
  {
   "cell_type": "code",
   "execution_count": 95,
   "metadata": {
    "collapsed": true
   },
   "outputs": [],
   "source": [
    "ft_cols = [key for key in flat if '_ft_' in key.lower()]\n",
    "\n",
    "typesmap_rdd={}\n",
    "\n",
    "for column_name, column in sdf.dtypes:\n",
    "    if column == 'string':\n",
    "        typesmap_rdd[column_name] = StringType()\n",
    "    elif 'decimal' in column:\n",
    "#         digits = int('{}'.format(column.split('(')[1].split(',')[0]))\n",
    "#         prec   = int('{}'.format(column.split('(')[1].split(',')[1][:-1]))\n",
    "        typesmap_rdd[column_name] = FloatType() #DecimalType(digits,prec)\n",
    "    elif column == 'double':\n",
    "        typesmap_rdd[column_name] = DoubleType()        \n",
    "    elif column == 'float':\n",
    "        typesmap_rdd[column_name] = FloatType()\n",
    "    elif column == 'int':\n",
    "        typesmap_rdd[column_name] = IntegerType()       \n",
    "    elif column == 'bigint':\n",
    "        typesmap_rdd[column_name] = LongType()   \n",
    "\n",
    "for column_name in ft_cols:        \n",
    "       typesmap_rdd[column_name] = FloatType() "
   ]
  },
  {
   "cell_type": "code",
   "execution_count": 96,
   "metadata": {
    "collapsed": true,
    "scrolled": false
   },
   "outputs": [],
   "source": [
    "cols = colexp+ft_cols\n",
    "\n",
    "currschema = StructType([StructField(col, typesmap_rdd[col]) for col in cols])\n",
    "\n",
    "sdf_proc = sp.sql.createDataFrame(sdf_proc, schema=currschema)"
   ]
  },
  {
   "cell_type": "code",
   "execution_count": 97,
   "metadata": {
    "collapsed": true,
    "scrolled": true
   },
   "outputs": [],
   "source": [
    "# sdf_proc.cache()"
   ]
  },
  {
   "cell_type": "code",
   "execution_count": 98,
   "metadata": {
    "collapsed": true,
    "scrolled": true
   },
   "outputs": [],
   "source": [
    "# sdf_proc.count()"
   ]
  },
  {
   "cell_type": "markdown",
   "metadata": {},
   "source": [
    "## Load PreTrained Xgboost model"
   ]
  },
  {
   "cell_type": "code",
   "execution_count": null,
   "metadata": {
    "collapsed": true,
    "scrolled": true
   },
   "outputs": [],
   "source": [
    "from getpass import getpass\n",
    "from sshloader import Ssh"
   ]
  },
  {
   "cell_type": "code",
   "execution_count": 100,
   "metadata": {
    "collapsed": true
   },
   "outputs": [],
   "source": [
    "# USERNAME = \"ektov\"\n",
    "# PASSWORD = getpass()"
   ]
  },
  {
   "cell_type": "code",
   "execution_count": 101,
   "metadata": {
    "collapsed": true
   },
   "outputs": [],
   "source": [
    "# _ssh = Ssh(username=USERNAME, \n",
    "#            password=PASSWORD, \n",
    "#            host='februs11.ca.sbrf.ru',\n",
    "#            verbosity=1)\n",
    "# _ssh.setup()  "
   ]
  },
  {
   "cell_type": "code",
   "execution_count": 102,
   "metadata": {
    "collapsed": true
   },
   "outputs": [],
   "source": [
    "# rpath = '/home/{user}/notebook/sendsay_model/model/'.format(user=USERNAME)\n",
    "# lpath = './model/'\n",
    "# file = 'xgboost_only_ft_200207.pkl'\n",
    "# _ssh.getFiles(rpath,lpath,file)"
   ]
  },
  {
   "cell_type": "code",
   "execution_count": 100,
   "metadata": {
    "collapsed": true,
    "scrolled": false
   },
   "outputs": [],
   "source": [
    "import xgboost\n",
    "from xgboost import XGBClassifier\n",
    "\n",
    "file = 'xgb_best_param_wFT_10M_200613.pkl'\n",
    "model = joblib.load('./pkl/{}'.format(file))"
   ]
  },
  {
   "cell_type": "markdown",
   "metadata": {},
   "source": [
    "### Make a Prediction: Run broadcast"
   ]
  },
  {
   "cell_type": "code",
   "execution_count": 110,
   "metadata": {
    "scrolled": true
   },
   "outputs": [
    {
     "name": "stdout",
     "output_type": "stream",
     "text": [
      "CPU times: user 76.7 ms, sys: 62.3 ms, total: 139 ms\n",
      "Wall time: 1min 46s\n"
     ]
    }
   ],
   "source": [
    "%%time\n",
    "bstBroadcast = sp.sc.broadcast(model)\n",
    "col_bc = sp.sc.broadcast(sdf_proc.columns)\n",
    "\n",
    "def block_classify(iterator):\n",
    "    import os\n",
    "    curruser = os.environ.get('USER')\n",
    "    if isUseOptWorkspace:\n",
    "#         sys.path.insert(0,'/home/{}/.local/lib/python3.5/site-packages/'.format(curruser))\n",
    "        sys.path.insert(0,'/opt/workspace/{}/libs/python3.5/site-packages'.format(curruser))\n",
    "    else:\n",
    "        sys.path.insert(0,'/home/{}/python35-libs/lib/python3.5/site-packages/'.format(curruser))\n",
    "    import xgboost\n",
    "    import pandas as pd\n",
    "    import json\n",
    "    import re\n",
    "    import ast\n",
    "\n",
    "    for features in block_iterator(iterator, 500000):\n",
    "        \n",
    "        features_df = pd.DataFrame(list(features), columns = col_bc.value) # получаем исходные данные в виде df \n",
    "        \n",
    "#         pattern = re.compile(r'diff_fo_fs.*|diff_lo_fs.*|diff_fcl_fo.*|diff_fcl_fs.*|diff_lcl_fo.*|diff_lcl_fs.*|diff_fcl_lo.*|.*_day_.*|corp_cards_prod_deals.*')\n",
    "\n",
    "        delcols = \\\n",
    "         ['inn', \n",
    "          'kpp', \n",
    "          'campaign_nm',\n",
    "          'email',\n",
    "          'organization_id', \n",
    "          'idx', \n",
    "          'fresh_user',  \n",
    "          'response_dttm'\n",
    "          'target',\n",
    "          'sum_open_click_camp', \n",
    "          ]         \n",
    "        \n",
    "#         filter_cols = [col for col in features_df.columns if (len(pattern.findall(col)) == 0) and (col not in delcols)]\n",
    "        filter_cols = [col for col in features_df.columns if (col not in delcols)]\n",
    "#         sortcols = sorted(filter_cols)\n",
    "#         X_predict = features_df[sortcols]\n",
    "        X_predict = features_df[filter_cols]\n",
    "\n",
    "        try:\n",
    "            predicted_proba = bstBroadcast.value.predict_proba(X_predict.astype(float))[:,1]\n",
    "            predicted       = bstBroadcast.value.predict(X_predict.astype(float))\n",
    "        except ValueError as err:\n",
    "            colsstr = str(err).split('feature_names mismatch: ')[1].split(' [')[0]\n",
    "            getcolslist = list(ast.literal_eval(colsstr[1:-1]))\n",
    "            X_predict = features_df[getcolslist]       \n",
    "            predicted_proba = bstBroadcast.value.predict_proba(X_predict.astype(float))[:,1]\n",
    "            predicted       = bstBroadcast.value.predict(X_predict.astype(float))\n",
    "\n",
    "        res_df                = features_df[['campaign_nm']]\n",
    "        res_df[\"email\"]       = features_df[['email']]\n",
    "        res_df[\"inn\"]         = features_df[['inn']]\n",
    "        res_df[\"kpp\"]         = features_df[['kpp']]\n",
    "        res_df[\"email_proba\"] = predicted_proba\n",
    "        res_df[\"email_class\"] = predicted\n",
    "        res_df[\"fresh_user\"]  = features_df[['fresh_user']]\n",
    "        res_df = res_df[['inn','kpp', 'email', 'campaign_nm','email_proba','email_class', 'fresh_user']]\n",
    "\n",
    "        for e in json.loads(res_df.to_json(orient='records')): # генерируем выходной блок\n",
    "            yield e\n",
    "            \n",
    "scores = sdf_proc.rdd.mapPartitions(block_classify).toDF()"
   ]
  },
  {
   "cell_type": "code",
   "execution_count": 114,
   "metadata": {
    "scrolled": false
   },
   "outputs": [
    {
     "data": {
      "text/plain": [
       "24678186"
      ]
     },
     "execution_count": 114,
     "metadata": {},
     "output_type": "execute_result"
    }
   ],
   "source": [
    "scores.count()"
   ]
  },
  {
   "cell_type": "markdown",
   "metadata": {},
   "source": [
    "### Add some specific columns"
   ]
  },
  {
   "cell_type": "code",
   "execution_count": 115,
   "metadata": {
    "collapsed": true
   },
   "outputs": [],
   "source": [
    "scores = scores.select([f.col('inn'),\n",
    "                        f.col('kpp'),\n",
    "                        f.col('campaign_nm'),\n",
    "                        f.col('email'),\n",
    "                        f.col('email_proba').cast(FloatType()),\n",
    "                        f.col('email_class').cast(IntegerType()),\n",
    "                        f.col('fresh_user')])\n",
    "scores = scores.withColumn('load_dt', f.lit(currdate).cast(TimestampType()))"
   ]
  },
  {
   "cell_type": "markdown",
   "metadata": {},
   "source": [
    "## Join scored users with inactive subset"
   ]
  },
  {
   "cell_type": "code",
   "execution_count": 116,
   "metadata": {
    "collapsed": true
   },
   "outputs": [],
   "source": [
    "sdf_fresh = sdf_fresh[scores.columns]"
   ]
  },
  {
   "cell_type": "code",
   "execution_count": 117,
   "metadata": {
    "collapsed": true
   },
   "outputs": [],
   "source": [
    "fin_sdf = scores.distinct().union(sdf_fresh)"
   ]
  },
  {
   "cell_type": "markdown",
   "metadata": {},
   "source": [
    "## Agregating by `INN` `KPP` `CAMP` `EMAIL` and keep only best probabilities"
   ]
  },
  {
   "cell_type": "code",
   "execution_count": null,
   "metadata": {
    "collapsed": true
   },
   "outputs": [],
   "source": [
    "# fin_sdf = \\\n",
    "# fin_sdf.withColumn('max_email_proba', \n",
    "#                     f.max('email_proba')\\\n",
    "#                     .over(Window.partitionBy('inn', 'kpp', 'campaign_nm', 'email')))\\\n",
    "#     .withColumn('pos', f.when(f.col('email_proba') - f.col('max_email_proba') == 0.0, 1).otherwise(0))\\"
   ]
  },
  {
   "cell_type": "code",
   "execution_count": null,
   "metadata": {
    "collapsed": true
   },
   "outputs": [],
   "source": [
    "# fin_sdf = fin_sdf.filter('pos == 1').select('inn', \n",
    "#                                             'kpp', \n",
    "#                                             'campaign_nm', \n",
    "#                                             'email', \n",
    "#                                             'email_proba', \n",
    "#                                             'email_class', \n",
    "#                                             'fresh_user', \n",
    "#                                             'load_dt')"
   ]
  },
  {
   "cell_type": "code",
   "execution_count": 118,
   "metadata": {
    "collapsed": true
   },
   "outputs": [],
   "source": [
    "fin_sdf = fin_sdf\\\n",
    "         .withColumn('top_proba', f.dense_rank().over(Window.partitionBy('inn', 'kpp', 'campaign_nm', 'email')\\\n",
    "                                                .orderBy(f.col('email_proba').desc())))\\\n",
    "                                                .filter('''top_proba = 1''') "
   ]
  },
  {
   "cell_type": "code",
   "execution_count": 119,
   "metadata": {
    "collapsed": true
   },
   "outputs": [],
   "source": [
    "# fin_sdf = fin_sdf.rdd.sortBy(lambda x: (x[0], x[1], x[2], x[3], x[4]), ascending=False).toDF()\n",
    "fin_sdf = fin_sdf.groupBy(['inn', 'kpp', 'campaign_nm', 'email']).agg(f.first(f.col('email_proba')).alias('email_proba'), \n",
    "                                                                      f.first(f.col('email_class')).alias('email_class'),\n",
    "                                                                      f.first(f.col('fresh_user')).alias('fresh_user'),\n",
    "                                                                      f.first(f.col('load_dt')).alias('load_dt'))"
   ]
  },
  {
   "cell_type": "code",
   "execution_count": 120,
   "metadata": {
    "collapsed": true
   },
   "outputs": [],
   "source": [
    "fin_sdf = fin_sdf.select('inn', \n",
    "                         'kpp', \n",
    "                         'campaign_nm', \n",
    "                         'email', \n",
    "                         'email_proba', \n",
    "                         'email_class', \n",
    "                         'fresh_user', \n",
    "                         'load_dt')"
   ]
  },
  {
   "cell_type": "code",
   "execution_count": 121,
   "metadata": {},
   "outputs": [
    {
     "data": {
      "text/html": [
       "<div>\n",
       "<style scoped>\n",
       "    .dataframe tbody tr th:only-of-type {\n",
       "        vertical-align: middle;\n",
       "    }\n",
       "\n",
       "    .dataframe tbody tr th {\n",
       "        vertical-align: top;\n",
       "    }\n",
       "\n",
       "    .dataframe thead th {\n",
       "        text-align: right;\n",
       "    }\n",
       "</style>\n",
       "<table border=\"1\" class=\"dataframe\">\n",
       "  <thead>\n",
       "    <tr style=\"text-align: right;\">\n",
       "      <th></th>\n",
       "      <th>inn</th>\n",
       "      <th>kpp</th>\n",
       "      <th>campaign_nm</th>\n",
       "      <th>email</th>\n",
       "      <th>email_proba</th>\n",
       "      <th>email_class</th>\n",
       "      <th>fresh_user</th>\n",
       "      <th>load_dt</th>\n",
       "    </tr>\n",
       "  </thead>\n",
       "  <tbody>\n",
       "    <tr>\n",
       "      <th>0</th>\n",
       "      <td>1001208660</td>\n",
       "      <td>100101001</td>\n",
       "      <td>ЦА-БИЗНДИР33-0320</td>\n",
       "      <td>ovchinnikov71082@gmail.com</td>\n",
       "      <td>0.511</td>\n",
       "      <td>1</td>\n",
       "      <td>2</td>\n",
       "      <td>2020-07-27 09:28:29</td>\n",
       "    </tr>\n",
       "    <tr>\n",
       "      <th>1</th>\n",
       "      <td>1021503920</td>\n",
       "      <td>102101001</td>\n",
       "      <td>ЦА-БИЗНДИР33-0320</td>\n",
       "      <td>polinastarostina98@gmail.com</td>\n",
       "      <td>0.642</td>\n",
       "      <td>1</td>\n",
       "      <td>2</td>\n",
       "      <td>2020-07-27 09:28:29</td>\n",
       "    </tr>\n",
       "    <tr>\n",
       "      <th>2</th>\n",
       "      <td>110116098040</td>\n",
       "      <td></td>\n",
       "      <td>E-MAIL_SERVICE_CAMP1</td>\n",
       "      <td>dkbushuev@gmail.com</td>\n",
       "      <td>0.607</td>\n",
       "      <td>1</td>\n",
       "      <td>0</td>\n",
       "      <td>2020-07-27 09:28:29</td>\n",
       "    </tr>\n",
       "    <tr>\n",
       "      <th>3</th>\n",
       "      <td>1103044393</td>\n",
       "      <td>110301001</td>\n",
       "      <td>ЦА-БИЗНДИР33-0320</td>\n",
       "      <td>kaskadik2009@mail.ru</td>\n",
       "      <td>0.512</td>\n",
       "      <td>1</td>\n",
       "      <td>2</td>\n",
       "      <td>2020-07-27 09:28:29</td>\n",
       "    </tr>\n",
       "    <tr>\n",
       "      <th>4</th>\n",
       "      <td>121803774200</td>\n",
       "      <td></td>\n",
       "      <td>E-MAIL_SERVICE_CAMP</td>\n",
       "      <td>rumas121297@gmail.com</td>\n",
       "      <td>0.582</td>\n",
       "      <td>1</td>\n",
       "      <td>0</td>\n",
       "      <td>2020-07-27 09:28:29</td>\n",
       "    </tr>\n",
       "    <tr>\n",
       "      <th>5</th>\n",
       "      <td>1402022278</td>\n",
       "      <td>140201001</td>\n",
       "      <td>ЦА-БИЗНДИР33-0320</td>\n",
       "      <td>djudi83@inbox.ru</td>\n",
       "      <td>0.540</td>\n",
       "      <td>1</td>\n",
       "      <td>2</td>\n",
       "      <td>2020-07-27 09:28:29</td>\n",
       "    </tr>\n",
       "    <tr>\n",
       "      <th>6</th>\n",
       "      <td>143321159540</td>\n",
       "      <td></td>\n",
       "      <td>E-MAIL_SERVICE_CAMP</td>\n",
       "      <td>shkazbek@gmail.com</td>\n",
       "      <td>0.585</td>\n",
       "      <td>1</td>\n",
       "      <td>0</td>\n",
       "      <td>2020-07-27 09:28:29</td>\n",
       "    </tr>\n",
       "    <tr>\n",
       "      <th>7</th>\n",
       "      <td>1615014673</td>\n",
       "      <td>161501001</td>\n",
       "      <td>ЦА-БИЗНДИР33-0320</td>\n",
       "      <td>artyom.kozhemiakin@tocteam.com</td>\n",
       "      <td>0.560</td>\n",
       "      <td>1</td>\n",
       "      <td>2</td>\n",
       "      <td>2020-07-27 09:28:29</td>\n",
       "    </tr>\n",
       "    <tr>\n",
       "      <th>8</th>\n",
       "      <td>1645028426</td>\n",
       "      <td>164501001</td>\n",
       "      <td>ЦА-БИЗНДИР33-0320</td>\n",
       "      <td>opt3@s-tris.ru</td>\n",
       "      <td>0.806</td>\n",
       "      <td>1</td>\n",
       "      <td>2</td>\n",
       "      <td>2020-07-27 09:28:29</td>\n",
       "    </tr>\n",
       "    <tr>\n",
       "      <th>9</th>\n",
       "      <td>1648005931</td>\n",
       "      <td>164801001</td>\n",
       "      <td>E-MAIL_SERVICE_CAMP</td>\n",
       "      <td>anisimow-14@mail.ru</td>\n",
       "      <td>0.575</td>\n",
       "      <td>1</td>\n",
       "      <td>0</td>\n",
       "      <td>2020-07-27 09:28:29</td>\n",
       "    </tr>\n",
       "  </tbody>\n",
       "</table>\n",
       "</div>"
      ],
      "text/plain": [
       "            inn        kpp           campaign_nm  \\\n",
       "0  1001208660    100101001  ЦА-БИЗНДИР33-0320      \n",
       "1  1021503920    102101001  ЦА-БИЗНДИР33-0320      \n",
       "2  110116098040             E-MAIL_SERVICE_CAMP1   \n",
       "3  1103044393    110301001  ЦА-БИЗНДИР33-0320      \n",
       "4  121803774200             E-MAIL_SERVICE_CAMP    \n",
       "5  1402022278    140201001  ЦА-БИЗНДИР33-0320      \n",
       "6  143321159540             E-MAIL_SERVICE_CAMP    \n",
       "7  1615014673    161501001  ЦА-БИЗНДИР33-0320      \n",
       "8  1645028426    164501001  ЦА-БИЗНДИР33-0320      \n",
       "9  1648005931    164801001  E-MAIL_SERVICE_CAMP    \n",
       "\n",
       "                            email  email_proba  email_class  fresh_user  \\\n",
       "0  ovchinnikov71082@gmail.com     0.511         1            2            \n",
       "1  polinastarostina98@gmail.com   0.642         1            2            \n",
       "2  dkbushuev@gmail.com            0.607         1            0            \n",
       "3  kaskadik2009@mail.ru           0.512         1            2            \n",
       "4  rumas121297@gmail.com          0.582         1            0            \n",
       "5  djudi83@inbox.ru               0.540         1            2            \n",
       "6  shkazbek@gmail.com             0.585         1            0            \n",
       "7  artyom.kozhemiakin@tocteam.com 0.560         1            2            \n",
       "8  opt3@s-tris.ru                 0.806         1            2            \n",
       "9  anisimow-14@mail.ru            0.575         1            0            \n",
       "\n",
       "              load_dt  \n",
       "0 2020-07-27 09:28:29  \n",
       "1 2020-07-27 09:28:29  \n",
       "2 2020-07-27 09:28:29  \n",
       "3 2020-07-27 09:28:29  \n",
       "4 2020-07-27 09:28:29  \n",
       "5 2020-07-27 09:28:29  \n",
       "6 2020-07-27 09:28:29  \n",
       "7 2020-07-27 09:28:29  \n",
       "8 2020-07-27 09:28:29  \n",
       "9 2020-07-27 09:28:29  "
      ]
     },
     "execution_count": 121,
     "metadata": {},
     "output_type": "execute_result"
    }
   ],
   "source": [
    "fin_sdf.filter('email_class = 1').show(10)"
   ]
  },
  {
   "cell_type": "code",
   "execution_count": 123,
   "metadata": {},
   "outputs": [
    {
     "data": {
      "text/plain": [
       "1431936"
      ]
     },
     "execution_count": 123,
     "metadata": {},
     "output_type": "execute_result"
    }
   ],
   "source": [
    "fin_sdf.select('inn','kpp').distinct().count()"
   ]
  },
  {
   "cell_type": "code",
   "execution_count": 124,
   "metadata": {
    "collapsed": true
   },
   "outputs": [],
   "source": [
    "fin_sdf = fin_sdf.select(*[f.col(col).alias(col+'_') for col in fin_sdf.columns])"
   ]
  },
  {
   "cell_type": "markdown",
   "metadata": {},
   "source": [
    "## Join Scores with Best Day/Hour table"
   ]
  },
  {
   "cell_type": "code",
   "execution_count": 126,
   "metadata": {},
   "outputs": [
    {
     "data": {
      "text/html": [
       "<div>\n",
       "<style scoped>\n",
       "    .dataframe tbody tr th:only-of-type {\n",
       "        vertical-align: middle;\n",
       "    }\n",
       "\n",
       "    .dataframe tbody tr th {\n",
       "        vertical-align: top;\n",
       "    }\n",
       "\n",
       "    .dataframe thead th {\n",
       "        text-align: right;\n",
       "    }\n",
       "</style>\n",
       "<table border=\"1\" class=\"dataframe\">\n",
       "  <thead>\n",
       "    <tr style=\"text-align: right;\">\n",
       "      <th></th>\n",
       "      <th>inn</th>\n",
       "      <th>kpp</th>\n",
       "      <th>campaign_nm</th>\n",
       "      <th>email</th>\n",
       "      <th>asdayname</th>\n",
       "      <th>ashour</th>\n",
       "      <th>day_open_cnt</th>\n",
       "    </tr>\n",
       "  </thead>\n",
       "  <tbody>\n",
       "    <tr>\n",
       "      <th>0</th>\n",
       "      <td>010407628324</td>\n",
       "      <td></td>\n",
       "      <td>ЦА-БИЗНДИР34ПОС-0420</td>\n",
       "      <td>tehnomir01@mail.ru</td>\n",
       "      <td>Tuesday</td>\n",
       "      <td>15</td>\n",
       "      <td>1</td>\n",
       "    </tr>\n",
       "    <tr>\n",
       "      <th>1</th>\n",
       "      <td>0105001202</td>\n",
       "      <td>010501001</td>\n",
       "      <td>E-MAIL_SERVICE_CAMP</td>\n",
       "      <td>9284666801@mail.ru</td>\n",
       "      <td>Monday</td>\n",
       "      <td>08</td>\n",
       "      <td>1</td>\n",
       "    </tr>\n",
       "    <tr>\n",
       "      <th>2</th>\n",
       "      <td>0105010398</td>\n",
       "      <td>010501001</td>\n",
       "      <td>E-MAIL_SERVICE_CAMP</td>\n",
       "      <td>arina0605@gmail.com</td>\n",
       "      <td>Friday</td>\n",
       "      <td>12</td>\n",
       "      <td>3</td>\n",
       "    </tr>\n",
       "    <tr>\n",
       "      <th>3</th>\n",
       "      <td>0105012701</td>\n",
       "      <td>010501001</td>\n",
       "      <td>E-MAIL_SERVICE_CAMP</td>\n",
       "      <td>tdmnormal@mail.ru</td>\n",
       "      <td>Saturday</td>\n",
       "      <td>01</td>\n",
       "      <td>0</td>\n",
       "    </tr>\n",
       "    <tr>\n",
       "      <th>4</th>\n",
       "      <td>0105021640</td>\n",
       "      <td>010501001</td>\n",
       "      <td>E-MAIL_SERVICE_CAMP</td>\n",
       "      <td>miriadakkm@mail.ru</td>\n",
       "      <td>Sunday</td>\n",
       "      <td>18</td>\n",
       "      <td>1</td>\n",
       "    </tr>\n",
       "    <tr>\n",
       "      <th>5</th>\n",
       "      <td>010506010169</td>\n",
       "      <td></td>\n",
       "      <td>E-MAIL_SERVICE_CAMP</td>\n",
       "      <td>astapovanata75@gmail.com</td>\n",
       "      <td>Saturday</td>\n",
       "      <td>17</td>\n",
       "      <td>1</td>\n",
       "    </tr>\n",
       "    <tr>\n",
       "      <th>6</th>\n",
       "      <td>010600038267</td>\n",
       "      <td></td>\n",
       "      <td>ЦА-БКЛОЯЛЬНОСТЬ-1119</td>\n",
       "      <td>nellidobro@gmail.com</td>\n",
       "      <td>Thursday</td>\n",
       "      <td>17</td>\n",
       "      <td>2</td>\n",
       "    </tr>\n",
       "    <tr>\n",
       "      <th>7</th>\n",
       "      <td>010600571940</td>\n",
       "      <td></td>\n",
       "      <td>ЦА-БИЗНДИР33-0320</td>\n",
       "      <td>aldarik@bk.ru</td>\n",
       "      <td>Wednesday</td>\n",
       "      <td>09</td>\n",
       "      <td>2</td>\n",
       "    </tr>\n",
       "    <tr>\n",
       "      <th>8</th>\n",
       "      <td>010601142207</td>\n",
       "      <td></td>\n",
       "      <td>E-MAIL_SERVICE_CAMP</td>\n",
       "      <td>01ewgeni@mail.ru</td>\n",
       "      <td>Saturday</td>\n",
       "      <td>18</td>\n",
       "      <td>1</td>\n",
       "    </tr>\n",
       "    <tr>\n",
       "      <th>9</th>\n",
       "      <td>010603122213</td>\n",
       "      <td></td>\n",
       "      <td>E-MAIL_SERVICE_CAMP</td>\n",
       "      <td>gs004@mail.ru</td>\n",
       "      <td>Saturday</td>\n",
       "      <td>20</td>\n",
       "      <td>1</td>\n",
       "    </tr>\n",
       "  </tbody>\n",
       "</table>\n",
       "</div>"
      ],
      "text/plain": [
       "            inn        kpp           campaign_nm                     email  \\\n",
       "0  010407628324             ЦА-БИЗНДИР34ПОС-0420  tehnomir01@mail.ru         \n",
       "1  0105001202    010501001  E-MAIL_SERVICE_CAMP   9284666801@mail.ru         \n",
       "2  0105010398    010501001  E-MAIL_SERVICE_CAMP   arina0605@gmail.com        \n",
       "3  0105012701    010501001  E-MAIL_SERVICE_CAMP   tdmnormal@mail.ru          \n",
       "4  0105021640    010501001  E-MAIL_SERVICE_CAMP   miriadakkm@mail.ru         \n",
       "5  010506010169             E-MAIL_SERVICE_CAMP   astapovanata75@gmail.com   \n",
       "6  010600038267             ЦА-БКЛОЯЛЬНОСТЬ-1119  nellidobro@gmail.com       \n",
       "7  010600571940             ЦА-БИЗНДИР33-0320     aldarik@bk.ru              \n",
       "8  010601142207             E-MAIL_SERVICE_CAMP   01ewgeni@mail.ru           \n",
       "9  010603122213             E-MAIL_SERVICE_CAMP   gs004@mail.ru              \n",
       "\n",
       "   asdayname ashour  day_open_cnt  \n",
       "0  Tuesday    15     1             \n",
       "1  Monday     08     1             \n",
       "2  Friday     12     3             \n",
       "3  Saturday   01     0             \n",
       "4  Sunday     18     1             \n",
       "5  Saturday   17     1             \n",
       "6  Thursday   17     2             \n",
       "7  Wednesday  09     2             \n",
       "8  Saturday   18     1             \n",
       "9  Saturday   20     1             "
      ]
     },
     "execution_count": 126,
     "metadata": {},
     "output_type": "execute_result"
    }
   ],
   "source": [
    "best_time_sdf.show()"
   ]
  },
  {
   "cell_type": "code",
   "execution_count": 147,
   "metadata": {
    "collapsed": true
   },
   "outputs": [],
   "source": [
    "conditions= ((fin_sdf.inn_==best_time_sdf.inn)&\n",
    "             (fin_sdf.kpp_==best_time_sdf.kpp)&\n",
    "             (fin_sdf.campaign_nm_==best_time_sdf.campaign_nm)&\n",
    "             (fin_sdf.email_==best_time_sdf.email))\n",
    "\n",
    "res = fin_sdf.join(best_time_sdf, on=conditions, how='left_outer')"
   ]
  },
  {
   "cell_type": "code",
   "execution_count": 148,
   "metadata": {
    "collapsed": true
   },
   "outputs": [],
   "source": [
    "res = res.drop(*['inn', 'kpp', 'campaign_nm', 'email'])"
   ]
  },
  {
   "cell_type": "code",
   "execution_count": 149,
   "metadata": {
    "collapsed": true
   },
   "outputs": [],
   "source": [
    "res = res.drop_duplicates()"
   ]
  },
  {
   "cell_type": "markdown",
   "metadata": {},
   "source": [
    "### !!!CREATE: DO THIS FOR THE FIRST TIME: Create main table "
   ]
  },
  {
   "cell_type": "code",
   "execution_count": 153,
   "metadata": {
    "collapsed": true,
    "scrolled": true
   },
   "outputs": [],
   "source": [
    "res = res.select([f.col(col).alias(re.sub(r'\\_$','',col)) for col in res.columns])"
   ]
  },
  {
   "cell_type": "code",
   "execution_count": 155,
   "metadata": {
    "collapsed": true
   },
   "outputs": [],
   "source": [
    "cols=\\\n",
    "['inn',\n",
    " 'kpp',\n",
    " 'campaign_nm',\n",
    " 'email',\n",
    " 'email_proba',\n",
    " 'email_class',\n",
    " 'asdayname',\n",
    " 'ashour',\n",
    " 'day_open_cnt',\n",
    " 'fresh_user',\n",
    " 'load_dt'\n",
    "]\n",
    "res = res.select(*cols)"
   ]
  },
  {
   "cell_type": "code",
   "execution_count": 156,
   "metadata": {
    "scrolled": false
   },
   "outputs": [
    {
     "data": {
      "text/plain": [
       "DataFrame[]"
      ]
     },
     "execution_count": 156,
     "metadata": {},
     "output_type": "execute_result"
    }
   ],
   "source": [
    "table_name = 'RESP_INN_KPP_CAMP_EMAIL_PROBA'\n",
    "tmp_tbl = 'tmp_{}'.format(table_name)\n",
    "\n",
    "res.registerTempTable(tmp_tbl)\n",
    "hive.cacheTable(tmp_tbl)\n",
    "\n",
    "hive.sql('''drop table if exists sbx_team_digitcamp.{}__'''.format(table_name))\n",
    "hive.sql('''create table sbx_team_digitcamp.{}__ select * from {}'''.format(table_name,tmp_tbl))\n",
    "hive.sql('''drop table if exists sbx_team_digitcamp.{}'''.format(table_name))\n",
    "subprocess.call(['hdfs', 'dfs', '-rm', '-R', '-skipTrash', \"hdfs://clsklsbx/user/team/team_digitcamp/hive/{}\".format(table_name.lower())])\n",
    "hive.sql('''alter table sbx_team_digitcamp.{}__ rename to sbx_team_digitcamp.{}'''.format(table_name, table_name))\n",
    "hive.sql(\"drop table if exists {}\".format(tmp_tbl))"
   ]
  },
  {
   "cell_type": "markdown",
   "metadata": {},
   "source": [
    "### !!!UPDATE: FOR EACH FOLLOWING CASES: Perform Full Oter Join with `RESP_INN_KPP_CAMP_EMAIL_PROBA`"
   ]
  },
  {
   "cell_type": "code",
   "execution_count": null,
   "metadata": {
    "collapsed": true
   },
   "outputs": [],
   "source": [
    "res = res.select([f.col(col).alias(re.sub(r'\\_$','',col)) for col in res.columns])"
   ]
  },
  {
   "cell_type": "code",
   "execution_count": 107,
   "metadata": {
    "collapsed": true,
    "scrolled": true
   },
   "outputs": [],
   "source": [
    "res.registerTempTable('tmp_scores')\n",
    "hive.cacheTable('tmp_scores')"
   ]
  },
  {
   "cell_type": "code",
   "execution_count": 113,
   "metadata": {
    "collapsed": true
   },
   "outputs": [],
   "source": [
    "import subprocess"
   ]
  },
  {
   "cell_type": "code",
   "execution_count": 157,
   "metadata": {
    "scrolled": true
   },
   "outputs": [
    {
     "data": {
      "text/html": [
       "<div>\n",
       "<style scoped>\n",
       "    .dataframe tbody tr th:only-of-type {\n",
       "        vertical-align: middle;\n",
       "    }\n",
       "\n",
       "    .dataframe tbody tr th {\n",
       "        vertical-align: top;\n",
       "    }\n",
       "\n",
       "    .dataframe thead th {\n",
       "        text-align: right;\n",
       "    }\n",
       "</style>\n",
       "<table border=\"1\" class=\"dataframe\">\n",
       "  <thead>\n",
       "    <tr style=\"text-align: right;\">\n",
       "      <th></th>\n",
       "      <th>inn</th>\n",
       "      <th>kpp</th>\n",
       "      <th>campaign_nm</th>\n",
       "      <th>email</th>\n",
       "      <th>email_proba</th>\n",
       "      <th>email_class</th>\n",
       "      <th>asdayname</th>\n",
       "      <th>ashour</th>\n",
       "      <th>day_open_cnt</th>\n",
       "      <th>fresh_user</th>\n",
       "      <th>load_dt</th>\n",
       "    </tr>\n",
       "  </thead>\n",
       "  <tbody>\n",
       "    <tr>\n",
       "      <th>0</th>\n",
       "      <td>0101009190</td>\n",
       "      <td>010101001</td>\n",
       "      <td>ЦА-БИЗНДИР35-0520</td>\n",
       "      <td>medfarma50@mail.ru</td>\n",
       "      <td>0.000</td>\n",
       "      <td>-1</td>\n",
       "      <td>None</td>\n",
       "      <td>None</td>\n",
       "      <td>nan</td>\n",
       "      <td>1</td>\n",
       "      <td>2020-07-27 09:28:29</td>\n",
       "    </tr>\n",
       "    <tr>\n",
       "      <th>1</th>\n",
       "      <td>010400038421</td>\n",
       "      <td></td>\n",
       "      <td>ЦА-БИЗНДИР34-0420</td>\n",
       "      <td>29191@mail.ru</td>\n",
       "      <td>0.000</td>\n",
       "      <td>-1</td>\n",
       "      <td>None</td>\n",
       "      <td>None</td>\n",
       "      <td>nan</td>\n",
       "      <td>1</td>\n",
       "      <td>2020-07-27 09:28:29</td>\n",
       "    </tr>\n",
       "    <tr>\n",
       "      <th>2</th>\n",
       "      <td>0105012701</td>\n",
       "      <td>010501001</td>\n",
       "      <td>E-MAIL_SERVICE_CAMP</td>\n",
       "      <td>tdmnormal@mail.ru</td>\n",
       "      <td>0.000</td>\n",
       "      <td>-1</td>\n",
       "      <td>Saturday</td>\n",
       "      <td>01</td>\n",
       "      <td>0.000</td>\n",
       "      <td>1</td>\n",
       "      <td>2020-07-27 09:28:29</td>\n",
       "    </tr>\n",
       "    <tr>\n",
       "      <th>3</th>\n",
       "      <td>010502173469</td>\n",
       "      <td></td>\n",
       "      <td>ЦА-БИЗНДИР35-0520</td>\n",
       "      <td>01natali@inbox.ru</td>\n",
       "      <td>0.000</td>\n",
       "      <td>-1</td>\n",
       "      <td>None</td>\n",
       "      <td>None</td>\n",
       "      <td>nan</td>\n",
       "      <td>1</td>\n",
       "      <td>2020-07-27 09:28:29</td>\n",
       "    </tr>\n",
       "    <tr>\n",
       "      <th>4</th>\n",
       "      <td>0105030411</td>\n",
       "      <td>010501001</td>\n",
       "      <td>ЦА-БИЗНДИР35-0520</td>\n",
       "      <td>ukk-maikopskiy2014@yandex.ru</td>\n",
       "      <td>0.000</td>\n",
       "      <td>-1</td>\n",
       "      <td>None</td>\n",
       "      <td>None</td>\n",
       "      <td>nan</td>\n",
       "      <td>1</td>\n",
       "      <td>2020-07-27 09:28:29</td>\n",
       "    </tr>\n",
       "    <tr>\n",
       "      <th>5</th>\n",
       "      <td>0105050827</td>\n",
       "      <td>010501001</td>\n",
       "      <td>ЦА-БИЗНДИР34-0420</td>\n",
       "      <td>transservis06@mail.ru</td>\n",
       "      <td>0.000</td>\n",
       "      <td>-1</td>\n",
       "      <td>None</td>\n",
       "      <td>None</td>\n",
       "      <td>nan</td>\n",
       "      <td>1</td>\n",
       "      <td>2020-07-27 09:28:29</td>\n",
       "    </tr>\n",
       "    <tr>\n",
       "      <th>6</th>\n",
       "      <td>0105051059</td>\n",
       "      <td>010501001</td>\n",
       "      <td>ЦА-БИЗНДИР35-0520</td>\n",
       "      <td>stulskij@mail.ru</td>\n",
       "      <td>0.000</td>\n",
       "      <td>-1</td>\n",
       "      <td>None</td>\n",
       "      <td>None</td>\n",
       "      <td>nan</td>\n",
       "      <td>1</td>\n",
       "      <td>2020-07-27 09:28:29</td>\n",
       "    </tr>\n",
       "    <tr>\n",
       "      <th>7</th>\n",
       "      <td>0106008761</td>\n",
       "      <td>010701001</td>\n",
       "      <td>ЦА-БИЗНДИР35-0520</td>\n",
       "      <td>info@ekspress-kuban.ru</td>\n",
       "      <td>0.000</td>\n",
       "      <td>-1</td>\n",
       "      <td>None</td>\n",
       "      <td>None</td>\n",
       "      <td>nan</td>\n",
       "      <td>1</td>\n",
       "      <td>2020-07-27 09:28:29</td>\n",
       "    </tr>\n",
       "    <tr>\n",
       "      <th>8</th>\n",
       "      <td>010706416021</td>\n",
       "      <td></td>\n",
       "      <td>ЦА-БИЗНДИР35ПОС-0520</td>\n",
       "      <td>katrich2494@mail.ru</td>\n",
       "      <td>0.000</td>\n",
       "      <td>-1</td>\n",
       "      <td>None</td>\n",
       "      <td>None</td>\n",
       "      <td>nan</td>\n",
       "      <td>1</td>\n",
       "      <td>2020-07-27 09:28:29</td>\n",
       "    </tr>\n",
       "    <tr>\n",
       "      <th>9</th>\n",
       "      <td>010801545411</td>\n",
       "      <td></td>\n",
       "      <td>ЦА-БИЗНДИР35ПОС-0520</td>\n",
       "      <td>iren_pani@mail.ru</td>\n",
       "      <td>0.000</td>\n",
       "      <td>-1</td>\n",
       "      <td>None</td>\n",
       "      <td>None</td>\n",
       "      <td>nan</td>\n",
       "      <td>1</td>\n",
       "      <td>2020-07-27 09:28:29</td>\n",
       "    </tr>\n",
       "  </tbody>\n",
       "</table>\n",
       "</div>"
      ],
      "text/plain": [
       "            inn        kpp           campaign_nm  \\\n",
       "0  0101009190    010101001  ЦА-БИЗНДИР35-0520      \n",
       "1  010400038421             ЦА-БИЗНДИР34-0420      \n",
       "2  0105012701    010501001  E-MAIL_SERVICE_CAMP    \n",
       "3  010502173469             ЦА-БИЗНДИР35-0520      \n",
       "4  0105030411    010501001  ЦА-БИЗНДИР35-0520      \n",
       "5  0105050827    010501001  ЦА-БИЗНДИР34-0420      \n",
       "6  0105051059    010501001  ЦА-БИЗНДИР35-0520      \n",
       "7  0106008761    010701001  ЦА-БИЗНДИР35-0520      \n",
       "8  010706416021             ЦА-БИЗНДИР35ПОС-0520   \n",
       "9  010801545411             ЦА-БИЗНДИР35ПОС-0520   \n",
       "\n",
       "                          email  email_proba  email_class asdayname ashour  \\\n",
       "0  medfarma50@mail.ru           0.000        -1            None      None    \n",
       "1  29191@mail.ru                0.000        -1            None      None    \n",
       "2  tdmnormal@mail.ru            0.000        -1            Saturday  01      \n",
       "3  01natali@inbox.ru            0.000        -1            None      None    \n",
       "4  ukk-maikopskiy2014@yandex.ru 0.000        -1            None      None    \n",
       "5  transservis06@mail.ru        0.000        -1            None      None    \n",
       "6  stulskij@mail.ru             0.000        -1            None      None    \n",
       "7  info@ekspress-kuban.ru       0.000        -1            None      None    \n",
       "8  katrich2494@mail.ru          0.000        -1            None      None    \n",
       "9  iren_pani@mail.ru            0.000        -1            None      None    \n",
       "\n",
       "   day_open_cnt  fresh_user             load_dt  \n",
       "0 nan            1          2020-07-27 09:28:29  \n",
       "1 nan            1          2020-07-27 09:28:29  \n",
       "2 0.000          1          2020-07-27 09:28:29  \n",
       "3 nan            1          2020-07-27 09:28:29  \n",
       "4 nan            1          2020-07-27 09:28:29  \n",
       "5 nan            1          2020-07-27 09:28:29  \n",
       "6 nan            1          2020-07-27 09:28:29  \n",
       "7 nan            1          2020-07-27 09:28:29  \n",
       "8 nan            1          2020-07-27 09:28:29  \n",
       "9 nan            1          2020-07-27 09:28:29  "
      ]
     },
     "execution_count": 157,
     "metadata": {},
     "output_type": "execute_result"
    }
   ],
   "source": [
    "sdf_resp = hive.sql(\"select * from sbx_team_digitcamp.RESP_INN_KPP_CAMP_EMAIL_PROBA\")\n",
    "sdf_resp.show()"
   ]
  },
  {
   "cell_type": "markdown",
   "metadata": {},
   "source": [
    "### Check if we have more than 1 email per `campaign_nm` with different predicted scores"
   ]
  },
  {
   "cell_type": "code",
   "execution_count": 158,
   "metadata": {
    "scrolled": true
   },
   "outputs": [
    {
     "data": {
      "text/html": [
       "<div>\n",
       "<style scoped>\n",
       "    .dataframe tbody tr th:only-of-type {\n",
       "        vertical-align: middle;\n",
       "    }\n",
       "\n",
       "    .dataframe tbody tr th {\n",
       "        vertical-align: top;\n",
       "    }\n",
       "\n",
       "    .dataframe thead th {\n",
       "        text-align: right;\n",
       "    }\n",
       "</style>\n",
       "<table border=\"1\" class=\"dataframe\">\n",
       "  <thead>\n",
       "    <tr style=\"text-align: right;\">\n",
       "      <th></th>\n",
       "      <th>inn</th>\n",
       "      <th>kpp</th>\n",
       "      <th>campaign_nm</th>\n",
       "      <th>email</th>\n",
       "      <th>email_proba</th>\n",
       "      <th>email_class</th>\n",
       "      <th>asdayname</th>\n",
       "      <th>ashour</th>\n",
       "      <th>day_open_cnt</th>\n",
       "      <th>fresh_user</th>\n",
       "      <th>load_dt</th>\n",
       "      <th>email_cnt_dist</th>\n",
       "    </tr>\n",
       "  </thead>\n",
       "  <tbody>\n",
       "  </tbody>\n",
       "</table>\n",
       "</div>"
      ],
      "text/plain": [
       "Empty DataFrame\n",
       "Columns: [inn, kpp, campaign_nm, email, email_proba, email_class, asdayname, ashour, day_open_cnt, fresh_user, load_dt, email_cnt_dist]\n",
       "Index: []"
      ]
     },
     "execution_count": 158,
     "metadata": {},
     "output_type": "execute_result"
    }
   ],
   "source": [
    "sdf_resp\\\n",
    "    .withColumn('email_cnt_dist', \n",
    "                    f.approx_count_distinct(f.col('email'))\\\n",
    "                    .over(Window.partitionBy('inn', 'kpp', 'campaign_nm', 'email')).cast('integer'))\\\n",
    "    .filter(\"email_cnt_dist > 1\").show()"
   ]
  },
  {
   "cell_type": "code",
   "execution_count": 159,
   "metadata": {
    "scrolled": true
   },
   "outputs": [
    {
     "data": {
      "text/plain": [
       "7108359"
      ]
     },
     "execution_count": 159,
     "metadata": {},
     "output_type": "execute_result"
    }
   ],
   "source": [
    "hive.sql(\"select * from sbx_team_digitcamp.RESP_INN_KPP_CAMP_EMAIL_PROBA\").count()"
   ]
  },
  {
   "cell_type": "code",
   "execution_count": 110,
   "metadata": {
    "collapsed": true
   },
   "outputs": [],
   "source": [
    "alter_spdf = \\\n",
    "hive.sql(\n",
    "'''\n",
    "select \n",
    " inn\n",
    ",kpp\n",
    ",campaign_nm\n",
    ",email\n",
    ",email_proba\n",
    ",email_class\n",
    ",asdayname\n",
    ",ashour\n",
    ",day_open_cnt\n",
    ",fresh_user\n",
    ",load_dt\n",
    "from(\n",
    "        select \n",
    "            t.*,\n",
    "            row_number() over (partition by inn, \n",
    "                                            kpp,\n",
    "                                            campaign_nm,\n",
    "                                            email, \n",
    "                                            email_proba \n",
    "                                                         order by load_dt) rownum\n",
    "        from(\n",
    "                select\n",
    "                    coalesce(p.inn, b.inn_) inn,\n",
    "                    coalesce(p.kpp, b.kpp_) kpp,\n",
    "                    coalesce(p.campaign_nm, b.campaign_nm_) campaign_nm,\n",
    "                    coalesce(p.email, b.email_) email,\n",
    "                    coalesce(b.email_proba_, p.email_proba) email_proba,\n",
    "                    coalesce(b.email_class_, p.email_class) email_class,\n",
    "                    coalesce(b.asdayname_, p.asdayname) asdayname,\n",
    "                    coalesce(b.ashour_, p.ashour) ashour,\n",
    "                    coalesce(b.day_open_cnt_, p.day_open_cnt) day_open_cnt,\n",
    "                    coalesce(b.fresh_user_, p.fresh_user) fresh_user,\n",
    "                    coalesce(b.load_dt_, p.load_dt) load_dt\n",
    "                from sbx_team_digitcamp.RESP_INN_KPP_CAMP_EMAIL_PROBA p\n",
    "                full outer join tmp_scores b on\n",
    "                p.inn = b.inn_ and p.kpp = b.kpp_ and\n",
    "                p.email = b.email_\n",
    "                \n",
    "        ) t\n",
    ")\n",
    "where rownum = 1\n",
    "'''\n",
    ")"
   ]
  },
  {
   "cell_type": "code",
   "execution_count": 115,
   "metadata": {},
   "outputs": [
    {
     "data": {
      "text/plain": [
       "14984227"
      ]
     },
     "execution_count": 115,
     "metadata": {},
     "output_type": "execute_result"
    }
   ],
   "source": [
    "alter_spdf.count()"
   ]
  },
  {
   "cell_type": "code",
   "execution_count": 130,
   "metadata": {},
   "outputs": [
    {
     "data": {
      "text/html": [
       "<div>\n",
       "<style scoped>\n",
       "    .dataframe tbody tr th:only-of-type {\n",
       "        vertical-align: middle;\n",
       "    }\n",
       "\n",
       "    .dataframe tbody tr th {\n",
       "        vertical-align: top;\n",
       "    }\n",
       "\n",
       "    .dataframe thead th {\n",
       "        text-align: right;\n",
       "    }\n",
       "</style>\n",
       "<table border=\"1\" class=\"dataframe\">\n",
       "  <thead>\n",
       "    <tr style=\"text-align: right;\">\n",
       "      <th></th>\n",
       "      <th>trunc_dt</th>\n",
       "      <th>count</th>\n",
       "    </tr>\n",
       "  </thead>\n",
       "  <tbody>\n",
       "    <tr>\n",
       "      <th>0</th>\n",
       "      <td>2020-02-09</td>\n",
       "      <td>5494845</td>\n",
       "    </tr>\n",
       "    <tr>\n",
       "      <th>1</th>\n",
       "      <td>2020-07-26</td>\n",
       "      <td>10861431</td>\n",
       "    </tr>\n",
       "  </tbody>\n",
       "</table>\n",
       "</div>"
      ],
      "text/plain": [
       "     trunc_dt     count\n",
       "0  2020-02-09  5494845 \n",
       "1  2020-07-26  10861431"
      ]
     },
     "execution_count": 130,
     "metadata": {},
     "output_type": "execute_result"
    }
   ],
   "source": [
    "alter_spdf.select(f.date_format('load_dt', 'yyyy-MM-dd').alias('trunc_dt'),'inn').groupBy('trunc_dt').count().show()"
   ]
  },
  {
   "cell_type": "code",
   "execution_count": 120,
   "metadata": {
    "scrolled": true
   },
   "outputs": [
    {
     "data": {
      "text/plain": [
       "DataFrame[]"
      ]
     },
     "execution_count": 120,
     "metadata": {},
     "output_type": "execute_result"
    }
   ],
   "source": [
    "table_name = 'RESP_INN_KPP_CAMP_EMAIL_PROBA'\n",
    "tmp_tbl = 'tmp_{}'.format(table_name)\n",
    "\n",
    "alter_spdf.registerTempTable(tmp_tbl)\n",
    "\n",
    "hive.sql('''drop table if exists sbx_team_digitcamp.{}__'''.format(table_name))\n",
    "hive.sql('''create table sbx_team_digitcamp.{}__ select * from {}'''.format(table_name,tmp_tbl))\n",
    "hive.sql('''drop table if exists sbx_team_digitcamp.{}'''.format(table_name))\n",
    "subprocess.call(['hdfs', 'dfs', '-rm', '-R', '-skipTrash', \"hdfs://clsklsbx/user/team/team_digitcamp/hive/{}\".format(table_name.lower())])\n",
    "hive.sql('''alter table sbx_team_digitcamp.{}__ rename to sbx_team_digitcamp.{}'''.format(table_name, table_name))\n",
    "hive.sql(\"drop table if exists {}\".format(tmp_tbl))"
   ]
  },
  {
   "cell_type": "code",
   "execution_count": null,
   "metadata": {
    "collapsed": true
   },
   "outputs": [],
   "source": []
  }
 ],
 "metadata": {
  "kernelspec": {
   "display_name": "Python 3",
   "language": "python",
   "name": "python3"
  },
  "language_info": {
   "codemirror_mode": {
    "name": "ipython",
    "version": 3
   },
   "file_extension": ".py",
   "mimetype": "text/x-python",
   "name": "python",
   "nbconvert_exporter": "python",
   "pygments_lexer": "ipython3",
   "version": "3.7.4"
  },
  "pycharm": {
   "stem_cell": {
    "cell_type": "raw",
    "source": [],
    "metadata": {
     "collapsed": false
    }
   }
  }
 },
 "nbformat": 4,
 "nbformat_minor": 2
}