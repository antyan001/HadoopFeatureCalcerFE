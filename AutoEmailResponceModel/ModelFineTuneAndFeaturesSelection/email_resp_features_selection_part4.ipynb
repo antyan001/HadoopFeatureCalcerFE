{
 "cells": [
  {
   "cell_type": "code",
   "execution_count": 1,
   "metadata": {
    "collapsed": true,
    "scrolled": true
   },
   "outputs": [],
   "source": [
    "%reload_ext autoreload\n",
    "%autoreload 2"
   ]
  },
  {
   "cell_type": "code",
   "execution_count": 2,
   "metadata": {},
   "outputs": [
    {
     "name": "stdout",
     "output_type": "stream",
     "text": [
      "0.22.2.post1\n",
      "0.81\n",
      "0.25.3\n"
     ]
    }
   ],
   "source": [
    "import warnings\n",
    "from pathlib import Path\n",
    "warnings.filterwarnings('ignore')\n",
    "\n",
    "import os, sys\n",
    "curruser = os.environ.get('USER')\n",
    "sys.path.insert(0, './../src/')\n",
    "sys.path.insert(0, '/home/{}/notebooks/support_library/'.format(curruser)) \n",
    "sys.path.insert(0, '/home/{}/python35-libs/lib/python3.5/site-packages/'.format(curruser))\n",
    "# sys.path.insert(0, '/home/ektov/notebooks/labdata/lib/')\n",
    "\n",
    "import re \n",
    "import time\n",
    "import joblib\n",
    "import gc\n",
    "import numpy as np\n",
    "import pandas as pd\n",
    "import subprocess\n",
    "# from sshloader import Ssh\n",
    "from collections import Counter\n",
    "import seaborn as sns\n",
    "import matplotlib.pyplot as plt\n",
    "\n",
    "%matplotlib inline\n",
    "pd.options.display.max_columns = 1000\n",
    "\n",
    "\n",
    "# pd.set_option('display.float_format', lambda x: '%.3f' % x)\n",
    "# pd.set_option('display.max_colwidth', -1)\n",
    "# pd.set_option('display.max_rows', None)\n",
    "# pd.set_option('display.max_columns', None)\n",
    "\n",
    "from csv import QUOTE_ALL \n",
    "\n",
    "from tqdm import tqdm\n",
    "from tqdm._tqdm_notebook import tqdm_notebook\n",
    "# tqdm_notebook.pandas()\n",
    "\n",
    "import feature_importance\n",
    "\n",
    "import sklearn\n",
    "import xgboost\n",
    "from xgboost import XGBClassifier\n",
    "from sklearn.model_selection import train_test_split, RandomizedSearchCV, StratifiedShuffleSplit, StratifiedKFold\n",
    "\n",
    "from sklearn.metrics import roc_auc_score, f1_score, accuracy_score, \\\n",
    "                            classification_report, precision_score, \\\n",
    "                            recall_score, roc_curve, precision_recall_curve, \\\n",
    "                            average_precision_score, make_scorer, confusion_matrix, get_scorer\n",
    "            \n",
    "from sklearn.preprocessing import binarize, OneHotEncoder\n",
    "\n",
    "\n",
    "print(sklearn.__version__)\n",
    "print(xgboost.__version__)\n",
    "print(pd.__version__)"
   ]
  },
  {
   "cell_type": "markdown",
   "metadata": {},
   "source": [
    "## Fetch data for Training"
   ]
  },
  {
   "cell_type": "markdown",
   "metadata": {},
   "source": [
    "### Fetch previously sampled data with 60% fraction"
   ]
  },
  {
   "cell_type": "code",
   "execution_count": 11,
   "metadata": {
    "scrolled": false
   },
   "outputs": [
    {
     "name": "stdout",
     "output_type": "stream",
     "text": [
      "CPU times: user 13min 17s, sys: 1min 25s, total: 14min 42s\n",
      "Wall time: 14min 42s\n"
     ]
    }
   ],
   "source": [
    "%%time\n",
    "csvpath = Path.joinpath(Path(os.getcwd()),'csv','data4train_sampled_60pct.csv')\n",
    "df = pd.read_csv(csvpath, encoding='cp1251', sep=';', compression='gzip')"
   ]
  },
  {
   "cell_type": "code",
   "execution_count": 4,
   "metadata": {},
   "outputs": [
    {
     "data": {
      "text/plain": [
       "Counter({0.0: 4612709, 1.0: 2259592})"
      ]
     },
     "execution_count": 4,
     "metadata": {},
     "output_type": "execute_result"
    }
   ],
   "source": [
    "Counter(df.target)"
   ]
  },
  {
   "cell_type": "markdown",
   "metadata": {},
   "source": [
    "### Or fetch all data from list of files"
   ]
  },
  {
   "cell_type": "code",
   "execution_count": 3,
   "metadata": {
    "scrolled": true
   },
   "outputs": [
    {
     "data": {
      "application/vnd.jupyter.widget-view+json": {
       "model_id": "180cb27f187f47cdaa0574f4b3078ce9"
      }
     },
     "metadata": {},
     "output_type": "display_data"
    },
    {
     "name": "stdout",
     "output_type": "stream",
     "text": [
      "part-00000-837850b4-4251-4919-9756-8b623b270d72-c000.csv.gz\n",
      "(2141716, 515)\n",
      "part-00001-837850b4-4251-4919-9756-8b623b270d72-c000.csv.gz\n",
      "(4218563, 515)\n",
      "part-00002-837850b4-4251-4919-9756-8b623b270d72-c000.csv.gz\n",
      "(6390680, 515)\n",
      "part-00004-837850b4-4251-4919-9756-8b623b270d72-c000.csv.gz\n",
      "(8724269, 515)\n",
      "part-00005-837850b4-4251-4919-9756-8b623b270d72-c000.csv.gz\n",
      "(11453836, 515)\n",
      "\n",
      "CPU times: user 19min 57s, sys: 5min 12s, total: 25min 10s\n",
      "Wall time: 25min 10s\n"
     ]
    }
   ],
   "source": [
    "%%time\n",
    "path = './csv/sampled_data_vector_train/'\n",
    "filelist = os.listdir(path)\n",
    "# df=pd.DataFrame([])\n",
    "# df = pd.read_csv(filepath_or_buffer = path+filelist[0], sep = ';', nrows=0, compression = 'gzip', engine='python',\n",
    "#                  dtype = {'target' : np.int32, 'OPF_IP': np.float32 ,'OPF_OOO': np.float32 ,'OPF_Other': np.float32 ,'ab_borrowed_capital': np.float32 ,'ab_immobilized_assets': np.float32 ,'ab_losses': np.float32 ,'ab_own_capital': np.float32 ,'acquiring_mobile': np.float32 ,'acquiring_torg': np.float32 ,'acreditiv': np.float32 ,'active_flg': np.float32 ,'all_prod_deals_completed': np.float32 ,'all_prod_deals_created': np.float32 ,'arenda_seyf': np.float32 ,'bank_straxovanie_imush': np.float32 ,'bank_straxovanie_lich': np.float32 ,'bank_straxovanie_otvet': np.float32 ,'branch_cnt': np.float32 ,'campaign_nm': np.float32 ,'cash_management': np.float32 ,'corp_cards': np.float32 ,'corp_cards_prod_deals_completed': np.float32 ,'corp_cards_prod_deals_created': np.float32 ,'corporate_cards': np.float32 ,'cred_application_cnt': np.float32 ,'cred_sdo': np.float32 ,'credit': np.float32 ,'credit_prod_deals_completed': np.float32 ,'credit_prod_deals_created': np.float32 ,'dbo': np.float32 ,'deposit': np.float32 ,'deposit_sertificat': np.float32 ,'deposits': np.float32 ,'depozit_prod_deals_completed': np.float32 ,'depozit_prod_deals_created': np.float32 ,'egr_org_id': np.float32 ,'egrul_org_id': np.float32 ,'einvoicing': np.float32 ,'email': np.float32 ,'factoring': np.float32 , 'fot_balance': np.float32, 'founders_all_cnt': np.float32 ,'founders_fl_cnt': np.float32 ,'founders_foreign_ul_cnt': np.float32 ,'founders_ul_cnt': np.float32 ,'fresh_user': np.float32 ,'garantee_gos': np.float32 ,'garantee_kontract': np.float32 ,'garantee_other': np.float32 ,'gis_bank_payment_flg': np.float32 ,'gis_card_payment_flg': np.float32 ,'gis_cash_payment_flg': np.float32 ,'gis_internet_merchant_flg': np.float32 ,'gis_internet_payment_flg': np.float32 ,'gis_merchant_cnt': np.float32 ,'gis_network_flg': np.float32 ,'gis_opt_merchant_flg': np.float32 ,'gis_production_merchant_flg': np.float32 ,'gis_rosn_merchant_flg': np.float32 ,'industry': np.float32 ,'inkass': np.float32 ,'insure_prod_deals_completed': np.float32 ,'insure_prod_deals_created': np.float32 ,'integrum_lower_bound': np.float32 ,'invest_kredit': np.float32 ,'ip_flg': np.float32 ,'konversion': np.float32 ,'kpp_regions_cnt': np.float32 ,'last_click_all_cnt_m11': np.float32 ,'last_click_all_cnt_m21': np.float32 ,'last_click_all_cnt_m31': np.float32 ,'last_click_day_cnt_m11': np.float32 ,'last_click_day_cnt_m21': np.float32 ,'last_click_day_cnt_m31': np.float32 ,'last_open_all_cnt_m11': np.float32 ,'last_open_all_cnt_m21': np.float32 ,'last_open_all_cnt_m31': np.float32 ,'last_open_day_cnt_m11': np.float32 ,'last_open_day_cnt_m21': np.float32 ,'last_open_day_cnt_m31': np.float32 ,'license_cnt': np.float32 ,'main_inn': np.float32 ,'main_kpp': np.float32 ,'main_organization_id': np.float32 ,'max_zp_empl_cnt': np.float32 ,'merch': np.float32 ,'merch_prod_deals_completed': np.float32 ,'merch_prod_deals_created': np.float32 ,'min_zp_empl_cnt': np.float32 ,'ns_servis': np.float32 ,'ns_terminal': np.float32 ,'oborot_kredit': np.float32 ,'obsluzh_rts_rur': np.float32 ,'obsluzh_rts_val': np.float32 ,'overdraft_kredit': np.float32 ,'products_lizing': np.float32 ,'proekt_finans': np.float32 ,'rko': np.float32 ,'salary': np.float32 ,'salary_prod_deals_completed': np.float32 ,'salary_prod_deals_created': np.float32 ,'samoinkass': np.float32 ,'spec_acc': np.float32 ,'stoplist': np.float32 ,'target': np.float32 ,'tb_Centralno_Chernozemnyj': np.float32 ,'tb_Dalnevostochnyj': np.float32 ,'tb_Moskovskij': np.float32 ,'tb_Povolzhskij': np.float32 ,'tb_Severo_Zapadnyj': np.float32 ,'tb_Uralskij': np.float32 ,'tb_Volgo_Vyatskij': np.float32 ,'total_count_dt': np.float32 ,'total_count_dt_3m': np.float32 ,'total_count_dt_year18': np.float32 ,'total_count_kt': np.float32 ,'total_count_kt_3m': np.float32 ,'total_count_kt_year18': np.float32 ,'ul_org_id': np.float32 ,'valuta_control': np.float32 ,'veksel': np.float32 ,'zarplat_projects': np.float32, 'sum_open_click_camp': np.float32, 'ul_kopf_cd': np.float32 },   \n",
    "#                  usecols = lambda columns : columns not in ['text', 'text_norm', 'inn', 'kpp', 'organization_id', 'email','campaign_nm', 'idx', 'fresh_user', 'complicity_type', 'ogrn', 'sum_open_click_camp'] \n",
    "#                  )\n",
    "df = pd.read_csv(filepath_or_buffer = path+filelist[0], sep = ';', nrows=0, compression = 'gzip',\n",
    "                 usecols = lambda columns : columns not in ['text', 'text_norm', 'inn', 'kpp', 'organization_id', \n",
    "                                                            'email','campaign_nm', 'idx', 'fresh_user', 'complicity_type', \n",
    "                                                            'ogrn', 'sum_open_click_camp'] \n",
    "                 )\n",
    "for file in tqdm_notebook(filelist[:3]+filelist[4:]): #filelist[:3]+filelist[4:]\n",
    "    if 'csv' in file:\n",
    "        print(file)\n",
    "        dftmp = pd.read_csv(filepath_or_buffer = path+file ,sep = ';', quoting = QUOTE_ALL,\n",
    "                            doublequote = False,\n",
    "                            index_col=False, \n",
    "                            error_bad_lines=False,\n",
    "                            usecols = df.columns,\n",
    "                            compression = 'gzip'\n",
    "                           )\n",
    "        \n",
    "        df = pd.concat([df,dftmp], ignore_index=True)\n",
    "        del dftmp\n",
    "        print(df.shape)"
   ]
  },
  {
   "cell_type": "markdown",
   "metadata": {},
   "source": [
    "### Fetching data for Test"
   ]
  },
  {
   "cell_type": "code",
   "execution_count": null,
   "metadata": {
    "scrolled": true
   },
   "outputs": [],
   "source": [
    "%%time\n",
    "path = './csv/sampled_data_vector_test/'\n",
    "filelist = os.listdir(path)\n",
    "# df=pd.DataFrame([])\n",
    "# df_test = pd.read_csv(filepath_or_buffer = path+filelist[0], sep = ';', nrows=0, compression = 'gzip',\n",
    "#                  dtype = {'target' : np.int32, 'OPF_IP': np.float32 ,'OPF_OOO': np.float32 ,'OPF_Other': np.float32 ,'ab_borrowed_capital': np.float32 ,'ab_immobilized_assets': np.float32 ,'ab_losses': np.float32 ,'ab_own_capital': np.float32 ,'acquiring_mobile': np.float32 ,'acquiring_torg': np.float32 ,'acreditiv': np.float32 ,'active_flg': np.float32 ,'all_prod_deals_completed': np.float32 ,'all_prod_deals_created': np.float32 ,'arenda_seyf': np.float32 ,'bank_straxovanie_imush': np.float32 ,'bank_straxovanie_lich': np.float32 ,'bank_straxovanie_otvet': np.float32 ,'branch_cnt': np.float32 ,'campaign_nm': np.float32 ,'cash_management': np.float32 ,'corp_cards': np.float32 ,'corp_cards_prod_deals_completed': np.float32 ,'corp_cards_prod_deals_created': np.float32 ,'corporate_cards': np.float32 ,'cred_application_cnt': np.float32 ,'cred_sdo': np.float32 ,'credit': np.float32 ,'credit_prod_deals_completed': np.float32 ,'credit_prod_deals_created': np.float32 ,'dbo': np.float32 ,'deposit': np.float32 ,'deposit_sertificat': np.float32 ,'deposits': np.float32 ,'depozit_prod_deals_completed': np.float32 ,'depozit_prod_deals_created': np.float32 ,'egr_org_id': np.float32 ,'egrul_org_id': np.float32 ,'einvoicing': np.float32 ,'email': np.float32 ,'factoring': np.float32 , 'fot_balance': np.float32, 'founders_all_cnt': np.float32 ,'founders_fl_cnt': np.float32 ,'founders_foreign_ul_cnt': np.float32 ,'founders_ul_cnt': np.float32 ,'fresh_user': np.float32 ,'garantee_gos': np.float32 ,'garantee_kontract': np.float32 ,'garantee_other': np.float32 ,'gis_bank_payment_flg': np.float32 ,'gis_card_payment_flg': np.float32 ,'gis_cash_payment_flg': np.float32 ,'gis_internet_merchant_flg': np.float32 ,'gis_internet_payment_flg': np.float32 ,'gis_merchant_cnt': np.float32 ,'gis_network_flg': np.float32 ,'gis_opt_merchant_flg': np.float32 ,'gis_production_merchant_flg': np.float32 ,'gis_rosn_merchant_flg': np.float32 ,'industry': np.float32 ,'inkass': np.float32 ,'insure_prod_deals_completed': np.float32 ,'insure_prod_deals_created': np.float32 ,'integrum_lower_bound': np.float32 ,'invest_kredit': np.float32 ,'ip_flg': np.float32 ,'konversion': np.float32 ,'kpp_regions_cnt': np.float32 ,'last_click_all_cnt_m11': np.float32 ,'last_click_all_cnt_m21': np.float32 ,'last_click_all_cnt_m31': np.float32 ,'last_click_day_cnt_m11': np.float32 ,'last_click_day_cnt_m21': np.float32 ,'last_click_day_cnt_m31': np.float32 ,'last_open_all_cnt_m11': np.float32 ,'last_open_all_cnt_m21': np.float32 ,'last_open_all_cnt_m31': np.float32 ,'last_open_day_cnt_m11': np.float32 ,'last_open_day_cnt_m21': np.float32 ,'last_open_day_cnt_m31': np.float32 ,'license_cnt': np.float32 ,'main_inn': np.float32 ,'main_kpp': np.float32 ,'main_organization_id': np.float32 ,'max_zp_empl_cnt': np.float32 ,'merch': np.float32 ,'merch_prod_deals_completed': np.float32 ,'merch_prod_deals_created': np.float32 ,'min_zp_empl_cnt': np.float32 ,'ns_servis': np.float32 ,'ns_terminal': np.float32 ,'oborot_kredit': np.float32 ,'obsluzh_rts_rur': np.float32 ,'obsluzh_rts_val': np.float32 ,'overdraft_kredit': np.float32 ,'products_lizing': np.float32 ,'proekt_finans': np.float32 ,'rko': np.float32 ,'salary': np.float32 ,'salary_prod_deals_completed': np.float32 ,'salary_prod_deals_created': np.float32 ,'samoinkass': np.float32 ,'spec_acc': np.float32 ,'stoplist': np.float32 ,'target': np.float32 ,'tb_Centralno_Chernozemnyj': np.float32 ,'tb_Dalnevostochnyj': np.float32 ,'tb_Moskovskij': np.float32 ,'tb_Povolzhskij': np.float32 ,'tb_Severo_Zapadnyj': np.float32 ,'tb_Uralskij': np.float32 ,'tb_Volgo_Vyatskij': np.float32 ,'total_count_dt': np.float32 ,'total_count_dt_3m': np.float32 ,'total_count_dt_year18': np.float32 ,'total_count_kt': np.float32 ,'total_count_kt_3m': np.float32 ,'total_count_kt_year18': np.float32 ,'ul_org_id': np.float32 ,'valuta_control': np.float32 ,'veksel': np.float32 ,'zarplat_projects': np.float32, 'sum_open_click_camp': np.float32, 'ul_kopf_cd': np.float32 },   \n",
    "#                  usecols = lambda columns : columns not in ['text', 'text_norm', 'inn', 'kpp', 'organization_id', 'email','campaign_nm', 'idx', 'fresh_user', 'complicity_type', 'ogrn', 'sum_open_click_camp'] \n",
    "#                  )\n",
    "df_test = pd.read_csv(filepath_or_buffer = path+filelist[0], sep = ';', nrows=0, compression = 'gzip',\n",
    "                      usecols = lambda columns : columns not in ['text', 'text_norm', 'inn', 'kpp', 'organization_id', \n",
    "                                                                 'email','campaign_nm', 'idx', 'fresh_user', \n",
    "                                                                 'complicity_type', 'ogrn', 'sum_open_click_camp'] \n",
    "                 )\n",
    "for file in tqdm_notebook(filelist[:3]+filelist[4:]): #filelist[:3]+filelist[4:]\n",
    "    if 'csv' in file:\n",
    "        print(file)\n",
    "        dftmp = pd.read_csv(filepath_or_buffer = path+file ,sep = ';', quoting = QUOTE_ALL,\n",
    "                            doublequote = False,\n",
    "                            index_col=False, \n",
    "                            error_bad_lines=False,\n",
    "                            usecols = df_test.columns,\n",
    "                            compression = 'gzip'\n",
    "                           )\n",
    "        \n",
    "        df_test = pd.concat([df_test,dftmp], ignore_index=True)\n",
    "        del dftmp\n",
    "        print(df_test.shape)"
   ]
  },
  {
   "cell_type": "markdown",
   "metadata": {},
   "source": [
    "## Simple Preproc Stage"
   ]
  },
  {
   "cell_type": "code",
   "execution_count": 4,
   "metadata": {
    "collapsed": true
   },
   "outputs": [],
   "source": [
    "readFromFile=1"
   ]
  },
  {
   "cell_type": "code",
   "execution_count": 5,
   "metadata": {
    "scrolled": false
   },
   "outputs": [
    {
     "name": "stdout",
     "output_type": "stream",
     "text": [
      "df shape before preproc: (11453836, 515)\n",
      "Removed 76 constant columns\n",
      "df shape after preproc: (11453836, 439)\n",
      "CPU times: user 1min 1s, sys: 1min 37s, total: 2min 39s\n",
      "Wall time: 2min 39s\n"
     ]
    }
   ],
   "source": [
    "%%time \n",
    "print(\"df shape before preproc: {}\".format(df.shape))\n",
    "\n",
    "# Train\n",
    "# Columns to drop because there is no variation in training set\n",
    "if not readFromFile:\n",
    "    zero_std_cols_train = df.columns[df.std(axis=0) == 0.].values.tolist()\n",
    "else:\n",
    "    with open('./zero_std_cols_train', 'r') as f:\n",
    "        zero_std_cols_train = f.readlines()\n",
    "    zero_std_cols_train = [line.split('\\n')[0]  for line in zero_std_cols_train]  \n",
    "    \n",
    "df.drop(columns=zero_std_cols_train, axis=1, inplace=True)\n",
    "print('Removed {} constant columns'.format(len(zero_std_cols_train)))\n",
    "print(\"df shape after preproc: {}\".format(df.shape))\n",
    "\n",
    "# Test preprocessing\n",
    "df_test.drop(columns=zero_std_cols_train, axis=1, inplace=True)\n",
    "print('Removed {} constant columns'.format(len(zero_std_cols_train)))\n",
    "print(\"df_test shape after preproc: {}\".format(df_test.shape))"
   ]
  },
  {
   "cell_type": "code",
   "execution_count": null,
   "metadata": {
    "collapsed": true
   },
   "outputs": [],
   "source": [
    "with open('./zero_std_cols_train', 'w') as f:\n",
    "    f.writelines(\"\\n\".join(zero_std_cols_train))"
   ]
  },
  {
   "cell_type": "code",
   "execution_count": 14,
   "metadata": {},
   "outputs": [
    {
     "data": {
      "text/plain": [
       "1816"
      ]
     },
     "execution_count": 14,
     "metadata": {},
     "output_type": "execute_result"
    }
   ],
   "source": [
    "gc.collect()"
   ]
  },
  {
   "cell_type": "markdown",
   "metadata": {},
   "source": [
    "## Load Pretrained XGB Model"
   ]
  },
  {
   "cell_type": "code",
   "execution_count": 6,
   "metadata": {
    "collapsed": true
   },
   "outputs": [],
   "source": [
    "from xgboost import XGBClassifier\n",
    "\n",
    "from sklearn.metrics import roc_auc_score, f1_score, accuracy_score, \\\n",
    "                            classification_report, precision_score, \\\n",
    "                            recall_score, roc_curve, precision_recall_curve, \\\n",
    "                            average_precision_score, make_scorer, confusion_matrix, get_scorer\n",
    "\n",
    "from sklearn.model_selection import train_test_split, RandomizedSearchCV, StratifiedShuffleSplit, StratifiedKFold\n",
    "from sklearn.pipeline import Pipeline, FeatureUnion\n",
    "from time import time"
   ]
  },
  {
   "cell_type": "code",
   "execution_count": 7,
   "metadata": {
    "collapsed": true
   },
   "outputs": [],
   "source": [
    "def get_metrics(y_pred, y, average='binary'):\n",
    "    print(classification_report(y, y_pred, digits=5, ))\n",
    "    recall = recall_score(y, y_pred, average=average)\n",
    "    precision=precision_score(y, y_pred,average=average)\n",
    "    f1=f1_score(y, y_pred,average=average)\n",
    "    \n",
    "    return recall, precision, f1\n",
    "\n",
    "def feature_impotance(model, X_train, count_top_features = 20):\n",
    "    imp=model.feature_importances_\n",
    "    names=X_train.columns\n",
    "    imp, names=map(list, zip(*sorted(zip(imp, names))[::-1][:count_top_features]))\n",
    "    \n",
    "    fig, ax = plt.subplots(figsize=(9,12))\n",
    "    #ax = plt.axes()\n",
    "    sns.barplot(x=imp, y=names, palette=sns.color_palette('YlGn', 2), ax=ax)\n",
    "    ax.set_title('Top ' + str(count_top_features) + ' important features')\n",
    "    plt.show()"
   ]
  },
  {
   "cell_type": "code",
   "execution_count": null,
   "metadata": {
    "collapsed": true
   },
   "outputs": [],
   "source": []
  },
  {
   "cell_type": "code",
   "execution_count": null,
   "metadata": {
    "collapsed": true,
    "scrolled": true
   },
   "outputs": [],
   "source": [
    "classifier = joblib.load('./pkl/xgb_cls_tuned_pipe_wFT_200606.pkl')\n",
    "xgb = classifier['clf']\n",
    "xgb"
   ]
  },
  {
   "cell_type": "code",
   "execution_count": null,
   "metadata": {
    "collapsed": true
   },
   "outputs": [],
   "source": [
    "isretrain=False\n",
    "\n",
    "xgb_params = xgb.get_params()\n",
    "if isretrain:\n",
    "    xgb_params = dict(xgb_params,**{'update':'refresh',\n",
    "                                    'process_type':'update',\n",
    "                                    'refresh_leaf':True,\n",
    "                                    'xgb_model':xgb})"
   ]
  },
  {
   "cell_type": "code",
   "execution_count": null,
   "metadata": {
    "collapsed": true
   },
   "outputs": [],
   "source": [
    "classifier = XGBClassifier(**xgb_params)\n",
    "classifier"
   ]
  },
  {
   "cell_type": "markdown",
   "metadata": {},
   "source": [
    "## Shuffle rows"
   ]
  },
  {
   "cell_type": "code",
   "execution_count": 8,
   "metadata": {
    "scrolled": true
   },
   "outputs": [],
   "source": [
    "X_train, X_test, y_train, y_test = \\\n",
    "train_test_split(df.drop(['target'], axis=1), df.target, \n",
    "                 random_state=42, shuffle=True, test_size=0.08)\n",
    "\n",
    "# X_train = df_part[respcols+ml360cols].drop(['target'], axis=1)\n",
    "# y_train = df_part.target\n",
    "\n",
    "# df.sample(frac=1,shuffle=True, inplace=True)\n",
    "# X_train, y_train = df.drop(['target'], axis=1), df.target"
   ]
  },
  {
   "cell_type": "code",
   "execution_count": null,
   "metadata": {
    "collapsed": true
   },
   "outputs": [],
   "source": [
    "X_val, y_val = df_test.drop(['target'], axis=1), df_test.target"
   ]
  },
  {
   "cell_type": "code",
   "execution_count": 14,
   "metadata": {},
   "outputs": [
    {
     "data": {
      "text/plain": [
       "((6322516, 438), (549785, 438))"
      ]
     },
     "execution_count": 14,
     "metadata": {},
     "output_type": "execute_result"
    }
   ],
   "source": [
    "X_train.shape, X_test.shape"
   ]
  },
  {
   "cell_type": "markdown",
   "metadata": {},
   "source": [
    "## Training Step"
   ]
  },
  {
   "cell_type": "code",
   "execution_count": null,
   "metadata": {
    "collapsed": true
   },
   "outputs": [],
   "source": [
    "classifier.fit(X_train.astype(dtype=np.float32), y_train)"
   ]
  },
  {
   "cell_type": "code",
   "execution_count": 20,
   "metadata": {},
   "outputs": [
    {
     "name": "stdout",
     "output_type": "stream",
     "text": [
      "              precision    recall  f1-score   support\n",
      "\n",
      "           0    0.75497   0.72030   0.73723    614522\n",
      "           1    0.47916   0.52396   0.50056    301785\n",
      "\n",
      "    accuracy                        0.65564    916307\n",
      "   macro avg    0.61707   0.62213   0.61890    916307\n",
      "weighted avg    0.66413   0.65564   0.65928    916307\n",
      "\n",
      "Hold Out: \n",
      "Precision: 0.47916, Recall: 0.52396, F_1: 0.50056\n"
     ]
    }
   ],
   "source": [
    "y_pred = classifier.predict(X_test.astype(dtype=np.float32))\n",
    "\n",
    "recall_ts, precision_ts, f1_ts =  get_metrics(y_pred.astype(int), y_test.astype(int))\n",
    "                                                  \n",
    "print('Hold Out: ')\n",
    "print('Precision: %7.5f, Recall: %7.5f, F_1: %7.5f' % \n",
    "(precision_ts, recall_ts, f1_ts))"
   ]
  },
  {
   "cell_type": "code",
   "execution_count": null,
   "metadata": {
    "collapsed": true
   },
   "outputs": [],
   "source": [
    "joblib.dump(classifier, './pkl/xgb_best_param_wFT_10M_200613.pkl')"
   ]
  },
  {
   "cell_type": "code",
   "execution_count": 24,
   "metadata": {},
   "outputs": [
    {
     "data": {
      "text/plain": [
       "2179"
      ]
     },
     "execution_count": 24,
     "metadata": {},
     "output_type": "execute_result"
    }
   ],
   "source": [
    "gc.collect()"
   ]
  },
  {
   "cell_type": "markdown",
   "metadata": {},
   "source": [
    "## Use CalibratedClassifierCV with sigmoid and isotonic parameters"
   ]
  },
  {
   "cell_type": "code",
   "execution_count": 9,
   "metadata": {
    "scrolled": true
   },
   "outputs": [],
   "source": [
    "from sklearn.calibration import CalibratedClassifierCV, calibration_curve\n",
    "from sklearn.preprocessing import OneHotEncoder"
   ]
  },
  {
   "cell_type": "code",
   "execution_count": 19,
   "metadata": {
    "collapsed": true
   },
   "outputs": [],
   "source": [
    "classifier = joblib.load('./pkl/xgb_best_param_wFT_10M_200613.pkl')"
   ]
  },
  {
   "cell_type": "code",
   "execution_count": 11,
   "metadata": {
    "collapsed": true,
    "scrolled": false
   },
   "outputs": [],
   "source": [
    "y_proba = classifier.predict_proba(X_test.astype(float))[:, 1]"
   ]
  },
  {
   "cell_type": "code",
   "execution_count": 12,
   "metadata": {
    "scrolled": false
   },
   "outputs": [
    {
     "data": {
      "image/png": "[encoded data removed]",
      "text/plain": [
       "<Figure size 900x630 with 1 Axes>"
      ]
     },
     "metadata": {},
     "output_type": "display_data"
    }
   ],
   "source": [
    "plt.figure(figsize=(10,7), dpi=90)\n",
    "plt.style.use('seaborn-white')\n",
    "\n",
    "fraction_of_pos, mean_pred_val = calibration_curve(np.array(y_test.tolist(), dtype=np.float32), y_proba, n_bins=30)\n",
    "plt.plot(mean_pred_val, fraction_of_pos, 's-', markersize=2, color='red', label='Uncalibrated')\n",
    "plt.plot([0,1],[0,1],'--',color='gray')\n",
    "\n",
    "methodlst=['isotonic','sigmoid',]\n",
    "clr=['blue','green']\n",
    "i=0\n",
    "for method in methodlst:\n",
    "    clf_calib=CalibratedClassifierCV(classifier, cv='prefit', method=method, xdtype=pd.core.frame.DataFrame)\n",
    "  \n",
    "    try:\n",
    "        clf_calib.fit(X_train.astype(dtype=np.float32), y_train.astype(dtype=np.float32))\n",
    "    except ValueError as err:\n",
    "        print(\"Cols mismatched... Try to catch cols order from error message-->\")\n",
    "        colsstr     = str(err).split('feature_names mismatch: ')[1].split(' [')[0]\n",
    "        getcolslist = list(ast.literal_eval(colsstr[1:-1]))\n",
    "        _X_train = X_train[getcolslist].astype(dtype=np.float32)\n",
    "        clf_calib.fit(_X_train, y_train)\n",
    "        \n",
    "    y_tst_clf_calib_proba=clf_calib.predict_proba(X_test.astype(dtype=np.float32))[:,1]\n",
    "    fraction_of_pos, mean_pred_val = calibration_curve(np.array(y_test.tolist()), y_tst_clf_calib_proba, n_bins=30)\n",
    "    plt.plot(mean_pred_val, fraction_of_pos, 's-', markersize=2, color=clr[i], label='Calibrated %s' % method)\n",
    "    i=i+1\n",
    "    \n",
    "plt.xlabel('Mean Predicted Value')\n",
    "plt.ylabel('Fraction of Positives')\n",
    "plt.legend(loc='best')\n",
    "plt.title('Compare Calibration Curves')\n",
    "plt.show()"
   ]
  },
  {
   "cell_type": "code",
   "execution_count": 13,
   "metadata": {},
   "outputs": [
    {
     "data": {
      "text/plain": [
       "2677"
      ]
     },
     "execution_count": 13,
     "metadata": {},
     "output_type": "execute_result"
    }
   ],
   "source": [
    "gc.collect()"
   ]
  },
  {
   "cell_type": "markdown",
   "metadata": {},
   "source": [
    "## Choose SigmoId Method and obtain recalibated proba"
   ]
  },
  {
   "cell_type": "code",
   "execution_count": null,
   "metadata": {
    "collapsed": true
   },
   "outputs": [],
   "source": [
    "methodlst=['sigmoid']\n",
    "for method in methodlst:\n",
    "    clf_calib=CalibratedClassifierCV(classifier, cv='prefit', method=method, xdtype=pd.core.frame.DataFrame)\n",
    "  \n",
    "    try:\n",
    "        clf_calib.fit(X_train.astype(dtype=np.float32), y_train.astype(dtype=np.float32))\n",
    "    except ValueError as err:\n",
    "        print(\"Cols mismatched... Try to catch cols order from error message-->\")\n",
    "        colsstr     = str(err).split('feature_names mismatch: ')[1].split(' [')[0]\n",
    "        getcolslist = list(ast.literal_eval(colsstr[1:-1]))\n",
    "        _X_train = X_train[getcolslist].astype(dtype=np.float32)\n",
    "        clf_calib.fit(_X_train, y_train)\n",
    "        \n",
    "    y_tst_clf_calib_proba=clf_calib.predict_proba(X_test.astype(dtype=np.float32))[:,1]\n",
    " "
   ]
  },
  {
   "cell_type": "code",
   "execution_count": null,
   "metadata": {
    "collapsed": true
   },
   "outputs": [],
   "source": [
    "joblib.dump(clf_calib,'./pkl/CalibratedClassifierCV_xgb_10M.pkl')"
   ]
  },
  {
   "cell_type": "markdown",
   "metadata": {},
   "source": [
    "## Load calibrated cls with sigmoid preferred method"
   ]
  },
  {
   "cell_type": "code",
   "execution_count": 15,
   "metadata": {
    "collapsed": true
   },
   "outputs": [],
   "source": [
    "clf_calib = joblib.load('./pkl/CalibratedClassifierCV_xgb_10M.pkl')\n",
    "y_tst_clf_calib_proba=clf_calib.predict_proba(X_test.astype(dtype=np.float32))[:,1]"
   ]
  },
  {
   "cell_type": "code",
   "execution_count": 16,
   "metadata": {
    "collapsed": true
   },
   "outputs": [],
   "source": [
    "max_proba = np.max(y_tst_clf_calib_proba)\n",
    "min_proba = np.min(y_tst_clf_calib_proba)\n",
    "\n",
    "scaled_proba_calib = np.array([(proba-min_proba)/(max_proba-min_proba) for proba in y_tst_clf_calib_proba])"
   ]
  },
  {
   "cell_type": "code",
   "execution_count": 17,
   "metadata": {},
   "outputs": [
    {
     "name": "stdout",
     "output_type": "stream",
     "text": [
      "              precision    recall  f1-score   support\n",
      "\n",
      "           0    0.74819   0.76013   0.75411    614522\n",
      "           1    0.49514   0.47905   0.48696    301785\n",
      "\n",
      "    accuracy                        0.66755    916307\n",
      "   macro avg    0.62166   0.61959   0.62054    916307\n",
      "weighted avg    0.66485   0.66755   0.66612    916307\n",
      "\n",
      "Hold Out: \n",
      "Precision: 0.49514, Recall: 0.47905, F_1: 0.48696\n"
     ]
    }
   ],
   "source": [
    "# classification report after recalibration of proba\n",
    "threshold=0.50\n",
    "y_pred = binarize(scaled_proba_calib.reshape(-1, 1), threshold=threshold).reshape(-1)\n",
    "\n",
    "recall_ts, precision_ts, f1_ts =  get_metrics(y_pred.astype(int), y_test.astype(int))\n",
    "                                                  \n",
    "print('Hold Out: ')\n",
    "print('Precision: %7.5f, Recall: %7.5f, F_1: %7.5f' % \n",
    "(precision_ts, recall_ts, f1_ts))"
   ]
  },
  {
   "cell_type": "code",
   "execution_count": 18,
   "metadata": {
    "collapsed": true
   },
   "outputs": [],
   "source": [
    "del y_pred, y_tst_clf_calib_proba, scaled_proba_calib, clf_calib"
   ]
  },
  {
   "cell_type": "markdown",
   "metadata": {
    "collapsed": true
   },
   "source": [
    "# USE SberAutoML PipeLine"
   ]
  },
  {
   "cell_type": "code",
   "execution_count": 9,
   "metadata": {
    "collapsed": true,
    "scrolled": true
   },
   "outputs": [],
   "source": [
    "import sber_ailab_automl as saa\n",
    "from sber_ailab_automl import SAAClassifier, SAARegressor\n",
    "import logging\n",
    "logging.basicConfig(level=logging.INFO, stream=sys.stdout,\n",
    "                        format='[%(asctime)-15s] %(levelname)-8s: %(message)s')\n",
    "logger = logging.getLogger(__name__)"
   ]
  },
  {
   "cell_type": "markdown",
   "metadata": {},
   "source": [
    "## UDM"
   ]
  },
  {
   "cell_type": "code",
   "execution_count": 7,
   "metadata": {
    "collapsed": true
   },
   "outputs": [],
   "source": [
    "def recall_metric(y_true, y_proba):\n",
    "    threshold=0.50\n",
    "    if isinstance(y_proba, list) and isinstance(y_true, list):\n",
    "        y_proba = np.array(y_proba)  \n",
    "        y_true  = np.array(y_true)  \n",
    "    y_pred = binarize(y_proba.reshape(-1, 1), threshold=threshold).reshape(-1)    \n",
    "    recall = recall_score(y_true, y_pred, average='binary')\n",
    "    return recall"
   ]
  },
  {
   "cell_type": "markdown",
   "metadata": {},
   "source": [
    "## Params Initialization"
   ]
  },
  {
   "cell_type": "code",
   "execution_count": 8,
   "metadata": {
    "collapsed": true
   },
   "outputs": [],
   "source": [
    "params = {}\n",
    "params['vCPULimit'] = 50\n",
    "params['memoryLimit'] = 180 * 1024\n",
    "params['timeLimit'] = 3000 * 60\n",
    "params['type'] = 'classification'\n",
    "params['encoding'] = 'utf-8'\n",
    "params['separator'] = r\",\"\n",
    "params['decimal'] = '.'\n",
    "params['debugFlag'] = True\n",
    "params['featureRoles'] = {\n",
    "    'target': 'target',\n",
    "    #'line_id': 'line_id',\n",
    "    #'group': 'col_name',\n",
    "    'numeric': [],\n",
    "    'datetime': [],\n",
    "    'string': [],\n",
    "    'id': [],\n",
    "    'text': []\n",
    "}\n",
    "params['naValues'] = None\n",
    "params['rowsToAnalyze'] = 10000\n",
    "params['datetimeFormat'] = '%Y-%m-%d'\n",
    "params['testBatchSize'] = 100000\n",
    "params['LuckySeed'] = 42\n",
    "params['KFolds'] = 5\n",
    "params['metric'] = recall_metric\n",
    "params['featureSelParams'] = (-1, 5, True)"
   ]
  },
  {
   "cell_type": "markdown",
   "metadata": {},
   "source": [
    "## Prepate Train/Test Dataset"
   ]
  },
  {
   "cell_type": "code",
   "execution_count": 29,
   "metadata": {
    "collapsed": true
   },
   "outputs": [],
   "source": [
    "import re\n",
    "pattern = re.compile(r'.*_m\\d{1}1')\n",
    "ftcols = [col for col in list(df.columns) if '_FT_' in col]\n",
    "respcols = [col for col in list(df.columns) if len(pattern.findall(col))!=0]\n",
    "ml360cols = list(set(list(df.columns)) - set(respcols) - set(ftcols))"
   ]
  },
  {
   "cell_type": "markdown",
   "metadata": {},
   "source": [
    "## Remove from further consideraction columns with FT vector"
   ]
  },
  {
   "cell_type": "code",
   "execution_count": 30,
   "metadata": {
    "collapsed": true
   },
   "outputs": [],
   "source": [
    "df.drop(columns=ftcols,inplace=True)"
   ]
  },
  {
   "cell_type": "code",
   "execution_count": 31,
   "metadata": {},
   "outputs": [
    {
     "data": {
      "text/plain": [
       "(6872301, 139)"
      ]
     },
     "execution_count": 31,
     "metadata": {},
     "output_type": "execute_result"
    }
   ],
   "source": [
    "df.shape"
   ]
  },
  {
   "cell_type": "markdown",
   "metadata": {},
   "source": [
    "## Perform Under-Sampling to reduce size of dataset being passed for training"
   ]
  },
  {
   "cell_type": "code",
   "execution_count": 34,
   "metadata": {
    "collapsed": true,
    "scrolled": true
   },
   "outputs": [],
   "source": [
    "# X_train = df.sample(frac=0.6,shuffle=True, inplace=True)\n",
    "\n",
    "sratio = 0.4\n",
    "df_part = df.groupby(['target'], group_keys=False).apply(lambda x: x.sample(n=int(np.rint(sratio*len(x))), random_state=42))\n",
    "\n",
    "X_train, X_test = \\\n",
    "train_test_split(df_part, random_state=42, shuffle=True, test_size=0.1)"
   ]
  },
  {
   "cell_type": "code",
   "execution_count": 35,
   "metadata": {},
   "outputs": [
    {
     "data": {
      "text/plain": [
       "((2474028, 139), (274893, 139))"
      ]
     },
     "execution_count": 35,
     "metadata": {},
     "output_type": "execute_result"
    }
   ],
   "source": [
    "X_train.shape, X_test.shape"
   ]
  },
  {
   "cell_type": "code",
   "execution_count": 36,
   "metadata": {},
   "outputs": [
    {
     "data": {
      "text/plain": [
       "139"
      ]
     },
     "execution_count": 36,
     "metadata": {},
     "output_type": "execute_result"
    }
   ],
   "source": [
    "del df_part\n",
    "gc.collect()"
   ]
  },
  {
   "cell_type": "markdown",
   "metadata": {},
   "source": [
    "## Train and save model "
   ]
  },
  {
   "cell_type": "code",
   "execution_count": null,
   "metadata": {
    "scrolled": false
   },
   "outputs": [],
   "source": [
    "%%time\n",
    "automl = saa.AutoML(vCPULimit = params['vCPULimit'], \n",
    "                    memoryLimit = params['memoryLimit'], \n",
    "                    timeLimit = params['timeLimit'], \n",
    "                    encoding = params['encoding'], \n",
    "                    separator = params['separator'], \n",
    "                    decimal = params['decimal'], \n",
    "                    datetime_format = params['datetimeFormat'], \n",
    "                    na_values = params['naValues'], \n",
    "                    analyze_rows = params['rowsToAnalyze'],\n",
    "                    test_batch_size = params['testBatchSize'],\n",
    "                    cv_random_state = params['LuckySeed'],\n",
    "                    KFolds = params['KFolds'],\n",
    "                    metric = params['metric'],\n",
    "                    featureSelParams = params['featureSelParams'])\n",
    "\n",
    "res_df, feat_imp = automl.train(X_train, params['featureRoles'], params['type'], )\n",
    "automl.save('./pkl/automl_10M.pkl')"
   ]
  },
  {
   "cell_type": "markdown",
   "metadata": {},
   "source": [
    "## Make a Prediction on OOB"
   ]
  },
  {
   "cell_type": "code",
   "execution_count": 10,
   "metadata": {
    "scrolled": true
   },
   "outputs": [
    {
     "name": "stdout",
     "output_type": "stream",
     "text": [
      "AUTOML_CONFIG = {'time_limit': 300, 'test_batch_size': 10000, 'separator': ',', 'log_file': None, 'featureSelParams': (None, 1, True), 'start_time': 1592245921.6454701, 'isTrained': False, 'encoding': 'utf-8', 'analyze_rows': 100, 'na_values': None, 'KFolds': 10, 'vCPU_limit': 4, 'memory_limit': 12, 'datetime_format': None, 'embeddings_path': None, 'use_gpu': True, 'metric': (None, None), 'decimal': b'.', 'cv_random_state': 13, 'cache_dir': None}\n",
      "\n",
      "Start load.\n",
      "dict_keys(['mode', 'aml_reg_dataset', 'separator', 'aml_dataset', 'nrows', 'KFolds', 'feat_dict', 'metric', 'aml_cats', 'fileb', 'na_values', 'time_limit', 'feat_imp', 'task', 'model', 'log_file', 'test_batch_size', 'aml_reg_models', 'cache_dir', 'w', 'aml_pipe', 'datetime_format', 'start_time', 'memory_limit', 'encoding', 'featureSelParams', 'vCPU_limit', 'decimal', 'use_ids', 'aml_feats', 'aml_reg_pipe', 'embeddings_path', 'non_negative_target', 'use_gpu', 'pfeats', 'analyze_rows', 'constant_columns', 'isTrained', 'cv_random_state', 'explainer'])\n",
      "End load. Time: 5.23 sec.\n",
      "CPU times: user 5.72 s, sys: 4.25 s, total: 9.98 s\n",
      "Wall time: 5.23 s\n"
     ]
    }
   ],
   "source": [
    "%%time\n",
    "automl = saa.AutoML()\n",
    "\n",
    "automl.load('./pkl/automl_10M.pkl')"
   ]
  },
  {
   "cell_type": "code",
   "execution_count": 17,
   "metadata": {
    "scrolled": true
   },
   "outputs": [],
   "source": [
    "y_test = X_test['target'].values"
   ]
  },
  {
   "cell_type": "code",
   "execution_count": 19,
   "metadata": {},
   "outputs": [],
   "source": [
    "y_proba = preds_df['prediction'].values"
   ]
  },
  {
   "cell_type": "code",
   "execution_count": 18,
   "metadata": {},
   "outputs": [
    {
     "name": "stdout",
     "output_type": "stream",
     "text": [
      "              precision    recall  f1-score   support\n",
      "\n",
      "           0    0.68935   0.90954   0.78428    184167\n",
      "           1    0.47774   0.16798   0.24856     90726\n",
      "\n",
      "    accuracy                        0.66479    274893\n",
      "   macro avg    0.58355   0.53876   0.51642    274893\n",
      "weighted avg    0.61951   0.66479   0.60747    274893\n",
      "\n",
      "Hold Out: \n",
      "Precision: 0.47774, Recall: 0.16798, F_1: 0.24856\n"
     ]
    }
   ],
   "source": [
    "# classification report after recalibration of proba\n",
    "threshold=0.50\n",
    "y_pred = binarize(preds_df['prediction'].values.reshape(-1, 1), threshold=threshold).reshape(-1)\n",
    "\n",
    "recall_ts, precision_ts, f1_ts =  get_metrics(y_pred.astype(int), y_test.astype(int))\n",
    "                                                  \n",
    "print('Hold Out: ')\n",
    "print('Precision: %7.5f, Recall: %7.5f, F_1: %7.5f' % \n",
    "(precision_ts, recall_ts, f1_ts))"
   ]
  },
  {
   "cell_type": "code",
   "execution_count": 20,
   "metadata": {},
   "outputs": [
    {
     "data": {
      "image/png": "[encoded data removed]",
      "text/plain": [
       "<Figure size 900x630 with 1 Axes>"
      ]
     },
     "metadata": {},
     "output_type": "display_data"
    }
   ],
   "source": [
    "# creating a dataframe of target and probabilities\n",
    "prob_df_xgb = pd.DataFrame({'y':y_test, 'y_hat': y_proba})\n",
    "\n",
    "# binning the dataframe, so we can see success rates for bins of probability\n",
    "bins = np.arange(0.05, 1.00, 0.05)\n",
    "prob_df_xgb.loc[:,'prob_bin'] = np.digitize(prob_df_xgb['y_hat'], bins)\n",
    "prob_df_xgb.loc[:,'prob_bin_val'] = prob_df_xgb['prob_bin'].replace(dict(zip(range(len(bins)), bins)))\n",
    "\n",
    "# opening figure\n",
    "plt.figure(figsize=(10,7), dpi=90)\n",
    "\n",
    "plt.style.use('seaborn-white')\n",
    "\n",
    "# plotting ideal line\n",
    "plt.plot([0,1],[0,1], 'k--', label='ideal')\n",
    "\n",
    "# plotting calibration for xgb\n",
    "calibration_y = prob_df_xgb.groupby('prob_bin_val')['y'].mean()\n",
    "calibration_x = prob_df_xgb.groupby('prob_bin_val')['y_hat'].mean()\n",
    "plt.plot(calibration_x, calibration_y, marker='o', label='xgb')\n",
    "\n",
    "# legend and titles\n",
    "plt.title('Calibration plot for XGB')\n",
    "plt.xlabel('Predicted probability')\n",
    "plt.ylabel('Actual fraction of positives')\n",
    "plt.legend()\n",
    "plt.show()"
   ]
  },
  {
   "cell_type": "code",
   "execution_count": null,
   "metadata": {
    "collapsed": true
   },
   "outputs": [],
   "source": []
  }
 ],
 "metadata": {
  "kernelspec": {
   "display_name": "Python 3",
   "language": "python",
   "name": "python3"
  },
  "language_info": {
   "codemirror_mode": {
    "name": "ipython",
    "version": 3
   },
   "file_extension": ".py",
   "mimetype": "text/x-python",
   "name": "python",
   "nbconvert_exporter": "python",
   "pygments_lexer": "ipython3",
   "version": "3.7.4"
  },
  "pycharm": {
   "stem_cell": {
    "cell_type": "raw",
    "source": [],
    "metadata": {
     "collapsed": false
    }
   }
  }
 },
 "nbformat": 4,
 "nbformat_minor": 2
}