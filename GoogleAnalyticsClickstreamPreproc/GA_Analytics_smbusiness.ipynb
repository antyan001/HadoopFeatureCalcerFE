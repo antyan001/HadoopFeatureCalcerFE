{
 "cells": [
  {
   "cell_type": "code",
   "execution_count": 1,
   "metadata": {
    "collapsed": true
   },
   "outputs": [],
   "source": [
    "%reload_ext autoreload\n",
    "%autoreload 2"
   ]
  },
  {
   "cell_type": "code",
   "execution_count": 1,
   "metadata": {
    "collapsed": true
   },
   "outputs": [],
   "source": [
    "import os\n",
    "import sys\n",
    "import warnings\n",
    "warnings.filterwarnings('ignore')\n",
    "\n",
    "\n",
    "from pathlib import Path\n",
    "import pandas as pd\n",
    "import numpy as np\n",
    "import re \n",
    "import joblib\n",
    "\n",
    "pd.set_option('display.float_format', lambda x: '%.3f' % x)\n",
    "pd.set_option('display.max_colwidth', -1)\n",
    "pd.set_option('display.max_rows', None)\n",
    "pd.set_option('display.max_columns', None)\n",
    "\n",
    "curruser = os.environ.get('USER')\n",
    "\n",
    "# sys.path.insert(0, '/opt/workspace/{user}/system/support_library/'.format(user=curruser))\n",
    "# sys.path.insert(0, '/opt/workspace/{user}/libs/'.format(user=curruser))\n",
    "# sys.path.insert(0, '/opt/workspace/{user}/system/labdata/lib/'.format(user=curruser))\n",
    "\n",
    "# sys.path.insert(0, '/opt/workspace/{}/notebooks/Clickstream_Analytics/scr'.format(curruser))\n",
    "sys.path.insert(0, '/opt/workspace/{user}/notebooks/support_library/'.format(user=curruser)) \n",
    "sys.path.insert(0, '/opt/workspace/{user}/libs/python3.5/site-packages/'.format(user=curruser))\n",
    "sys.path.insert(0, '/opt/workspace/{user}/notebooks/labdata/lib/'.format(user=curruser))\n",
    "\n",
    "# sys.path.insert(0, '/home/{}/notebooks/support_library/'.format(curruser)) \n",
    "# sys.path.insert(0, '/home/{}/python35-libs/lib/python3.5/site-packages/'.format(curruser))\n",
    "# sys.path.insert(0, '/home/{}/notebooks/labdata/lib/'.format(curruser))\n",
    "\n",
    "\n",
    "# from tqdm import tqdm\n",
    "# from tqdm._tqdm_notebook import tqdm_notebook\n",
    "# tqdm_notebook.pandas()\n",
    "\n",
    "from spark_connector import SparkConnector\n",
    "from sparkdb_loader import spark\n",
    "# from spark_helper import SparkHelper\n",
    "from connector import OracleDB\n",
    "import pyspark\n",
    "from pyspark import SparkContext, SparkConf, HiveContext\n",
    "from pyspark.sql import functions as f\n",
    "from pyspark.sql.window import Window\n",
    "from pyspark.sql.types import *\n",
    "from pyspark.sql.dataframe import DataFrame\n",
    "from pyspark.ml import Pipeline, PipelineModel\n",
    "from pyspark.ml.feature import StringIndexer\n",
    "\n",
    "# import loader as load\n",
    "\n",
    "# from corpora_process import utils\n",
    "import time\n",
    "from datetime import datetime\n",
    "from dateutil.relativedelta import relativedelta"
   ]
  },
  {
   "cell_type": "code",
   "execution_count": 2,
   "metadata": {
    "collapsed": true
   },
   "outputs": [],
   "source": [
    "def show(self, n=10):\n",
    "    return self.limit(n).toPandas()\n",
    "\n",
    "pyspark.sql.dataframe.DataFrame.show = show"
   ]
  },
  {
   "cell_type": "code",
   "execution_count": 3,
   "metadata": {
    "collapsed": true
   },
   "outputs": [],
   "source": [
    "import pandas as pd\n",
    "import numpy as np\n",
    "\n",
    "pd.set_option('display.float_format', lambda x: '%.3f' % x)\n",
    "pd.set_option('display.max_colwidth', -1)\n",
    "pd.set_option('display.max_rows', None)\n",
    "pd.set_option('display.max_columns', None)"
   ]
  },
  {
   "cell_type": "code",
   "execution_count": 4,
   "metadata": {
    "collapsed": true
   },
   "outputs": [],
   "source": [
    "def typed_udf(return_type):\n",
    "    '''Make a UDF decorator with the given return type'''\n",
    "    \n",
    "    def _typed_udf_wrapper(func):\n",
    "        return f.udf(func,return_type)\n",
    "    \n",
    "    return _typed_udf_wrapper"
   ]
  },
  {
   "cell_type": "code",
   "execution_count": 6,
   "metadata": {
    "scrolled": true
   },
   "outputs": [
    {
     "name": "stdout",
     "output_type": "stream",
     "text": [
      "2.2.0.cloudera4\n",
      "CPU times: user 59.2 ms, sys: 19.4 ms, total: 78.6 ms\n",
      "Wall time: 40.6 s\n"
     ]
    }
   ],
   "source": [
    "%%time\n",
    "sp = spark(schema='sklod_external_google_analytics',\n",
    "           queue = 'g_dl_u_corp.ektov1-av_ca-sbrf-ru',#'root.g_dl_u_dateng.ektov1-av_ca-sbrf-ru', #'g_dl_u_corp.ektov1-av_ca-sbrf-ru',\n",
    "           numofinstances=12, \n",
    "           numofcores=8,\n",
    "           dynamic_alloc=False,\n",
    "           kerberos_auth=False) \n",
    "print(sp.sc.version)\n",
    "hive = sp.sql"
   ]
  },
  {
   "cell_type": "code",
   "execution_count": null,
   "metadata": {
    "collapsed": true
   },
   "outputs": [],
   "source": [
    "# @typed_udf(IntegerType())\n",
    "# def checkhitPageTitleList(x, l):\n",
    "#     values = []\n",
    "#     if x is not None:\n",
    "#         for pattern in l:\n",
    "#             res = re.findall(x.lower(), r'.*{}.*'.format(pattern.lower()))\n",
    "#             if len(res)!=0:\n",
    "#                 values.append(1)\n",
    "#             else:\n",
    "#                 values.append(0)\n",
    "#     else:\n",
    "#         values.append(0)\n",
    "#     return values        "
   ]
  },
  {
   "cell_type": "code",
   "execution_count": 7,
   "metadata": {
    "collapsed": true
   },
   "outputs": [],
   "source": [
    "#@typed_udf(StringType())\n",
    "\n",
    "def checkhitPageTitle(dctofrefwords, title, path):\n",
    "#     pattern2= re.compile(r'([a-zA-Z=\\-\\_\\&,.#\\/0-9]+)(?:\\?.*)*')\n",
    "    finout = None\n",
    "    for key, wordlst in dctofrefwords.items():\n",
    "        for reword in wordlst:\n",
    "            wpatt = re.compile(reword)\n",
    "            if title is not None:\n",
    "                res = wpatt.findall(title.lower())          \n",
    "                if len(res)!=0:\n",
    "                    if path is not None:\n",
    "    #                     out=pattern2.findall(path)\n",
    "                        finout = key\n",
    "                        break\n",
    "                    else:\n",
    "                        None\n",
    "                else:\n",
    "                     None\n",
    "            else:\n",
    "                None\n",
    "                \n",
    "        if finout is not None: \n",
    "            break\n",
    "                \n",
    "    return finout\n",
    "    \n",
    "def udf_checkhitPageTitle (lst):\n",
    "    return f.udf(lambda t,p: checkhitPageTitle(lst,t,p))"
   ]
  },
  {
   "cell_type": "markdown",
   "metadata": {},
   "source": [
    "## Set the focus on the visit datamart"
   ]
  },
  {
   "cell_type": "code",
   "execution_count": null,
   "metadata": {
    "collapsed": true,
    "scrolled": true
   },
   "outputs": [],
   "source": [
    "gadf = hive.sql(\"select * from dl_external_google_analytics.visit\")"
   ]
  },
  {
   "cell_type": "code",
   "execution_count": null,
   "metadata": {
    "collapsed": true,
    "scrolled": true
   },
   "outputs": [],
   "source": [
    "gadf.filter('lower(eventLabel) like \"%scrol%\"').show(15)"
   ]
  },
  {
   "cell_type": "code",
   "execution_count": null,
   "metadata": {
    "collapsed": true
   },
   "outputs": [],
   "source": [
    "gadf.filter(f.col('deviceIsMobile')==True).count()"
   ]
  },
  {
   "cell_type": "markdown",
   "metadata": {},
   "source": [
    "# Scenario - product page activity"
   ]
  },
  {
   "cell_type": "code",
   "execution_count": 7,
   "metadata": {
    "collapsed": true,
    "scrolled": true
   },
   "outputs": [],
   "source": [
    "src_path = os.getcwd() + '/src/'\n",
    "sys.path.insert(0, src_path) \n",
    "\n",
    "from urlprocessing import ParseURL\n",
    "from collections import OrderedDict\n",
    "from datetime import datetime"
   ]
  },
  {
   "cell_type": "code",
   "execution_count": 8,
   "metadata": {
    "collapsed": true,
    "scrolled": true
   },
   "outputs": [],
   "source": [
    "sp.sc.addPyFile(src_path+'/urlprocessing.py')\n",
    "GetUrl = sp.sc.broadcast(ParseURL())"
   ]
  },
  {
   "cell_type": "code",
   "execution_count": 9,
   "metadata": {
    "collapsed": true
   },
   "outputs": [],
   "source": [
    "get_url_domain_udf = f.udf(GetUrl.value.get_url_domain, StringType())\n",
    "get_url_path_udf   = f.udf(GetUrl.value.get_url_path, StringType())"
   ]
  },
  {
   "cell_type": "markdown",
   "metadata": {},
   "source": [
    "### Test cases"
   ]
  },
  {
   "cell_type": "code",
   "execution_count": null,
   "metadata": {
    "collapsed": true,
    "scrolled": true
   },
   "outputs": [],
   "source": [
    "gadf = gadf.withColumn(\"url_domain\", get_url_domain_udf(\"hitPagePath\")) \\\n",
    "           .withColumn(\"url_path\", get_url_path_udf(\"hitPagePath\"))"
   ]
  },
  {
   "cell_type": "code",
   "execution_count": null,
   "metadata": {
    "collapsed": true,
    "scrolled": true
   },
   "outputs": [],
   "source": [
    "gadf.filter(\"hitPagePath like '%/s_m_business/%'\").select('hitPagePath', 'url_domain', 'url_path').show(30)"
   ]
  },
  {
   "cell_type": "markdown",
   "metadata": {},
   "source": [
    "# Main selection with conditions"
   ]
  },
  {
   "cell_type": "code",
   "execution_count": 7,
   "metadata": {
    "collapsed": true
   },
   "outputs": [],
   "source": [
    "refdate = '2020-05-01'"
   ]
  },
  {
   "cell_type": "code",
   "execution_count": 8,
   "metadata": {
    "collapsed": true
   },
   "outputs": [],
   "source": [
    "sql = \\\n",
    "'''\n",
    "    select \n",
    "    cid, \n",
    "    sessionId, \n",
    "    visitNumber,\n",
    "    hitType, \n",
    "    hitPagePath, \n",
    "    hitPageTitle, \n",
    "    sessionStartTime, \n",
    "    hitNumber, \n",
    "    hitTime, \n",
    "    eventCategory, \n",
    "    eventAction, \n",
    "    eventLabel,\n",
    "    deviceIsMobile,\n",
    "    deviceMobileDeviceModel,\n",
    "    deviceDeviceCategory,\n",
    "    geoRegion,\n",
    "    geoCity\n",
    "from sklod_external_google_analytics.visit\n",
    "where \n",
    "    hitPageHostName like '%www.sberbank.ru%'\n",
    "    and hitPagePath like '%/s_m_business/%' \n",
    "    and hitPageHostName not in ('sbi.sberbank.ru', 'localhost') \n",
    "    --and hitType = 'PAGE' \n",
    "    and timestamp(sessionDate) >= timestamp('{}') \n",
    "'''.format(refdate)"
   ]
  },
  {
   "cell_type": "code",
   "execution_count": null,
   "metadata": {
    "collapsed": true,
    "scrolled": false
   },
   "outputs": [],
   "source": [
    "gadf_trimmed = hive.sql(sql)"
   ]
  },
  {
   "cell_type": "code",
   "execution_count": 11,
   "metadata": {
    "collapsed": true
   },
   "outputs": [],
   "source": [
    "gadf_trimmed = gadf_trimmed.withColumn('sessionTime', \n",
    "                                       f.from_unixtime(f.col('sessionStartTime')+f.round(f.col('hitTime')/1000))\n",
    "                                      )\n",
    "gadf_trimmed = gadf_trimmed.orderBy(f.col('sessionTime').asc())"
   ]
  },
  {
   "cell_type": "code",
   "execution_count": 12,
   "metadata": {},
   "outputs": [
    {
     "data": {
      "text/plain": [
       "DataFrame[cid: string, sessionId: bigint, visitNumber: bigint, hitType: string, hitPagePath: string, hitPageTitle: string, sessionStartTime: bigint, hitNumber: bigint, hitTime: bigint, eventCategory: string, eventAction: string, eventLabel: string, deviceIsMobile: boolean, deviceMobileDeviceModel: string, deviceDeviceCategory: string, geoRegion: string, geoCity: string, sessionTime: string]"
      ]
     },
     "execution_count": 12,
     "metadata": {},
     "output_type": "execute_result"
    }
   ],
   "source": [
    "gadf_trimmed.cache()"
   ]
  },
  {
   "cell_type": "code",
   "execution_count": 13,
   "metadata": {},
   "outputs": [
    {
     "data": {
      "text/plain": [
       "122681588"
      ]
     },
     "execution_count": 13,
     "metadata": {},
     "output_type": "execute_result"
    }
   ],
   "source": [
    "gadf_trimmed.count()"
   ]
  },
  {
   "cell_type": "code",
   "execution_count": 15,
   "metadata": {},
   "outputs": [
    {
     "data": {
      "text/plain": [
       "7095416"
      ]
     },
     "execution_count": 15,
     "metadata": {},
     "output_type": "execute_result"
    }
   ],
   "source": [
    "gadf_trimmed.select(\"cid\").distinct().count()"
   ]
  },
  {
   "cell_type": "code",
   "execution_count": 124,
   "metadata": {},
   "outputs": [
    {
     "data": {
      "text/plain": [
       "0"
      ]
     },
     "execution_count": 124,
     "metadata": {},
     "output_type": "execute_result"
    }
   ],
   "source": [
    "gadf_trimmed.filter(f.col(\"eventCategory\").like(\"%SITE_Corporate_.ru.s_m_business%\") &\n",
    "                    f.lower(f.col(\"eventLabel\")).like(\"%right%\")                   \n",
    "                   ).select(\"cid\").distinct().count()"
   ]
  },
  {
   "cell_type": "code",
   "execution_count": null,
   "metadata": {
    "scrolled": false
   },
   "outputs": [],
   "source": [
    "# 1st banner: Кешбек до 10%\n",
    "gadf_trimmed.filter((\n",
    "                     f.col(\"eventAction\").like(\"%click_any%\") & \n",
    "                     f.lower(f.col(\"eventLabel\")).like(\"%подключить%\")\n",
    "                    )|\n",
    "                    (f.col(\"eventAction\").like(\"%click_banner%\") & \n",
    "                     f.lower(f.col(\"eventLabel\")).like(\"%кешбэк%\")\n",
    "                    )                     \n",
    "                   ).show()"
   ]
  },
  {
   "cell_type": "code",
   "execution_count": 105,
   "metadata": {},
   "outputs": [
    {
     "data": {
      "text/plain": [
       "18"
      ]
     },
     "execution_count": 105,
     "metadata": {},
     "output_type": "execute_result"
    }
   ],
   "source": [
    "# 2nd banner: Новые пакеты услуг\n",
    "gadf_trimmed.filter(f.col(\"eventCategory\").like(\"%SITE_Corporate_.ru.s_m_business%\") &\n",
    "                    (f.col(\"eventAction\").like(\"%click_any%\") & \n",
    "                     f.lower(f.col(\"eventLabel\")).like(\"%подключить%\"))|\n",
    "                    (f.col(\"eventAction\").like(\"%click_banner%\") & \n",
    "                     f.lower(f.col(\"eventLabel\")).like(\"%пакеты услуг для ведения%\"))                     \n",
    "                   ).select(\"cid\").distinct().count()"
   ]
  },
  {
   "cell_type": "code",
   "execution_count": 104,
   "metadata": {},
   "outputs": [
    {
     "data": {
      "text/plain": [
       "0"
      ]
     },
     "execution_count": 104,
     "metadata": {},
     "output_type": "execute_result"
    }
   ],
   "source": [
    "# 3rd banner: Мобильное приложение Сберсоветник\n",
    "gadf_trimmed.filter(f.col(\"eventCategory\").like(\"%SITE_Corporate_.ru.s_m_business%\") &\n",
    "                    (f.col(\"eventAction\").like(\"%click_any%\") & \n",
    "                     f.lower(f.col(\"eventLabel\")).like(\"%подробнее%\"))|\n",
    "                    (f.col(\"eventAction\").like(\"%click_banner%\") & \n",
    "                     f.lower(f.col(\"eventLabel\")).like(\"%аналитика для развития%\"))                     \n",
    "                   ).select(\"cid\").distinct().count()"
   ]
  },
  {
   "cell_type": "code",
   "execution_count": 103,
   "metadata": {},
   "outputs": [
    {
     "data": {
      "text/plain": [
       "20"
      ]
     },
     "execution_count": 103,
     "metadata": {},
     "output_type": "execute_result"
    }
   ],
   "source": [
    "# 5th banner: Мгновенные переводы \n",
    "gadf_trimmed.filter(f.col(\"eventCategory\").like(\"%SITE_Corporate_.ru.s_m_business%\") &\n",
    "                    (f.col(\"eventAction\").like(\"%click_any%\") & \n",
    "                     f.lower(f.col(\"eventLabel\")).like(\"%подробнее%\"))|\n",
    "                    (f.col(\"eventAction\").like(\"%click_banner%\") & \n",
    "                     f.lower(f.col(\"eventLabel\")).like(\"%онлайн-переводы%\"))                     \n",
    "                   ).select(\"cid\").distinct().count()"
   ]
  },
  {
   "cell_type": "code",
   "execution_count": 119,
   "metadata": {},
   "outputs": [
    {
     "data": {
      "text/plain": [
       "5230"
      ]
     },
     "execution_count": 119,
     "metadata": {},
     "output_type": "execute_result"
    }
   ],
   "source": [
    "# 6th banner: Откройте бизнесс от 0Р\n",
    "gadf_trimmed.filter(f.col(\"eventCategory\").like(\"%SITE_Corporate_.ru.s_m_business%\") &\n",
    "                    (f.col(\"eventAction\").like(\"%click_any%\") & \n",
    "                     f.lower(f.col(\"eventLabel\")).like(\"%узнать больше%\"))|\n",
    "                    (f.col(\"eventAction\").like(\"%click_banner%\") & \n",
    "                     f.lower(f.col(\"eventLabel\")).like(\"%откройте бизнес%\"))                     \n",
    "                   ).select(\"cid\").distinct().count()"
   ]
  },
  {
   "cell_type": "code",
   "execution_count": 101,
   "metadata": {},
   "outputs": [
    {
     "data": {
      "text/plain": [
       "0"
      ]
     },
     "execution_count": 101,
     "metadata": {},
     "output_type": "execute_result"
    }
   ],
   "source": [
    "# 8th banner: Прием платежей\n",
    "gadf_trimmed.filter(f.col(\"eventCategory\").like(\"%SITE_Corporate_.ru.s_m_business%\") &\n",
    "                    (f.col(\"eventAction\").like(\"%click_any%\") & \n",
    "                     f.lower(f.col(\"eventLabel\")).like(\"%узнать больше%\"))|\n",
    "                    (f.col(\"eventAction\").like(\"%click_banner%\") & \n",
    "                     f.lower(f.col(\"eventLabel\")).like(\"%прием платежей%\"))                     \n",
    "                   ).select(\"cid\").distinct().count()"
   ]
  },
  {
   "cell_type": "code",
   "execution_count": null,
   "metadata": {
    "collapsed": true
   },
   "outputs": [],
   "source": []
  },
  {
   "cell_type": "code",
   "execution_count": 111,
   "metadata": {},
   "outputs": [
    {
     "data": {
      "text/plain": [
       "1"
      ]
     },
     "execution_count": 111,
     "metadata": {},
     "output_type": "execute_result"
    }
   ],
   "source": [
    "# Placement #1: Новые пакеты услуг РКО\n",
    "gadf_trimmed.filter((~(f.col(\"hitPagePath\").like(\"%/ru/s_m_business/test%\")))&\n",
    "                    f.col(\"eventCategory\").like(\"%SITE_Corporate_.ru.s_m_business%\") &\n",
    "                    (f.col(\"eventAction\").like(\"%click%\") & \n",
    "                     f.lower(f.col(\"eventLabel\")).like(\"%новые пакеты услуг%\"))                     \n",
    "                   ).select(\"cid\").distinct().count()"
   ]
  },
  {
   "cell_type": "code",
   "execution_count": 112,
   "metadata": {},
   "outputs": [
    {
     "data": {
      "text/plain": [
       "0"
      ]
     },
     "execution_count": 112,
     "metadata": {},
     "output_type": "execute_result"
    }
   ],
   "source": [
    "# Placement #2:  Опции к патекам услуг\n",
    "gadf_trimmed.filter((~(f.col(\"hitPagePath\").like(\"%/ru/s_m_business/test%\")))&\n",
    "                    f.col(\"eventCategory\").like(\"%SITE_Corporate_.ru.s_m_business%\") &\n",
    "                    (f.col(\"eventAction\").like(\"%click%\") & \n",
    "                     f.lower(f.col(\"eventLabel\")).like(\"%опции к пакетам услуг%\"))                     \n",
    "                   ).select(\"cid\").distinct().count()"
   ]
  },
  {
   "cell_type": "code",
   "execution_count": 117,
   "metadata": {
    "scrolled": true
   },
   "outputs": [
    {
     "data": {
      "text/plain": [
       "0"
      ]
     },
     "execution_count": 117,
     "metadata": {},
     "output_type": "execute_result"
    }
   ],
   "source": [
    "# Placement #6:  Опции к патекам услуг\n",
    "gadf_trimmed.filter((~(f.col(\"hitPagePath\").like(\"%/ru/s_m_business/test%\")))&\n",
    "                    f.col(\"eventCategory\").like(\"%SITE_Corporate_.ru.s_m_business%\") &\n",
    "                    (f.col(\"eventAction\").like(\"%click%\") & \n",
    "                     f.lower(f.col(\"eventLabel\")).like(\"%как принимать%\"))                     \n",
    "                   ).select(\"cid\").distinct().count()"
   ]
  },
  {
   "cell_type": "code",
   "execution_count": 118,
   "metadata": {},
   "outputs": [
    {
     "data": {
      "text/html": [
       "<div>\n",
       "<style scoped>\n",
       "    .dataframe tbody tr th:only-of-type {\n",
       "        vertical-align: middle;\n",
       "    }\n",
       "\n",
       "    .dataframe tbody tr th {\n",
       "        vertical-align: top;\n",
       "    }\n",
       "\n",
       "    .dataframe thead th {\n",
       "        text-align: right;\n",
       "    }\n",
       "</style>\n",
       "<table border=\"1\" class=\"dataframe\">\n",
       "  <thead>\n",
       "    <tr style=\"text-align: right;\">\n",
       "      <th></th>\n",
       "      <th>cid</th>\n",
       "      <th>sessionId</th>\n",
       "      <th>visitNumber</th>\n",
       "      <th>hitType</th>\n",
       "      <th>hitPagePath</th>\n",
       "      <th>hitPageTitle</th>\n",
       "      <th>sessionStartTime</th>\n",
       "      <th>hitNumber</th>\n",
       "      <th>hitTime</th>\n",
       "      <th>eventCategory</th>\n",
       "      <th>eventAction</th>\n",
       "      <th>eventLabel</th>\n",
       "      <th>deviceIsMobile</th>\n",
       "      <th>deviceMobileDeviceModel</th>\n",
       "      <th>deviceDeviceCategory</th>\n",
       "      <th>geoRegion</th>\n",
       "      <th>geoCity</th>\n",
       "      <th>sessionTime</th>\n",
       "      <th>show_banner</th>\n",
       "      <th>click_banner</th>\n",
       "      <th>prev_state_m1</th>\n",
       "      <th>prev_state_m2</th>\n",
       "      <th>show_banner_time</th>\n",
       "      <th>diff_clk_show</th>\n",
       "      <th>click_banner_state</th>\n",
       "      <th>check_stay_on_banner</th>\n",
       "      <th>click_banner_time</th>\n",
       "    </tr>\n",
       "  </thead>\n",
       "  <tbody>\n",
       "  </tbody>\n",
       "</table>\n",
       "</div>"
      ],
      "text/plain": [
       "Empty DataFrame\n",
       "Columns: [cid, sessionId, visitNumber, hitType, hitPagePath, hitPageTitle, sessionStartTime, hitNumber, hitTime, eventCategory, eventAction, eventLabel, deviceIsMobile, deviceMobileDeviceModel, deviceDeviceCategory, geoRegion, geoCity, sessionTime, show_banner, click_banner, prev_state_m1, prev_state_m2, show_banner_time, diff_clk_show, click_banner_state, check_stay_on_banner, click_banner_time]\n",
       "Index: []"
      ]
     },
     "execution_count": 118,
     "metadata": {},
     "output_type": "execute_result"
    }
   ],
   "source": [
    "gadf_trimmed.filter(f.col(\"eventCategory\").like(\"%SITE_Corporate_.ru.s_m_business%\") &\n",
    "                    (f.col(\"eventAction\").like(\"%click%\") & \n",
    "                     f.lower(f.col(\"eventLabel\")).like(\"%undefined_content-card%\"))                     \n",
    "                   ).show()"
   ]
  },
  {
   "cell_type": "code",
   "execution_count": null,
   "metadata": {
    "collapsed": true
   },
   "outputs": [],
   "source": []
  },
  {
   "cell_type": "code",
   "execution_count": 23,
   "metadata": {
    "scrolled": true
   },
   "outputs": [
    {
     "data": {
      "text/html": [
       "<div>\n",
       "<style scoped>\n",
       "    .dataframe tbody tr th:only-of-type {\n",
       "        vertical-align: middle;\n",
       "    }\n",
       "\n",
       "    .dataframe tbody tr th {\n",
       "        vertical-align: top;\n",
       "    }\n",
       "\n",
       "    .dataframe thead th {\n",
       "        text-align: right;\n",
       "    }\n",
       "</style>\n",
       "<table border=\"1\" class=\"dataframe\">\n",
       "  <thead>\n",
       "    <tr style=\"text-align: right;\">\n",
       "      <th></th>\n",
       "      <th>min_sessionStartTime</th>\n",
       "      <th>max_sessionStartTime</th>\n",
       "    </tr>\n",
       "  </thead>\n",
       "  <tbody>\n",
       "    <tr>\n",
       "      <th>0</th>\n",
       "      <td>2020-05-01 00:00:00</td>\n",
       "      <td>2020-09-08 23:59:59</td>\n",
       "    </tr>\n",
       "  </tbody>\n",
       "</table>\n",
       "</div>"
      ],
      "text/plain": [
       "  min_sessionStartTime max_sessionStartTime\n",
       "0  2020-05-01 00:00:00  2020-09-08 23:59:59"
      ]
     },
     "execution_count": 23,
     "metadata": {},
     "output_type": "execute_result"
    }
   ],
   "source": [
    "gadf_trimmed.select(f.from_unixtime(f.min(\"sessionStartTime\")).alias(\"min_sessionStartTime\"),\n",
    "                    f.from_unixtime(f.max(\"sessionStartTime\")).alias(\"max_sessionStartTime\")).show()"
   ]
  },
  {
   "cell_type": "code",
   "execution_count": 17,
   "metadata": {
    "collapsed": true
   },
   "outputs": [],
   "source": [
    "w=Window.partitionBy('cid').orderBy('sessionId')\n",
    "gadf_trimmed = gadf_trimmed.withColumn('show_banner', (f.col(\"eventCategory\").like(\"%SITE_Corporate_.ru.s_m_business%\"))&\n",
    "                                                      (f.col('eventAction').like(\"%show_banner%\")))\\\n",
    "                           .withColumn('click_banner', (f.col(\"eventCategory\").like(\"%SITE_Corporate_.ru.s_m_business%\"))&\n",
    "                                                       (f.col('eventAction').like(\"%click_banner%\")))\\\n",
    "                           .withColumn('click_banner_state', f.max(f.when(f.col('eventAction').like(\"%click_banner%\"), \n",
    "                                                              True).otherwise(False)).over(w))"
   ]
  },
  {
   "cell_type": "code",
   "execution_count": 25,
   "metadata": {},
   "outputs": [
    {
     "data": {
      "text/plain": [
       "1254"
      ]
     },
     "execution_count": 25,
     "metadata": {},
     "output_type": "execute_result"
    }
   ],
   "source": [
    "gadf_trimmed.filter(\"show_banner == True\").count()"
   ]
  },
  {
   "cell_type": "code",
   "execution_count": 120,
   "metadata": {},
   "outputs": [
    {
     "data": {
      "text/plain": [
       "0.8129389277804597"
      ]
     },
     "execution_count": 120,
     "metadata": {},
     "output_type": "execute_result"
    }
   ],
   "source": [
    "(45079 / 5545189)*100"
   ]
  },
  {
   "cell_type": "code",
   "execution_count": 18,
   "metadata": {},
   "outputs": [
    {
     "data": {
      "text/html": [
       "<div>\n",
       "<style scoped>\n",
       "    .dataframe tbody tr th:only-of-type {\n",
       "        vertical-align: middle;\n",
       "    }\n",
       "\n",
       "    .dataframe tbody tr th {\n",
       "        vertical-align: top;\n",
       "    }\n",
       "\n",
       "    .dataframe thead th {\n",
       "        text-align: right;\n",
       "    }\n",
       "</style>\n",
       "<table border=\"1\" class=\"dataframe\">\n",
       "  <thead>\n",
       "    <tr style=\"text-align: right;\">\n",
       "      <th></th>\n",
       "      <th>sum_total_show_banner</th>\n",
       "      <th>sum_total_click_banner</th>\n",
       "    </tr>\n",
       "  </thead>\n",
       "  <tbody>\n",
       "    <tr>\n",
       "      <th>0</th>\n",
       "      <td>1254</td>\n",
       "      <td>160</td>\n",
       "    </tr>\n",
       "  </tbody>\n",
       "</table>\n",
       "</div>"
      ],
      "text/plain": [
       "   sum_total_show_banner  sum_total_click_banner\n",
       "0  1254                   160                   "
      ]
     },
     "execution_count": 18,
     "metadata": {},
     "output_type": "execute_result"
    }
   ],
   "source": [
    "res = \\\n",
    "gadf_trimmed.groupBy(\"cid\").agg(f.sum(f.col(\"show_banner\").cast(IntegerType())).alias(\"sum_show_banner\"),\n",
    "                                f.sum(f.col(\"click_banner\").cast(IntegerType())).alias(\"sum_click_banner\"))\n",
    "\n",
    "res.select(f.sum(\"sum_show_banner\").alias(\"sum_total_show_banner\"),\n",
    "           f.sum(\"sum_click_banner\").alias(\"sum_total_click_banner\")).show()"
   ]
  },
  {
   "cell_type": "code",
   "execution_count": 45,
   "metadata": {
    "scrolled": true
   },
   "outputs": [
    {
     "data": {
      "text/html": [
       "<div>\n",
       "<style scoped>\n",
       "    .dataframe tbody tr th:only-of-type {\n",
       "        vertical-align: middle;\n",
       "    }\n",
       "\n",
       "    .dataframe tbody tr th {\n",
       "        vertical-align: top;\n",
       "    }\n",
       "\n",
       "    .dataframe thead th {\n",
       "        text-align: right;\n",
       "    }\n",
       "</style>\n",
       "<table border=\"1\" class=\"dataframe\">\n",
       "  <thead>\n",
       "    <tr style=\"text-align: right;\">\n",
       "      <th></th>\n",
       "      <th>cid</th>\n",
       "      <th>sessionId</th>\n",
       "      <th>visitNumber</th>\n",
       "      <th>hitType</th>\n",
       "      <th>hitPagePath</th>\n",
       "      <th>hitPageTitle</th>\n",
       "      <th>sessionStartTime</th>\n",
       "      <th>hitNumber</th>\n",
       "      <th>hitTime</th>\n",
       "      <th>eventCategory</th>\n",
       "      <th>eventAction</th>\n",
       "      <th>eventLabel</th>\n",
       "      <th>deviceIsMobile</th>\n",
       "      <th>deviceMobileDeviceModel</th>\n",
       "      <th>deviceDeviceCategory</th>\n",
       "      <th>geoRegion</th>\n",
       "      <th>geoCity</th>\n",
       "      <th>sessionTime</th>\n",
       "      <th>show_banner</th>\n",
       "      <th>click_banner</th>\n",
       "      <th>prev_state_m1</th>\n",
       "      <th>prev_state_m2</th>\n",
       "      <th>show_banner_time</th>\n",
       "      <th>diff_clk_show</th>\n",
       "      <th>click_banner_state</th>\n",
       "      <th>check_stay_on_banner</th>\n",
       "    </tr>\n",
       "  </thead>\n",
       "  <tbody>\n",
       "    <tr>\n",
       "      <th>0</th>\n",
       "      <td>1016857375.1596799214</td>\n",
       "      <td>1597748393</td>\n",
       "      <td>3</td>\n",
       "      <td>PAGE</td>\n",
       "      <td>/ru/s_m_business/credits/restr</td>\n",
       "      <td>«Сбербанк» - Кредитная поддержка малого бизнеса</td>\n",
       "      <td>1597748393</td>\n",
       "      <td>17</td>\n",
       "      <td>319272</td>\n",
       "      <td>None</td>\n",
       "      <td>None</td>\n",
       "      <td>None</td>\n",
       "      <td>False</td>\n",
       "      <td>None</td>\n",
       "      <td>desktop</td>\n",
       "      <td>Smolensk Oblast</td>\n",
       "      <td>(not set)</td>\n",
       "      <td>2020-08-18 14:05:12</td>\n",
       "      <td>None</td>\n",
       "      <td>True</td>\n",
       "      <td>None</td>\n",
       "      <td>None</td>\n",
       "      <td>2020-08-18 14:05:13</td>\n",
       "      <td>0</td>\n",
       "      <td>1</td>\n",
       "      <td>0</td>\n",
       "    </tr>\n",
       "    <tr>\n",
       "      <th>1</th>\n",
       "      <td>1016857375.1596799214</td>\n",
       "      <td>1597748393</td>\n",
       "      <td>3</td>\n",
       "      <td>EVENT</td>\n",
       "      <td>/ru/s_m_business/credits/restr</td>\n",
       "      <td>«Сбербанк» - Кредитная поддержка малого бизнеса</td>\n",
       "      <td>1597748393</td>\n",
       "      <td>18</td>\n",
       "      <td>319952</td>\n",
       "      <td>SITE_Widget_CorpBannerCarousel</td>\n",
       "      <td>show_banner_0</td>\n",
       "      <td>text_Кредитная поддержка малого бизнеса</td>\n",
       "      <td>False</td>\n",
       "      <td>None</td>\n",
       "      <td>desktop</td>\n",
       "      <td>Smolensk Oblast</td>\n",
       "      <td>(not set)</td>\n",
       "      <td>2020-08-18 14:05:13</td>\n",
       "      <td>True</td>\n",
       "      <td>True</td>\n",
       "      <td>None</td>\n",
       "      <td>None</td>\n",
       "      <td>2020-08-18 14:05:13</td>\n",
       "      <td>0</td>\n",
       "      <td>1</td>\n",
       "      <td>0</td>\n",
       "    </tr>\n",
       "    <tr>\n",
       "      <th>2</th>\n",
       "      <td>1016857375.1596799214</td>\n",
       "      <td>1597748393</td>\n",
       "      <td>3</td>\n",
       "      <td>EVENT</td>\n",
       "      <td>/ru/s_m_business/credits/restr</td>\n",
       "      <td>«Сбербанк» - Кредитная поддержка малого бизнеса</td>\n",
       "      <td>1597748393</td>\n",
       "      <td>19</td>\n",
       "      <td>337355</td>\n",
       "      <td>SITE_Corporate_credits.restr</td>\n",
       "      <td>click_any</td>\n",
       "      <td>Программа кредитования на возобновление деятельности под 2% годовых_t-h4</td>\n",
       "      <td>False</td>\n",
       "      <td>None</td>\n",
       "      <td>desktop</td>\n",
       "      <td>Smolensk Oblast</td>\n",
       "      <td>(not set)</td>\n",
       "      <td>2020-08-18 14:05:30</td>\n",
       "      <td>False</td>\n",
       "      <td>True</td>\n",
       "      <td>show_banner_0</td>\n",
       "      <td>None</td>\n",
       "      <td>2020-08-18 14:05:13</td>\n",
       "      <td>0</td>\n",
       "      <td>1</td>\n",
       "      <td>0</td>\n",
       "    </tr>\n",
       "    <tr>\n",
       "      <th>3</th>\n",
       "      <td>1016857375.1596799214</td>\n",
       "      <td>1597748393</td>\n",
       "      <td>3</td>\n",
       "      <td>EVENT</td>\n",
       "      <td>/ru/s_m_business/credits/restr</td>\n",
       "      <td>«Сбербанк» - Кредитная поддержка малого бизнеса</td>\n",
       "      <td>1597748393</td>\n",
       "      <td>20</td>\n",
       "      <td>341948</td>\n",
       "      <td>SITE_Corporate_credits.restr</td>\n",
       "      <td>click_any</td>\n",
       "      <td>Выбрать решение_kit-button__text</td>\n",
       "      <td>False</td>\n",
       "      <td>None</td>\n",
       "      <td>desktop</td>\n",
       "      <td>Smolensk Oblast</td>\n",
       "      <td>(not set)</td>\n",
       "      <td>2020-08-18 14:05:35</td>\n",
       "      <td>False</td>\n",
       "      <td>True</td>\n",
       "      <td>click_any</td>\n",
       "      <td>show_banner_0</td>\n",
       "      <td>2020-08-18 14:05:13</td>\n",
       "      <td>0</td>\n",
       "      <td>1</td>\n",
       "      <td>0</td>\n",
       "    </tr>\n",
       "    <tr>\n",
       "      <th>4</th>\n",
       "      <td>1016857375.1596799214</td>\n",
       "      <td>1597748393</td>\n",
       "      <td>3</td>\n",
       "      <td>EVENT</td>\n",
       "      <td>/ru/s_m_business/credits/restr</td>\n",
       "      <td>«Сбербанк» - Кредитная поддержка малого бизнеса</td>\n",
       "      <td>1597748393</td>\n",
       "      <td>21</td>\n",
       "      <td>342101</td>\n",
       "      <td>SITE_Widget_CorpBannerCarousel</td>\n",
       "      <td>click_banner</td>\n",
       "      <td>Кредитная поддержка малого бизнеса Если ваш бизнес столкнулся с трудно</td>\n",
       "      <td>False</td>\n",
       "      <td>None</td>\n",
       "      <td>desktop</td>\n",
       "      <td>Smolensk Oblast</td>\n",
       "      <td>(not set)</td>\n",
       "      <td>2020-08-18 14:05:35</td>\n",
       "      <td>False</td>\n",
       "      <td>True</td>\n",
       "      <td>click_any</td>\n",
       "      <td>click_any</td>\n",
       "      <td>2020-08-18 14:05:13</td>\n",
       "      <td>22</td>\n",
       "      <td>1</td>\n",
       "      <td>0</td>\n",
       "    </tr>\n",
       "    <tr>\n",
       "      <th>5</th>\n",
       "      <td>1016857375.1596799214</td>\n",
       "      <td>1597748393</td>\n",
       "      <td>3</td>\n",
       "      <td>EVENT</td>\n",
       "      <td>/ru/s_m_business/credits/restr</td>\n",
       "      <td>«Сбербанк» - Кредитная поддержка малого бизнеса</td>\n",
       "      <td>1597748393</td>\n",
       "      <td>22</td>\n",
       "      <td>342103</td>\n",
       "      <td>SITE_Widget_CorpBannerCarousel</td>\n",
       "      <td>click_banner_0</td>\n",
       "      <td>Кредитная поддержка малого бизнеса Если ваш бизнес столкнулся с трудно</td>\n",
       "      <td>False</td>\n",
       "      <td>None</td>\n",
       "      <td>desktop</td>\n",
       "      <td>Smolensk Oblast</td>\n",
       "      <td>(not set)</td>\n",
       "      <td>2020-08-18 14:05:35</td>\n",
       "      <td>False</td>\n",
       "      <td>True</td>\n",
       "      <td>click_banner</td>\n",
       "      <td>click_any</td>\n",
       "      <td>2020-08-18 14:05:13</td>\n",
       "      <td>22</td>\n",
       "      <td>1</td>\n",
       "      <td>0</td>\n",
       "    </tr>\n",
       "    <tr>\n",
       "      <th>6</th>\n",
       "      <td>1016857375.1596799214</td>\n",
       "      <td>1597748393</td>\n",
       "      <td>3</td>\n",
       "      <td>EVENT</td>\n",
       "      <td>/ru/s_m_business/credits/restr</td>\n",
       "      <td>«Сбербанк» - Кредитная поддержка малого бизнеса</td>\n",
       "      <td>1597748393</td>\n",
       "      <td>23</td>\n",
       "      <td>349105</td>\n",
       "      <td>SITE_Corporate_credits.restr</td>\n",
       "      <td>informing_leads</td>\n",
       "      <td>30 sec on page</td>\n",
       "      <td>False</td>\n",
       "      <td>None</td>\n",
       "      <td>desktop</td>\n",
       "      <td>Smolensk Oblast</td>\n",
       "      <td>(not set)</td>\n",
       "      <td>2020-08-18 14:05:42</td>\n",
       "      <td>False</td>\n",
       "      <td>True</td>\n",
       "      <td>click_banner_0</td>\n",
       "      <td>click_banner</td>\n",
       "      <td>2020-08-18 14:05:13</td>\n",
       "      <td>0</td>\n",
       "      <td>1</td>\n",
       "      <td>1</td>\n",
       "    </tr>\n",
       "    <tr>\n",
       "      <th>7</th>\n",
       "      <td>1016857375.1596799214</td>\n",
       "      <td>1597748393</td>\n",
       "      <td>3</td>\n",
       "      <td>EVENT</td>\n",
       "      <td>/ru/s_m_business/credits/restr</td>\n",
       "      <td>«Сбербанк» - Кредитная поддержка малого бизнеса</td>\n",
       "      <td>1597748393</td>\n",
       "      <td>24</td>\n",
       "      <td>435814</td>\n",
       "      <td>SITE_Corporate_credits.restr</td>\n",
       "      <td>click_any</td>\n",
       "      <td>Вопросы по программе ›_</td>\n",
       "      <td>False</td>\n",
       "      <td>None</td>\n",
       "      <td>desktop</td>\n",
       "      <td>Smolensk Oblast</td>\n",
       "      <td>(not set)</td>\n",
       "      <td>2020-08-18 14:07:09</td>\n",
       "      <td>False</td>\n",
       "      <td>True</td>\n",
       "      <td>informing_leads</td>\n",
       "      <td>click_banner_0</td>\n",
       "      <td>2020-08-18 14:05:13</td>\n",
       "      <td>0</td>\n",
       "      <td>1</td>\n",
       "      <td>0</td>\n",
       "    </tr>\n",
       "    <tr>\n",
       "      <th>8</th>\n",
       "      <td>1016857375.1596799214</td>\n",
       "      <td>1597748393</td>\n",
       "      <td>3</td>\n",
       "      <td>PAGE</td>\n",
       "      <td>/ru/s_m_business/credits/restr?tab=2</td>\n",
       "      <td>«Сбербанк» - Кредитная поддержка малого бизнеса</td>\n",
       "      <td>1597748393</td>\n",
       "      <td>25</td>\n",
       "      <td>436644</td>\n",
       "      <td>None</td>\n",
       "      <td>None</td>\n",
       "      <td>None</td>\n",
       "      <td>False</td>\n",
       "      <td>None</td>\n",
       "      <td>desktop</td>\n",
       "      <td>Smolensk Oblast</td>\n",
       "      <td>(not set)</td>\n",
       "      <td>2020-08-18 14:07:10</td>\n",
       "      <td>None</td>\n",
       "      <td>True</td>\n",
       "      <td>click_any</td>\n",
       "      <td>informing_leads</td>\n",
       "      <td>2020-08-18 14:05:13</td>\n",
       "      <td>0</td>\n",
       "      <td>1</td>\n",
       "      <td>0</td>\n",
       "    </tr>\n",
       "    <tr>\n",
       "      <th>9</th>\n",
       "      <td>1016857375.1596799214</td>\n",
       "      <td>1597748393</td>\n",
       "      <td>3</td>\n",
       "      <td>EVENT</td>\n",
       "      <td>/ru/s_m_business/credits/restr?tab=2</td>\n",
       "      <td>«Сбербанк» - Кредитная поддержка малого бизнеса</td>\n",
       "      <td>1597748393</td>\n",
       "      <td>27</td>\n",
       "      <td>451814</td>\n",
       "      <td>SITE_Corporate_credits.restr</td>\n",
       "      <td>click_go_to_partner</td>\n",
       "      <td>https:..economy.gov.ru.material.news.ekonomika_bez_virusa.minekonomrazvitiya_sformirovalo_reestr_sonko_dlya_okazaniya_mer_podderzhki_v_period_rasprostraneniya_koronavirusa.html</td>\n",
       "      <td>False</td>\n",
       "      <td>None</td>\n",
       "      <td>desktop</td>\n",
       "      <td>Smolensk Oblast</td>\n",
       "      <td>(not set)</td>\n",
       "      <td>2020-08-18 14:07:25</td>\n",
       "      <td>False</td>\n",
       "      <td>True</td>\n",
       "      <td>None</td>\n",
       "      <td>click_any</td>\n",
       "      <td>2020-08-18 14:05:13</td>\n",
       "      <td>0</td>\n",
       "      <td>1</td>\n",
       "      <td>0</td>\n",
       "    </tr>\n",
       "    <tr>\n",
       "      <th>10</th>\n",
       "      <td>1016857375.1596799214</td>\n",
       "      <td>1597748393</td>\n",
       "      <td>3</td>\n",
       "      <td>EVENT</td>\n",
       "      <td>/ru/s_m_business/credits/restr?tab=2</td>\n",
       "      <td>«Сбербанк» - Кредитная поддержка малого бизнеса</td>\n",
       "      <td>1597748393</td>\n",
       "      <td>26</td>\n",
       "      <td>451722</td>\n",
       "      <td>SITE_Corporate_credits.restr</td>\n",
       "      <td>click_any</td>\n",
       "      <td>реестр_t-a</td>\n",
       "      <td>False</td>\n",
       "      <td>None</td>\n",
       "      <td>desktop</td>\n",
       "      <td>Smolensk Oblast</td>\n",
       "      <td>(not set)</td>\n",
       "      <td>2020-08-18 14:07:25</td>\n",
       "      <td>False</td>\n",
       "      <td>True</td>\n",
       "      <td>click_go_to_partner</td>\n",
       "      <td>None</td>\n",
       "      <td>2020-08-18 14:05:13</td>\n",
       "      <td>0</td>\n",
       "      <td>1</td>\n",
       "      <td>0</td>\n",
       "    </tr>\n",
       "    <tr>\n",
       "      <th>11</th>\n",
       "      <td>1016857375.1596799214</td>\n",
       "      <td>1597748393</td>\n",
       "      <td>3</td>\n",
       "      <td>PAGE</td>\n",
       "      <td>/ru/s_m_business/credits/restr?tab=2</td>\n",
       "      <td>«Сбербанк» - Кредитная поддержка малого бизнеса</td>\n",
       "      <td>1597748393</td>\n",
       "      <td>28</td>\n",
       "      <td>538991</td>\n",
       "      <td>None</td>\n",
       "      <td>None</td>\n",
       "      <td>None</td>\n",
       "      <td>False</td>\n",
       "      <td>None</td>\n",
       "      <td>desktop</td>\n",
       "      <td>Smolensk Oblast</td>\n",
       "      <td>(not set)</td>\n",
       "      <td>2020-08-18 14:08:52</td>\n",
       "      <td>None</td>\n",
       "      <td>True</td>\n",
       "      <td>click_any</td>\n",
       "      <td>click_go_to_partner</td>\n",
       "      <td>2020-08-18 14:05:13</td>\n",
       "      <td>0</td>\n",
       "      <td>1</td>\n",
       "      <td>0</td>\n",
       "    </tr>\n",
       "    <tr>\n",
       "      <th>12</th>\n",
       "      <td>1016857375.1596799214</td>\n",
       "      <td>1597748393</td>\n",
       "      <td>3</td>\n",
       "      <td>EVENT</td>\n",
       "      <td>/ru/s_m_business/credits/restr?tab=2</td>\n",
       "      <td>«Сбербанк» - Кредитная поддержка малого бизнеса</td>\n",
       "      <td>1597748393</td>\n",
       "      <td>29</td>\n",
       "      <td>546999</td>\n",
       "      <td>SITE_Corporate_credits.restr</td>\n",
       "      <td>informing_leads</td>\n",
       "      <td>scroll 50 percent</td>\n",
       "      <td>False</td>\n",
       "      <td>None</td>\n",
       "      <td>desktop</td>\n",
       "      <td>Smolensk Oblast</td>\n",
       "      <td>(not set)</td>\n",
       "      <td>2020-08-18 14:09:00</td>\n",
       "      <td>False</td>\n",
       "      <td>True</td>\n",
       "      <td>None</td>\n",
       "      <td>click_any</td>\n",
       "      <td>2020-08-18 14:05:13</td>\n",
       "      <td>0</td>\n",
       "      <td>1</td>\n",
       "      <td>1</td>\n",
       "    </tr>\n",
       "    <tr>\n",
       "      <th>13</th>\n",
       "      <td>1016857375.1596799214</td>\n",
       "      <td>1597748393</td>\n",
       "      <td>3</td>\n",
       "      <td>EVENT</td>\n",
       "      <td>/ru/s_m_business/credits/restr?tab=2</td>\n",
       "      <td>«Сбербанк» - Кредитная поддержка малого бизнеса</td>\n",
       "      <td>1597748393</td>\n",
       "      <td>30</td>\n",
       "      <td>568852</td>\n",
       "      <td>SITE_Corporate_credits.restr</td>\n",
       "      <td>informing_leads</td>\n",
       "      <td>30 sec on page</td>\n",
       "      <td>False</td>\n",
       "      <td>None</td>\n",
       "      <td>desktop</td>\n",
       "      <td>Smolensk Oblast</td>\n",
       "      <td>(not set)</td>\n",
       "      <td>2020-08-18 14:09:22</td>\n",
       "      <td>False</td>\n",
       "      <td>True</td>\n",
       "      <td>informing_leads</td>\n",
       "      <td>None</td>\n",
       "      <td>2020-08-18 14:05:13</td>\n",
       "      <td>0</td>\n",
       "      <td>1</td>\n",
       "      <td>1</td>\n",
       "    </tr>\n",
       "    <tr>\n",
       "      <th>14</th>\n",
       "      <td>1016857375.1596799214</td>\n",
       "      <td>1597748393</td>\n",
       "      <td>3</td>\n",
       "      <td>EVENT</td>\n",
       "      <td>/ru/s_m_business/credits/restr?tab=2</td>\n",
       "      <td>«Сбербанк» - Кредитная поддержка малого бизнеса</td>\n",
       "      <td>1597748393</td>\n",
       "      <td>32</td>\n",
       "      <td>602412</td>\n",
       "      <td>SITE_Corporate_credits.restr</td>\n",
       "      <td>informing_leads</td>\n",
       "      <td>scroll 75 percent</td>\n",
       "      <td>False</td>\n",
       "      <td>None</td>\n",
       "      <td>desktop</td>\n",
       "      <td>Smolensk Oblast</td>\n",
       "      <td>(not set)</td>\n",
       "      <td>2020-08-18 14:09:55</td>\n",
       "      <td>False</td>\n",
       "      <td>True</td>\n",
       "      <td>informing_leads</td>\n",
       "      <td>informing_leads</td>\n",
       "      <td>2020-08-18 14:05:13</td>\n",
       "      <td>0</td>\n",
       "      <td>1</td>\n",
       "      <td>1</td>\n",
       "    </tr>\n",
       "    <tr>\n",
       "      <th>15</th>\n",
       "      <td>1016857375.1596799214</td>\n",
       "      <td>1597748393</td>\n",
       "      <td>3</td>\n",
       "      <td>EVENT</td>\n",
       "      <td>/ru/s_m_business/credits/restr?tab=2</td>\n",
       "      <td>«Сбербанк» - Кредитная поддержка малого бизнеса</td>\n",
       "      <td>1597748393</td>\n",
       "      <td>31</td>\n",
       "      <td>602259</td>\n",
       "      <td>SITE_Corporate_credits.restr</td>\n",
       "      <td>click_any</td>\n",
       "      <td>перечня пострадавших отраслей_t-a</td>\n",
       "      <td>False</td>\n",
       "      <td>None</td>\n",
       "      <td>desktop</td>\n",
       "      <td>Smolensk Oblast</td>\n",
       "      <td>(not set)</td>\n",
       "      <td>2020-08-18 14:09:55</td>\n",
       "      <td>False</td>\n",
       "      <td>True</td>\n",
       "      <td>informing_leads</td>\n",
       "      <td>informing_leads</td>\n",
       "      <td>2020-08-18 14:05:13</td>\n",
       "      <td>0</td>\n",
       "      <td>1</td>\n",
       "      <td>0</td>\n",
       "    </tr>\n",
       "  </tbody>\n",
       "</table>\n",
       "</div>"
      ],
      "text/plain": [
       "                      cid   sessionId  visitNumber hitType  \\\n",
       "0   1016857375.1596799214  1597748393  3            PAGE     \n",
       "1   1016857375.1596799214  1597748393  3            EVENT    \n",
       "2   1016857375.1596799214  1597748393  3            EVENT    \n",
       "3   1016857375.1596799214  1597748393  3            EVENT    \n",
       "4   1016857375.1596799214  1597748393  3            EVENT    \n",
       "5   1016857375.1596799214  1597748393  3            EVENT    \n",
       "6   1016857375.1596799214  1597748393  3            EVENT    \n",
       "7   1016857375.1596799214  1597748393  3            EVENT    \n",
       "8   1016857375.1596799214  1597748393  3            PAGE     \n",
       "9   1016857375.1596799214  1597748393  3            EVENT    \n",
       "10  1016857375.1596799214  1597748393  3            EVENT    \n",
       "11  1016857375.1596799214  1597748393  3            PAGE     \n",
       "12  1016857375.1596799214  1597748393  3            EVENT    \n",
       "13  1016857375.1596799214  1597748393  3            EVENT    \n",
       "14  1016857375.1596799214  1597748393  3            EVENT    \n",
       "15  1016857375.1596799214  1597748393  3            EVENT    \n",
       "\n",
       "                             hitPagePath  \\\n",
       "0   /ru/s_m_business/credits/restr         \n",
       "1   /ru/s_m_business/credits/restr         \n",
       "2   /ru/s_m_business/credits/restr         \n",
       "3   /ru/s_m_business/credits/restr         \n",
       "4   /ru/s_m_business/credits/restr         \n",
       "5   /ru/s_m_business/credits/restr         \n",
       "6   /ru/s_m_business/credits/restr         \n",
       "7   /ru/s_m_business/credits/restr         \n",
       "8   /ru/s_m_business/credits/restr?tab=2   \n",
       "9   /ru/s_m_business/credits/restr?tab=2   \n",
       "10  /ru/s_m_business/credits/restr?tab=2   \n",
       "11  /ru/s_m_business/credits/restr?tab=2   \n",
       "12  /ru/s_m_business/credits/restr?tab=2   \n",
       "13  /ru/s_m_business/credits/restr?tab=2   \n",
       "14  /ru/s_m_business/credits/restr?tab=2   \n",
       "15  /ru/s_m_business/credits/restr?tab=2   \n",
       "\n",
       "                                       hitPageTitle  sessionStartTime  \\\n",
       "0   «Сбербанк» - Кредитная поддержка малого бизнеса  1597748393         \n",
       "1   «Сбербанк» - Кредитная поддержка малого бизнеса  1597748393         \n",
       "2   «Сбербанк» - Кредитная поддержка малого бизнеса  1597748393         \n",
       "3   «Сбербанк» - Кредитная поддержка малого бизнеса  1597748393         \n",
       "4   «Сбербанк» - Кредитная поддержка малого бизнеса  1597748393         \n",
       "5   «Сбербанк» - Кредитная поддержка малого бизнеса  1597748393         \n",
       "6   «Сбербанк» - Кредитная поддержка малого бизнеса  1597748393         \n",
       "7   «Сбербанк» - Кредитная поддержка малого бизнеса  1597748393         \n",
       "8   «Сбербанк» - Кредитная поддержка малого бизнеса  1597748393         \n",
       "9   «Сбербанк» - Кредитная поддержка малого бизнеса  1597748393         \n",
       "10  «Сбербанк» - Кредитная поддержка малого бизнеса  1597748393         \n",
       "11  «Сбербанк» - Кредитная поддержка малого бизнеса  1597748393         \n",
       "12  «Сбербанк» - Кредитная поддержка малого бизнеса  1597748393         \n",
       "13  «Сбербанк» - Кредитная поддержка малого бизнеса  1597748393         \n",
       "14  «Сбербанк» - Кредитная поддержка малого бизнеса  1597748393         \n",
       "15  «Сбербанк» - Кредитная поддержка малого бизнеса  1597748393         \n",
       "\n",
       "    hitNumber  hitTime                   eventCategory          eventAction  \\\n",
       "0   17         319272   None                            None                  \n",
       "1   18         319952   SITE_Widget_CorpBannerCarousel  show_banner_0         \n",
       "2   19         337355   SITE_Corporate_credits.restr    click_any             \n",
       "3   20         341948   SITE_Corporate_credits.restr    click_any             \n",
       "4   21         342101   SITE_Widget_CorpBannerCarousel  click_banner          \n",
       "5   22         342103   SITE_Widget_CorpBannerCarousel  click_banner_0        \n",
       "6   23         349105   SITE_Corporate_credits.restr    informing_leads       \n",
       "7   24         435814   SITE_Corporate_credits.restr    click_any             \n",
       "8   25         436644   None                            None                  \n",
       "9   27         451814   SITE_Corporate_credits.restr    click_go_to_partner   \n",
       "10  26         451722   SITE_Corporate_credits.restr    click_any             \n",
       "11  28         538991   None                            None                  \n",
       "12  29         546999   SITE_Corporate_credits.restr    informing_leads       \n",
       "13  30         568852   SITE_Corporate_credits.restr    informing_leads       \n",
       "14  32         602412   SITE_Corporate_credits.restr    informing_leads       \n",
       "15  31         602259   SITE_Corporate_credits.restr    click_any             \n",
       "\n",
       "                                                                                                                                                                          eventLabel  \\\n",
       "0   None                                                                                                                                                                               \n",
       "1   text_Кредитная поддержка малого бизнеса                                                                                                                                            \n",
       "2   Программа кредитования на возобновление деятельности под 2% годовых_t-h4                                                                                                           \n",
       "3   Выбрать решение_kit-button__text                                                                                                                                                   \n",
       "4   Кредитная поддержка малого бизнеса Если ваш бизнес столкнулся с трудно                                                                                                             \n",
       "5   Кредитная поддержка малого бизнеса Если ваш бизнес столкнулся с трудно                                                                                                             \n",
       "6   30 sec on page                                                                                                                                                                     \n",
       "7   Вопросы по программе ›_                                                                                                                                                            \n",
       "8   None                                                                                                                                                                               \n",
       "9   https:..economy.gov.ru.material.news.ekonomika_bez_virusa.minekonomrazvitiya_sformirovalo_reestr_sonko_dlya_okazaniya_mer_podderzhki_v_period_rasprostraneniya_koronavirusa.html   \n",
       "10  реестр_t-a                                                                                                                                                                         \n",
       "11  None                                                                                                                                                                               \n",
       "12  scroll 50 percent                                                                                                                                                                  \n",
       "13  30 sec on page                                                                                                                                                                     \n",
       "14  scroll 75 percent                                                                                                                                                                  \n",
       "15  перечня пострадавших отраслей_t-a                                                                                                                                                  \n",
       "\n",
       "    deviceIsMobile deviceMobileDeviceModel deviceDeviceCategory  \\\n",
       "0   False           None                    desktop               \n",
       "1   False           None                    desktop               \n",
       "2   False           None                    desktop               \n",
       "3   False           None                    desktop               \n",
       "4   False           None                    desktop               \n",
       "5   False           None                    desktop               \n",
       "6   False           None                    desktop               \n",
       "7   False           None                    desktop               \n",
       "8   False           None                    desktop               \n",
       "9   False           None                    desktop               \n",
       "10  False           None                    desktop               \n",
       "11  False           None                    desktop               \n",
       "12  False           None                    desktop               \n",
       "13  False           None                    desktop               \n",
       "14  False           None                    desktop               \n",
       "15  False           None                    desktop               \n",
       "\n",
       "          geoRegion    geoCity          sessionTime show_banner  click_banner  \\\n",
       "0   Smolensk Oblast  (not set)  2020-08-18 14:05:12  None        True           \n",
       "1   Smolensk Oblast  (not set)  2020-08-18 14:05:13  True        True           \n",
       "2   Smolensk Oblast  (not set)  2020-08-18 14:05:30  False       True           \n",
       "3   Smolensk Oblast  (not set)  2020-08-18 14:05:35  False       True           \n",
       "4   Smolensk Oblast  (not set)  2020-08-18 14:05:35  False       True           \n",
       "5   Smolensk Oblast  (not set)  2020-08-18 14:05:35  False       True           \n",
       "6   Smolensk Oblast  (not set)  2020-08-18 14:05:42  False       True           \n",
       "7   Smolensk Oblast  (not set)  2020-08-18 14:07:09  False       True           \n",
       "8   Smolensk Oblast  (not set)  2020-08-18 14:07:10  None        True           \n",
       "9   Smolensk Oblast  (not set)  2020-08-18 14:07:25  False       True           \n",
       "10  Smolensk Oblast  (not set)  2020-08-18 14:07:25  False       True           \n",
       "11  Smolensk Oblast  (not set)  2020-08-18 14:08:52  None        True           \n",
       "12  Smolensk Oblast  (not set)  2020-08-18 14:09:00  False       True           \n",
       "13  Smolensk Oblast  (not set)  2020-08-18 14:09:22  False       True           \n",
       "14  Smolensk Oblast  (not set)  2020-08-18 14:09:55  False       True           \n",
       "15  Smolensk Oblast  (not set)  2020-08-18 14:09:55  False       True           \n",
       "\n",
       "          prev_state_m1        prev_state_m2     show_banner_time  \\\n",
       "0   None                 None                 2020-08-18 14:05:13   \n",
       "1   None                 None                 2020-08-18 14:05:13   \n",
       "2   show_banner_0        None                 2020-08-18 14:05:13   \n",
       "3   click_any            show_banner_0        2020-08-18 14:05:13   \n",
       "4   click_any            click_any            2020-08-18 14:05:13   \n",
       "5   click_banner         click_any            2020-08-18 14:05:13   \n",
       "6   click_banner_0       click_banner         2020-08-18 14:05:13   \n",
       "7   informing_leads      click_banner_0       2020-08-18 14:05:13   \n",
       "8   click_any            informing_leads      2020-08-18 14:05:13   \n",
       "9   None                 click_any            2020-08-18 14:05:13   \n",
       "10  click_go_to_partner  None                 2020-08-18 14:05:13   \n",
       "11  click_any            click_go_to_partner  2020-08-18 14:05:13   \n",
       "12  None                 click_any            2020-08-18 14:05:13   \n",
       "13  informing_leads      None                 2020-08-18 14:05:13   \n",
       "14  informing_leads      informing_leads      2020-08-18 14:05:13   \n",
       "15  informing_leads      informing_leads      2020-08-18 14:05:13   \n",
       "\n",
       "    diff_clk_show  click_banner_state  check_stay_on_banner  \n",
       "0   0              1                   0                     \n",
       "1   0              1                   0                     \n",
       "2   0              1                   0                     \n",
       "3   0              1                   0                     \n",
       "4   22             1                   0                     \n",
       "5   22             1                   0                     \n",
       "6   0              1                   1                     \n",
       "7   0              1                   0                     \n",
       "8   0              1                   0                     \n",
       "9   0              1                   0                     \n",
       "10  0              1                   0                     \n",
       "11  0              1                   0                     \n",
       "12  0              1                   1                     \n",
       "13  0              1                   1                     \n",
       "14  0              1                   1                     \n",
       "15  0              1                   0                     "
      ]
     },
     "execution_count": 45,
     "metadata": {},
     "output_type": "execute_result"
    }
   ],
   "source": [
    "gadf_trimmed.filter((f.col(\"cid\") == \"1016857375.1596799214\")&\n",
    "                    (f.col(\"sessionTime\") > f.to_timestamp(f.lit(\"2020-08-18 14:00:00\")))).show(70)"
   ]
  },
  {
   "cell_type": "code",
   "execution_count": null,
   "metadata": {
    "collapsed": true
   },
   "outputs": [],
   "source": []
  },
  {
   "cell_type": "code",
   "execution_count": 62,
   "metadata": {
    "collapsed": true
   },
   "outputs": [],
   "source": [
    "w=Window.partitionBy('cid').orderBy('sessionId')\n",
    "gadf_trimmed = gadf_trimmed.withColumn('prev_state_m1', f.lag(f.col('eventAction'),count=1).over(w))\n",
    "gadf_trimmed = gadf_trimmed.withColumn('prev_state_m2', f.lag(f.col('eventAction'),count=2).over(w))\n",
    "gadf_trimmed = gadf_trimmed.withColumn('show_banner_time', f.min(f.when(f.col('eventAction').like(\"%show_banner%\"), \n",
    "                                                                        f.col(\"sessionTime\")).otherwise(None)).over(w))\n",
    "gadf_trimmed = gadf_trimmed.withColumn('click_banner_time', f.min(f.when(f.col('eventAction').like(\"%click_banner%\"), \n",
    "                                                                        f.col(\"sessionTime\")).otherwise(None)).over(w))\n",
    "gadf_trimmed = gadf_trimmed.withColumn('diff_clk_show', f.max(f.when(f.col('click_banner')==True,\n",
    "                                                               f.abs(f.unix_timestamp('show_banner_time') -\n",
    "                                                                     f.unix_timestamp('click_banner_time')).cast(IntegerType())).otherwise(0)\n",
    "                                                             ).over(w))"
   ]
  },
  {
   "cell_type": "code",
   "execution_count": 65,
   "metadata": {
    "scrolled": true
   },
   "outputs": [
    {
     "data": {
      "text/html": [
       "<div>\n",
       "<style scoped>\n",
       "    .dataframe tbody tr th:only-of-type {\n",
       "        vertical-align: middle;\n",
       "    }\n",
       "\n",
       "    .dataframe tbody tr th {\n",
       "        vertical-align: top;\n",
       "    }\n",
       "\n",
       "    .dataframe thead th {\n",
       "        text-align: right;\n",
       "    }\n",
       "</style>\n",
       "<table border=\"1\" class=\"dataframe\">\n",
       "  <thead>\n",
       "    <tr style=\"text-align: right;\">\n",
       "      <th></th>\n",
       "      <th>cid</th>\n",
       "      <th>sessionId</th>\n",
       "      <th>visitNumber</th>\n",
       "      <th>hitType</th>\n",
       "      <th>hitPagePath</th>\n",
       "      <th>hitPageTitle</th>\n",
       "      <th>sessionStartTime</th>\n",
       "      <th>hitNumber</th>\n",
       "      <th>hitTime</th>\n",
       "      <th>eventCategory</th>\n",
       "      <th>eventAction</th>\n",
       "      <th>eventLabel</th>\n",
       "      <th>deviceIsMobile</th>\n",
       "      <th>deviceMobileDeviceModel</th>\n",
       "      <th>deviceDeviceCategory</th>\n",
       "      <th>geoRegion</th>\n",
       "      <th>geoCity</th>\n",
       "      <th>sessionTime</th>\n",
       "      <th>show_banner</th>\n",
       "      <th>click_banner</th>\n",
       "      <th>prev_state_m1</th>\n",
       "      <th>prev_state_m2</th>\n",
       "      <th>show_banner_time</th>\n",
       "      <th>diff_clk_show</th>\n",
       "      <th>click_banner_state</th>\n",
       "      <th>check_stay_on_banner</th>\n",
       "      <th>click_banner_time</th>\n",
       "    </tr>\n",
       "  </thead>\n",
       "  <tbody>\n",
       "    <tr>\n",
       "      <th>0</th>\n",
       "      <td>1016857375.1596799214</td>\n",
       "      <td>1597748393</td>\n",
       "      <td>3</td>\n",
       "      <td>PAGE</td>\n",
       "      <td>/ru/s_m_business/credits/restr</td>\n",
       "      <td>«Сбербанк» - Кредитная поддержка малого бизнеса</td>\n",
       "      <td>1597748393</td>\n",
       "      <td>17</td>\n",
       "      <td>319272</td>\n",
       "      <td>None</td>\n",
       "      <td>None</td>\n",
       "      <td>None</td>\n",
       "      <td>False</td>\n",
       "      <td>None</td>\n",
       "      <td>desktop</td>\n",
       "      <td>Smolensk Oblast</td>\n",
       "      <td>(not set)</td>\n",
       "      <td>2020-08-18 14:05:12</td>\n",
       "      <td>None</td>\n",
       "      <td>None</td>\n",
       "      <td>None</td>\n",
       "      <td>None</td>\n",
       "      <td>2020-08-18 14:05:13</td>\n",
       "      <td>22</td>\n",
       "      <td>True</td>\n",
       "      <td>0</td>\n",
       "      <td>2020-08-18 14:05:35</td>\n",
       "    </tr>\n",
       "    <tr>\n",
       "      <th>1</th>\n",
       "      <td>1016857375.1596799214</td>\n",
       "      <td>1597748393</td>\n",
       "      <td>3</td>\n",
       "      <td>EVENT</td>\n",
       "      <td>/ru/s_m_business/credits/restr</td>\n",
       "      <td>«Сбербанк» - Кредитная поддержка малого бизнеса</td>\n",
       "      <td>1597748393</td>\n",
       "      <td>18</td>\n",
       "      <td>319952</td>\n",
       "      <td>SITE_Widget_CorpBannerCarousel</td>\n",
       "      <td>show_banner_0</td>\n",
       "      <td>text_Кредитная поддержка малого бизнеса</td>\n",
       "      <td>False</td>\n",
       "      <td>None</td>\n",
       "      <td>desktop</td>\n",
       "      <td>Smolensk Oblast</td>\n",
       "      <td>(not set)</td>\n",
       "      <td>2020-08-18 14:05:13</td>\n",
       "      <td>True</td>\n",
       "      <td>False</td>\n",
       "      <td>None</td>\n",
       "      <td>None</td>\n",
       "      <td>2020-08-18 14:05:13</td>\n",
       "      <td>22</td>\n",
       "      <td>True</td>\n",
       "      <td>0</td>\n",
       "      <td>2020-08-18 14:05:35</td>\n",
       "    </tr>\n",
       "    <tr>\n",
       "      <th>2</th>\n",
       "      <td>1016857375.1596799214</td>\n",
       "      <td>1597748393</td>\n",
       "      <td>3</td>\n",
       "      <td>EVENT</td>\n",
       "      <td>/ru/s_m_business/credits/restr</td>\n",
       "      <td>«Сбербанк» - Кредитная поддержка малого бизнеса</td>\n",
       "      <td>1597748393</td>\n",
       "      <td>19</td>\n",
       "      <td>337355</td>\n",
       "      <td>SITE_Corporate_credits.restr</td>\n",
       "      <td>click_any</td>\n",
       "      <td>Программа кредитования на возобновление деятельности под 2% годовых_t-h4</td>\n",
       "      <td>False</td>\n",
       "      <td>None</td>\n",
       "      <td>desktop</td>\n",
       "      <td>Smolensk Oblast</td>\n",
       "      <td>(not set)</td>\n",
       "      <td>2020-08-18 14:05:30</td>\n",
       "      <td>False</td>\n",
       "      <td>False</td>\n",
       "      <td>show_banner_0</td>\n",
       "      <td>None</td>\n",
       "      <td>2020-08-18 14:05:13</td>\n",
       "      <td>22</td>\n",
       "      <td>True</td>\n",
       "      <td>0</td>\n",
       "      <td>2020-08-18 14:05:35</td>\n",
       "    </tr>\n",
       "    <tr>\n",
       "      <th>3</th>\n",
       "      <td>1016857375.1596799214</td>\n",
       "      <td>1597748393</td>\n",
       "      <td>3</td>\n",
       "      <td>EVENT</td>\n",
       "      <td>/ru/s_m_business/credits/restr</td>\n",
       "      <td>«Сбербанк» - Кредитная поддержка малого бизнеса</td>\n",
       "      <td>1597748393</td>\n",
       "      <td>20</td>\n",
       "      <td>341948</td>\n",
       "      <td>SITE_Corporate_credits.restr</td>\n",
       "      <td>click_any</td>\n",
       "      <td>Выбрать решение_kit-button__text</td>\n",
       "      <td>False</td>\n",
       "      <td>None</td>\n",
       "      <td>desktop</td>\n",
       "      <td>Smolensk Oblast</td>\n",
       "      <td>(not set)</td>\n",
       "      <td>2020-08-18 14:05:35</td>\n",
       "      <td>False</td>\n",
       "      <td>False</td>\n",
       "      <td>click_any</td>\n",
       "      <td>show_banner_0</td>\n",
       "      <td>2020-08-18 14:05:13</td>\n",
       "      <td>22</td>\n",
       "      <td>True</td>\n",
       "      <td>0</td>\n",
       "      <td>2020-08-18 14:05:35</td>\n",
       "    </tr>\n",
       "    <tr>\n",
       "      <th>4</th>\n",
       "      <td>1016857375.1596799214</td>\n",
       "      <td>1597748393</td>\n",
       "      <td>3</td>\n",
       "      <td>EVENT</td>\n",
       "      <td>/ru/s_m_business/credits/restr</td>\n",
       "      <td>«Сбербанк» - Кредитная поддержка малого бизнеса</td>\n",
       "      <td>1597748393</td>\n",
       "      <td>21</td>\n",
       "      <td>342101</td>\n",
       "      <td>SITE_Widget_CorpBannerCarousel</td>\n",
       "      <td>click_banner</td>\n",
       "      <td>Кредитная поддержка малого бизнеса Если ваш бизнес столкнулся с трудно</td>\n",
       "      <td>False</td>\n",
       "      <td>None</td>\n",
       "      <td>desktop</td>\n",
       "      <td>Smolensk Oblast</td>\n",
       "      <td>(not set)</td>\n",
       "      <td>2020-08-18 14:05:35</td>\n",
       "      <td>False</td>\n",
       "      <td>True</td>\n",
       "      <td>click_any</td>\n",
       "      <td>click_any</td>\n",
       "      <td>2020-08-18 14:05:13</td>\n",
       "      <td>22</td>\n",
       "      <td>True</td>\n",
       "      <td>0</td>\n",
       "      <td>2020-08-18 14:05:35</td>\n",
       "    </tr>\n",
       "    <tr>\n",
       "      <th>5</th>\n",
       "      <td>1016857375.1596799214</td>\n",
       "      <td>1597748393</td>\n",
       "      <td>3</td>\n",
       "      <td>EVENT</td>\n",
       "      <td>/ru/s_m_business/credits/restr</td>\n",
       "      <td>«Сбербанк» - Кредитная поддержка малого бизнеса</td>\n",
       "      <td>1597748393</td>\n",
       "      <td>22</td>\n",
       "      <td>342103</td>\n",
       "      <td>SITE_Widget_CorpBannerCarousel</td>\n",
       "      <td>click_banner_0</td>\n",
       "      <td>Кредитная поддержка малого бизнеса Если ваш бизнес столкнулся с трудно</td>\n",
       "      <td>False</td>\n",
       "      <td>None</td>\n",
       "      <td>desktop</td>\n",
       "      <td>Smolensk Oblast</td>\n",
       "      <td>(not set)</td>\n",
       "      <td>2020-08-18 14:05:35</td>\n",
       "      <td>False</td>\n",
       "      <td>True</td>\n",
       "      <td>click_banner</td>\n",
       "      <td>click_any</td>\n",
       "      <td>2020-08-18 14:05:13</td>\n",
       "      <td>22</td>\n",
       "      <td>True</td>\n",
       "      <td>0</td>\n",
       "      <td>2020-08-18 14:05:35</td>\n",
       "    </tr>\n",
       "    <tr>\n",
       "      <th>6</th>\n",
       "      <td>1016857375.1596799214</td>\n",
       "      <td>1597748393</td>\n",
       "      <td>3</td>\n",
       "      <td>EVENT</td>\n",
       "      <td>/ru/s_m_business/credits/restr</td>\n",
       "      <td>«Сбербанк» - Кредитная поддержка малого бизнеса</td>\n",
       "      <td>1597748393</td>\n",
       "      <td>23</td>\n",
       "      <td>349105</td>\n",
       "      <td>SITE_Corporate_credits.restr</td>\n",
       "      <td>informing_leads</td>\n",
       "      <td>30 sec on page</td>\n",
       "      <td>False</td>\n",
       "      <td>None</td>\n",
       "      <td>desktop</td>\n",
       "      <td>Smolensk Oblast</td>\n",
       "      <td>(not set)</td>\n",
       "      <td>2020-08-18 14:05:42</td>\n",
       "      <td>False</td>\n",
       "      <td>False</td>\n",
       "      <td>click_banner_0</td>\n",
       "      <td>click_banner</td>\n",
       "      <td>2020-08-18 14:05:13</td>\n",
       "      <td>22</td>\n",
       "      <td>True</td>\n",
       "      <td>1</td>\n",
       "      <td>2020-08-18 14:05:35</td>\n",
       "    </tr>\n",
       "    <tr>\n",
       "      <th>7</th>\n",
       "      <td>1016857375.1596799214</td>\n",
       "      <td>1597748393</td>\n",
       "      <td>3</td>\n",
       "      <td>EVENT</td>\n",
       "      <td>/ru/s_m_business/credits/restr</td>\n",
       "      <td>«Сбербанк» - Кредитная поддержка малого бизнеса</td>\n",
       "      <td>1597748393</td>\n",
       "      <td>24</td>\n",
       "      <td>435814</td>\n",
       "      <td>SITE_Corporate_credits.restr</td>\n",
       "      <td>click_any</td>\n",
       "      <td>Вопросы по программе ›_</td>\n",
       "      <td>False</td>\n",
       "      <td>None</td>\n",
       "      <td>desktop</td>\n",
       "      <td>Smolensk Oblast</td>\n",
       "      <td>(not set)</td>\n",
       "      <td>2020-08-18 14:07:09</td>\n",
       "      <td>False</td>\n",
       "      <td>False</td>\n",
       "      <td>informing_leads</td>\n",
       "      <td>click_banner_0</td>\n",
       "      <td>2020-08-18 14:05:13</td>\n",
       "      <td>22</td>\n",
       "      <td>True</td>\n",
       "      <td>0</td>\n",
       "      <td>2020-08-18 14:05:35</td>\n",
       "    </tr>\n",
       "    <tr>\n",
       "      <th>8</th>\n",
       "      <td>1016857375.1596799214</td>\n",
       "      <td>1597748393</td>\n",
       "      <td>3</td>\n",
       "      <td>PAGE</td>\n",
       "      <td>/ru/s_m_business/credits/restr?tab=2</td>\n",
       "      <td>«Сбербанк» - Кредитная поддержка малого бизнеса</td>\n",
       "      <td>1597748393</td>\n",
       "      <td>25</td>\n",
       "      <td>436644</td>\n",
       "      <td>None</td>\n",
       "      <td>None</td>\n",
       "      <td>None</td>\n",
       "      <td>False</td>\n",
       "      <td>None</td>\n",
       "      <td>desktop</td>\n",
       "      <td>Smolensk Oblast</td>\n",
       "      <td>(not set)</td>\n",
       "      <td>2020-08-18 14:07:10</td>\n",
       "      <td>None</td>\n",
       "      <td>None</td>\n",
       "      <td>click_any</td>\n",
       "      <td>informing_leads</td>\n",
       "      <td>2020-08-18 14:05:13</td>\n",
       "      <td>22</td>\n",
       "      <td>True</td>\n",
       "      <td>0</td>\n",
       "      <td>2020-08-18 14:05:35</td>\n",
       "    </tr>\n",
       "    <tr>\n",
       "      <th>9</th>\n",
       "      <td>1016857375.1596799214</td>\n",
       "      <td>1597748393</td>\n",
       "      <td>3</td>\n",
       "      <td>EVENT</td>\n",
       "      <td>/ru/s_m_business/credits/restr?tab=2</td>\n",
       "      <td>«Сбербанк» - Кредитная поддержка малого бизнеса</td>\n",
       "      <td>1597748393</td>\n",
       "      <td>27</td>\n",
       "      <td>451814</td>\n",
       "      <td>SITE_Corporate_credits.restr</td>\n",
       "      <td>click_go_to_partner</td>\n",
       "      <td>https:..economy.gov.ru.material.news.ekonomika_bez_virusa.minekonomrazvitiya_sformirovalo_reestr_sonko_dlya_okazaniya_mer_podderzhki_v_period_rasprostraneniya_koronavirusa.html</td>\n",
       "      <td>False</td>\n",
       "      <td>None</td>\n",
       "      <td>desktop</td>\n",
       "      <td>Smolensk Oblast</td>\n",
       "      <td>(not set)</td>\n",
       "      <td>2020-08-18 14:07:25</td>\n",
       "      <td>False</td>\n",
       "      <td>False</td>\n",
       "      <td>None</td>\n",
       "      <td>click_any</td>\n",
       "      <td>2020-08-18 14:05:13</td>\n",
       "      <td>22</td>\n",
       "      <td>True</td>\n",
       "      <td>0</td>\n",
       "      <td>2020-08-18 14:05:35</td>\n",
       "    </tr>\n",
       "    <tr>\n",
       "      <th>10</th>\n",
       "      <td>1016857375.1596799214</td>\n",
       "      <td>1597748393</td>\n",
       "      <td>3</td>\n",
       "      <td>EVENT</td>\n",
       "      <td>/ru/s_m_business/credits/restr?tab=2</td>\n",
       "      <td>«Сбербанк» - Кредитная поддержка малого бизнеса</td>\n",
       "      <td>1597748393</td>\n",
       "      <td>26</td>\n",
       "      <td>451722</td>\n",
       "      <td>SITE_Corporate_credits.restr</td>\n",
       "      <td>click_any</td>\n",
       "      <td>реестр_t-a</td>\n",
       "      <td>False</td>\n",
       "      <td>None</td>\n",
       "      <td>desktop</td>\n",
       "      <td>Smolensk Oblast</td>\n",
       "      <td>(not set)</td>\n",
       "      <td>2020-08-18 14:07:25</td>\n",
       "      <td>False</td>\n",
       "      <td>False</td>\n",
       "      <td>click_go_to_partner</td>\n",
       "      <td>None</td>\n",
       "      <td>2020-08-18 14:05:13</td>\n",
       "      <td>22</td>\n",
       "      <td>True</td>\n",
       "      <td>0</td>\n",
       "      <td>2020-08-18 14:05:35</td>\n",
       "    </tr>\n",
       "    <tr>\n",
       "      <th>11</th>\n",
       "      <td>1016857375.1596799214</td>\n",
       "      <td>1597748393</td>\n",
       "      <td>3</td>\n",
       "      <td>PAGE</td>\n",
       "      <td>/ru/s_m_business/credits/restr?tab=2</td>\n",
       "      <td>«Сбербанк» - Кредитная поддержка малого бизнеса</td>\n",
       "      <td>1597748393</td>\n",
       "      <td>28</td>\n",
       "      <td>538991</td>\n",
       "      <td>None</td>\n",
       "      <td>None</td>\n",
       "      <td>None</td>\n",
       "      <td>False</td>\n",
       "      <td>None</td>\n",
       "      <td>desktop</td>\n",
       "      <td>Smolensk Oblast</td>\n",
       "      <td>(not set)</td>\n",
       "      <td>2020-08-18 14:08:52</td>\n",
       "      <td>None</td>\n",
       "      <td>None</td>\n",
       "      <td>click_any</td>\n",
       "      <td>click_go_to_partner</td>\n",
       "      <td>2020-08-18 14:05:13</td>\n",
       "      <td>22</td>\n",
       "      <td>True</td>\n",
       "      <td>0</td>\n",
       "      <td>2020-08-18 14:05:35</td>\n",
       "    </tr>\n",
       "    <tr>\n",
       "      <th>12</th>\n",
       "      <td>1016857375.1596799214</td>\n",
       "      <td>1597748393</td>\n",
       "      <td>3</td>\n",
       "      <td>EVENT</td>\n",
       "      <td>/ru/s_m_business/credits/restr?tab=2</td>\n",
       "      <td>«Сбербанк» - Кредитная поддержка малого бизнеса</td>\n",
       "      <td>1597748393</td>\n",
       "      <td>29</td>\n",
       "      <td>546999</td>\n",
       "      <td>SITE_Corporate_credits.restr</td>\n",
       "      <td>informing_leads</td>\n",
       "      <td>scroll 50 percent</td>\n",
       "      <td>False</td>\n",
       "      <td>None</td>\n",
       "      <td>desktop</td>\n",
       "      <td>Smolensk Oblast</td>\n",
       "      <td>(not set)</td>\n",
       "      <td>2020-08-18 14:09:00</td>\n",
       "      <td>False</td>\n",
       "      <td>False</td>\n",
       "      <td>None</td>\n",
       "      <td>click_any</td>\n",
       "      <td>2020-08-18 14:05:13</td>\n",
       "      <td>22</td>\n",
       "      <td>True</td>\n",
       "      <td>1</td>\n",
       "      <td>2020-08-18 14:05:35</td>\n",
       "    </tr>\n",
       "    <tr>\n",
       "      <th>13</th>\n",
       "      <td>1016857375.1596799214</td>\n",
       "      <td>1597748393</td>\n",
       "      <td>3</td>\n",
       "      <td>EVENT</td>\n",
       "      <td>/ru/s_m_business/credits/restr?tab=2</td>\n",
       "      <td>«Сбербанк» - Кредитная поддержка малого бизнеса</td>\n",
       "      <td>1597748393</td>\n",
       "      <td>30</td>\n",
       "      <td>568852</td>\n",
       "      <td>SITE_Corporate_credits.restr</td>\n",
       "      <td>informing_leads</td>\n",
       "      <td>30 sec on page</td>\n",
       "      <td>False</td>\n",
       "      <td>None</td>\n",
       "      <td>desktop</td>\n",
       "      <td>Smolensk Oblast</td>\n",
       "      <td>(not set)</td>\n",
       "      <td>2020-08-18 14:09:22</td>\n",
       "      <td>False</td>\n",
       "      <td>False</td>\n",
       "      <td>informing_leads</td>\n",
       "      <td>None</td>\n",
       "      <td>2020-08-18 14:05:13</td>\n",
       "      <td>22</td>\n",
       "      <td>True</td>\n",
       "      <td>1</td>\n",
       "      <td>2020-08-18 14:05:35</td>\n",
       "    </tr>\n",
       "    <tr>\n",
       "      <th>14</th>\n",
       "      <td>1016857375.1596799214</td>\n",
       "      <td>1597748393</td>\n",
       "      <td>3</td>\n",
       "      <td>EVENT</td>\n",
       "      <td>/ru/s_m_business/credits/restr?tab=2</td>\n",
       "      <td>«Сбербанк» - Кредитная поддержка малого бизнеса</td>\n",
       "      <td>1597748393</td>\n",
       "      <td>32</td>\n",
       "      <td>602412</td>\n",
       "      <td>SITE_Corporate_credits.restr</td>\n",
       "      <td>informing_leads</td>\n",
       "      <td>scroll 75 percent</td>\n",
       "      <td>False</td>\n",
       "      <td>None</td>\n",
       "      <td>desktop</td>\n",
       "      <td>Smolensk Oblast</td>\n",
       "      <td>(not set)</td>\n",
       "      <td>2020-08-18 14:09:55</td>\n",
       "      <td>False</td>\n",
       "      <td>False</td>\n",
       "      <td>informing_leads</td>\n",
       "      <td>informing_leads</td>\n",
       "      <td>2020-08-18 14:05:13</td>\n",
       "      <td>22</td>\n",
       "      <td>True</td>\n",
       "      <td>1</td>\n",
       "      <td>2020-08-18 14:05:35</td>\n",
       "    </tr>\n",
       "    <tr>\n",
       "      <th>15</th>\n",
       "      <td>1016857375.1596799214</td>\n",
       "      <td>1597748393</td>\n",
       "      <td>3</td>\n",
       "      <td>EVENT</td>\n",
       "      <td>/ru/s_m_business/credits/restr?tab=2</td>\n",
       "      <td>«Сбербанк» - Кредитная поддержка малого бизнеса</td>\n",
       "      <td>1597748393</td>\n",
       "      <td>31</td>\n",
       "      <td>602259</td>\n",
       "      <td>SITE_Corporate_credits.restr</td>\n",
       "      <td>click_any</td>\n",
       "      <td>перечня пострадавших отраслей_t-a</td>\n",
       "      <td>False</td>\n",
       "      <td>None</td>\n",
       "      <td>desktop</td>\n",
       "      <td>Smolensk Oblast</td>\n",
       "      <td>(not set)</td>\n",
       "      <td>2020-08-18 14:09:55</td>\n",
       "      <td>False</td>\n",
       "      <td>False</td>\n",
       "      <td>informing_leads</td>\n",
       "      <td>informing_leads</td>\n",
       "      <td>2020-08-18 14:05:13</td>\n",
       "      <td>22</td>\n",
       "      <td>True</td>\n",
       "      <td>0</td>\n",
       "      <td>2020-08-18 14:05:35</td>\n",
       "    </tr>\n",
       "  </tbody>\n",
       "</table>\n",
       "</div>"
      ],
      "text/plain": [
       "                      cid   sessionId  visitNumber hitType  \\\n",
       "0   1016857375.1596799214  1597748393  3            PAGE     \n",
       "1   1016857375.1596799214  1597748393  3            EVENT    \n",
       "2   1016857375.1596799214  1597748393  3            EVENT    \n",
       "3   1016857375.1596799214  1597748393  3            EVENT    \n",
       "4   1016857375.1596799214  1597748393  3            EVENT    \n",
       "5   1016857375.1596799214  1597748393  3            EVENT    \n",
       "6   1016857375.1596799214  1597748393  3            EVENT    \n",
       "7   1016857375.1596799214  1597748393  3            EVENT    \n",
       "8   1016857375.1596799214  1597748393  3            PAGE     \n",
       "9   1016857375.1596799214  1597748393  3            EVENT    \n",
       "10  1016857375.1596799214  1597748393  3            EVENT    \n",
       "11  1016857375.1596799214  1597748393  3            PAGE     \n",
       "12  1016857375.1596799214  1597748393  3            EVENT    \n",
       "13  1016857375.1596799214  1597748393  3            EVENT    \n",
       "14  1016857375.1596799214  1597748393  3            EVENT    \n",
       "15  1016857375.1596799214  1597748393  3            EVENT    \n",
       "\n",
       "                             hitPagePath  \\\n",
       "0   /ru/s_m_business/credits/restr         \n",
       "1   /ru/s_m_business/credits/restr         \n",
       "2   /ru/s_m_business/credits/restr         \n",
       "3   /ru/s_m_business/credits/restr         \n",
       "4   /ru/s_m_business/credits/restr         \n",
       "5   /ru/s_m_business/credits/restr         \n",
       "6   /ru/s_m_business/credits/restr         \n",
       "7   /ru/s_m_business/credits/restr         \n",
       "8   /ru/s_m_business/credits/restr?tab=2   \n",
       "9   /ru/s_m_business/credits/restr?tab=2   \n",
       "10  /ru/s_m_business/credits/restr?tab=2   \n",
       "11  /ru/s_m_business/credits/restr?tab=2   \n",
       "12  /ru/s_m_business/credits/restr?tab=2   \n",
       "13  /ru/s_m_business/credits/restr?tab=2   \n",
       "14  /ru/s_m_business/credits/restr?tab=2   \n",
       "15  /ru/s_m_business/credits/restr?tab=2   \n",
       "\n",
       "                                       hitPageTitle  sessionStartTime  \\\n",
       "0   «Сбербанк» - Кредитная поддержка малого бизнеса  1597748393         \n",
       "1   «Сбербанк» - Кредитная поддержка малого бизнеса  1597748393         \n",
       "2   «Сбербанк» - Кредитная поддержка малого бизнеса  1597748393         \n",
       "3   «Сбербанк» - Кредитная поддержка малого бизнеса  1597748393         \n",
       "4   «Сбербанк» - Кредитная поддержка малого бизнеса  1597748393         \n",
       "5   «Сбербанк» - Кредитная поддержка малого бизнеса  1597748393         \n",
       "6   «Сбербанк» - Кредитная поддержка малого бизнеса  1597748393         \n",
       "7   «Сбербанк» - Кредитная поддержка малого бизнеса  1597748393         \n",
       "8   «Сбербанк» - Кредитная поддержка малого бизнеса  1597748393         \n",
       "9   «Сбербанк» - Кредитная поддержка малого бизнеса  1597748393         \n",
       "10  «Сбербанк» - Кредитная поддержка малого бизнеса  1597748393         \n",
       "11  «Сбербанк» - Кредитная поддержка малого бизнеса  1597748393         \n",
       "12  «Сбербанк» - Кредитная поддержка малого бизнеса  1597748393         \n",
       "13  «Сбербанк» - Кредитная поддержка малого бизнеса  1597748393         \n",
       "14  «Сбербанк» - Кредитная поддержка малого бизнеса  1597748393         \n",
       "15  «Сбербанк» - Кредитная поддержка малого бизнеса  1597748393         \n",
       "\n",
       "    hitNumber  hitTime                   eventCategory          eventAction  \\\n",
       "0   17         319272   None                            None                  \n",
       "1   18         319952   SITE_Widget_CorpBannerCarousel  show_banner_0         \n",
       "2   19         337355   SITE_Corporate_credits.restr    click_any             \n",
       "3   20         341948   SITE_Corporate_credits.restr    click_any             \n",
       "4   21         342101   SITE_Widget_CorpBannerCarousel  click_banner          \n",
       "5   22         342103   SITE_Widget_CorpBannerCarousel  click_banner_0        \n",
       "6   23         349105   SITE_Corporate_credits.restr    informing_leads       \n",
       "7   24         435814   SITE_Corporate_credits.restr    click_any             \n",
       "8   25         436644   None                            None                  \n",
       "9   27         451814   SITE_Corporate_credits.restr    click_go_to_partner   \n",
       "10  26         451722   SITE_Corporate_credits.restr    click_any             \n",
       "11  28         538991   None                            None                  \n",
       "12  29         546999   SITE_Corporate_credits.restr    informing_leads       \n",
       "13  30         568852   SITE_Corporate_credits.restr    informing_leads       \n",
       "14  32         602412   SITE_Corporate_credits.restr    informing_leads       \n",
       "15  31         602259   SITE_Corporate_credits.restr    click_any             \n",
       "\n",
       "                                                                                                                                                                          eventLabel  \\\n",
       "0   None                                                                                                                                                                               \n",
       "1   text_Кредитная поддержка малого бизнеса                                                                                                                                            \n",
       "2   Программа кредитования на возобновление деятельности под 2% годовых_t-h4                                                                                                           \n",
       "3   Выбрать решение_kit-button__text                                                                                                                                                   \n",
       "4   Кредитная поддержка малого бизнеса Если ваш бизнес столкнулся с трудно                                                                                                             \n",
       "5   Кредитная поддержка малого бизнеса Если ваш бизнес столкнулся с трудно                                                                                                             \n",
       "6   30 sec on page                                                                                                                                                                     \n",
       "7   Вопросы по программе ›_                                                                                                                                                            \n",
       "8   None                                                                                                                                                                               \n",
       "9   https:..economy.gov.ru.material.news.ekonomika_bez_virusa.minekonomrazvitiya_sformirovalo_reestr_sonko_dlya_okazaniya_mer_podderzhki_v_period_rasprostraneniya_koronavirusa.html   \n",
       "10  реестр_t-a                                                                                                                                                                         \n",
       "11  None                                                                                                                                                                               \n",
       "12  scroll 50 percent                                                                                                                                                                  \n",
       "13  30 sec on page                                                                                                                                                                     \n",
       "14  scroll 75 percent                                                                                                                                                                  \n",
       "15  перечня пострадавших отраслей_t-a                                                                                                                                                  \n",
       "\n",
       "    deviceIsMobile deviceMobileDeviceModel deviceDeviceCategory  \\\n",
       "0   False           None                    desktop               \n",
       "1   False           None                    desktop               \n",
       "2   False           None                    desktop               \n",
       "3   False           None                    desktop               \n",
       "4   False           None                    desktop               \n",
       "5   False           None                    desktop               \n",
       "6   False           None                    desktop               \n",
       "7   False           None                    desktop               \n",
       "8   False           None                    desktop               \n",
       "9   False           None                    desktop               \n",
       "10  False           None                    desktop               \n",
       "11  False           None                    desktop               \n",
       "12  False           None                    desktop               \n",
       "13  False           None                    desktop               \n",
       "14  False           None                    desktop               \n",
       "15  False           None                    desktop               \n",
       "\n",
       "          geoRegion    geoCity          sessionTime show_banner click_banner  \\\n",
       "0   Smolensk Oblast  (not set)  2020-08-18 14:05:12  None        None          \n",
       "1   Smolensk Oblast  (not set)  2020-08-18 14:05:13  True        False         \n",
       "2   Smolensk Oblast  (not set)  2020-08-18 14:05:30  False       False         \n",
       "3   Smolensk Oblast  (not set)  2020-08-18 14:05:35  False       False         \n",
       "4   Smolensk Oblast  (not set)  2020-08-18 14:05:35  False       True          \n",
       "5   Smolensk Oblast  (not set)  2020-08-18 14:05:35  False       True          \n",
       "6   Smolensk Oblast  (not set)  2020-08-18 14:05:42  False       False         \n",
       "7   Smolensk Oblast  (not set)  2020-08-18 14:07:09  False       False         \n",
       "8   Smolensk Oblast  (not set)  2020-08-18 14:07:10  None        None          \n",
       "9   Smolensk Oblast  (not set)  2020-08-18 14:07:25  False       False         \n",
       "10  Smolensk Oblast  (not set)  2020-08-18 14:07:25  False       False         \n",
       "11  Smolensk Oblast  (not set)  2020-08-18 14:08:52  None        None          \n",
       "12  Smolensk Oblast  (not set)  2020-08-18 14:09:00  False       False         \n",
       "13  Smolensk Oblast  (not set)  2020-08-18 14:09:22  False       False         \n",
       "14  Smolensk Oblast  (not set)  2020-08-18 14:09:55  False       False         \n",
       "15  Smolensk Oblast  (not set)  2020-08-18 14:09:55  False       False         \n",
       "\n",
       "          prev_state_m1        prev_state_m2     show_banner_time  \\\n",
       "0   None                 None                 2020-08-18 14:05:13   \n",
       "1   None                 None                 2020-08-18 14:05:13   \n",
       "2   show_banner_0        None                 2020-08-18 14:05:13   \n",
       "3   click_any            show_banner_0        2020-08-18 14:05:13   \n",
       "4   click_any            click_any            2020-08-18 14:05:13   \n",
       "5   click_banner         click_any            2020-08-18 14:05:13   \n",
       "6   click_banner_0       click_banner         2020-08-18 14:05:13   \n",
       "7   informing_leads      click_banner_0       2020-08-18 14:05:13   \n",
       "8   click_any            informing_leads      2020-08-18 14:05:13   \n",
       "9   None                 click_any            2020-08-18 14:05:13   \n",
       "10  click_go_to_partner  None                 2020-08-18 14:05:13   \n",
       "11  click_any            click_go_to_partner  2020-08-18 14:05:13   \n",
       "12  None                 click_any            2020-08-18 14:05:13   \n",
       "13  informing_leads      None                 2020-08-18 14:05:13   \n",
       "14  informing_leads      informing_leads      2020-08-18 14:05:13   \n",
       "15  informing_leads      informing_leads      2020-08-18 14:05:13   \n",
       "\n",
       "    diff_clk_show  click_banner_state  check_stay_on_banner  \\\n",
       "0   22             True                0                      \n",
       "1   22             True                0                      \n",
       "2   22             True                0                      \n",
       "3   22             True                0                      \n",
       "4   22             True                0                      \n",
       "5   22             True                0                      \n",
       "6   22             True                1                      \n",
       "7   22             True                0                      \n",
       "8   22             True                0                      \n",
       "9   22             True                0                      \n",
       "10  22             True                0                      \n",
       "11  22             True                0                      \n",
       "12  22             True                1                      \n",
       "13  22             True                1                      \n",
       "14  22             True                1                      \n",
       "15  22             True                0                      \n",
       "\n",
       "      click_banner_time  \n",
       "0   2020-08-18 14:05:35  \n",
       "1   2020-08-18 14:05:35  \n",
       "2   2020-08-18 14:05:35  \n",
       "3   2020-08-18 14:05:35  \n",
       "4   2020-08-18 14:05:35  \n",
       "5   2020-08-18 14:05:35  \n",
       "6   2020-08-18 14:05:35  \n",
       "7   2020-08-18 14:05:35  \n",
       "8   2020-08-18 14:05:35  \n",
       "9   2020-08-18 14:05:35  \n",
       "10  2020-08-18 14:05:35  \n",
       "11  2020-08-18 14:05:35  \n",
       "12  2020-08-18 14:05:35  \n",
       "13  2020-08-18 14:05:35  \n",
       "14  2020-08-18 14:05:35  \n",
       "15  2020-08-18 14:05:35  "
      ]
     },
     "execution_count": 65,
     "metadata": {},
     "output_type": "execute_result"
    }
   ],
   "source": [
    "gadf_trimmed.filter((f.col(\"cid\") == \"1016857375.1596799214\")&\n",
    "                    (f.col(\"sessionTime\") > f.to_timestamp(f.lit(\"2020-08-18 14:00:00\")))).show(70)"
   ]
  },
  {
   "cell_type": "code",
   "execution_count": null,
   "metadata": {
    "collapsed": true
   },
   "outputs": [],
   "source": []
  },
  {
   "cell_type": "code",
   "execution_count": 64,
   "metadata": {
    "collapsed": true
   },
   "outputs": [],
   "source": [
    "gadf_trimmed = gadf_trimmed.withColumn('check_stay_on_banner', f.when( (f.col('eventAction').like('%informing_leads%'))&\n",
    "                                                                       (f.col('eventLabel').like(\"%scroll 30 percent%\")|\n",
    "                                                                        f.col('eventLabel').like(\"%scroll 50 percent%\")|\n",
    "                                                                        f.col('eventLabel').like(\"%scroll 75 percent%\")|\n",
    "                                                                        f.col('eventLabel').like(\"%sec on page%\")\n",
    "                                                                       )&\n",
    "                                                                       (f.col(\"click_banner_state\")==1)&\n",
    "                                                                       (f.col(\"diff_clk_show\")<=30)\n",
    "                                                                       , 1\n",
    "                                                                       ).otherwise(0))"
   ]
  },
  {
   "cell_type": "code",
   "execution_count": 67,
   "metadata": {},
   "outputs": [
    {
     "data": {
      "text/plain": [
       "45079"
      ]
     },
     "execution_count": 67,
     "metadata": {},
     "output_type": "execute_result"
    }
   ],
   "source": [
    "gadf_trimmed.filter(\"check_stay_on_banner == 1\").select(\"cid\").distinct().count()"
   ]
  },
  {
   "cell_type": "code",
   "execution_count": 130,
   "metadata": {},
   "outputs": [
    {
     "data": {
      "text/html": [
       "<div>\n",
       "<style scoped>\n",
       "    .dataframe tbody tr th:only-of-type {\n",
       "        vertical-align: middle;\n",
       "    }\n",
       "\n",
       "    .dataframe tbody tr th {\n",
       "        vertical-align: top;\n",
       "    }\n",
       "\n",
       "    .dataframe thead th {\n",
       "        text-align: right;\n",
       "    }\n",
       "</style>\n",
       "<table border=\"1\" class=\"dataframe\">\n",
       "  <thead>\n",
       "    <tr style=\"text-align: right;\">\n",
       "      <th></th>\n",
       "      <th>cid</th>\n",
       "      <th>sessionId</th>\n",
       "      <th>visitNumber</th>\n",
       "      <th>hitType</th>\n",
       "      <th>hitPagePath</th>\n",
       "      <th>hitPageTitle</th>\n",
       "      <th>sessionStartTime</th>\n",
       "      <th>hitNumber</th>\n",
       "      <th>hitTime</th>\n",
       "      <th>eventCategory</th>\n",
       "      <th>eventAction</th>\n",
       "      <th>eventLabel</th>\n",
       "      <th>deviceIsMobile</th>\n",
       "      <th>deviceMobileDeviceModel</th>\n",
       "      <th>deviceDeviceCategory</th>\n",
       "      <th>geoRegion</th>\n",
       "      <th>geoCity</th>\n",
       "      <th>sessionTime</th>\n",
       "      <th>show_banner</th>\n",
       "      <th>click_banner</th>\n",
       "      <th>prev_state_m1</th>\n",
       "      <th>prev_state_m2</th>\n",
       "      <th>show_banner_time</th>\n",
       "      <th>diff_clk_show</th>\n",
       "      <th>click_banner_state</th>\n",
       "      <th>check_stay_on_banner</th>\n",
       "      <th>click_banner_time</th>\n",
       "    </tr>\n",
       "  </thead>\n",
       "  <tbody>\n",
       "    <tr>\n",
       "      <th>0</th>\n",
       "      <td>1016857375.1596799214</td>\n",
       "      <td>1597748393</td>\n",
       "      <td>3</td>\n",
       "      <td>EVENT</td>\n",
       "      <td>/ru/s_m_business/credits/restr</td>\n",
       "      <td>«Сбербанк» - Кредитная поддержка малого бизнеса</td>\n",
       "      <td>1597748393</td>\n",
       "      <td>21</td>\n",
       "      <td>342101</td>\n",
       "      <td>SITE_Widget_CorpBannerCarousel</td>\n",
       "      <td>click_banner</td>\n",
       "      <td>Кредитная поддержка малого бизнеса Если ваш бизнес столкнулся с трудно</td>\n",
       "      <td>False</td>\n",
       "      <td>None</td>\n",
       "      <td>desktop</td>\n",
       "      <td>Smolensk Oblast</td>\n",
       "      <td>(not set)</td>\n",
       "      <td>2020-08-18 14:05:35</td>\n",
       "      <td>False</td>\n",
       "      <td>True</td>\n",
       "      <td>click_any</td>\n",
       "      <td>click_any</td>\n",
       "      <td>2020-08-18 14:05:13</td>\n",
       "      <td>22</td>\n",
       "      <td>True</td>\n",
       "      <td>0</td>\n",
       "      <td>2020-08-18 14:05:35</td>\n",
       "    </tr>\n",
       "    <tr>\n",
       "      <th>1</th>\n",
       "      <td>1016857375.1596799214</td>\n",
       "      <td>1597748393</td>\n",
       "      <td>3</td>\n",
       "      <td>EVENT</td>\n",
       "      <td>/ru/s_m_business/credits/restr</td>\n",
       "      <td>«Сбербанк» - Кредитная поддержка малого бизнеса</td>\n",
       "      <td>1597748393</td>\n",
       "      <td>22</td>\n",
       "      <td>342103</td>\n",
       "      <td>SITE_Widget_CorpBannerCarousel</td>\n",
       "      <td>click_banner_0</td>\n",
       "      <td>Кредитная поддержка малого бизнеса Если ваш бизнес столкнулся с трудно</td>\n",
       "      <td>False</td>\n",
       "      <td>None</td>\n",
       "      <td>desktop</td>\n",
       "      <td>Smolensk Oblast</td>\n",
       "      <td>(not set)</td>\n",
       "      <td>2020-08-18 14:05:35</td>\n",
       "      <td>False</td>\n",
       "      <td>True</td>\n",
       "      <td>click_banner</td>\n",
       "      <td>click_any</td>\n",
       "      <td>2020-08-18 14:05:13</td>\n",
       "      <td>22</td>\n",
       "      <td>True</td>\n",
       "      <td>0</td>\n",
       "      <td>2020-08-18 14:05:35</td>\n",
       "    </tr>\n",
       "  </tbody>\n",
       "</table>\n",
       "</div>"
      ],
      "text/plain": [
       "                     cid   sessionId  visitNumber hitType  \\\n",
       "0  1016857375.1596799214  1597748393  3            EVENT    \n",
       "1  1016857375.1596799214  1597748393  3            EVENT    \n",
       "\n",
       "                      hitPagePath  \\\n",
       "0  /ru/s_m_business/credits/restr   \n",
       "1  /ru/s_m_business/credits/restr   \n",
       "\n",
       "                                      hitPageTitle  sessionStartTime  \\\n",
       "0  «Сбербанк» - Кредитная поддержка малого бизнеса  1597748393         \n",
       "1  «Сбербанк» - Кредитная поддержка малого бизнеса  1597748393         \n",
       "\n",
       "   hitNumber  hitTime                   eventCategory     eventAction  \\\n",
       "0  21         342101   SITE_Widget_CorpBannerCarousel  click_banner     \n",
       "1  22         342103   SITE_Widget_CorpBannerCarousel  click_banner_0   \n",
       "\n",
       "                                                               eventLabel  \\\n",
       "0  Кредитная поддержка малого бизнеса Если ваш бизнес столкнулся с трудно   \n",
       "1  Кредитная поддержка малого бизнеса Если ваш бизнес столкнулся с трудно   \n",
       "\n",
       "   deviceIsMobile deviceMobileDeviceModel deviceDeviceCategory  \\\n",
       "0  False           None                    desktop               \n",
       "1  False           None                    desktop               \n",
       "\n",
       "         geoRegion    geoCity          sessionTime  show_banner  click_banner  \\\n",
       "0  Smolensk Oblast  (not set)  2020-08-18 14:05:35  False        True           \n",
       "1  Smolensk Oblast  (not set)  2020-08-18 14:05:35  False        True           \n",
       "\n",
       "  prev_state_m1 prev_state_m2     show_banner_time  diff_clk_show  \\\n",
       "0  click_any     click_any     2020-08-18 14:05:13  22              \n",
       "1  click_banner  click_any     2020-08-18 14:05:13  22              \n",
       "\n",
       "   click_banner_state  check_stay_on_banner    click_banner_time  \n",
       "0  True                0                     2020-08-18 14:05:35  \n",
       "1  True                0                     2020-08-18 14:05:35  "
      ]
     },
     "execution_count": 130,
     "metadata": {},
     "output_type": "execute_result"
    }
   ],
   "source": [
    "gadf_trimmed.filter(\"cid = 1016857375.1596799214 and click_banner == True\").show(50)"
   ]
  },
  {
   "cell_type": "code",
   "execution_count": null,
   "metadata": {
    "collapsed": true
   },
   "outputs": [],
   "source": []
  },
  {
   "cell_type": "code",
   "execution_count": 25,
   "metadata": {
    "collapsed": true
   },
   "outputs": [],
   "source": [
    "# res = gadf_trimmed.filter(f.col('eventCategory').like('%chto-takoe-ekvajring-i-kak-on-rabotaet%'))\n",
    "# res = res.orderBy(f.col('sessionTime').asc())"
   ]
  },
  {
   "cell_type": "code",
   "execution_count": null,
   "metadata": {
    "scrolled": false
   },
   "outputs": [],
   "source": [
    "res.show(50)"
   ]
  },
  {
   "cell_type": "code",
   "execution_count": null,
   "metadata": {
    "collapsed": true
   },
   "outputs": [],
   "source": []
  },
  {
   "cell_type": "code",
   "execution_count": 29,
   "metadata": {
    "collapsed": true
   },
   "outputs": [],
   "source": [
    "gadf_trimmed = gadf_trimmed.withColumn(\"url_domain\", get_url_domain_udf(\"hitPagePath\")) \\\n",
    "                           .withColumn(\"url_path\", get_url_path_udf(\"hitPagePath\"))"
   ]
  },
  {
   "cell_type": "code",
   "execution_count": 30,
   "metadata": {},
   "outputs": [
    {
     "data": {
      "text/plain": [
       "DataFrame[cid: string, sessionId: bigint, visitNumber: bigint, hitType: string, hitPagePath: string, hitPageTitle: string, sessionStartTime: bigint, hitNumber: bigint, hitTime: bigint, eventCategory: string, eventAction: string, eventLabel: string, deviceIsMobile: boolean, deviceMobileDeviceModel: string, deviceDeviceCategory: string, geoRegion: string, geoCity: string, url_domain: string, url_path: string]"
      ]
     },
     "execution_count": 30,
     "metadata": {},
     "output_type": "execute_result"
    }
   ],
   "source": [
    "gadf_trimmed.cache()"
   ]
  },
  {
   "cell_type": "code",
   "execution_count": 31,
   "metadata": {},
   "outputs": [
    {
     "data": {
      "text/plain": [
       "38937451"
      ]
     },
     "execution_count": 31,
     "metadata": {},
     "output_type": "execute_result"
    }
   ],
   "source": [
    "gadf_trimmed.count()"
   ]
  },
  {
   "cell_type": "code",
   "execution_count": 34,
   "metadata": {
    "scrolled": true
   },
   "outputs": [
    {
     "data": {
      "text/html": [
       "<div>\n",
       "<style scoped>\n",
       "    .dataframe tbody tr th:only-of-type {\n",
       "        vertical-align: middle;\n",
       "    }\n",
       "\n",
       "    .dataframe tbody tr th {\n",
       "        vertical-align: top;\n",
       "    }\n",
       "\n",
       "    .dataframe thead th {\n",
       "        text-align: right;\n",
       "    }\n",
       "</style>\n",
       "<table border=\"1\" class=\"dataframe\">\n",
       "  <thead>\n",
       "    <tr style=\"text-align: right;\">\n",
       "      <th></th>\n",
       "      <th>cid</th>\n",
       "      <th>hitPagePath</th>\n",
       "      <th>url_domain</th>\n",
       "      <th>url_path</th>\n",
       "    </tr>\n",
       "  </thead>\n",
       "  <tbody>\n",
       "    <tr>\n",
       "      <th>0</th>\n",
       "      <td>1845923051.1540309456</td>\n",
       "      <td>/ru/s_m_business/help/newsbbol</td>\n",
       "      <td>ru</td>\n",
       "      <td>s_m_business/help/newsbbol</td>\n",
       "    </tr>\n",
       "    <tr>\n",
       "      <th>1</th>\n",
       "      <td>527514055.1581927943</td>\n",
       "      <td>/ru/s_m_business/open-accounts</td>\n",
       "      <td>ru</td>\n",
       "      <td>s_m_business/open-accounts</td>\n",
       "    </tr>\n",
       "    <tr>\n",
       "      <th>2</th>\n",
       "      <td>728915766.1590200976</td>\n",
       "      <td>/ru/s_m_business/onlinecredit</td>\n",
       "      <td>ru</td>\n",
       "      <td>s_m_business/onlinecredit</td>\n",
       "    </tr>\n",
       "    <tr>\n",
       "      <th>3</th>\n",
       "      <td>375942385.1591037733</td>\n",
       "      <td>/ru/s_m_business/help/aquiring/oplata</td>\n",
       "      <td>ru</td>\n",
       "      <td>s_m_business/help/aquiring/oplata</td>\n",
       "    </tr>\n",
       "    <tr>\n",
       "      <th>4</th>\n",
       "      <td>158274897.1591023340</td>\n",
       "      <td>/ru/s_m_business/credits/restr?tab=2</td>\n",
       "      <td>ru</td>\n",
       "      <td>s_m_business/credits/restr</td>\n",
       "    </tr>\n",
       "    <tr>\n",
       "      <th>5</th>\n",
       "      <td>61159944.1591004813</td>\n",
       "      <td>/ru/s_m_business/credits</td>\n",
       "      <td>ru</td>\n",
       "      <td>s_m_business/credits</td>\n",
       "    </tr>\n",
       "    <tr>\n",
       "      <th>6</th>\n",
       "      <td>1255002434.1590581811</td>\n",
       "      <td>/ru/s_m_business/new_sbbol</td>\n",
       "      <td>ru</td>\n",
       "      <td>s_m_business/new_sbbol</td>\n",
       "    </tr>\n",
       "    <tr>\n",
       "      <th>7</th>\n",
       "      <td>269424543.1578643358</td>\n",
       "      <td>/ru/s_m_business/reserved-checking-account24?channel=mkkavdyushina.a.se</td>\n",
       "      <td>ru</td>\n",
       "      <td>s_m_business/reserved-checking-account24</td>\n",
       "    </tr>\n",
       "    <tr>\n",
       "      <th>8</th>\n",
       "      <td>269424543.1578643358</td>\n",
       "      <td>/ru/s_m_business/reserved-checking-account24?channel=mkkavdyushina.a.se</td>\n",
       "      <td>ru</td>\n",
       "      <td>s_m_business/reserved-checking-account24</td>\n",
       "    </tr>\n",
       "    <tr>\n",
       "      <th>9</th>\n",
       "      <td>906603655.1590988113</td>\n",
       "      <td>/ru/s_m_business/pro_business/chto-takoe-elektronnaya-podpis-kak-poluchit-i-dlya-chego-nuzhna/</td>\n",
       "      <td>ru</td>\n",
       "      <td>s_m_business/pro_business/chto-takoe-elektronnaya-podpis-kak-poluchit-i-dlya-chego-nuzhna</td>\n",
       "    </tr>\n",
       "    <tr>\n",
       "      <th>10</th>\n",
       "      <td>337909124.1590734492</td>\n",
       "      <td>/ru/s_m_business/credits/restr?tab=2</td>\n",
       "      <td>ru</td>\n",
       "      <td>s_m_business/credits/restr</td>\n",
       "    </tr>\n",
       "    <tr>\n",
       "      <th>11</th>\n",
       "      <td>2021652127.1590995818</td>\n",
       "      <td>/ru/s_m_business/credits</td>\n",
       "      <td>ru</td>\n",
       "      <td>s_m_business/credits</td>\n",
       "    </tr>\n",
       "    <tr>\n",
       "      <th>12</th>\n",
       "      <td>850073068.1590346825</td>\n",
       "      <td>/ru/s_m_business/new_sbbol</td>\n",
       "      <td>ru</td>\n",
       "      <td>s_m_business/new_sbbol</td>\n",
       "    </tr>\n",
       "    <tr>\n",
       "      <th>13</th>\n",
       "      <td>1138019204.1591030190</td>\n",
       "      <td>/ru/s_m_business/bankingservice/cards/business-cashback</td>\n",
       "      <td>ru</td>\n",
       "      <td>s_m_business/bankingservice/cards/business-cashback</td>\n",
       "    </tr>\n",
       "    <tr>\n",
       "      <th>14</th>\n",
       "      <td>672317224.1590994673</td>\n",
       "      <td>/ru/s_m_business/new_sbbol</td>\n",
       "      <td>ru</td>\n",
       "      <td>s_m_business/new_sbbol</td>\n",
       "    </tr>\n",
       "    <tr>\n",
       "      <th>15</th>\n",
       "      <td>101698827.1590998317</td>\n",
       "      <td>/ru/s_m_business/new_sbbol</td>\n",
       "      <td>ru</td>\n",
       "      <td>s_m_business/new_sbbol</td>\n",
       "    </tr>\n",
       "    <tr>\n",
       "      <th>16</th>\n",
       "      <td>1889130906.1589547249</td>\n",
       "      <td>/ru/s_m_business/bankingservice/remoteservice/e-invoicing</td>\n",
       "      <td>ru</td>\n",
       "      <td>s_m_business/bankingservice/remoteservice/e-invoicing</td>\n",
       "    </tr>\n",
       "    <tr>\n",
       "      <th>17</th>\n",
       "      <td>1073392653.1590944025</td>\n",
       "      <td>/ru/s_m_business/bankingservice/remoteservice/spk</td>\n",
       "      <td>ru</td>\n",
       "      <td>s_m_business/bankingservice/remoteservice/spk</td>\n",
       "    </tr>\n",
       "    <tr>\n",
       "      <th>18</th>\n",
       "      <td>679914150.1591000870</td>\n",
       "      <td>/ru/s_m_business/credits/restr</td>\n",
       "      <td>ru</td>\n",
       "      <td>s_m_business/credits/restr</td>\n",
       "    </tr>\n",
       "    <tr>\n",
       "      <th>19</th>\n",
       "      <td>1109550526.1590984756</td>\n",
       "      <td>/ru/s_m_business/bankingservice/remoteservice/spk</td>\n",
       "      <td>ru</td>\n",
       "      <td>s_m_business/bankingservice/remoteservice/spk</td>\n",
       "    </tr>\n",
       "    <tr>\n",
       "      <th>20</th>\n",
       "      <td>665723348.1586526969</td>\n",
       "      <td>/ru/s_m_business/reserved-checking-account24?channel=mkk</td>\n",
       "      <td>ru</td>\n",
       "      <td>s_m_business/reserved-checking-account24</td>\n",
       "    </tr>\n",
       "    <tr>\n",
       "      <th>21</th>\n",
       "      <td>580950697.1590984552</td>\n",
       "      <td>/ru/s_m_business/bankingservice/cards/transfers?dccvmid=5384925fc29a52a952180ce72d8dfefc</td>\n",
       "      <td>ru</td>\n",
       "      <td>s_m_business/bankingservice/cards/transfers</td>\n",
       "    </tr>\n",
       "    <tr>\n",
       "      <th>22</th>\n",
       "      <td>56991419.1590581262</td>\n",
       "      <td>/ru/s_m_business/bankingservice/sgr</td>\n",
       "      <td>ru</td>\n",
       "      <td>s_m_business/bankingservice/sgr</td>\n",
       "    </tr>\n",
       "    <tr>\n",
       "      <th>23</th>\n",
       "      <td>884883928.1554221644</td>\n",
       "      <td>/ru/s_m_business/open-accounts</td>\n",
       "      <td>ru</td>\n",
       "      <td>s_m_business/open-accounts</td>\n",
       "    </tr>\n",
       "    <tr>\n",
       "      <th>24</th>\n",
       "      <td>674074853.1590917504</td>\n",
       "      <td>/ru/s_m_business/open-accounts/ved</td>\n",
       "      <td>ru</td>\n",
       "      <td>s_m_business/open-accounts/ved</td>\n",
       "    </tr>\n",
       "    <tr>\n",
       "      <th>25</th>\n",
       "      <td>1210836876.1590651776</td>\n",
       "      <td>/ru/s_m_business/bankingservice/remoteservice/ugk</td>\n",
       "      <td>ru</td>\n",
       "      <td>s_m_business/bankingservice/remoteservice/ugk</td>\n",
       "    </tr>\n",
       "    <tr>\n",
       "      <th>26</th>\n",
       "      <td>1063964661.1591023287</td>\n",
       "      <td>/ru/s_m_business/credits/restr</td>\n",
       "      <td>ru</td>\n",
       "      <td>s_m_business/credits/restr</td>\n",
       "    </tr>\n",
       "    <tr>\n",
       "      <th>27</th>\n",
       "      <td>1943899971.1587660561</td>\n",
       "      <td>/ru/s_m_business/bankingservice/cards/business-cashback</td>\n",
       "      <td>ru</td>\n",
       "      <td>s_m_business/bankingservice/cards/business-cashback</td>\n",
       "    </tr>\n",
       "    <tr>\n",
       "      <th>28</th>\n",
       "      <td>1026285222.1591039923</td>\n",
       "      <td>/ru/s_m_business/nbs/rabota</td>\n",
       "      <td>ru</td>\n",
       "      <td>s_m_business/nbs/rabota</td>\n",
       "    </tr>\n",
       "    <tr>\n",
       "      <th>29</th>\n",
       "      <td>491032919.1590681499</td>\n",
       "      <td>/ru/s_m_business/bankingservice/cards/corporatecards</td>\n",
       "      <td>ru</td>\n",
       "      <td>s_m_business/bankingservice/cards/corporatecards</td>\n",
       "    </tr>\n",
       "    <tr>\n",
       "      <th>30</th>\n",
       "      <td>1225116825.1591021920</td>\n",
       "      <td>/ru/s_m_business/onlinecredit?yclid=3026114413817002668</td>\n",
       "      <td>ru</td>\n",
       "      <td>s_m_business/onlinecredit</td>\n",
       "    </tr>\n",
       "    <tr>\n",
       "      <th>31</th>\n",
       "      <td>891623541.1581139215</td>\n",
       "      <td>/ru/s_m_business/bankingservice/cards/salaryproject?dccvmid=&amp;sascamp=</td>\n",
       "      <td>ru</td>\n",
       "      <td>s_m_business/bankingservice/cards/salaryproject</td>\n",
       "    </tr>\n",
       "    <tr>\n",
       "      <th>32</th>\n",
       "      <td>114666939.1591041099</td>\n",
       "      <td>/ru/s_m_business/bankingservice/rko</td>\n",
       "      <td>ru</td>\n",
       "      <td>s_m_business/bankingservice/rko</td>\n",
       "    </tr>\n",
       "    <tr>\n",
       "      <th>33</th>\n",
       "      <td>937739759.1590996715</td>\n",
       "      <td>/ru/s_m_business/new_sbbol</td>\n",
       "      <td>ru</td>\n",
       "      <td>s_m_business/new_sbbol</td>\n",
       "    </tr>\n",
       "    <tr>\n",
       "      <th>34</th>\n",
       "      <td>1765513817.1590725167</td>\n",
       "      <td>/ru/s_m_business/new_sbbol</td>\n",
       "      <td>ru</td>\n",
       "      <td>s_m_business/new_sbbol</td>\n",
       "    </tr>\n",
       "    <tr>\n",
       "      <th>35</th>\n",
       "      <td>995778256.1590981508</td>\n",
       "      <td>/ru/s_m_business/compliance/test</td>\n",
       "      <td>ru</td>\n",
       "      <td>s_m_business/compliance/test</td>\n",
       "    </tr>\n",
       "    <tr>\n",
       "      <th>36</th>\n",
       "      <td>995778256.1590981508</td>\n",
       "      <td>/ru/s_m_business/compliance/test</td>\n",
       "      <td>ru</td>\n",
       "      <td>s_m_business/compliance/test</td>\n",
       "    </tr>\n",
       "    <tr>\n",
       "      <th>37</th>\n",
       "      <td>738937230.1590982150</td>\n",
       "      <td>/ru/s_m_business/bankingservice/cards/business-cashback?fbclid=IwAR2C50AKK4Yu4718v93TPLnk1mEmUTfCV75bd6R3TL7fkwiL1wDC7TL_v1s</td>\n",
       "      <td>ru</td>\n",
       "      <td>s_m_business/bankingservice/cards/business-cashback</td>\n",
       "    </tr>\n",
       "    <tr>\n",
       "      <th>38</th>\n",
       "      <td>1072150836.1557649079</td>\n",
       "      <td>/ru/s_m_business/new_sbbol</td>\n",
       "      <td>ru</td>\n",
       "      <td>s_m_business/new_sbbol</td>\n",
       "    </tr>\n",
       "    <tr>\n",
       "      <th>39</th>\n",
       "      <td>378392165.1590971575</td>\n",
       "      <td>/ru/s_m_business/help/open-account</td>\n",
       "      <td>ru</td>\n",
       "      <td>s_m_business/help/open-account</td>\n",
       "    </tr>\n",
       "    <tr>\n",
       "      <th>40</th>\n",
       "      <td>2048158889.1591005039</td>\n",
       "      <td>/ru/s_m_business/new_sbbol</td>\n",
       "      <td>ru</td>\n",
       "      <td>s_m_business/new_sbbol</td>\n",
       "    </tr>\n",
       "    <tr>\n",
       "      <th>41</th>\n",
       "      <td>250552255.1589431570</td>\n",
       "      <td>/ru/s_m_business/new_sbbol</td>\n",
       "      <td>ru</td>\n",
       "      <td>s_m_business/new_sbbol</td>\n",
       "    </tr>\n",
       "    <tr>\n",
       "      <th>42</th>\n",
       "      <td>342316594.1578898335</td>\n",
       "      <td>/ru/s_m_business/credits/restr</td>\n",
       "      <td>ru</td>\n",
       "      <td>s_m_business/credits/restr</td>\n",
       "    </tr>\n",
       "    <tr>\n",
       "      <th>43</th>\n",
       "      <td>1433139937.1584597543</td>\n",
       "      <td>/ru/s_m_business/open-accounts</td>\n",
       "      <td>ru</td>\n",
       "      <td>s_m_business/open-accounts</td>\n",
       "    </tr>\n",
       "    <tr>\n",
       "      <th>44</th>\n",
       "      <td>268312252.1591009045</td>\n",
       "      <td>/ru/s_m_business/bankingservice/remoteservice/spk</td>\n",
       "      <td>ru</td>\n",
       "      <td>s_m_business/bankingservice/remoteservice/spk</td>\n",
       "    </tr>\n",
       "    <tr>\n",
       "      <th>45</th>\n",
       "      <td>1963071107.1590343425</td>\n",
       "      <td>/ru/s_m_business/new_sbbol</td>\n",
       "      <td>ru</td>\n",
       "      <td>s_m_business/new_sbbol</td>\n",
       "    </tr>\n",
       "    <tr>\n",
       "      <th>46</th>\n",
       "      <td>1759992127.1590977685</td>\n",
       "      <td>/ru/s_m_business/bankingservice/rko</td>\n",
       "      <td>ru</td>\n",
       "      <td>s_m_business/bankingservice/rko</td>\n",
       "    </tr>\n",
       "    <tr>\n",
       "      <th>47</th>\n",
       "      <td>493309737.1591013652</td>\n",
       "      <td>/ru/s_m_business/open-accounts?yclid=3022012426921999072</td>\n",
       "      <td>ru</td>\n",
       "      <td>s_m_business/open-accounts</td>\n",
       "    </tr>\n",
       "    <tr>\n",
       "      <th>48</th>\n",
       "      <td>1208652781.1590667518</td>\n",
       "      <td>/ru/s_m_business/onlinecredit?yclid=3027780417934097102</td>\n",
       "      <td>ru</td>\n",
       "      <td>s_m_business/onlinecredit</td>\n",
       "    </tr>\n",
       "    <tr>\n",
       "      <th>49</th>\n",
       "      <td>351577201.1575895549</td>\n",
       "      <td>/ru/s_m_business/new_client?dccvmid=</td>\n",
       "      <td>ru</td>\n",
       "      <td>s_m_business/new_client</td>\n",
       "    </tr>\n",
       "  </tbody>\n",
       "</table>\n",
       "</div>"
      ],
      "text/plain": [
       "                      cid  \\\n",
       "0   1845923051.1540309456   \n",
       "1   527514055.1581927943    \n",
       "2   728915766.1590200976    \n",
       "3   375942385.1591037733    \n",
       "4   158274897.1591023340    \n",
       "5   61159944.1591004813     \n",
       "6   1255002434.1590581811   \n",
       "7   269424543.1578643358    \n",
       "8   269424543.1578643358    \n",
       "9   906603655.1590988113    \n",
       "10  337909124.1590734492    \n",
       "11  2021652127.1590995818   \n",
       "12  850073068.1590346825    \n",
       "13  1138019204.1591030190   \n",
       "14  672317224.1590994673    \n",
       "15  101698827.1590998317    \n",
       "16  1889130906.1589547249   \n",
       "17  1073392653.1590944025   \n",
       "18  679914150.1591000870    \n",
       "19  1109550526.1590984756   \n",
       "20  665723348.1586526969    \n",
       "21  580950697.1590984552    \n",
       "22  56991419.1590581262     \n",
       "23  884883928.1554221644    \n",
       "24  674074853.1590917504    \n",
       "25  1210836876.1590651776   \n",
       "26  1063964661.1591023287   \n",
       "27  1943899971.1587660561   \n",
       "28  1026285222.1591039923   \n",
       "29  491032919.1590681499    \n",
       "30  1225116825.1591021920   \n",
       "31  891623541.1581139215    \n",
       "32  114666939.1591041099    \n",
       "33  937739759.1590996715    \n",
       "34  1765513817.1590725167   \n",
       "35  995778256.1590981508    \n",
       "36  995778256.1590981508    \n",
       "37  738937230.1590982150    \n",
       "38  1072150836.1557649079   \n",
       "39  378392165.1590971575    \n",
       "40  2048158889.1591005039   \n",
       "41  250552255.1589431570    \n",
       "42  342316594.1578898335    \n",
       "43  1433139937.1584597543   \n",
       "44  268312252.1591009045    \n",
       "45  1963071107.1590343425   \n",
       "46  1759992127.1590977685   \n",
       "47  493309737.1591013652    \n",
       "48  1208652781.1590667518   \n",
       "49  351577201.1575895549    \n",
       "\n",
       "                                                                                                                     hitPagePath  \\\n",
       "0   /ru/s_m_business/help/newsbbol                                                                                                 \n",
       "1   /ru/s_m_business/open-accounts                                                                                                 \n",
       "2   /ru/s_m_business/onlinecredit                                                                                                  \n",
       "3   /ru/s_m_business/help/aquiring/oplata                                                                                          \n",
       "4   /ru/s_m_business/credits/restr?tab=2                                                                                           \n",
       "5   /ru/s_m_business/credits                                                                                                       \n",
       "6   /ru/s_m_business/new_sbbol                                                                                                     \n",
       "7   /ru/s_m_business/reserved-checking-account24?channel=mkkavdyushina.a.se                                                        \n",
       "8   /ru/s_m_business/reserved-checking-account24?channel=mkkavdyushina.a.se                                                        \n",
       "9   /ru/s_m_business/pro_business/chto-takoe-elektronnaya-podpis-kak-poluchit-i-dlya-chego-nuzhna/                                 \n",
       "10  /ru/s_m_business/credits/restr?tab=2                                                                                           \n",
       "11  /ru/s_m_business/credits                                                                                                       \n",
       "12  /ru/s_m_business/new_sbbol                                                                                                     \n",
       "13  /ru/s_m_business/bankingservice/cards/business-cashback                                                                        \n",
       "14  /ru/s_m_business/new_sbbol                                                                                                     \n",
       "15  /ru/s_m_business/new_sbbol                                                                                                     \n",
       "16  /ru/s_m_business/bankingservice/remoteservice/e-invoicing                                                                      \n",
       "17  /ru/s_m_business/bankingservice/remoteservice/spk                                                                              \n",
       "18  /ru/s_m_business/credits/restr                                                                                                 \n",
       "19  /ru/s_m_business/bankingservice/remoteservice/spk                                                                              \n",
       "20  /ru/s_m_business/reserved-checking-account24?channel=mkk                                                                       \n",
       "21  /ru/s_m_business/bankingservice/cards/transfers?dccvmid=5384925fc29a52a952180ce72d8dfefc                                       \n",
       "22  /ru/s_m_business/bankingservice/sgr                                                                                            \n",
       "23  /ru/s_m_business/open-accounts                                                                                                 \n",
       "24  /ru/s_m_business/open-accounts/ved                                                                                             \n",
       "25  /ru/s_m_business/bankingservice/remoteservice/ugk                                                                              \n",
       "26  /ru/s_m_business/credits/restr                                                                                                 \n",
       "27  /ru/s_m_business/bankingservice/cards/business-cashback                                                                        \n",
       "28  /ru/s_m_business/nbs/rabota                                                                                                    \n",
       "29  /ru/s_m_business/bankingservice/cards/corporatecards                                                                           \n",
       "30  /ru/s_m_business/onlinecredit?yclid=3026114413817002668                                                                        \n",
       "31  /ru/s_m_business/bankingservice/cards/salaryproject?dccvmid=&sascamp=                                                          \n",
       "32  /ru/s_m_business/bankingservice/rko                                                                                            \n",
       "33  /ru/s_m_business/new_sbbol                                                                                                     \n",
       "34  /ru/s_m_business/new_sbbol                                                                                                     \n",
       "35  /ru/s_m_business/compliance/test                                                                                               \n",
       "36  /ru/s_m_business/compliance/test                                                                                               \n",
       "37  /ru/s_m_business/bankingservice/cards/business-cashback?fbclid=IwAR2C50AKK4Yu4718v93TPLnk1mEmUTfCV75bd6R3TL7fkwiL1wDC7TL_v1s   \n",
       "38  /ru/s_m_business/new_sbbol                                                                                                     \n",
       "39  /ru/s_m_business/help/open-account                                                                                             \n",
       "40  /ru/s_m_business/new_sbbol                                                                                                     \n",
       "41  /ru/s_m_business/new_sbbol                                                                                                     \n",
       "42  /ru/s_m_business/credits/restr                                                                                                 \n",
       "43  /ru/s_m_business/open-accounts                                                                                                 \n",
       "44  /ru/s_m_business/bankingservice/remoteservice/spk                                                                              \n",
       "45  /ru/s_m_business/new_sbbol                                                                                                     \n",
       "46  /ru/s_m_business/bankingservice/rko                                                                                            \n",
       "47  /ru/s_m_business/open-accounts?yclid=3022012426921999072                                                                       \n",
       "48  /ru/s_m_business/onlinecredit?yclid=3027780417934097102                                                                        \n",
       "49  /ru/s_m_business/new_client?dccvmid=                                                                                           \n",
       "\n",
       "   url_domain  \\\n",
       "0   ru          \n",
       "1   ru          \n",
       "2   ru          \n",
       "3   ru          \n",
       "4   ru          \n",
       "5   ru          \n",
       "6   ru          \n",
       "7   ru          \n",
       "8   ru          \n",
       "9   ru          \n",
       "10  ru          \n",
       "11  ru          \n",
       "12  ru          \n",
       "13  ru          \n",
       "14  ru          \n",
       "15  ru          \n",
       "16  ru          \n",
       "17  ru          \n",
       "18  ru          \n",
       "19  ru          \n",
       "20  ru          \n",
       "21  ru          \n",
       "22  ru          \n",
       "23  ru          \n",
       "24  ru          \n",
       "25  ru          \n",
       "26  ru          \n",
       "27  ru          \n",
       "28  ru          \n",
       "29  ru          \n",
       "30  ru          \n",
       "31  ru          \n",
       "32  ru          \n",
       "33  ru          \n",
       "34  ru          \n",
       "35  ru          \n",
       "36  ru          \n",
       "37  ru          \n",
       "38  ru          \n",
       "39  ru          \n",
       "40  ru          \n",
       "41  ru          \n",
       "42  ru          \n",
       "43  ru          \n",
       "44  ru          \n",
       "45  ru          \n",
       "46  ru          \n",
       "47  ru          \n",
       "48  ru          \n",
       "49  ru          \n",
       "\n",
       "                                                                                     url_path  \n",
       "0   s_m_business/help/newsbbol                                                                 \n",
       "1   s_m_business/open-accounts                                                                 \n",
       "2   s_m_business/onlinecredit                                                                  \n",
       "3   s_m_business/help/aquiring/oplata                                                          \n",
       "4   s_m_business/credits/restr                                                                 \n",
       "5   s_m_business/credits                                                                       \n",
       "6   s_m_business/new_sbbol                                                                     \n",
       "7   s_m_business/reserved-checking-account24                                                   \n",
       "8   s_m_business/reserved-checking-account24                                                   \n",
       "9   s_m_business/pro_business/chto-takoe-elektronnaya-podpis-kak-poluchit-i-dlya-chego-nuzhna  \n",
       "10  s_m_business/credits/restr                                                                 \n",
       "11  s_m_business/credits                                                                       \n",
       "12  s_m_business/new_sbbol                                                                     \n",
       "13  s_m_business/bankingservice/cards/business-cashback                                        \n",
       "14  s_m_business/new_sbbol                                                                     \n",
       "15  s_m_business/new_sbbol                                                                     \n",
       "16  s_m_business/bankingservice/remoteservice/e-invoicing                                      \n",
       "17  s_m_business/bankingservice/remoteservice/spk                                              \n",
       "18  s_m_business/credits/restr                                                                 \n",
       "19  s_m_business/bankingservice/remoteservice/spk                                              \n",
       "20  s_m_business/reserved-checking-account24                                                   \n",
       "21  s_m_business/bankingservice/cards/transfers                                                \n",
       "22  s_m_business/bankingservice/sgr                                                            \n",
       "23  s_m_business/open-accounts                                                                 \n",
       "24  s_m_business/open-accounts/ved                                                             \n",
       "25  s_m_business/bankingservice/remoteservice/ugk                                              \n",
       "26  s_m_business/credits/restr                                                                 \n",
       "27  s_m_business/bankingservice/cards/business-cashback                                        \n",
       "28  s_m_business/nbs/rabota                                                                    \n",
       "29  s_m_business/bankingservice/cards/corporatecards                                           \n",
       "30  s_m_business/onlinecredit                                                                  \n",
       "31  s_m_business/bankingservice/cards/salaryproject                                            \n",
       "32  s_m_business/bankingservice/rko                                                            \n",
       "33  s_m_business/new_sbbol                                                                     \n",
       "34  s_m_business/new_sbbol                                                                     \n",
       "35  s_m_business/compliance/test                                                               \n",
       "36  s_m_business/compliance/test                                                               \n",
       "37  s_m_business/bankingservice/cards/business-cashback                                        \n",
       "38  s_m_business/new_sbbol                                                                     \n",
       "39  s_m_business/help/open-account                                                             \n",
       "40  s_m_business/new_sbbol                                                                     \n",
       "41  s_m_business/new_sbbol                                                                     \n",
       "42  s_m_business/credits/restr                                                                 \n",
       "43  s_m_business/open-accounts                                                                 \n",
       "44  s_m_business/bankingservice/remoteservice/spk                                              \n",
       "45  s_m_business/new_sbbol                                                                     \n",
       "46  s_m_business/bankingservice/rko                                                            \n",
       "47  s_m_business/open-accounts                                                                 \n",
       "48  s_m_business/onlinecredit                                                                  \n",
       "49  s_m_business/new_client                                                                    "
      ]
     },
     "execution_count": 34,
     "metadata": {},
     "output_type": "execute_result"
    }
   ],
   "source": [
    "gadf_trimmed.select('cid','hitPagePath', 'url_domain', 'url_path').show(50)"
   ]
  },
  {
   "cell_type": "code",
   "execution_count": null,
   "metadata": {
    "scrolled": true
   },
   "outputs": [],
   "source": [
    "gadf_trimmed.filter('cid = 1845923051.1540309456')\\\n",
    "            .select('sessionId', \n",
    "                    'visitNumber',\n",
    "                    'hitType',\n",
    "                    'hitPagePath',\n",
    "                    'eventCategory', \n",
    "                    'eventAction', \n",
    "                    'eventLabel',\n",
    "                    f.from_unixtime('sessionStartTime').alias('sessionStartTime'), \n",
    "                    'hitTime').orderBy(f.col('visitNumber').asc(), \n",
    "                                       f.col('hitTime').asc()).show(90)"
   ]
  },
  {
   "cell_type": "markdown",
   "metadata": {
    "collapsed": true
   },
   "source": [
    "### Parse `hitPageTitle` in accordance with the specified target sentences"
   ]
  },
  {
   "cell_type": "code",
   "execution_count": 19,
   "metadata": {
    "collapsed": true
   },
   "outputs": [],
   "source": [
    "dctofrefwords = {'рко'      :\n",
    "                             ['.*рко.*', \n",
    "                              '.*расчетный сч[её]т.*', \n",
    "                              '.*расч[её]тно-кассовое обслуживание.*', \n",
    "                              '.*сч[её]т\\s*[для]*[\\s\\w]*[ип|ооо|бизнеса]*.*', \n",
    "                              '.*сч[её]т\\s*[для]*юридического лица.*', \n",
    "                              '.*открыть сч[её]т\\s*[для]*[\\s\\w]*[ип|ооо|юридического лица]*.*', \n",
    "                              '.*открытие сч[её]та онлайн.*'],\n",
    "                 'кредит'   :\n",
    "                             ['.*кредит\\s*[для]*[\\s\\w]*[бизнеса|малого бизнеса]*.*',  \n",
    "                              '.*инвестиционный кредит.*', \n",
    "                              '.*кредитная линия.*', \n",
    "                              '.*кредитование бизнеса.*',\n",
    "                              '.*оборотный кредит.*', \n",
    "                              '.*кредит на пополнение оборотных средств.*', \n",
    "                              '.*кредит под залог.*', \n",
    "                              '.*кредит на[\\s\\w]*[автомобиль|оборудование|товар|недвижимость|транспорт|бизнес цели|развитие бизнеса]*.*', \n",
    "                             ],\n",
    "                 'бизнес-карта': \n",
    "                             ['.*бизнес[\\-\\s]*карта\\s*[для]*.*', \n",
    "                              '.*карта для бизнеса.*', \n",
    "                              '.*корпоративная карта.*', \n",
    "                              '.*карта для[\\s\\w]*[ип|ооо]*.*'\n",
    "                             ],\n",
    "                 'эквайринг': \n",
    "                             [\n",
    "                              '.*эквайринг.*', \n",
    "                              '.*торговый\\s*эквайринг.*', \n",
    "                              '.*прием оплаты картой.*'\n",
    "                             ],\n",
    "                 'зарплатный проект':\n",
    "                             [\n",
    "                              '.*зарплатный проект.*',\n",
    "                              '.*[оформление|обслуживание]* зарплатной карты.*',  \n",
    "                              '.*зарплатная карта.*'  \n",
    "                             ],\n",
    "                 'депозит': \n",
    "                           [\n",
    "                             '.*депозит.*', \n",
    "                             '[размещение|привлечение]* денежных средств.*', \n",
    "                             '.*вклад.*' \n",
    "                           ],\n",
    "                 'электронный документооборот':\n",
    "                           [\n",
    "                             '.*электронный документооборот.*',\n",
    "                             '.*e-invoicing.*', \n",
    "                             '.*эдо.*', \n",
    "                             '.*сэд.*', \n",
    "                             '.*цифровой документооборот.*'\n",
    "                           ],\n",
    "                 'электронный архив':\n",
    "                           [\n",
    "                             '.*электронный архив.*', \n",
    "                             '.*оцифровка архивов.*', \n",
    "                             '.*цифровые документы.*'\n",
    "                           ],\n",
    "                 'электронная подпись':\n",
    "                           [\n",
    "                             '.*[электронная|цифровая][\\s\\w]*подпись.*',\n",
    "                             '.*э[цп]?.*',\n",
    "                             '.*кэп.*',  \n",
    "                             '.*подпись для[\\s\\w]*[тендеров|торгов|госуслуг|налоговой|егаис]*.*'\n",
    "                           ],\n",
    "                 'овердрафт':\n",
    "                           [\n",
    "                            '.*овердрафт.*', '.*овердрафтный кредит.*'\n",
    "                           ],\n",
    "                 'интернет эквайринг':\n",
    "                           [\n",
    "                            '.*интернет[\\s\\w\\-]*эквайринг.*'    \n",
    "                           ],\n",
    "                 'лизинг': \n",
    "                           ['.*лизинг.*'],\n",
    "                 'инкассация': \n",
    "                           ['.*инкассация.*'],\n",
    "                 'инкассация на ус': \n",
    "                           [\n",
    "                            '.*самоинкассация.*', \n",
    "                            '.*инкассация на ус.*', \n",
    "                            '.*внесение средств.*', \n",
    "                            '.*внесение выручки.*'    \n",
    "                           ],                \n",
    "                 'центр управления счетами':\n",
    "                           [\n",
    "                             '.*управление счетами.*'  \n",
    "                           ],\n",
    "                'аккредитивы': ['.*аккредитив.*'],\n",
    "                'e-invoicing': ['.*электронная отчетность.*', \n",
    "                                '.*конструктор документов', \n",
    "                                '.*электронный архив.*'],\n",
    "                'яндекс маркет': ['.*яндекс[\\s\\w\\-]*маркет.*'],\n",
    "                'конверсионные операции': ['.*конверсионные операции.*', \n",
    "                                           '.*обмен валюты.*', \n",
    "                                           '.*валютно-обменные операции.*', \n",
    "                                           '.*валютные [свопы|рынки]*.*'],\n",
    "                'таможенные платежи': ['.*таможенные платежи', \n",
    "                                       '.*таможенная карта.*'],\n",
    "                'факторинг': ['.*факторинг.*', \n",
    "                              '.*беззалоговое финансирование.*'],\n",
    "                'консалтинг по ВЭД': ['.*[консалтинг|консультации]*[\\s\\w]*по вэд.*', \n",
    "                                      '.*консалтинговые услуги по вэд.*'],\n",
    "                'эвотор': ['.*эвотор.*'],\n",
    "                'эскроу': ['.*эскроу.*'],\n",
    "                'кредитная бизнес-карта': ['.*кредитная бизнес[\\s\\w\\-]*карта.*'],\n",
    "                'спец счет для торгов': ['.*счет для [торгов|закупок]*.*', \n",
    "                                         '.*счет для участия в [закупках|тендерах]*.*', \n",
    "                                         '.*спцсчет для [торгов|госконтракта]*.*', \n",
    "                                         '.*счет[\\s\\w]*[по\\s44\\-фз]*.*', \n",
    "                                         '.*счет участника закупок.*', \n",
    "                                         '.*счет[\\s\\w]*[по\\s223\\-фз]*.*'],\n",
    "                'валютный контроль': ['вэд', \n",
    "                                      '.*внешнеэкономическая деятельность.*', \n",
    "                                      '.*валютный контроль.*'],\n",
    "                'DocDoc': ['.*docdoc.*', \n",
    "                           '.*докдок.*', \n",
    "                           '.*телемедицина.*'],\n",
    "                'plazius': ['.*plazius.*'],\n",
    "                'защита сотрудников': ['.*защита сотрудников.*', \n",
    "                                       '.*страхование сотрудников.*'],\n",
    "                'международная платформа ВВР': ['.*bbp.*', \n",
    "                                                '.*bank of business partners.*', \n",
    "                                                '.*платформа для экспортеров и импортеров.*', \n",
    "                                                '.*экспортный акселератор.*'],\n",
    "                'банковское сопровождение поектов': ['.*банковское сопровождение.*'],\n",
    "                'гособоронзаказ': ['.*гособоронзаказ.*', \n",
    "                                   '.*счет[\\s\\w]*[по\\s\\гоз]*.*'],\n",
    "                'прием платежей физ. лиц': ['.*прием платежей от[\\s\\w]*[физлиц|физических\\sлиц|физ\\sлиц]*.*'],\n",
    "                'онлайн кассы': ['.*онлайн[\\s\\-]*касса.*',\n",
    "                                 '.*касса[\\s\\w]*[по\\s54\\-фз]*.*'],\n",
    "                'продвижение бизнеса онлайн': ['.*продвижение бизнеса онлайн.*', \n",
    "                                               '.*сервис для продвижения бизнеса.*', \n",
    "                                               '.*продвижение бизнеса в интернете.*'],\n",
    "                'сайт для бизнеса': ['.*конструктор сайта.*', \n",
    "                                     '.*сайт для бизнеса.*']\n",
    "                }"
   ]
  },
  {
   "cell_type": "code",
   "execution_count": 20,
   "metadata": {
    "collapsed": true,
    "scrolled": true
   },
   "outputs": [],
   "source": [
    "gadf_trimmed = gadf_trimmed.withColumn('prod_gr', udf_checkhitPageTitle(dctofrefwords)('hitPageTitle','url_path'))"
   ]
  },
  {
   "cell_type": "code",
   "execution_count": null,
   "metadata": {
    "collapsed": true,
    "scrolled": false
   },
   "outputs": [],
   "source": [
    "gadf_trimmed.filter('url_path_filtered is not Null').select('hitPageTitle', 'hitPagePath', 'url_path', 'prod_gr').show(10)"
   ]
  },
  {
   "cell_type": "code",
   "execution_count": null,
   "metadata": {
    "collapsed": true
   },
   "outputs": [],
   "source": [
    "gadf_trimmed.cache()"
   ]
  },
  {
   "cell_type": "markdown",
   "metadata": {},
   "source": [
    "# Analyse User Session in Details"
   ]
  },
  {
   "cell_type": "markdown",
   "metadata": {},
   "source": [
    "### `hitTimefromStartTime`: calculate total hitTime starting from `sessionStartTime`"
   ]
  },
  {
   "cell_type": "code",
   "execution_count": 21,
   "metadata": {
    "collapsed": true,
    "scrolled": true
   },
   "outputs": [],
   "source": [
    "res = gadf_trimmed.withColumn('hitTimefromStartTime', \n",
    "                              f.from_unixtime(f.col('sessionStartTime')+f.col('hitTime')/1000, \n",
    "                                                      format='yyyy-MM-dd HH:mm:ss').cast(TimestampType()))"
   ]
  },
  {
   "cell_type": "code",
   "execution_count": null,
   "metadata": {
    "scrolled": true
   },
   "outputs": [],
   "source": [
    "res.filter('prod_gr =\"рко\" and hitType = \"PAGE\"').show(30)"
   ]
  },
  {
   "cell_type": "markdown",
   "metadata": {
    "collapsed": true
   },
   "source": [
    "## Assign a unique ID to each `sessionId` in accordance with the value of `hitType` column: \n",
    "- 1.Propagate the same ID between two non-succsessive cases with `hitType==PAGE` separated by the case with `hitType==EVENT`\n",
    "- 2.Each new found case with `hitType==PAGE` is considered as a starting point to repeat p.1 \n",
    "- 3.Each two/three succsessive cases with `hitType==PAGE` not separated by the case with `hitType==EVENT` shoud be retreated in terms of reassigning its own ID on one unique ID taken from the last cases with `hitType==PAGE` "
   ]
  },
  {
   "cell_type": "code",
   "execution_count": 22,
   "metadata": {
    "collapsed": true
   },
   "outputs": [],
   "source": [
    "w1=Window.orderBy('cid','prod_gr','url_path','row_num')\n",
    "w2=Window.orderBy('idx') \n",
    "\n",
    "res = res.orderBy(f.col('hitTimefromStartTime').asc())\\\n",
    "         .withColumn('idx', f.monotonically_increasing_id())\\\n",
    "         .withColumn('row_num', f.row_number().over(w2))\n",
    "res = res.drop('idx')"
   ]
  },
  {
   "cell_type": "markdown",
   "metadata": {},
   "source": [
    "#### One can use native `visitNumber` column that is relevant to our `agg_session_t` custom column"
   ]
  },
  {
   "cell_type": "code",
   "execution_count": 23,
   "metadata": {
    "collapsed": true,
    "scrolled": false
   },
   "outputs": [],
   "source": [
    "# skip this stage if we trust to visitNumber column\n",
    "# substitute all following references to agg_session_t on visitNumber\n",
    "\n",
    "res = res\\\n",
    "         .withColumn('page_select', f.when(f.col('hitType')=='PAGE',f.col('row_num')).otherwise(None))\\\n",
    "         .withColumn('agg_session_t', f.coalesce(f.col('page_select'),f.last(f.col('page_select'),True).over(w1)))\n",
    "res = res.drop('page_select')        "
   ]
  },
  {
   "cell_type": "code",
   "execution_count": 24,
   "metadata": {
    "collapsed": true
   },
   "outputs": [],
   "source": [
    "res=res.withColumn('agg_session', f.when(((f.lead(f.col('hitType'),count=1).over(w1)=='PAGE')&\\\n",
    "                                          (f.lead(f.col('hitType'),count=2).over(w1)=='PAGE'))&(f.col('hitType')!='EVENT'),\n",
    "                                                 f.lead(f.col('agg_session_t'),count=2).over(w1))\\\n",
    "                                   .when(((f.lead(f.col('hitType'),count=1).over(w1)=='PAGE')&\\\n",
    "                                          (f.lead(f.col('hitType'),count=2).over(w1)!='PAGE'))&(f.col('hitType')!='EVENT'),\n",
    "                                                 f.lead(f.col('agg_session_t'),count=1).over(w1))\\\n",
    "                                   .otherwise(f.col('agg_session_t'))) \n",
    "res = res.drop('agg_session_t')"
   ]
  },
  {
   "cell_type": "code",
   "execution_count": null,
   "metadata": {
    "scrolled": false
   },
   "outputs": [],
   "source": [
    "res.filter('cid = 888169552.1558288660')\\\n",
    "            .select('sessionId', \n",
    "                    'prod_gr',\n",
    "                    'url_path',\n",
    "                    'visitNumber',\n",
    "                    'agg_session',\n",
    "                    'hitType',\n",
    "                    'hitPagePath',\n",
    "                    f.from_unixtime('sessionStartTime').alias('sessionStartTime'), \n",
    "                    'hitTime').orderBy(f.col('visitNumber').asc(), \n",
    "                                       f.col('sessionStartTime').asc()).show(50)"
   ]
  },
  {
   "cell_type": "markdown",
   "metadata": {},
   "source": [
    "#### Use native `visitNumber`"
   ]
  },
  {
   "cell_type": "code",
   "execution_count": null,
   "metadata": {
    "collapsed": true
   },
   "outputs": [],
   "source": [
    "res = res.orderBy(f.col('hitTimefromStartTime').asc())\n",
    "res=res.withColumn('agg_session', f.when(((f.lead(f.col('hitType'),count=1).over(w1)=='PAGE')&\\\n",
    "                                          (f.lead(f.col('hitType'),count=2).over(w1)=='PAGE'))&(f.col('hitType')!='EVENT'),\n",
    "                                                 f.lead(f.col('visitNumber'),count=2).over(w1))\\\n",
    "                                   .when(((f.lead(f.col('hitType'),count=1).over(w1)=='PAGE')&\\\n",
    "                                          (f.lead(f.col('hitType'),count=2).over(w1)!='PAGE'))&(f.col('hitType')!='EVENT'),\n",
    "                                                 f.lead(f.col('visitNumber'),count=1).over(w1))\\\n",
    "                                   .otherwise(f.col('visitNumber'))) \n",
    "\n",
    "res = res.drop('row_num')"
   ]
  },
  {
   "cell_type": "code",
   "execution_count": null,
   "metadata": {
    "collapsed": true,
    "scrolled": true
   },
   "outputs": [],
   "source": [
    "res.filter('prod_gr =\"рко\" and cid = 55986308.1566479327').show(50)"
   ]
  },
  {
   "cell_type": "markdown",
   "metadata": {},
   "source": [
    "## Dumping intermediate results into tempTable"
   ]
  },
  {
   "cell_type": "code",
   "execution_count": null,
   "metadata": {
    "collapsed": true,
    "scrolled": false
   },
   "outputs": [],
   "source": [
    "res.registerTempTable('tmp_cls_scenarios')\n",
    "# hive.cacheTable('tmp_cls_scenarios')\n",
    "hive.sql(\"drop table if exists T_TEAM_DS_KB_SME.tmp_GA_seg_scenarios\")\n",
    "\n",
    "hive.sql('create table T_TEAM_DS_KB_SME.tmp_GA_seg_scenarios select * from tmp_cls_scenarios')"
   ]
  },
  {
   "cell_type": "markdown",
   "metadata": {},
   "source": [
    "## Build additional aggregates based on the Window with `agg_session` "
   ]
  },
  {
   "cell_type": "code",
   "execution_count": null,
   "metadata": {
    "collapsed": true
   },
   "outputs": [],
   "source": [
    "res = hive.sql(\"select * from T_TEAM_DS_KB_SME.tmp_GA_seg_scenarios\")"
   ]
  },
  {
   "cell_type": "code",
   "execution_count": null,
   "metadata": {
    "collapsed": true
   },
   "outputs": [],
   "source": [
    "res.count()"
   ]
  },
  {
   "cell_type": "code",
   "execution_count": null,
   "metadata": {
    "collapsed": true,
    "scrolled": true
   },
   "outputs": [],
   "source": [
    "res.filter('prod_gr is not Null').select('url_path', 'prod_gr').distinct()\\\n",
    "                            .groupby(['prod_gr']).agg(f.size(f.collect_set('url_path')).alias('prod_gr_cnt')).show(30)"
   ]
  },
  {
   "cell_type": "markdown",
   "metadata": {},
   "source": [
    "### `firstPageHit`: Calculate first hit time on control Page"
   ]
  },
  {
   "cell_type": "code",
   "execution_count": null,
   "metadata": {
    "collapsed": true
   },
   "outputs": [],
   "source": [
    "res = res.withColumn('firstPageHit', f.min(f.when(f.col('hitType')=='PAGE', \n",
    "                                                  f.col('hitTimefromStartTime')).otherwise(None)\n",
    "                                          )\\\n",
    "                                      .over(Window.partitionBy('cid','prod_gr','url_path','agg_session')))\n",
    "res = res.withColumn('firstPageHitUrl', f.first(f.when((f.col('hitType')=='PAGE')&\\\n",
    "                                                       (f.col('hitTimefromStartTime') == f.col('firstPageHit')), \n",
    "                                                       f.col('url_path')).otherwise(None)\n",
    "                                               ).over(Window.partitionBy('cid','prod_gr','url_path','agg_session')))"
   ]
  },
  {
   "cell_type": "markdown",
   "metadata": {},
   "source": [
    "### Aggregate different `sessionId` for the same `cid` into groups by criteria: if `hitTimefromStartTime` still less than `firstPageHit` +30 min) then assign ID==1"
   ]
  },
  {
   "cell_type": "code",
   "execution_count": null,
   "metadata": {
    "collapsed": true
   },
   "outputs": [],
   "source": [
    "dttm_sess_right1 = f.from_unixtime(f.unix_timestamp(f.col('firstPageHit')) + 1*30*60, \n",
    "                                               'yyyy-MM-dd HH:mm:ss').cast(TimestampType())\n",
    "dttm_sess_left1  = f.from_unixtime(f.unix_timestamp(f.col('firstPageHit')) + 0*30*60, \n",
    "                                               'yyyy-MM-dd HH:mm:ss').cast(TimestampType())\n",
    "\n",
    "dttm_sess_right2 = f.from_unixtime(f.unix_timestamp(f.col('firstPageHit')) + 2*30*60, \n",
    "                                               'yyyy-MM-dd HH:mm:ss').cast(TimestampType())\n",
    "dttm_sess_left2  = f.from_unixtime(f.unix_timestamp(f.col('firstPageHit')) + 1*30*60, \n",
    "                                               'yyyy-MM-dd HH:mm:ss').cast(TimestampType())\n",
    "    \n",
    "dttm_sess_right3 = f.from_unixtime(f.unix_timestamp(f.col('firstPageHit')) + 3*30*60, \n",
    "                                               'yyyy-MM-dd HH:mm:ss').cast(TimestampType())\n",
    "dttm_sess_left3  = f.from_unixtime(f.unix_timestamp(f.col('firstPageHit')) + 2*30*60, \n",
    "                                               'yyyy-MM-dd HH:mm:ss').cast(TimestampType())"
   ]
  },
  {
   "cell_type": "code",
   "execution_count": null,
   "metadata": {
    "collapsed": true
   },
   "outputs": [],
   "source": [
    "res = res.withColumn('trg_sess_between' , f.when((f.col('hitTimefromStartTime')>=dttm_sess_left1) & \\\n",
    "                                                 (f.col('hitTimefromStartTime')<dttm_sess_right1), 1)\\\n",
    "                                           .when((f.col('hitTimefromStartTime')>=dttm_sess_left2) & \\\n",
    "                                                 (f.col('hitTimefromStartTime')<dttm_sess_right2), 2)\\\n",
    "                                           .when((f.col('hitTimefromStartTime')>=dttm_sess_left3) & \\\n",
    "                                                 (f.col('hitTimefromStartTime')<dttm_sess_right3), 3).otherwise(0))"
   ]
  },
  {
   "cell_type": "code",
   "execution_count": null,
   "metadata": {
    "collapsed": true,
    "scrolled": true
   },
   "outputs": [],
   "source": [
    "res = res.withColumn('lastPageHit',  f.max(f.when((f.col('hitType')=='PAGE'), \n",
    "                                                  f.col('hitTimefromStartTime')\n",
    "                                                 ).otherwise(None)\n",
    "                                          )\\\n",
    "                                      .over(Window.partitionBy('cid','prod_gr','url_path',\n",
    "                                                               'agg_session','trg_sess_between')))\n",
    "res = res.withColumn('firstEventHit', f.min(f.when(f.col('hitType')=='EVENT', \n",
    "                                                   f.col('hitTimefromStartTime')).otherwise(None)\n",
    "                                           )\\\n",
    "                                      .over(Window.partitionBy('cid','prod_gr','url_path',\n",
    "                                                               'agg_session','trg_sess_between')))\n",
    "res = res.withColumn('lastEventHit',  f.max(f.when((f.col('hitType')=='EVENT') , \n",
    "                                                   f.col('hitTimefromStartTime')).otherwise(None)\n",
    "                                           ).over(Window.partitionBy('cid','prod_gr','url_path',\n",
    "                                                                     'agg_session','trg_sess_between')))"
   ]
  },
  {
   "cell_type": "code",
   "execution_count": null,
   "metadata": {
    "collapsed": true
   },
   "outputs": [],
   "source": [
    "res = res.withColumn('countPageHit',  f.sum(f.when(f.col('hitType')=='PAGE', 1).otherwise(0)\n",
    "                                           )\\\n",
    "                                       .over(Window.partitionBy('cid', 'prod_gr', 'url_path', \n",
    "                                                                'agg_session','trg_sess_between')))\n",
    "res = res.withColumn('countEventHit', f.sum(f.when(f.col('hitType')=='EVENT', 1).otherwise(0)\n",
    "                                           )\\\n",
    "                                       .over(Window.partitionBy('cid', 'prod_gr', 'url_path', \n",
    "                                                                'agg_session','trg_sess_between')))"
   ]
  },
  {
   "cell_type": "markdown",
   "metadata": {},
   "source": [
    "### CHECKING BLOCK: Filtering "
   ]
  },
  {
   "cell_type": "code",
   "execution_count": null,
   "metadata": {
    "collapsed": true,
    "scrolled": true
   },
   "outputs": [],
   "source": [
    "res.filter('prod_gr =\"рко\" and cid = 55986308.1566479327').show(60)"
   ]
  },
  {
   "cell_type": "markdown",
   "metadata": {},
   "source": [
    "# Explore records with `eventAction == click_any` "
   ]
  },
  {
   "cell_type": "markdown",
   "metadata": {},
   "source": [
    "## Build analytics on selected `eventLabel` values "
   ]
  },
  {
   "cell_type": "code",
   "execution_count": null,
   "metadata": {
    "collapsed": true
   },
   "outputs": [],
   "source": [
    "reEventsDct=\\\n",
    "{'click_any':\n",
    "[\n",
    "    ('оформить', '.*оформить.*'),\n",
    "    ('открыть', '.*открыть.*'),\n",
    "    ('тарифы', '.*тарифы.*'),\n",
    "    ('выпустить' ,'.*выпустить.*'),\n",
    "    ('оставить заявку', '.*оставить заявку.*'),\n",
    "    ('отправить заявку', '.*отправить заявку.*'),\n",
    "    ('узнать больше', '.*узнать больше.*'),\n",
    "    ('подать заявку', '.*подать заявку.*'),\n",
    "    ('я клиент сбербанка', '.*я клиент сбербанка.*'),\n",
    "    ('я неклиент сбербанка', '.*я неклиент сбербанка.*'),\n",
    "    ('выбрать', '.*выбрать.*'),\n",
    "    ('купить', '.*купить.*'),\n",
    "    ('отправить', '.*отправить.*'),\n",
    "    ('выставить счет', '.*выставить счет.*'),\n",
    "    ('подробнее', '.*подробнее.*'),\n",
    "    ('рассчитать', '.*рассчитать.*'),\n",
    "    ('подобрать', '.*подобрать.*'),\n",
    "    ('взять в аренду', '.*взять в аренду.*'),\n",
    "    ('открытие', '.*открытие.*'),\n",
    "    ('подключить', '.*подключить.*'),\n",
    "    ('войти', \".*войти.*\"), \n",
    "    ('зарегистрироваться', \".*зарегистрироваться.*\"), \n",
    "    ('подать заявку онлайн', \".*подать заявку онлайн.*\"), \n",
    "    ('получить предложение', \".*получить предложение.*\"), \n",
    "    ('клиент сбербанка', \".*клиент сбербанка.*\"), \n",
    "    ('неклиент сбербанка', \".*неклиент сбербанка.*\"), \n",
    "    ('получить номер счета', \".*получить номер сч[её]та.*\"), \n",
    "    ('получить промо-код', \".*получить промо-код.*\"), \n",
    "    ('подобрать тариф', \".*подобрать тариф.*\")\n",
    "]\n",
    "}"
   ]
  },
  {
   "cell_type": "code",
   "execution_count": null,
   "metadata": {
    "collapsed": true
   },
   "outputs": [],
   "source": [
    "for col, repattern in reEventsDct['click_any']:\n",
    "    res = res.withColumn('{}'.format(col), f.regexp_extract(f.lower(f.col('eventLabel')),'({})'.format(repattern), 1)) "
   ]
  },
  {
   "cell_type": "markdown",
   "metadata": {},
   "source": [
    "## Upload to Hive a Filtered Table"
   ]
  },
  {
   "cell_type": "code",
   "execution_count": null,
   "metadata": {
    "collapsed": true
   },
   "outputs": [],
   "source": [
    "res = res.filter('countPageHit > 0 and countEventHit > 0 and prod_gr is not Null')"
   ]
  },
  {
   "cell_type": "code",
   "execution_count": null,
   "metadata": {
    "collapsed": true,
    "scrolled": true
   },
   "outputs": [],
   "source": [
    "hive.sql('drop table if exists T_TEAM_DS_KB_SME.GA_seg_scenarios')"
   ]
  },
  {
   "cell_type": "code",
   "execution_count": null,
   "metadata": {
    "collapsed": true,
    "scrolled": true
   },
   "outputs": [],
   "source": [
    "res.registerTempTable('tmp_cls_scenarios')\n",
    "# hive.cacheTable('tmp_cls_scenarios')\n",
    "\n",
    "hive.sql('create table T_TEAM_DS_KB_SME.GA_seg_scenarios select * from tmp_cls_scenarios')"
   ]
  },
  {
   "cell_type": "code",
   "execution_count": null,
   "metadata": {
    "collapsed": true
   },
   "outputs": [],
   "source": [
    "hive.sql('drop table if exists T_TEAM_DS_KB_SME.tmp_GA_seg_scenarios')"
   ]
  },
  {
   "cell_type": "markdown",
   "metadata": {},
   "source": [
    "## Filter some active users that have a higher inclination to buy a specific Sber products"
   ]
  },
  {
   "cell_type": "code",
   "execution_count": null,
   "metadata": {
    "collapsed": true,
    "scrolled": false
   },
   "outputs": [],
   "source": [
    "res = hive.sql(\"select * from T_TEAM_DS_KB_SME.GA_seg_scenarios\")"
   ]
  },
  {
   "cell_type": "code",
   "execution_count": null,
   "metadata": {
    "collapsed": true,
    "scrolled": false
   },
   "outputs": [],
   "source": [
    "res = res.filter('prod_gr is not Null').select('url_path', 'prod_gr').distinct()\\\n",
    "                            .groupby(['prod_gr']).agg(f.sort_array(f.collect_set('url_path'), asc=False).alias('url_paths_set'))\n",
    "prod_urls_df = res.toPandas()"
   ]
  },
  {
   "cell_type": "code",
   "execution_count": null,
   "metadata": {
    "collapsed": true,
    "scrolled": false
   },
   "outputs": [],
   "source": [
    "dct = prod_urls_df.to_dict(orient='records')"
   ]
  },
  {
   "cell_type": "code",
   "execution_count": null,
   "metadata": {
    "collapsed": true
   },
   "outputs": [],
   "source": [
    "res.filter('lower(eventLabel) like \"%scrol%\"').show(15)"
   ]
  },
  {
   "cell_type": "markdown",
   "metadata": {},
   "source": [
    "### Select records within specified period "
   ]
  },
  {
   "cell_type": "code",
   "execution_count": null,
   "metadata": {
    "collapsed": true
   },
   "outputs": [],
   "source": [
    "part_spdf = res.filter(\"(hitTimefromStartTime >= timestamp('2019-10-01 00:00:00')) and (hitTimefromStartTime < timestamp('2019-10-30 00:00:00'))\")"
   ]
  },
  {
   "cell_type": "code",
   "execution_count": null,
   "metadata": {
    "collapsed": true
   },
   "outputs": [],
   "source": [
    "part_spdf.select('cid').distinct().count()"
   ]
  },
  {
   "cell_type": "code",
   "execution_count": null,
   "metadata": {
    "collapsed": true
   },
   "outputs": [],
   "source": [
    "part_spdf.select(f.min('countEventHit'), f.max('countEventHit')).show()"
   ]
  },
  {
   "cell_type": "code",
   "execution_count": null,
   "metadata": {
    "collapsed": true,
    "scrolled": true
   },
   "outputs": [],
   "source": [
    "part_spdf.filter('countEventHit > 200').show(30)"
   ]
  },
  {
   "cell_type": "markdown",
   "metadata": {},
   "source": [
    "### Make filtering with `countEventHit` > 0 and exclude help pages "
   ]
  },
  {
   "cell_type": "code",
   "execution_count": null,
   "metadata": {
    "collapsed": true
   },
   "outputs": [],
   "source": [
    "part_spdf\\\n",
    ".filter((f.col('eventAction')=='click_any')&(f.col('получить номер счета')!='')\\\n",
    "                                           &(f.col('countEventHit') > 0)\\\n",
    "                                           &(f.regexp_extract(f.lower(f.col('url_path')),'(s_m_business/help)', 1)!='s_m_business/help')\\\n",
    "                                           &(f.regexp_extract(f.lower(f.col('url_path')),'(img/uploaded)', 1)!='img/uploaded')\n",
    "        ).show(30)"
   ]
  },
  {
   "cell_type": "code",
   "execution_count": null,
   "metadata": {
    "collapsed": true
   },
   "outputs": [],
   "source": [
    "part_spdf\\\n",
    ".filter((f.col('eventAction')=='click_any')&( (f.col('оформить')!='')\\\n",
    "                                             |(f.col('открыть')!='')\\\n",
    "                                             |(f.col('тарифы')!='')\\\n",
    "                                             |(f.col('выпустить')!='')\\\n",
    "                                             |(f.col('оставить заявку')!='')\\\n",
    "                                             |(f.col('отправить заявку')!='')\\\n",
    "                                             |(f.col('узнать больше')!='')\\\n",
    "                                             |(f.col('подать заявку')!='')\\\n",
    "                                             |(f.col('я клиент сбербанка')!='')\\\n",
    "                                             |(f.col('я неклиент сбербанка')!='')\\\n",
    "                                             |(f.col('выбрать')!='')\\\n",
    "                                             |(f.col('купить')!='')\\\n",
    "                                             |(f.col('отправить')!='')\\\n",
    "                                             |(f.col('выставить счет')!='')\\\n",
    "                                             |(f.col('подробнее')!='')\\\n",
    "                                             |(f.col('рассчитать')!='')\\\n",
    "                                             |(f.col('подобрать')!='')\\\n",
    "                                             |(f.col('взять в аренду')!='')\\\n",
    "                                             |(f.col('открытие')!='')\\\n",
    "                                             |(f.col('подключить')!='')\\\n",
    "                                             |(f.col('войти')!='')\\\n",
    "                                             |(f.col('зарегистрироваться')!='')\\\n",
    "                                             |(f.col('подать заявку онлайн')!='')\\\n",
    "                                             |(f.col('получить предложение')!='')\\\n",
    "                                             |(f.col('клиент сбербанка')!='')\\\n",
    "                                             |(f.col('неклиент сбербанка')!='')\\\n",
    "                                             |(f.col('получить номер счета')!='')\\\n",
    "                                             |(f.col('получить промо-код')!='')\\\n",
    "                                             |(f.col('подобрать тариф')!='')\n",
    "                                            )\\\n",
    "                                           &(f.col('countEventHit') > 0)\\\n",
    "                                           &(f.regexp_extract(f.lower(f.col('url_path')),'(s_m_business/help)', 1)!='s_m_business/help')\\\n",
    "                                           &(f.regexp_extract(f.lower(f.col('url_path')),'(img/uploaded)', 1)!='img/uploaded')\n",
    "        ).show(30)"
   ]
  },
  {
   "cell_type": "code",
   "execution_count": null,
   "metadata": {
    "collapsed": true,
    "scrolled": true
   },
   "outputs": [],
   "source": [
    "part_spdf\\\n",
    ".filter((f.col('eventAction')=='click_any')&( (f.col('оформить')!='')\\\n",
    "                                             |(f.col('открыть')!='')\\\n",
    "                                             |(f.col('тарифы')!='')\\\n",
    "                                             |(f.col('выпустить')!='')\\\n",
    "                                             |(f.col('оставить заявку')!='')\\\n",
    "                                             |(f.col('отправить заявку')!='')\\\n",
    "                                             |(f.col('узнать больше')!='')\\\n",
    "                                             |(f.col('подать заявку')!='')\\\n",
    "                                             |(f.col('я клиент сбербанка')!='')\\\n",
    "                                             |(f.col('я неклиент сбербанка')!='')\\\n",
    "                                             |(f.col('выбрать')!='')\\\n",
    "                                             |(f.col('купить')!='')\\\n",
    "                                             |(f.col('отправить')!='')\\\n",
    "                                             |(f.col('выставить счет')!='')\\\n",
    "                                             |(f.col('подробнее')!='')\\\n",
    "                                             |(f.col('рассчитать')!='')\\\n",
    "                                             |(f.col('подобрать')!='')\\\n",
    "                                             |(f.col('взять в аренду')!='')\\\n",
    "                                             |(f.col('открытие')!='')\\\n",
    "                                             |(f.col('подключить')!='')\\\n",
    "                                             |(f.col('войти')!='')\\\n",
    "                                             |(f.col('зарегистрироваться')!='')\\\n",
    "                                             |(f.col('подать заявку онлайн')!='')\\\n",
    "                                             |(f.col('получить предложение')!='')\\\n",
    "                                             |(f.col('клиент сбербанка')!='')\\\n",
    "                                             |(f.col('неклиент сбербанка')!='')\\\n",
    "                                             |(f.col('получить номер счета')!='')\\\n",
    "                                             |(f.col('получить промо-код')!='')\\\n",
    "                                             |(f.col('подобрать тариф')!='')\n",
    "                                            )\\\n",
    "                                           &(f.col('countEventHit') > 0)\\\n",
    "                                           &(f.regexp_extract(f.lower(f.col('url_path')),'(s_m_business/help)', 1)!='s_m_business/help')\\\n",
    "                                           &(f.regexp_extract(f.lower(f.col('url_path')),'(img/uploaded)', 1)!='img/uploaded')\n",
    "        ).select('cid').distinct().count()"
   ]
  },
  {
   "cell_type": "markdown",
   "metadata": {},
   "source": [
    "### Aplly additional filtering rules"
   ]
  },
  {
   "cell_type": "code",
   "execution_count": null,
   "metadata": {
    "collapsed": true,
    "scrolled": true
   },
   "outputs": [],
   "source": [
    "out = \\\n",
    "res.filter((f.col('prod_gr') == \"бизнес-карта\")&\\\n",
    "           (f.col('eventAction') !='')&\\\n",
    "           (f.regexp_extract(f.lower(f.col('url_path')),'(help)', 1)!='help')&\\\n",
    "           (f.regexp_extract(f.lower(f.col('eventLabel')),'^подробнее о акциях_(?=(\\b|$))', 0) == 'подробнее о акциях_'))"
   ]
  },
  {
   "cell_type": "code",
   "execution_count": null,
   "metadata": {
    "collapsed": true,
    "scrolled": true
   },
   "outputs": [],
   "source": [
    "out.count()"
   ]
  },
  {
   "cell_type": "code",
   "execution_count": null,
   "metadata": {
    "collapsed": true
   },
   "outputs": [],
   "source": [
    "out.select('cid').distinct().count()"
   ]
  },
  {
   "cell_type": "code",
   "execution_count": null,
   "metadata": {
    "collapsed": true
   },
   "outputs": [],
   "source": [
    "out = \\\n",
    "res.filter((f.col('prod_gr') == \"бизнес-карта\")&\\\n",
    "           (f.col('eventAction') !='')&\\\n",
    "           (f.regexp_extract(f.lower(f.col('url_path')),'(help)', 1)!='help')&\\\n",
    "           (f.regexp_extract(f.lower(f.col('eventLabel')),'^оформить бизнес-карту_(?=(\\b|$))', 0) == 'оформить бизнес-карту_'))"
   ]
  },
  {
   "cell_type": "code",
   "execution_count": null,
   "metadata": {
    "collapsed": true,
    "scrolled": true
   },
   "outputs": [],
   "source": [
    "out.select('cid').distinct().count()"
   ]
  },
  {
   "cell_type": "code",
   "execution_count": null,
   "metadata": {
    "collapsed": true
   },
   "outputs": [],
   "source": [
    "out = \\\n",
    "res.filter((f.col('prod_gr') == \"бизнес-карта\")&\\\n",
    "           (f.col('eventAction') !='')&\\\n",
    "           (f.regexp_extract(f.lower(f.col('url_path')),'(help)', 1)!='help')&\\\n",
    "           (f.regexp_extract(f.lower(f.col('eventLabel')),'^оформить бизнес-карту_b-btn', 0) == 'оформить бизнес-карту_b-btn'))"
   ]
  },
  {
   "cell_type": "code",
   "execution_count": null,
   "metadata": {
    "collapsed": true,
    "scrolled": true
   },
   "outputs": [],
   "source": [
    "out.select('cid').distinct().count()"
   ]
  },
  {
   "cell_type": "markdown",
   "metadata": {},
   "source": [
    "### Analyse mobile events"
   ]
  },
  {
   "cell_type": "code",
   "execution_count": null,
   "metadata": {
    "collapsed": true
   },
   "outputs": [],
   "source": [
    "out = \\\n",
    "res.filter((f.col('prod_gr') == \"бизнес-карта\")&\\\n",
    "           (f.col('eventAction') !='')&\\\n",
    "           (f.col('deviceIsMobile')==True)&\\\n",
    "           (f.regexp_extract(f.lower(f.col('url_path')),'(help)', 1)!='help'))\\\n",
    "   .groupBy('eventLabel').agg({'eventLabel':'count'}).orderBy(f.col('count(eventLabel)').desc())"
   ]
  },
  {
   "cell_type": "code",
   "execution_count": null,
   "metadata": {
    "collapsed": true,
    "scrolled": true
   },
   "outputs": [],
   "source": [
    "out.show(50)"
   ]
  },
  {
   "cell_type": "code",
   "execution_count": null,
   "metadata": {
    "collapsed": true
   },
   "outputs": [],
   "source": [
    "out.select('eventLabel',\n",
    "           f.regexp_extract(f.lower(f.col('eventLabel')),'mobile', 0).alias('regexp')).filter(\"regexp!=''\").show(20)"
   ]
  },
  {
   "cell_type": "markdown",
   "metadata": {
    "collapsed": true
   },
   "source": [
    "## Auxilliary Test"
   ]
  },
  {
   "cell_type": "code",
   "execution_count": null,
   "metadata": {
    "collapsed": true
   },
   "outputs": [],
   "source": [
    "df = sp.sc.parallelize([('a',None),('a',1),('a',-1),('a',None),('a',2),('a',-4),('b',3),('b',1),('b',1)]).toDF(['k','v'])"
   ]
  },
  {
   "cell_type": "code",
   "execution_count": null,
   "metadata": {
    "collapsed": true
   },
   "outputs": [],
   "source": [
    "w=Window.partitionBy('k').orderBy('v').rowsBetween(Window.unboundedPreceding, Window.unboundedFollowing)\n",
    "w1=Window.partitionBy('k').orderBy('v')\n",
    "w2=Window.partitionBy('k').orderBy(df.v.desc())"
   ]
  },
  {
   "cell_type": "code",
   "execution_count": null,
   "metadata": {
    "collapsed": true
   },
   "outputs": [],
   "source": [
    "df = df.withColumn('idx', f.monotonically_increasing_id())\n",
    "\n",
    "df.select('k','v',\n",
    "          f.dense_rank().over(Window.orderBy('k','v')).alias('rank_w1'),\n",
    "          f.first('v',True).over(w).alias('first_w'),\n",
    "          f.first('v',True).over(w1).alias('first_w1'),\n",
    "          f.first('v',True).over(w2).alias('first_w2'),\n",
    "          f.last('v',True).over(w).alias('last_w'),\n",
    "          f.last('v',True).over(w1).alias('last_w1'),\n",
    "          f.last('v',True).over(w2).alias('last_w2')).show()"
   ]
  },
  {
   "cell_type": "code",
   "execution_count": null,
   "metadata": {
    "collapsed": true
   },
   "outputs": [],
   "source": []
  },
  {
   "cell_type": "code",
   "execution_count": null,
   "metadata": {
    "collapsed": true
   },
   "outputs": [],
   "source": [
    "df = sp.sc.parallelize([(1,1,False),(2,1,False),(3,1,False),(4,1,True),(5,1,True),(6,1,True),(7,1,False),(8,1,False),(9,1,True),(10,1,True),\n",
    "                        (11,2,False),(12,2,True),(13,2,True),(14,2,True),(15,2,False),(16,2,False),(17,2,False),(18,2,True),(19,2,True)]).toDF(['id','cid','flag'])"
   ]
  },
  {
   "cell_type": "code",
   "execution_count": null,
   "metadata": {
    "collapsed": true,
    "scrolled": true
   },
   "outputs": [],
   "source": [
    "w=Window.partitionBy('cid').orderBy('row_num')#.rowsBetween(Window.unboundedPreceding, Window.currentRow)\n",
    "\n",
    "res = df.withColumn('new_col', f.when(df.flag == False,f.col('id')).otherwise(None))\\\n",
    "       .withColumn('idx', f.monotonically_increasing_id())\\\n",
    "       .withColumn('row_num',f.row_number().over(Window.orderBy('idx')))\\\n",
    "       .withColumn('last', f.last('new_col',True).over(Window.orderBy('cid','row_num')))\\\n",
    "       .withColumn('agg', f.coalesce(f.col('new_col'),f.last('new_col',True).over(Window.orderBy('cid','row_num'))))\\\n",
    "       .withColumn('agg_2', f.when(((f.lead(f.col('flag'),count=1).over(w)==False)&\\\n",
    "                                    (f.lead(f.col('flag'),count=2).over(w)==False))&(f.col('flag')!=True),\n",
    "                                             f.lead(f.col('agg'),count=2).over(w))\\\n",
    "                             .when(((f.lead(f.col('flag'),count=1).over(w)==False)&\\\n",
    "                                    (f.lead(f.col('flag'),count=2).over(w)!=False))&(f.col('flag')!=True),\n",
    "                                             f.lead(f.col('agg'),count=1).over(w))\\\n",
    "                             .otherwise(f.col('agg')))"
   ]
  },
  {
   "cell_type": "code",
   "execution_count": null,
   "metadata": {
    "collapsed": true,
    "scrolled": false
   },
   "outputs": [],
   "source": [
    "res.orderBy(f.col('id').asc(),f.col('cid').asc()).show(20)"
   ]
  },
  {
   "cell_type": "code",
   "execution_count": null,
   "metadata": {
    "collapsed": true,
    "scrolled": true
   },
   "outputs": [],
   "source": [
    "# w=Window.partitionBy('cid').orderBy(f.col('new_col_2').desc())"
   ]
  },
  {
   "cell_type": "code",
   "execution_count": null,
   "metadata": {
    "collapsed": true,
    "scrolled": true
   },
   "outputs": [],
   "source": [
    "res=res.withColumn('new_col_2', f.when(((f.col('cclead') == True)&\\\n",
    "                                        (f.lead(f.col('cclead')).over(Window.orderBy('row_num'))==False)),f.col('agg')).otherwise(None))\n",
    "     #.withColumn('test',f.last('new_col_2',True).over(w))\n",
    "     #.withColumn('agg_new', f.coalesce(f.col('new_col_2'),f.first('new_col_2',True).over(Window.orderBy('cid','row_num',f.col('new_col_2').desc())))) "
   ]
  },
  {
   "cell_type": "code",
   "execution_count": null,
   "metadata": {
    "collapsed": true
   },
   "outputs": [],
   "source": [
    "# df = df.withColumn('add_new', f.when((df.flag == False)&(f.lead('flag').over(Window.orderBy('row_num')) == False),\n",
    "#                                      f.lead('agg').over(Window.orderBy('row_num'))).otherwise(f.col('agg')))"
   ]
  },
  {
   "cell_type": "code",
   "execution_count": null,
   "metadata": {
    "collapsed": true
   },
   "outputs": [],
   "source": []
  },
  {
   "cell_type": "markdown",
   "metadata": {},
   "source": [
    "### Save pyspark DF"
   ]
  },
  {
   "cell_type": "code",
   "execution_count": null,
   "metadata": {
    "collapsed": true,
    "scrolled": false
   },
   "outputs": [],
   "source": [
    "path_to_hdfs = \"/user/aleksukhin-am_ca-sbrf-ru/sberbank_action_filter\"\n",
    "\n",
    "gadf_trimmed.coalesce(5).write \\\n",
    "            .format('com.databricks.spark.csv') \\\n",
    "            .mode('overwrite') \\\n",
    "            .option('sep', ';') \\\n",
    "            .option('header', True) \\\n",
    "            .option(\"quote\", '\\u0000') \\\n",
    "            .save(path_to_hdfs)"
   ]
  },
  {
   "cell_type": "code",
   "execution_count": null,
   "metadata": {
    "collapsed": true
   },
   "outputs": [],
   "source": []
  }
 ],
 "metadata": {
  "kernelspec": {
   "display_name": "Python 3",
   "language": "python",
   "name": "python3"
  },
  "language_info": {
   "codemirror_mode": {
    "name": "ipython",
    "version": 3
   },
   "file_extension": ".py",
   "mimetype": "text/x-python",
   "name": "python",
   "nbconvert_exporter": "python",
   "pygments_lexer": "ipython3",
   "version": "3.7.4"
  }
 },
 "nbformat": 4,
 "nbformat_minor": 2
}
